{
 "cells": [
  {
   "cell_type": "markdown",
   "metadata": {
    "slideshow": {
     "slide_type": "slide"
    }
   },
   "source": [
    "# 函數\n",
    "\n",
    "## 郭耀仁"
   ]
  },
  {
   "cell_type": "markdown",
   "metadata": {
    "slideshow": {
     "slide_type": "slide"
    }
   },
   "source": [
    "## 函數是什麼？\n",
    "\n",
    "- 我們把函數拆分成三個元件：\n",
    "    - 輸入（input）\n",
    "    - 參數（arguments, 常縮寫為 args）\n",
    "    - 輸出（output）\n",
    "\n",
    "![function_img](https://storage.googleapis.com/py_ds_basic/function_img.png)"
   ]
  },
  {
   "cell_type": "markdown",
   "metadata": {
    "slideshow": {
     "slide_type": "subslide"
    }
   },
   "source": [
    "## 內建函數\n",
    "\n",
    "<https://docs.python.org/3/library/functions.html>"
   ]
  },
  {
   "cell_type": "code",
   "execution_count": 1,
   "metadata": {},
   "outputs": [
    {
     "name": "stdout",
     "output_type": "stream",
     "text": [
      "42.195\n",
      "1.6\n",
      "6\n",
      "[42.195, 21, 10, 5, 3, 1.6]\n"
     ]
    }
   ],
   "source": [
    "distances = [1.6, 3, 5, 10, 21, 42.195]\n",
    "\n",
    "# 應用函數\n",
    "print(max(distances)) # 最長的距離\n",
    "print(min(distances)) # 最短的距離\n",
    "print(len(distances)) # 總共有幾個距離\n",
    "print(sorted(distances, reverse = True)) # 遞減排序"
   ]
  },
  {
   "cell_type": "markdown",
   "metadata": {
    "slideshow": {
     "slide_type": "slide"
    }
   },
   "source": [
    "## 自訂函數\n",
    "\n",
    "- 自訂函數的結構\n",
    "\n",
    "```python\n",
    "def function_name(輸入1, 輸入2, 參數1, 參數2, ...):\n",
    "    '''\n",
    "    Docstrings\n",
    "    '''\n",
    "    # 做些什麼事\n",
    "    return 輸出\n",
    "```"
   ]
  },
  {
   "cell_type": "markdown",
   "metadata": {
    "slideshow": {
     "slide_type": "subslide"
    }
   },
   "source": [
    "## 自訂函數（2）\n",
    "\n",
    "- $f(x) = x^2$"
   ]
  },
  {
   "cell_type": "code",
   "execution_count": 2,
   "metadata": {},
   "outputs": [
    {
     "name": "stdout",
     "output_type": "stream",
     "text": [
      "Help on function squared in module __main__:\n",
      "\n",
      "squared(x)\n",
      "    將輸入的數字平方之後回傳\n",
      "\n",
      "9\n"
     ]
    }
   ],
   "source": [
    "def squared(x):\n",
    "    '''\n",
    "    將輸入的數字平方之後回傳\n",
    "    '''\n",
    "    y = x**2\n",
    "    return y\n",
    "\n",
    "help(squared)\n",
    "print(squared(3))"
   ]
  },
  {
   "cell_type": "markdown",
   "metadata": {
    "slideshow": {
     "slide_type": "subslide"
    }
   },
   "source": [
    "## 自訂函數（3）\n",
    "\n",
    "- 練習：自訂 Sign 函數\n",
    "\n",
    "$$\n",
    "sgn(x) =\n",
    "  \\begin{cases}\n",
    "    -1 & \\quad \\text{if } x < 0\\\\\n",
    "    0  & \\quad \\text{if } x = 0\\\\\n",
    "    1  & \\quad \\text{if } x > 0\\\\\n",
    "  \\end{cases}\n",
    "$$"
   ]
  },
  {
   "cell_type": "code",
   "execution_count": 3,
   "metadata": {
    "slideshow": {
     "slide_type": "skip"
    }
   },
   "outputs": [
    {
     "data": {
      "text/plain": [
       "<matplotlib.text.Text at 0x110aa0518>"
      ]
     },
     "execution_count": 3,
     "metadata": {},
     "output_type": "execute_result"
    }
   ],
   "source": [
    "import numpy as np\n",
    "import matplotlib.pyplot as plt\n",
    "\n",
    "def sign_fun(x):\n",
    "    if x < 0:\n",
    "        return -1\n",
    "    elif x == 0:\n",
    "        return 0\n",
    "    else:\n",
    "        return 1\n",
    "\n",
    "x_arr_1 = np.linspace(-5, -0.1, 50)\n",
    "x_arr_2 = 0\n",
    "x_arr_3 = np.linspace(0.1, 5, 50)\n",
    "y_arr_1 = list(map(sign_fun, x_arr_1))\n",
    "y_arr_2 = 0\n",
    "y_arr_3 = list(map(sign_fun, x_arr_3))\n",
    "plt.plot(x_arr_1, y_arr_1, c = \"b\")\n",
    "plt.scatter(x_arr_2, y_arr_2, c = \"b\")\n",
    "plt.scatter([0, 0], [-1, 1], facecolors = 'none', edgecolors = 'b')\n",
    "plt.plot(x_arr_3, y_arr_3, c = \"b\")\n",
    "plt.xticks([0], [\"0\"]), plt.yticks([-1, 0, 1], [\"-1\", \"0\", \"1\"])\n",
    "plt.title(\"$y = sign(x)$\")"
   ]
  },
  {
   "cell_type": "code",
   "execution_count": 4,
   "metadata": {
    "slideshow": {
     "slide_type": "subslide"
    }
   },
   "outputs": [
    {
     "data": {
      "image/png": "[encoded data removed]",
      "text/plain": [
       "<matplotlib.figure.Figure at 0x1073fa160>"
      ]
     },
     "metadata": {},
     "output_type": "display_data"
    }
   ],
   "source": [
    "plt.show()"
   ]
  },
  {
   "cell_type": "markdown",
   "metadata": {
    "slideshow": {
     "slide_type": "subslide"
    }
   },
   "source": [
    "## 隨堂練習\n",
    "\n",
    "- 自訂平均數函數 `mean_fun()`\n",
    "\n",
    "```python\n",
    "def mean_fun(x):\n",
    "    # 撰寫您的答案\n",
    "    return # 您的答案\n",
    "```"
   ]
  },
  {
   "cell_type": "markdown",
   "metadata": {
    "slideshow": {
     "slide_type": "subslide"
    }
   },
   "source": [
    "## 自訂函數（5）\n",
    "\n",
    "- 計算圓形的面積或周長"
   ]
  },
  {
   "cell_type": "code",
   "execution_count": 5,
   "metadata": {},
   "outputs": [
    {
     "name": "stdout",
     "output_type": "stream",
     "text": [
      "Help on function circle_calculate in module __main__:\n",
      "\n",
      "circle_calculate(radius, is_area)\n",
      "    依據輸入的半徑與 is_area 參數，計算圓形的面積或周長\n",
      "\n",
      "28.274333882308138\n",
      "18.84955592153876\n"
     ]
    }
   ],
   "source": [
    "import math # 要使用 pi 得引入套件 math\n",
    "\n",
    "# 定義自訂函數\n",
    "def circle_calculate(radius, is_area):\n",
    "    '''\n",
    "    依據輸入的半徑與 is_area 參數，計算圓形的面積或周長\n",
    "    '''\n",
    "    circle_area = math.pi * radius**2\n",
    "    circle_circum = 2 * math.pi * radius\n",
    "    if is_area == True:\n",
    "        return circle_area\n",
    "    else:\n",
    "        return circle_circum\n",
    "\n",
    "# 呼叫自訂函數\n",
    "help(circle_calculate) # 查詢自訂函數\n",
    "my_radius = 3\n",
    "print(circle_calculate(my_radius, is_area = True)) # 指定參數回傳面積\n",
    "print(circle_calculate(my_radius, is_area = False)) # 指定參數回傳周長"
   ]
  },
  {
   "cell_type": "markdown",
   "metadata": {
    "slideshow": {
     "slide_type": "subslide"
    }
   },
   "source": [
    "## 隨堂練習\n",
    "\n",
    "- 給 `is_area` 一個預設值 `True`，預設計算圓形的面積"
   ]
  },
  {
   "cell_type": "markdown",
   "metadata": {
    "slideshow": {
     "slide_type": "subslide"
    }
   },
   "source": [
    "## 自訂函數（7）\n",
    "\n",
    "- 在 `return` 後面將多個值用逗號 `,` 隔開就會回傳一個 tuple"
   ]
  },
  {
   "cell_type": "code",
   "execution_count": 6,
   "metadata": {},
   "outputs": [
    {
     "name": "stdout",
     "output_type": "stream",
     "text": [
      "(28.274333882308138, 18.84955592153876)\n",
      "28.274333882308138\n",
      "18.84955592153876\n"
     ]
    }
   ],
   "source": [
    "import math # 要使用 pi 得引入套件 math\n",
    "\n",
    "# 定義自訂函數\n",
    "def circle_calculate(radius):\n",
    "    '''\n",
    "    依據輸入的半徑同時計算並回傳圓形的面積與周長\n",
    "    '''\n",
    "    circle_area = math.pi * radius**2\n",
    "    circle_circum = 2 * math.pi * radius\n",
    "    return circle_area, circle_circum\n",
    "    \n",
    "# 呼叫自訂函數\n",
    "my_radius = 3\n",
    "print(circle_calculate(my_radius))\n",
    "circle_area, circle_circum = circle_calculate(my_radius)\n",
    "print(circle_area)\n",
    "print(circle_circum)"
   ]
  },
  {
   "cell_type": "markdown",
   "metadata": {
    "slideshow": {
     "slide_type": "subslide"
    }
   },
   "source": [
    "## 自訂函數（9）\n",
    "\n",
    "- 交換排序法（遞增）"
   ]
  },
  {
   "cell_type": "code",
   "execution_count": 7,
   "metadata": {},
   "outputs": [
    {
     "name": "stdout",
     "output_type": "stream",
     "text": [
      "[55 31 29 79 46 86 51 59 43  6]\n",
      "[ 6 29 31 43 46 51 55 59 79 86]\n"
     ]
    }
   ],
   "source": [
    "import numpy as np\n",
    "\n",
    "# 定義自訂函數\n",
    "def exchange_sort(x):\n",
    "    '''\n",
    "    依據輸入的 list 遞增排序 list 中的數字後回傳。\n",
    "    '''\n",
    "    # 遞增排序\n",
    "    for i in range(0, len(x) - 1):\n",
    "        for j in range(i + 1, len(x)):\n",
    "            # 如果前一個數字比後一個數字大則交換位置\n",
    "            if x[i] > x[j]:\n",
    "                x[i], x[j] = x[j], x[i]\n",
    "    \n",
    "    return x\n",
    "\n",
    "# 呼叫自訂函數\n",
    "rand_int = np.random.randint(1, 100, size = 10) # 產生一組隨機數\n",
    "print(rand_int) # 看看未排序前\n",
    "print(exchange_sort(rand_int))"
   ]
  },
  {
   "cell_type": "markdown",
   "metadata": {
    "slideshow": {
     "slide_type": "subslide"
    }
   },
   "source": [
    "## 隨堂練習\n",
    "\n",
    "- 在交換排序法中增加一個參數：`reverse`，預設 `reverse = False` 遞增排序"
   ]
  },
  {
   "cell_type": "markdown",
   "metadata": {
    "slideshow": {
     "slide_type": "slide"
    }
   },
   "source": [
    "## 錯誤處理\n",
    "\n",
    "- Python 使用 `try - except` 的語法結構進行錯誤處理"
   ]
  },
  {
   "cell_type": "code",
   "execution_count": 8,
   "metadata": {},
   "outputs": [
    {
     "name": "stdout",
     "output_type": "stream",
     "text": [
      "請輸入數值。\n"
     ]
    }
   ],
   "source": [
    "import math # 要使用 pi 得引入套件 math\n",
    "\n",
    "# 定義自訂函數\n",
    "def circle_calculate(radius):\n",
    "    '依據輸入的半徑同時計算並回傳圓形的面積或周長' # 單行的 docstring\n",
    "    try:\n",
    "        circle_area = math.pi * radius**2\n",
    "        circle_circum = 2 * math.pi * radius\n",
    "        return circle_area, circle_circum\n",
    "    except:\n",
    "        return \"請輸入數值。\"\n",
    "\n",
    "# 呼叫自訂函數\n",
    "my_radius = \"3\"\n",
    "print(circle_calculate(my_radius))"
   ]
  },
  {
   "cell_type": "markdown",
   "metadata": {
    "slideshow": {
     "slide_type": "subslide"
    }
   },
   "source": [
    "## 錯誤處理（2）\n",
    "\n",
    "- 在 `except` 語法後面連接錯誤的種類"
   ]
  },
  {
   "cell_type": "code",
   "execution_count": 9,
   "metadata": {},
   "outputs": [
    {
     "name": "stdout",
     "output_type": "stream",
     "text": [
      "分母不可以為零！\n"
     ]
    }
   ],
   "source": [
    "def divide(numerator, denominator):\n",
    "    try:\n",
    "        ans = numerator / denominator\n",
    "        return ans\n",
    "    except ZeroDivisionError:\n",
    "        return \"分母不可以為零！\"\n",
    "    except:\n",
    "        return \"其他的錯誤\"\n",
    "\n",
    "print(divide(5, 0))"
   ]
  },
  {
   "cell_type": "markdown",
   "metadata": {
    "slideshow": {
     "slide_type": "slide"
    }
   },
   "source": [
    "## 匿名函數\n",
    "\n",
    "- 又稱為 `lambda` 函數\n",
    "- 不需要 `def`、`return` 的敘述"
   ]
  },
  {
   "cell_type": "code",
   "execution_count": 10,
   "metadata": {},
   "outputs": [
    {
     "name": "stdout",
     "output_type": "stream",
     "text": [
      "9\n"
     ]
    }
   ],
   "source": [
    "my_squared = lambda x : x ** 2\n",
    "print(my_squared(3))"
   ]
  },
  {
   "cell_type": "markdown",
   "metadata": {
    "slideshow": {
     "slide_type": "subslide"
    }
   },
   "source": [
    "## 匿名函數（2）\n",
    "\n",
    "- 常與內建的兩個函數一起使用：\n",
    "    - `filter()`\n",
    "    - `map()`"
   ]
  },
  {
   "cell_type": "markdown",
   "metadata": {
    "slideshow": {
     "slide_type": "subslide"
    }
   },
   "source": [
    "## 匿名函數（3）\n",
    "\n",
    "- 搭配 `filter()` 將 1~10 中的奇數選出："
   ]
  },
  {
   "cell_type": "code",
   "execution_count": 11,
   "metadata": {},
   "outputs": [
    {
     "name": "stdout",
     "output_type": "stream",
     "text": [
      "[1, 3, 5, 7, 9]\n"
     ]
    }
   ],
   "source": [
    "my_list = range(1, 11)\n",
    "print(list(filter(lambda x : x % 2 == 1, my_list)))"
   ]
  },
  {
   "cell_type": "markdown",
   "metadata": {
    "slideshow": {
     "slide_type": "subslide"
    }
   },
   "source": [
    "## 匿名函數（4）\n",
    "\n",
    "- 搭配 `map()` 將 1~10 每個數字都平方："
   ]
  },
  {
   "cell_type": "code",
   "execution_count": 12,
   "metadata": {},
   "outputs": [
    {
     "name": "stdout",
     "output_type": "stream",
     "text": [
      "[1, 4, 9, 16, 25, 36, 49, 64, 81, 100]\n"
     ]
    }
   ],
   "source": [
    "my_list = range(1, 11)\n",
    "print(list(map(lambda x : x**2, my_list)))"
   ]
  },
  {
   "cell_type": "markdown",
   "metadata": {
    "slideshow": {
     "slide_type": "slide"
    }
   },
   "source": [
    "## 需要用 `list()` 才能看到輸出的函數\n",
    "\n",
    "- `range()`\n",
    "- `filter()`\n",
    "- `map()`\n",
    "- `enumerate()`\n",
    "- `zip()`"
   ]
  },
  {
   "cell_type": "markdown",
   "metadata": {
    "slideshow": {
     "slide_type": "slide"
    }
   },
   "source": [
    "## 隨堂練習\n",
    "\n",
    "- 自訂函數 1：寫一個判斷輸入的正整數是否為質數的函數 `is_prime()`\n",
    "\n",
    "```python\n",
    "is_prime(9)\n",
    "# False\n",
    "is_prime(11)\n",
    "# True\n",
    "```"
   ]
  },
  {
   "cell_type": "markdown",
   "metadata": {
    "slideshow": {
     "slide_type": "subslide"
    }
   },
   "source": [
    "## 隨堂練習\n",
    "\n",
    "- 自訂函數 2：寫一個函數 `count_primes(x, y)` 計算 x 到 y 之間有幾個質數（包含 x, y）\n",
    "\n",
    "```python\n",
    "count_primes(3, 7)\n",
    "# 3\n",
    "count_primes(3, 9)\n",
    "# 3\n",
    "count_primes(3, 11)\n",
    "# 4\n",
    "```"
   ]
  },
  {
   "cell_type": "markdown",
   "metadata": {
    "slideshow": {
     "slide_type": "subslide"
    }
   },
   "source": [
    "## 隨堂練習\n",
    "\n",
    "- 自訂函數 3：寫一個 Fibonacci 數列的產生函數 `fib_gen(f1, f2, fib_len)`，有三個輸入：第一個數字 f1、第二個數字 f2 與數列長度 fib_len \n",
    "\n",
    "```python\n",
    "fib_gen(1, 1, 5)\n",
    "# [1 1 2 3 5]\n",
    "fib_gen(0, 1, 5)\n",
    "# [0 1 1 2 3]\n",
    "```"
   ]
  }
 ],
 "metadata": {
  "celltoolbar": "Slideshow",
  "kernelspec": {
   "display_name": "Python 3",
   "language": "python",
   "name": "python3"
  },
  "language_info": {
   "codemirror_mode": {
    "name": "ipython",
    "version": 3
   },
   "file_extension": ".py",
   "mimetype": "text/x-python",
   "name": "python",
   "nbconvert_exporter": "python",
   "pygments_lexer": "ipython3",
   "version": "3.6.0"
  }
 },
 "nbformat": 4,
 "nbformat_minor": 1
}
