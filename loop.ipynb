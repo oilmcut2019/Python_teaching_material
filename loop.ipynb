{
 "cells": [
  {
   "cell_type": "markdown",
   "metadata": {
    "slideshow": {
     "slide_type": "slide"
    }
   },
   "source": [
    "# 迴圈\n",
    "\n",
    "## 郭耀仁"
   ]
  },
  {
   "cell_type": "markdown",
   "metadata": {
    "slideshow": {
     "slide_type": "slide"
    }
   },
   "source": [
    "## 一次印出一天\n",
    "\n",
    "```python\n",
    "weekdays = [\"Monday\", \"Tuesday\", \"Wednesday\", \"Thursday\", \"Friday\"]\n",
    "```"
   ]
  },
  {
   "cell_type": "markdown",
   "metadata": {
    "slideshow": {
     "slide_type": "subslide"
    }
   },
   "source": [
    "## 一次印出一天（2）\n",
    "\n",
    "- 土法煉鋼的方法"
   ]
  },
  {
   "cell_type": "code",
   "execution_count": 1,
   "metadata": {},
   "outputs": [
    {
     "name": "stdout",
     "output_type": "stream",
     "text": [
      "Monday\n",
      "Tuesday\n",
      "Wednesday\n",
      "Thursday\n",
      "Friday\n"
     ]
    }
   ],
   "source": [
    "weekdays = [\"Monday\", \"Tuesday\", \"Wednesday\", \"Thursday\", \"Friday\"]\n",
    "\n",
    "print(weekdays[0])\n",
    "print(weekdays[1])\n",
    "print(weekdays[2])\n",
    "print(weekdays[3])\n",
    "print(weekdays[4])"
   ]
  },
  {
   "cell_type": "markdown",
   "metadata": {
    "slideshow": {
     "slide_type": "subslide"
    }
   },
   "source": [
    "## 一次印出一天（3）\n",
    "\n",
    "- 或者寫一個迴圈"
   ]
  },
  {
   "cell_type": "code",
   "execution_count": 2,
   "metadata": {},
   "outputs": [
    {
     "name": "stdout",
     "output_type": "stream",
     "text": [
      "Monday\n",
      "Tuesday\n",
      "Wednesday\n",
      "Thursday\n",
      "Friday\n"
     ]
    }
   ],
   "source": [
    "weekdays = [\"Monday\", \"Tuesday\", \"Wednesday\", \"Thursday\", \"Friday\"]\n",
    "\n",
    "# 迴圈結構\n",
    "for weekday in weekdays:\n",
    "    print(weekday)"
   ]
  },
  {
   "cell_type": "markdown",
   "metadata": {
    "slideshow": {
     "slide_type": "slide"
    }
   },
   "source": [
    "## 迴圈的結構\n",
    "\n",
    "- 宣告迴圈的種類（`for`）\n",
    "- 宣告一個 **iterator**（`weekday`）\n",
    "- 宣告一個迴圈要跑的空間（`weekdays`）\n",
    "- **縮排**宣告每一次 **iterator** 變動的時候要做什麼事（`print(weekday)`）"
   ]
  },
  {
   "cell_type": "markdown",
   "metadata": {
    "slideshow": {
     "slide_type": "slide"
    }
   },
   "source": [
    "## for 迴圈\n",
    "\n",
    "- 迭代子為 sequence 內容的結構：\n",
    "\n",
    "```python\n",
    "for element in sequence:\n",
    "    # 做什麼事\n",
    "```"
   ]
  },
  {
   "cell_type": "markdown",
   "metadata": {
    "slideshow": {
     "slide_type": "subslide"
    }
   },
   "source": [
    "## for 迴圈（2）\n",
    "\n",
    "- 迭代子為索引值的結構：\n",
    "\n",
    "```python\n",
    "for ind in range(len(sequence)):\n",
    "    print(sequence[ind])\n",
    "```"
   ]
  },
  {
   "cell_type": "markdown",
   "metadata": {
    "slideshow": {
     "slide_type": "subslide"
    }
   },
   "source": [
    "## for 迴圈（3）\n",
    "\n",
    "- element 不必要為單一變數"
   ]
  },
  {
   "cell_type": "code",
   "execution_count": 3,
   "metadata": {},
   "outputs": [
    {
     "name": "stdout",
     "output_type": "stream",
     "text": [
      "87\n",
      "[1, 2, 3]\n",
      "{'city': 'Taipei'}\n"
     ]
    }
   ],
   "source": [
    "seq = [87, [1, 2, 3], {\"city\": \"Taipei\"}]\n",
    "\n",
    "for element in seq:\n",
    "    print(element)"
   ]
  },
  {
   "cell_type": "markdown",
   "metadata": {
    "slideshow": {
     "slide_type": "subslide"
    }
   },
   "source": [
    "## for 迴圈（4）\n",
    "\n",
    "- 如果 sequence 是一個字典，會直接輸出鍵值（key）"
   ]
  },
  {
   "cell_type": "code",
   "execution_count": 4,
   "metadata": {},
   "outputs": [
    {
     "name": "stdout",
     "output_type": "stream",
     "text": [
      "country\n",
      "city\n"
     ]
    }
   ],
   "source": [
    "my_dict = {\"country\": \"Taiwan\", \"city\":\"Taipei\"}\n",
    "\n",
    "for element in my_dict:\n",
    "    print(element)"
   ]
  },
  {
   "cell_type": "markdown",
   "metadata": {
    "slideshow": {
     "slide_type": "subslide"
    }
   },
   "source": [
    "## for 迴圈（5）\n",
    "\n",
    "- sequence 是字典時，可讀性更強的寫法："
   ]
  },
  {
   "cell_type": "code",
   "execution_count": 5,
   "metadata": {},
   "outputs": [
    {
     "name": "stdout",
     "output_type": "stream",
     "text": [
      "dict_keys(['country', 'city'])\n",
      "country\n",
      "city\n"
     ]
    }
   ],
   "source": [
    "my_dict = {\"country\": \"Taiwan\", \"city\":\"Taipei\"}\n",
    "print(my_dict.keys())\n",
    "\n",
    "for element in my_dict.keys():\n",
    "    print(element)"
   ]
  },
  {
   "cell_type": "markdown",
   "metadata": {
    "collapsed": true,
    "slideshow": {
     "slide_type": "subslide"
    }
   },
   "source": [
    "## for 迴圈（6）\n",
    "\n",
    "- sequence 是字典時，可讀性更強的寫法："
   ]
  },
  {
   "cell_type": "code",
   "execution_count": 6,
   "metadata": {},
   "outputs": [
    {
     "name": "stdout",
     "output_type": "stream",
     "text": [
      "dict_values(['Taiwan', 'Taipei'])\n",
      "Taiwan\n",
      "Taipei\n"
     ]
    }
   ],
   "source": [
    "my_dict = {\"country\": \"Taiwan\", \"city\":\"Taipei\"}\n",
    "print(my_dict.values())\n",
    "\n",
    "for element in my_dict.values():\n",
    "    print(element)"
   ]
  },
  {
   "cell_type": "markdown",
   "metadata": {
    "slideshow": {
     "slide_type": "subslide"
    }
   },
   "source": [
    "## for 迴圈（7）\n",
    "\n",
    "- sequence 是字典時，可讀性更強的寫法："
   ]
  },
  {
   "cell_type": "code",
   "execution_count": 7,
   "metadata": {},
   "outputs": [
    {
     "name": "stdout",
     "output_type": "stream",
     "text": [
      "dict_items([('country', 'Taiwan'), ('city', 'Taipei')])\n",
      "country：Taiwan\n",
      "city：Taipei\n"
     ]
    }
   ],
   "source": [
    "my_dict = {\"country\": \"Taiwan\", \"city\":\"Taipei\"}\n",
    "print(my_dict.items())\n",
    "\n",
    "for (key, value) in my_dict.items():\n",
    "    print(\"%s：%s\" % (key, value))"
   ]
  },
  {
   "cell_type": "markdown",
   "metadata": {
    "slideshow": {
     "slide_type": "subslide"
    }
   },
   "source": [
    "## 隨堂練習\n",
    "\n",
    "用 `for` 迴圈計算 1 到 100 的平均數\n",
    "\n",
    "$$\\bar{x} = \\frac{\\displaystyle\\sum_{i=1}^{n}xi}{n}$$"
   ]
  },
  {
   "cell_type": "markdown",
   "metadata": {
    "slideshow": {
     "slide_type": "slide"
    }
   },
   "source": [
    "## while 迴圈\n",
    "\n",
    "- 概念：所有的 `for` 迴圈都可以用 `while` 迴圈改寫；反之則不一定\n",
    "- 比喻：`for` 迴圈就像田徑、游泳比賽；`while` 迴圈就像桌球、網球比賽\n",
    "- 結構：\n",
    "\n",
    "```python\n",
    "while 某種條件判斷為 `True` 的時候:\n",
    "    # 做什麼事\n",
    "```"
   ]
  },
  {
   "cell_type": "markdown",
   "metadata": {
    "slideshow": {
     "slide_type": "subslide"
    }
   },
   "source": [
    "## while 迴圈（2）\n",
    "\n",
    "- 1 加到 100"
   ]
  },
  {
   "cell_type": "code",
   "execution_count": 8,
   "metadata": {},
   "outputs": [
    {
     "name": "stdout",
     "output_type": "stream",
     "text": [
      "5050\n",
      "100\n"
     ]
    }
   ],
   "source": [
    "one_to_hundred = range(1, 101)\n",
    "summation = 0\n",
    "i = 0\n",
    "\n",
    "while i < len(one_to_hundred):\n",
    "        summation += one_to_hundred[i]\n",
    "        i += 1\n",
    "\n",
    "print(summation)\n",
    "print(i)"
   ]
  },
  {
   "cell_type": "markdown",
   "metadata": {
    "slideshow": {
     "slide_type": "subslide"
    }
   },
   "source": [
    "## while 迴圈（3）\n",
    "\n",
    "- 計算一個 [Fibonacci](https://en.wikipedia.org/wiki/Fibonacci_number) 數列的前 20 個數字"
   ]
  },
  {
   "cell_type": "code",
   "execution_count": 9,
   "metadata": {},
   "outputs": [
    {
     "name": "stdout",
     "output_type": "stream",
     "text": [
      "[0, 1, 1, 2, 3, 5, 8, 13, 21, 34, 55, 89, 144, 233, 377, 610, 987, 1597, 2584, 4181]\n"
     ]
    }
   ],
   "source": [
    "f1 = 0\n",
    "f2 = 1\n",
    "fibonacci = [f1, f2]\n",
    "while len(fibonacci) < 20:\n",
    "    f1, f2 = f2, f1 + f2\n",
    "    fibonacci.append(f2)\n",
    "\n",
    "print(fibonacci)"
   ]
  },
  {
   "cell_type": "markdown",
   "metadata": {
    "slideshow": {
     "slide_type": "subslide"
    }
   },
   "source": [
    "## while 迴圈（4）\n",
    "\n",
    "- 投擲一枚公正的硬幣，出現三次正面才停止"
   ]
  },
  {
   "cell_type": "code",
   "execution_count": 10,
   "metadata": {},
   "outputs": [
    {
     "name": "stdout",
     "output_type": "stream",
     "text": [
      "['Head', 'Head', 'Head']\n",
      "3\n"
     ]
    }
   ],
   "source": [
    "from random import choice\n",
    "\n",
    "coin = [\"Head\", \"Tail\"]\n",
    "flips = []\n",
    "while flips.count(\"Head\") < 3:\n",
    "    flips.append(choice(coin))\n",
    "\n",
    "print(flips)\n",
    "print(len(flips))"
   ]
  },
  {
   "cell_type": "markdown",
   "metadata": {
    "slideshow": {
     "slide_type": "slide"
    }
   },
   "source": [
    "## 使用 enumerate() 函數\n",
    "\n",
    "- 同時使用 sequence 的索引值與其中的內容值\n",
    "\n",
    "```python\n",
    "weekdays = [\"Monday\", \"Tuesday\", \"Wednesday\", \"Thursday\", \"Friday\"]\n",
    "\n",
    "for idx, weekday in enumerate(weekdays):\n",
    "    print(idx, \":\", weekday)\n",
    "```"
   ]
  },
  {
   "cell_type": "markdown",
   "metadata": {
    "slideshow": {
     "slide_type": "slide"
    }
   },
   "source": [
    "## 使用 zip() 函數\n",
    "\n",
    "- 同時使用兩個以上 sequences 的內容值\n",
    "\n",
    "```python\n",
    "weekdays_ch = [\"星期一\", \"星期二\", \"星期三\", \"星期四\", \"星期五\"]\n",
    "weekdays = [\"Monday\", \"Tuesday\", \"Wednesday\", \"Thursday\", \"Friday\"]\n",
    "\n",
    "for weekday_ch, weekday in zip(weekdays_ch, weekdays):\n",
    "    print(weekday_ch, \":\", weekday)\n",
    "```"
   ]
  },
  {
   "cell_type": "markdown",
   "metadata": {
    "slideshow": {
     "slide_type": "slide"
    }
   },
   "source": [
    "## 隨堂練習\n",
    "\n",
    "- 投擲一枚公正的骰子，總共出現三個六才停止"
   ]
  },
  {
   "cell_type": "markdown",
   "metadata": {
    "slideshow": {
     "slide_type": "subslide"
    }
   },
   "source": [
    "## 隨堂練習\n",
    "\n",
    "- 實作[標準差](https://zh.wikipedia.org/wiki/%E6%A8%99%E6%BA%96%E5%B7%AE)的計算\n",
    "- 計算 `range(1, 101)` 的標準差\n",
    "\n",
    "$$SD = \\sqrt{\\frac{1}{N-1}\\sum_{i=1}^{N}(x_i - \\bar{x})^2}$$"
   ]
  }
 ],
 "metadata": {
  "celltoolbar": "Slideshow",
  "kernelspec": {
   "display_name": "Python 3",
   "language": "python",
   "name": "python3"
  },
  "language_info": {
   "codemirror_mode": {
    "name": "ipython",
    "version": 3
   },
   "file_extension": ".py",
   "mimetype": "text/x-python",
   "name": "python",
   "nbconvert_exporter": "python",
   "pygments_lexer": "ipython3",
   "version": "3.6.0"
  }
 },
 "nbformat": 4,
 "nbformat_minor": 1
}
