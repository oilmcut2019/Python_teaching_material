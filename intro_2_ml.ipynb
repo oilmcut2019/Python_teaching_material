{
 "cells": [
  {
   "cell_type": "markdown",
   "metadata": {
    "slideshow": {
     "slide_type": "slide"
    }
   },
   "source": [
    "# 機器學習簡介\n",
    "\n",
    "## 郭耀仁"
   ]
  },
  {
   "cell_type": "markdown",
   "metadata": {
    "slideshow": {
     "slide_type": "slide"
    }
   },
   "source": [
    "## 機器學習的定位\n",
    "\n",
    "![](https://ingomierswacom.files.wordpress.com/2017/04/ai_ml_dl.jpg?w=676)\n",
    "\n",
    "Source: [rapidminer](https://rapidminer.com/artificial-intelligence-machine-learning-deep-learning/)"
   ]
  },
  {
   "cell_type": "markdown",
   "metadata": {
    "slideshow": {
     "slide_type": "slide"
    }
   },
   "source": [
    "## 定義機器學習\n",
    "\n",
    "[Arthur Samuel](https://en.wikipedia.org/wiki/Arthur_Samuel)\n",
    "> The field of study that gives computers the ability to learn without being explicitly programmed."
   ]
  },
  {
   "cell_type": "markdown",
   "metadata": {
    "slideshow": {
     "slide_type": "subslide"
    }
   },
   "source": [
    "## 定義機器學習（2）\n",
    "\n",
    "[Tom Mitchell](http://www.cs.cmu.edu/~tom/)\n",
    "> A computer program is said to learn from experience E with respect to some class of tasks T and performance measure P, if its performance at tasks in T, as measured by P, improves with experience E."
   ]
  },
  {
   "cell_type": "markdown",
   "metadata": {
    "slideshow": {
     "slide_type": "subslide"
    }
   },
   "source": [
    "## 定義機器學習（3）\n",
    "\n",
    "[林軒田](http://www.csie.ntu.edu.tw/~htlin/)\n",
    "> 我們從小是怎麼樣辨認一棵樹的，是爸爸媽媽告訴我們一百條規則來定義嗎？其實不是的，很大一部分是透過我們自己的觀察很多的樹與不是樹之後，得到並且內化了辨認一棵樹的技巧，機器學習想要做的就是一樣的事情。"
   ]
  },
  {
   "cell_type": "markdown",
   "metadata": {
    "slideshow": {
     "slide_type": "slide"
    }
   },
   "source": [
    "## 機器學習的種類\n",
    "\n",
    "- 監督式學習（Supervised Learning）：具有目標變數的 Labeled data\n",
    "    - Gmail 會幫你分類郵件\n",
    "    - [Jin Yang's Hot Dog Claasifier](https://youtu.be/vIci3C4JkL0)\n",
    "- 非監督式學習（Unsupervised Learning）：沒有目標變數的 Unlabeled data\n",
    "    - 將客戶分成不同的 Segments\n",
    "    - 降維時所使用的主成份分析"
   ]
  },
  {
   "cell_type": "markdown",
   "metadata": {
    "slideshow": {
     "slide_type": "subslide"
    }
   },
   "source": [
    "## 機器學習的種類（2）\n",
    "\n",
    "- 監督式學習（Supervised Learning）\n",
    "    - 迴歸問題：目標變數是連續型（數值），像是股價、氣溫、匯率、房價...等\n",
    "    - 分類問題：目標變數是離散型（類別），像是垃圾郵件/非垃圾郵件、熱狗/非熱狗...等"
   ]
  },
  {
   "cell_type": "markdown",
   "metadata": {
    "slideshow": {
     "slide_type": "slide"
    }
   },
   "source": [
    "## 認識 Scikit-Learn\n",
    "\n",
    "- 用來實作資料探勘與機器學習的 Python 套件\n",
    "- 建構於 NumPy，SciPy 與 Matplotlib 套件之上\n",
    "- 有[六大功能模組](http://scikit-learn.org/stable/index.html)：\n",
    "    - 預處理\n",
    "    - 降維\n",
    "    - 迴歸\n",
    "    - 分群\n",
    "    - 分類\n",
    "    - 模型評估"
   ]
  },
  {
   "cell_type": "markdown",
   "metadata": {
    "slideshow": {
     "slide_type": "subslide"
    }
   },
   "source": [
    "## 認識 Scikit-Learn（2）\n",
    "\n",
    "- [其他的 Scikits](https://scikits.appspot.com/scikits)\n",
    "- [Scikit-Learn 機器學習地圖](http://scikit-learn.org/stable/tutorial/machine_learning_map/)"
   ]
  },
  {
   "cell_type": "markdown",
   "metadata": {
    "slideshow": {
     "slide_type": "slide"
    }
   },
   "source": [
    "## 使用 NumPy 做矩陣運算"
   ]
  },
  {
   "cell_type": "markdown",
   "metadata": {
    "slideshow": {
     "slide_type": "subslide"
    }
   },
   "source": [
    "## 二維的 ndarray\n",
    "\n",
    "- 向量：`.reshape(-1, 1)`\n",
    "- 矩陣：`.reshape(m, n)`\n",
    "- 轉置：`.T` 屬性或 `np.transpose()`\n",
    "- 相乘：`.dot()` 或 `np.dot()`\n",
    "- 反矩陣：`np.linalg.inv()`"
   ]
  },
  {
   "cell_type": "markdown",
   "metadata": {
    "slideshow": {
     "slide_type": "subslide"
    }
   },
   "source": [
    "## 運算練習\n",
    "\n",
    "- 練習計算 $u^Tv$\n",
    "\n",
    "$$u = \\begin{bmatrix}\n",
    "    4 \\\\\n",
    "    -4 \\\\\n",
    "    -3\n",
    "\\end{bmatrix}$$\n",
    "\n",
    "$$v = \\begin{bmatrix}\n",
    "    4 \\\\\n",
    "    2 \\\\\n",
    "    4\n",
    "\\end{bmatrix}$$"
   ]
  },
  {
   "cell_type": "markdown",
   "metadata": {
    "slideshow": {
     "slide_type": "subslide"
    }
   },
   "source": [
    "## 運算練習\n",
    "\n",
    "- 練習計算 $AB$ 與 $BA$\n",
    "\n",
    "$$A = \\begin{bmatrix}\n",
    "    1 & 2 \\\\\n",
    "    4 & 5 \\\\\n",
    "\\end{bmatrix}$$\n",
    "\n",
    "$$B = \\begin{bmatrix}\n",
    "    4 & 3 \\\\\n",
    "    2 & 1 \\\\\n",
    "\\end{bmatrix}$$"
   ]
  }
 ],
 "metadata": {
  "celltoolbar": "Slideshow",
  "kernelspec": {
   "display_name": "Python 3",
   "language": "python",
   "name": "python3"
  },
  "language_info": {
   "codemirror_mode": {
    "name": "ipython",
    "version": 3
   },
   "file_extension": ".py",
   "mimetype": "text/x-python",
   "name": "python",
   "nbconvert_exporter": "python",
   "pygments_lexer": "ipython3",
   "version": "3.6.0"
  }
 },
 "nbformat": 4,
 "nbformat_minor": 2
}
