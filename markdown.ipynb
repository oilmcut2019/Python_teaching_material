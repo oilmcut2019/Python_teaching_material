{
 "cells": [
  {
   "cell_type": "markdown",
   "metadata": {
    "slideshow": {
     "slide_type": "slide"
    }
   },
   "source": [
    "# Markdown\n",
    "\n",
    "\n",
    "## 郭耀仁"
   ]
  },
  {
   "cell_type": "markdown",
   "metadata": {
    "slideshow": {
     "slide_type": "slide"
    }
   },
   "source": [
    "## Markdown 是什麼\n",
    "\n",
    "> Markdown的目標是實現「易讀易寫」。不過最需要強調的便是它的可讀性。一份使用Markdown格式撰寫的文件應該可以直接以純文字發佈，並且看起來不會像是由許多標籤或是格式指令所構成。\n",
    "\n",
    "Source: [Markdown](http://markdown.tw/)"
   ]
  },
  {
   "cell_type": "markdown",
   "metadata": {
    "slideshow": {
     "slide_type": "subslide"
    }
   },
   "source": [
    "## 基本的 Markdown 語法\n",
    "\n",
    "- [區塊元素](http://markdown.tw/#block)\n",
    "- [區段元素](http://markdown.tw/#span)"
   ]
  },
  {
   "cell_type": "markdown",
   "metadata": {
    "slideshow": {
     "slide_type": "subslide"
    }
   },
   "source": [
    "## 基本的 Markdown 語法（2）\n",
    "\n",
    "- 粗體與斜體\n",
    "- 標題\n",
    "- 清單\n",
    "- 程式碼\n",
    "- 連結\n",
    "- 圖片\n",
    "- 主題\n",
    "- 引用\n",
    "- 表格"
   ]
  },
  {
   "cell_type": "markdown",
   "metadata": {
    "slideshow": {
     "slide_type": "subslide"
    }
   },
   "source": [
    "## 在 Jupyter Notebook 中加入 Markdown\n",
    "\n",
    "- 將 Code 選項換為 Markdown！\n",
    "- 開始撰寫你的資料科學報告"
   ]
  }
 ],
 "metadata": {
  "celltoolbar": "Slideshow",
  "kernelspec": {
   "display_name": "Python 3",
   "language": "python",
   "name": "python3"
  },
  "language_info": {
   "codemirror_mode": {
    "name": "ipython",
    "version": 3
   },
   "file_extension": ".py",
   "mimetype": "text/x-python",
   "name": "python",
   "nbconvert_exporter": "python",
   "pygments_lexer": "ipython3",
   "version": "3.6.0"
  }
 },
 "nbformat": 4,
 "nbformat_minor": 2
}
