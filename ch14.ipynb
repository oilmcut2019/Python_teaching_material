{
 "cells": [
  {
   "cell_type": "markdown",
   "metadata": {
    "slideshow": {
     "slide_type": "slide"
    }
   },
   "source": [
    "# Python 與機器學習（4）\n",
    "\n",
    "## 郭耀仁"
   ]
  },
  {
   "cell_type": "markdown",
   "metadata": {
    "slideshow": {
     "slide_type": "slide"
    }
   },
   "source": [
    "## 機器學習實作\n",
    "\n",
    "- 認識 Scikit-Learn\n",
    "- 認識玩具資料集（Toy datasets）\n",
    "- 感知器學習\n",
    "- 繪製決策邊界圖"
   ]
  },
  {
   "cell_type": "markdown",
   "metadata": {
    "slideshow": {
     "slide_type": "slide"
    }
   },
   "source": [
    "## 認識 Scikit-Learn\n",
    "\n",
    "- 用來實作資料探勘與機器學習的 Python 套件\n",
    "- 建構於 NumPy，SciPy 與 Matplotlib 套件之上\n",
    "- 有[六大功能模組](http://scikit-learn.org/stable/index.html)：\n",
    "    - 預處理\n",
    "    - 降維\n",
    "    - 迴歸\n",
    "    - 分群\n",
    "    - 分類\n",
    "    - 模型評估"
   ]
  },
  {
   "cell_type": "markdown",
   "metadata": {
    "slideshow": {
     "slide_type": "subslide"
    }
   },
   "source": [
    "## 認識 Scikit-Learn（2）\n",
    "\n",
    "- [其他的 Scikits](https://scikits.appspot.com/scikits)\n",
    "- [Scikit-Learn 機器學習地圖](http://scikit-learn.org/stable/tutorial/machine_learning_map/)"
   ]
  },
  {
   "cell_type": "markdown",
   "metadata": {
    "slideshow": {
     "slide_type": "slide"
    }
   },
   "source": [
    "## 認識玩具資料集\n",
    "\n",
    "- [boston 資料集](http://scikit-learn.org/stable/modules/generated/sklearn.datasets.load_boston.html#sklearn.datasets.load_boston)\n",
    "- [iris 資料集](http://scikit-learn.org/stable/modules/generated/sklearn.datasets.load_iris.html#sklearn.datasets.load_iris)\n",
    "- [digits 資料集](http://scikit-learn.org/stable/modules/generated/sklearn.datasets.load_digits.html#sklearn.datasets.load_digits)\n",
    "- [MNIST 資料集](http://yann.lecun.com/exdb/mnist/)"
   ]
  },
  {
   "cell_type": "markdown",
   "metadata": {
    "slideshow": {
     "slide_type": "subslide"
    }
   },
   "source": [
    "## 認識玩具資料集（2）\n",
    "\n",
    "- [boston 資料集](http://scikit-learn.org/stable/modules/generated/sklearn.datasets.load_boston.html#sklearn.datasets.load_boston)\n",
    "\n",
    "```python\n",
    "from sklearn.datasets import load_boston\n",
    "\n",
    "boston = load_boston()\n",
    "print(boston.DESCR)\n",
    "print(boston.target)\n",
    "print(boston.data)\n",
    "```"
   ]
  },
  {
   "cell_type": "markdown",
   "metadata": {
    "slideshow": {
     "slide_type": "subslide"
    }
   },
   "source": [
    "## 認識玩具資料集（3）\n",
    "\n",
    "- [iris 資料集](http://scikit-learn.org/stable/modules/generated/sklearn.datasets.load_iris.html#sklearn.datasets.load_iris)\n",
    "\n",
    "```python\n",
    "from sklearn.datasets import load_iris\n",
    "\n",
    "iris = load_iris()\n",
    "print(iris.DESCR)\n",
    "print(iris.target)\n",
    "print(iris.data)\n",
    "print(iris.target_names)\n",
    "```"
   ]
  },
  {
   "cell_type": "markdown",
   "metadata": {
    "slideshow": {
     "slide_type": "subslide"
    }
   },
   "source": [
    "## 認識玩具資料集（4）\n",
    "\n",
    "- [digits 資料集](http://scikit-learn.org/stable/modules/generated/sklearn.datasets.load_digits.html#sklearn.datasets.load_digits)\n",
    "\n",
    "```python\n",
    "from sklearn.datasets import load_digits\n",
    "\n",
    "digits = load_digits()\n",
    "print(digits.DESCR)\n",
    "print(digits.images.shape)\n",
    "```"
   ]
  },
  {
   "cell_type": "code",
   "execution_count": 1,
   "metadata": {
    "collapsed": false,
    "slideshow": {
     "slide_type": "subslide"
    }
   },
   "outputs": [
    {
     "data": {
      "image/png": "[encoded data removed]",
      "text/plain": [
       "<matplotlib.figure.Figure at 0x1093e22b0>"
      ]
     },
     "metadata": {},
     "output_type": "display_data"
    }
   ],
   "source": [
    "from sklearn.datasets import load_digits\n",
    "import matplotlib.pyplot as plt\n",
    "\n",
    "digits = load_digits()\n",
    "plt.subplots(2, 5)\n",
    "for i, k in enumerate(range(1, 11)):\n",
    "    plt.subplot(2, 5, k)\n",
    "    plt.imshow(digits.images[i], cmap = \"gray\")\n",
    "\n",
    "plt.tight_layout()\n",
    "plt.show()"
   ]
  },
  {
   "cell_type": "markdown",
   "metadata": {
    "slideshow": {
     "slide_type": "subslide"
    }
   },
   "source": [
    "## 認識玩具資料集（5）\n",
    "\n",
    "- [MNIST 資料集](http://yann.lecun.com/exdb/mnist/)\n",
    "- 用 tensorflow 讀入是我覺得最方便的方式"
   ]
  },
  {
   "cell_type": "code",
   "execution_count": 3,
   "metadata": {
    "collapsed": false,
    "slideshow": {
     "slide_type": "subslide"
    }
   },
   "outputs": [
    {
     "name": "stdout",
     "output_type": "stream",
     "text": [
      "Extracting MNIST_data/train-images-idx3-ubyte.gz\n",
      "Extracting MNIST_data/train-labels-idx1-ubyte.gz\n",
      "Extracting MNIST_data/t10k-images-idx3-ubyte.gz\n",
      "Extracting MNIST_data/t10k-labels-idx1-ubyte.gz\n"
     ]
    }
   ],
   "source": [
    "from tensorflow.examples.tutorials.mnist import input_data\n",
    "import matplotlib.pyplot as plt\n",
    "import numpy as np\n",
    "\n",
    "mnist = input_data.read_data_sets(\"MNIST_data/\", one_hot = True)"
   ]
  },
  {
   "cell_type": "code",
   "execution_count": 4,
   "metadata": {
    "collapsed": false
   },
   "outputs": [
    {
     "name": "stdout",
     "output_type": "stream",
     "text": [
      "(55000, 784)\n"
     ]
    },
    {
     "data": {
      "image/png": "[encoded data removed]",
      "text/plain": [
       "<matplotlib.figure.Figure at 0x11fe03cc0>"
      ]
     },
     "metadata": {},
     "output_type": "display_data"
    }
   ],
   "source": [
    "x_train = mnist.train.images\n",
    "print(x_train.shape)\n",
    "x_train_reshaped = np.reshape(x_train, (55000, 28, 28))\n",
    "for i, k in enumerate(range(1, 11)):\n",
    "    plt.subplot(2, 5, k)\n",
    "    plt.imshow(x_train_reshaped[i], cmap = \"gray\")\n",
    "\n",
    "plt.tight_layout()\n",
    "plt.show()"
   ]
  },
  {
   "cell_type": "markdown",
   "metadata": {
    "slideshow": {
     "slide_type": "slide"
    }
   },
   "source": [
    "## 感知器學習\n",
    "\n",
    "- 沒有經過 sigmoid 函數轉換的簡單分類器\n",
    "- 其中 $\\theta_0x_0$ 即為門檻值\n",
    "- $\\phi$ 函數就像是一個簡單版的 sign 函數\n",
    "\n",
    "$$h(x) = \\theta_0x_0 + \\theta_1x_1 + ... + \\theta_mx_m = \\theta^Tx$$\n",
    "\n",
    "\n",
    "$$\n",
    "    \\hat{y} = \\phi(h(x)) =\n",
    "    \\begin{cases}\n",
    "        1       & \\quad \\text{if } h(x)\\geq 0\\\\\n",
    "    0  & \\quad \\text{ohterwise.}\\\\\n",
    "    \\end{cases}\n",
    "$$"
   ]
  },
  {
   "cell_type": "markdown",
   "metadata": {
    "slideshow": {
     "slide_type": "subslide"
    }
   },
   "source": [
    "## 感知器學習（2）\n",
    "\n",
    "- 初始一個很小趨近於零的值給 $\\theta$\n",
    "- 利用真實答案 $y_i$ 與預測結果 $\\hat{y_i}$ 的誤差更新 $\\theta$\n",
    "- $\\alpha$ 為學習速率\n",
    "\n",
    "$$\\theta_i:=\\theta_i + \\Delta \\theta_i$$\n",
    "\n",
    "$$\\Delta \\theta_i = \\alpha(y_i - \\hat{y_i})x_i$$"
   ]
  },
  {
   "cell_type": "markdown",
   "metadata": {
    "slideshow": {
     "slide_type": "subslide"
    }
   },
   "source": [
    "## 感知器學習（3）\n",
    "\n",
    "- 正確的預測感知器不會修正權重 $\\theta$\n",
    "\n",
    "$$\\Delta \\theta_i = \\alpha (1 - 1)x_i = 0$$\n",
    "$$\\Delta \\theta_i = \\alpha (0 - 0)x_i = 0$$\n",
    "\n",
    "- 錯誤的預測會讓感知器修正權重 $\\theta$ 藉此修正下一輪的預測結果\n",
    "\n",
    "$$\\Delta \\theta_i = \\alpha (1 - 0)x_i = \\alpha (1) x_i$$\n",
    "$$\\Delta \\theta_i = \\alpha (0 - 1)x_i = \\alpha (-1) x_i$$"
   ]
  },
  {
   "cell_type": "markdown",
   "metadata": {
    "slideshow": {
     "slide_type": "subslide"
    }
   },
   "source": [
    "## 感知器學習（4）\n",
    "\n",
    "- 修正的方向：\n",
    "    - $\\Delta \\theta_i = \\alpha (1 - 0)x_i = \\alpha (1) x_i$：$\\theta$ 增大，更容易達成 $h(x) \\geq 0$\n",
    "    - $\\Delta \\theta_i = \\alpha (0 - 1)x_i = \\alpha (-1) x_i$：$\\theta$ 增大，更容易達成 $h(x) < 0$\n",
    "\n",
    "$$\n",
    "    \\hat{y} = \\phi(h(x)) =\n",
    "    \\begin{cases}\n",
    "        1       & \\quad \\text{if } h(x)\\geq 0\\\\\n",
    "    0  & \\quad \\text{ohterwise.}\\\\\n",
    "    \\end{cases}\n",
    "$$"
   ]
  },
  {
   "cell_type": "code",
   "execution_count": 5,
   "metadata": {
    "collapsed": true,
    "slideshow": {
     "slide_type": "subslide"
    }
   },
   "outputs": [],
   "source": [
    "# 建立一個 Perceptron 類別\n",
    "import numpy as np\n",
    "\n",
    "class Perceptron:\n",
    "    def __init__(self, alpha, n_epoch):\n",
    "        self.alpha = alpha\n",
    "        self.n_epoch = n_epoch\n",
    "        \n",
    "    def fit(self, X, y):\n",
    "        self.thetas = np.zeros(1 + X.shape[1]) # 1 給 theta_0, X.shape[1] 給 theta_1~theta_n\n",
    "        self.errors = []\n",
    "        \n",
    "        for i in range(self.n_epoch):\n",
    "            error = 0\n",
    "            for x, target in zip(X, y):\n",
    "                delta_theta = self.alpha * (target - self.predict(x))\n",
    "                self.thetas[1:] += delta_theta * x\n",
    "                self.thetas[0] += delta_theta\n",
    "                error += (delta_theta != 0) # delta_theta 太小，改以 boolean 判斷\n",
    "            self.errors.append(error)\n",
    "        return self\n",
    "    \n",
    "    def net_input(self, X):\n",
    "        return np.dot(self.thetas[1:], X.T) + self.thetas[0]\n",
    "    \n",
    "    def predict(self, X):\n",
    "        return np.where(self.net_input(X) >= 0, 1, 0) # \\phi function is applied here"
   ]
  },
  {
   "cell_type": "code",
   "execution_count": 6,
   "metadata": {
    "collapsed": false,
    "slideshow": {
     "slide_type": "subslide"
    }
   },
   "outputs": [
    {
     "data": {
      "image/png": "[encoded data removed]",
      "text/plain": [
       "<matplotlib.figure.Figure at 0x11fd07048>"
      ]
     },
     "metadata": {},
     "output_type": "display_data"
    }
   ],
   "source": [
    "from sklearn.datasets import load_iris\n",
    "import matplotlib.pyplot as plt\n",
    "\n",
    "iris = load_iris()\n",
    "X = iris.data\n",
    "x1_setosa, x2_setosa = X[:50, 0], X[:50, 2]\n",
    "x1_versicolor, x2_versicolor = X[50:100, 0], X[50:100, 2]\n",
    "\n",
    "plt.scatter(x = x1_setosa, y = x2_setosa, marker = \"o\", color = \"red\", label = \"setosa\")\n",
    "plt.scatter(x = x1_versicolor, y = x2_versicolor, marker = \"x\", color = \"green\", label = \"versicolor\")\n",
    "plt.legend(loc = \"upper left\")\n",
    "plt.show()"
   ]
  },
  {
   "cell_type": "code",
   "execution_count": 7,
   "metadata": {
    "collapsed": false,
    "slideshow": {
     "slide_type": "subslide"
    }
   },
   "outputs": [
    {
     "data": {
      "image/png": "[encoded data removed]",
      "text/plain": [
       "<matplotlib.figure.Figure at 0x11fe03860>"
      ]
     },
     "metadata": {},
     "output_type": "display_data"
    }
   ],
   "source": [
    "import numpy as np\n",
    "from sklearn.datasets import load_iris\n",
    "import matplotlib.pyplot as plt\n",
    "\n",
    "iris = load_iris()\n",
    "X = iris.data[:100, [0, 2]]\n",
    "y = iris.target[:100]\n",
    "ppn = Perceptron(alpha = 0.01, n_epoch = 10)\n",
    "ppn.fit(X, y)\n",
    "plt.plot(np.arange(len(ppn.errors)), ppn.errors, marker = 'o', markersize = 10)\n",
    "plt.xlabel(\"Number of epoches\")\n",
    "plt.ylabel(\"Errors\")\n",
    "plt.title('How many misclassifications?')\n",
    "plt.show()"
   ]
  },
  {
   "cell_type": "markdown",
   "metadata": {
    "slideshow": {
     "slide_type": "slide"
    }
   },
   "source": [
    "## 繪製決策邊界圖\n",
    "\n",
    "- 利用繪製等高線圖（填滿）的方法"
   ]
  },
  {
   "cell_type": "code",
   "execution_count": 8,
   "metadata": {
    "collapsed": true,
    "slideshow": {
     "slide_type": "subslide"
    }
   },
   "outputs": [],
   "source": [
    "from matplotlib.colors import ListedColormap\n",
    "import matplotlib.pyplot as plt\n",
    "\n",
    "def plot_decision_boundary(X, y, classifier, resolution = 0.02):\n",
    "    markers = ('o', 'x', '^')\n",
    "    colors = ('red', 'green', 'blue')\n",
    "    cmap = ListedColormap(colors[:len(np.unique(y))])\n",
    "\n",
    "    x1_min, x1_max = X[:, 0].min() - 1, X[:, 0].max() + 1\n",
    "    x2_min, x2_max = X[:, 1].min() - 1, X[:, 1].max() + 1\n",
    "    xx1, xx2 = np.meshgrid(np.arange(x1_min, x1_max, resolution),\n",
    "                     np.arange(x2_min, x2_max, resolution))\n",
    "    Z = classifier.predict(np.array([xx1.ravel(), xx2.ravel()]).T)\n",
    "    Z = Z.reshape(xx1.shape)\n",
    "    plt.contourf(xx1, xx2, Z, alpha = 0.3, cmap = cmap)\n",
    "    plt.xlim(xx1.min(), xx1.max())\n",
    "    plt.ylim(xx2.min(), xx2.max())\n",
    "    for idx, cl in enumerate(np.unique(y)):\n",
    "        plt.scatter(x = X[y == cl, 0], y = X[y == cl, 1], c = cmap(idx), marker = markers[idx], label = cl)"
   ]
  },
  {
   "cell_type": "code",
   "execution_count": 9,
   "metadata": {
    "collapsed": false,
    "slideshow": {
     "slide_type": "subslide"
    }
   },
   "outputs": [
    {
     "data": {
      "image/png": "[encoded data removed]",
      "text/plain": [
       "<matplotlib.figure.Figure at 0x1297a3b70>"
      ]
     },
     "metadata": {},
     "output_type": "display_data"
    }
   ],
   "source": [
    "plot_decision_boundary(X, y, classifier = ppn)\n",
    "plt.legend(loc = \"upper left\")\n",
    "plt.show()"
   ]
  }
 ],
 "metadata": {
  "celltoolbar": "Slideshow",
  "kernelspec": {
   "display_name": "Python 3",
   "language": "python",
   "name": "python3"
  },
  "language_info": {
   "codemirror_mode": {
    "name": "ipython",
    "version": 3
   },
   "file_extension": ".py",
   "mimetype": "text/x-python",
   "name": "python",
   "nbconvert_exporter": "python",
   "pygments_lexer": "ipython3",
   "version": "3.6.0"
  }
 },
 "nbformat": 4,
 "nbformat_minor": 2
}
