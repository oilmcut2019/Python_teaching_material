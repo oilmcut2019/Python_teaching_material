{
 "cells": [
  {
   "cell_type": "markdown",
   "metadata": {
    "slideshow": {
     "slide_type": "slide"
    }
   },
   "source": [
    "# 迴歸問題\n",
    "\n",
    "## 郭耀仁"
   ]
  },
  {
   "cell_type": "markdown",
   "metadata": {
    "slideshow": {
     "slide_type": "slide"
    }
   },
   "source": [
    "## 迴歸問題有哪些？\n",
    "\n",
    "- 利用月收入來核定信用卡額度\n",
    "- 利用坪數、房間數來預測房價\n",
    "- 利用每日最高氣溫來預測飲料店的冰紅茶銷量\n",
    "- ...etc."
   ]
  },
  {
   "cell_type": "markdown",
   "metadata": {
    "slideshow": {
     "slide_type": "subslide"
    }
   },
   "source": [
    "## 大家都在尋找 $f$\n",
    "\n",
    "$$y = f(x)$$\n",
    "\n",
    "- 但沒有人知道 $f$ 到底為何、是否存在？我們只能假設：\n",
    "\n",
    "$$\\hat{y} = h(x)$$"
   ]
  },
  {
   "cell_type": "markdown",
   "metadata": {
    "slideshow": {
     "slide_type": "subslide"
    }
   },
   "source": [
    "## 當 $\\hat{y}$ 與 $y$ 之間的差異愈小，我們更有自信地說 $h$ 跟 $f$ 愈相似\n",
    "\n",
    "- 成本函數\n",
    "\n",
    "$$ \\text{minimize:} \\frac{1}{2m}\\sum_{i=1}^{m}(\\hat{y_i}-y_i)^2$$"
   ]
  },
  {
   "cell_type": "markdown",
   "metadata": {
    "slideshow": {
     "slide_type": "subslide"
    }
   },
   "source": [
    "## 將 $h$ 表示得更完整：只有一個觀測值的時候\n",
    "\n",
    "$$h(x) = \\theta_0 + \\theta_1 x_1 + \\theta_2 x_2 + ... + \\theta_n x_n$$\n",
    "\n",
    "- 假如我們令 $x_0 = 1$，就可以將式子廣義地表示為：\n",
    "\n",
    "$$\\hat{y} = h(x) = \\begin{bmatrix} \\theta_0 & \\theta_1 & ... & \\theta_n \\end{bmatrix} \\begin{bmatrix} x_0 \\\\ x_1 \\\\.\\\\.\\\\.\\\\ x_n \\end{bmatrix} = \\theta^{T}x$$"
   ]
  },
  {
   "cell_type": "markdown",
   "metadata": {
    "slideshow": {
     "slide_type": "subslide"
    }
   },
   "source": [
    "## 將 $h$ 表示得更完整：有 m+1 個觀測值的時候\n",
    "\n",
    "$$\\hat{y} = h(X) = \n",
    "\\begin{bmatrix} x_{00}, x_{01}, ..., x_{0n} \\\\ x_{10}, x_{11}, ..., x_{1n} \\\\.\\\\.\\\\.\\\\ x_{m0}, x_{m1}, ..., x_{mn}\n",
    "\\end{bmatrix}\n",
    "\\begin{bmatrix} \\theta_0 \\\\ \\theta_1 \\\\.\\\\.\\\\.\\\\ \\theta_n \\end{bmatrix} = X\\theta$$"
   ]
  },
  {
   "cell_type": "markdown",
   "metadata": {
    "slideshow": {
     "slide_type": "slide"
    }
   },
   "source": [
    "## 迴歸問題與房屋價格資料"
   ]
  },
  {
   "cell_type": "markdown",
   "metadata": {
    "slideshow": {
     "slide_type": "subslide"
    }
   },
   "source": [
    "## House Prices: Advanced Regression Techniques\n",
    "\n",
    "<https://www.kaggle.com/c/house-prices-advanced-regression-techniques>"
   ]
  },
  {
   "cell_type": "code",
   "execution_count": 1,
   "metadata": {
    "slideshow": {
     "slide_type": "subslide"
    }
   },
   "outputs": [
    {
     "name": "stdout",
     "output_type": "stream",
     "text": [
      "(1460, 81)\n",
      "(1459, 80)\n"
     ]
    }
   ],
   "source": [
    "import pandas as pd\n",
    "\n",
    "train_url = \"https://storage.googleapis.com/kaggle_datasets/House-Prices-Advanced-Regression-Techniques/train.csv\"\n",
    "test_url = \"https://storage.googleapis.com/kaggle_datasets/House-Prices-Advanced-Regression-Techniques/test.csv\"\n",
    "labeled = pd.read_csv(train_url)\n",
    "test = pd.read_csv(test_url)\n",
    "print(labeled.shape)\n",
    "print(test.shape)"
   ]
  },
  {
   "cell_type": "code",
   "execution_count": 2,
   "metadata": {
    "slideshow": {
     "slide_type": "subslide"
    }
   },
   "outputs": [
    {
     "data": {
      "text/html": [
       "<div>\n",
       "<style scoped>\n",
       "    .dataframe tbody tr th:only-of-type {\n",
       "        vertical-align: middle;\n",
       "    }\n",
       "\n",
       "    .dataframe tbody tr th {\n",
       "        vertical-align: top;\n",
       "    }\n",
       "\n",
       "    .dataframe thead th {\n",
       "        text-align: right;\n",
       "    }\n",
       "</style>\n",
       "<table border=\"1\" class=\"dataframe\">\n",
       "  <thead>\n",
       "    <tr style=\"text-align: right;\">\n",
       "      <th></th>\n",
       "      <th>Id</th>\n",
       "      <th>MSSubClass</th>\n",
       "      <th>MSZoning</th>\n",
       "      <th>LotFrontage</th>\n",
       "      <th>LotArea</th>\n",
       "      <th>Street</th>\n",
       "      <th>Alley</th>\n",
       "      <th>LotShape</th>\n",
       "      <th>LandContour</th>\n",
       "      <th>Utilities</th>\n",
       "      <th>...</th>\n",
       "      <th>PoolArea</th>\n",
       "      <th>PoolQC</th>\n",
       "      <th>Fence</th>\n",
       "      <th>MiscFeature</th>\n",
       "      <th>MiscVal</th>\n",
       "      <th>MoSold</th>\n",
       "      <th>YrSold</th>\n",
       "      <th>SaleType</th>\n",
       "      <th>SaleCondition</th>\n",
       "      <th>SalePrice</th>\n",
       "    </tr>\n",
       "  </thead>\n",
       "  <tbody>\n",
       "    <tr>\n",
       "      <th>0</th>\n",
       "      <td>1</td>\n",
       "      <td>60</td>\n",
       "      <td>RL</td>\n",
       "      <td>65.0</td>\n",
       "      <td>8450</td>\n",
       "      <td>Pave</td>\n",
       "      <td>NaN</td>\n",
       "      <td>Reg</td>\n",
       "      <td>Lvl</td>\n",
       "      <td>AllPub</td>\n",
       "      <td>...</td>\n",
       "      <td>0</td>\n",
       "      <td>NaN</td>\n",
       "      <td>NaN</td>\n",
       "      <td>NaN</td>\n",
       "      <td>0</td>\n",
       "      <td>2</td>\n",
       "      <td>2008</td>\n",
       "      <td>WD</td>\n",
       "      <td>Normal</td>\n",
       "      <td>208500</td>\n",
       "    </tr>\n",
       "    <tr>\n",
       "      <th>1</th>\n",
       "      <td>2</td>\n",
       "      <td>20</td>\n",
       "      <td>RL</td>\n",
       "      <td>80.0</td>\n",
       "      <td>9600</td>\n",
       "      <td>Pave</td>\n",
       "      <td>NaN</td>\n",
       "      <td>Reg</td>\n",
       "      <td>Lvl</td>\n",
       "      <td>AllPub</td>\n",
       "      <td>...</td>\n",
       "      <td>0</td>\n",
       "      <td>NaN</td>\n",
       "      <td>NaN</td>\n",
       "      <td>NaN</td>\n",
       "      <td>0</td>\n",
       "      <td>5</td>\n",
       "      <td>2007</td>\n",
       "      <td>WD</td>\n",
       "      <td>Normal</td>\n",
       "      <td>181500</td>\n",
       "    </tr>\n",
       "    <tr>\n",
       "      <th>2</th>\n",
       "      <td>3</td>\n",
       "      <td>60</td>\n",
       "      <td>RL</td>\n",
       "      <td>68.0</td>\n",
       "      <td>11250</td>\n",
       "      <td>Pave</td>\n",
       "      <td>NaN</td>\n",
       "      <td>IR1</td>\n",
       "      <td>Lvl</td>\n",
       "      <td>AllPub</td>\n",
       "      <td>...</td>\n",
       "      <td>0</td>\n",
       "      <td>NaN</td>\n",
       "      <td>NaN</td>\n",
       "      <td>NaN</td>\n",
       "      <td>0</td>\n",
       "      <td>9</td>\n",
       "      <td>2008</td>\n",
       "      <td>WD</td>\n",
       "      <td>Normal</td>\n",
       "      <td>223500</td>\n",
       "    </tr>\n",
       "    <tr>\n",
       "      <th>3</th>\n",
       "      <td>4</td>\n",
       "      <td>70</td>\n",
       "      <td>RL</td>\n",
       "      <td>60.0</td>\n",
       "      <td>9550</td>\n",
       "      <td>Pave</td>\n",
       "      <td>NaN</td>\n",
       "      <td>IR1</td>\n",
       "      <td>Lvl</td>\n",
       "      <td>AllPub</td>\n",
       "      <td>...</td>\n",
       "      <td>0</td>\n",
       "      <td>NaN</td>\n",
       "      <td>NaN</td>\n",
       "      <td>NaN</td>\n",
       "      <td>0</td>\n",
       "      <td>2</td>\n",
       "      <td>2006</td>\n",
       "      <td>WD</td>\n",
       "      <td>Abnorml</td>\n",
       "      <td>140000</td>\n",
       "    </tr>\n",
       "    <tr>\n",
       "      <th>4</th>\n",
       "      <td>5</td>\n",
       "      <td>60</td>\n",
       "      <td>RL</td>\n",
       "      <td>84.0</td>\n",
       "      <td>14260</td>\n",
       "      <td>Pave</td>\n",
       "      <td>NaN</td>\n",
       "      <td>IR1</td>\n",
       "      <td>Lvl</td>\n",
       "      <td>AllPub</td>\n",
       "      <td>...</td>\n",
       "      <td>0</td>\n",
       "      <td>NaN</td>\n",
       "      <td>NaN</td>\n",
       "      <td>NaN</td>\n",
       "      <td>0</td>\n",
       "      <td>12</td>\n",
       "      <td>2008</td>\n",
       "      <td>WD</td>\n",
       "      <td>Normal</td>\n",
       "      <td>250000</td>\n",
       "    </tr>\n",
       "  </tbody>\n",
       "</table>\n",
       "<p>5 rows × 81 columns</p>\n",
       "</div>"
      ],
      "text/plain": [
       "   Id  MSSubClass MSZoning  LotFrontage  LotArea Street Alley LotShape  \\\n",
       "0   1          60       RL         65.0     8450   Pave   NaN      Reg   \n",
       "1   2          20       RL         80.0     9600   Pave   NaN      Reg   \n",
       "2   3          60       RL         68.0    11250   Pave   NaN      IR1   \n",
       "3   4          70       RL         60.0     9550   Pave   NaN      IR1   \n",
       "4   5          60       RL         84.0    14260   Pave   NaN      IR1   \n",
       "\n",
       "  LandContour Utilities    ...     PoolArea PoolQC Fence MiscFeature MiscVal  \\\n",
       "0         Lvl    AllPub    ...            0    NaN   NaN         NaN       0   \n",
       "1         Lvl    AllPub    ...            0    NaN   NaN         NaN       0   \n",
       "2         Lvl    AllPub    ...            0    NaN   NaN         NaN       0   \n",
       "3         Lvl    AllPub    ...            0    NaN   NaN         NaN       0   \n",
       "4         Lvl    AllPub    ...            0    NaN   NaN         NaN       0   \n",
       "\n",
       "  MoSold YrSold  SaleType  SaleCondition  SalePrice  \n",
       "0      2   2008        WD         Normal     208500  \n",
       "1      5   2007        WD         Normal     181500  \n",
       "2      9   2008        WD         Normal     223500  \n",
       "3      2   2006        WD        Abnorml     140000  \n",
       "4     12   2008        WD         Normal     250000  \n",
       "\n",
       "[5 rows x 81 columns]"
      ]
     },
     "execution_count": 2,
     "metadata": {},
     "output_type": "execute_result"
    }
   ],
   "source": [
    "labeled.head()"
   ]
  },
  {
   "cell_type": "code",
   "execution_count": 3,
   "metadata": {
    "slideshow": {
     "slide_type": "subslide"
    }
   },
   "outputs": [
    {
     "data": {
      "text/html": [
       "<div>\n",
       "<style scoped>\n",
       "    .dataframe tbody tr th:only-of-type {\n",
       "        vertical-align: middle;\n",
       "    }\n",
       "\n",
       "    .dataframe tbody tr th {\n",
       "        vertical-align: top;\n",
       "    }\n",
       "\n",
       "    .dataframe thead th {\n",
       "        text-align: right;\n",
       "    }\n",
       "</style>\n",
       "<table border=\"1\" class=\"dataframe\">\n",
       "  <thead>\n",
       "    <tr style=\"text-align: right;\">\n",
       "      <th></th>\n",
       "      <th>Id</th>\n",
       "      <th>MSSubClass</th>\n",
       "      <th>MSZoning</th>\n",
       "      <th>LotFrontage</th>\n",
       "      <th>LotArea</th>\n",
       "      <th>Street</th>\n",
       "      <th>Alley</th>\n",
       "      <th>LotShape</th>\n",
       "      <th>LandContour</th>\n",
       "      <th>Utilities</th>\n",
       "      <th>...</th>\n",
       "      <th>ScreenPorch</th>\n",
       "      <th>PoolArea</th>\n",
       "      <th>PoolQC</th>\n",
       "      <th>Fence</th>\n",
       "      <th>MiscFeature</th>\n",
       "      <th>MiscVal</th>\n",
       "      <th>MoSold</th>\n",
       "      <th>YrSold</th>\n",
       "      <th>SaleType</th>\n",
       "      <th>SaleCondition</th>\n",
       "    </tr>\n",
       "  </thead>\n",
       "  <tbody>\n",
       "    <tr>\n",
       "      <th>0</th>\n",
       "      <td>1461</td>\n",
       "      <td>20</td>\n",
       "      <td>RH</td>\n",
       "      <td>80.0</td>\n",
       "      <td>11622</td>\n",
       "      <td>Pave</td>\n",
       "      <td>NaN</td>\n",
       "      <td>Reg</td>\n",
       "      <td>Lvl</td>\n",
       "      <td>AllPub</td>\n",
       "      <td>...</td>\n",
       "      <td>120</td>\n",
       "      <td>0</td>\n",
       "      <td>NaN</td>\n",
       "      <td>MnPrv</td>\n",
       "      <td>NaN</td>\n",
       "      <td>0</td>\n",
       "      <td>6</td>\n",
       "      <td>2010</td>\n",
       "      <td>WD</td>\n",
       "      <td>Normal</td>\n",
       "    </tr>\n",
       "    <tr>\n",
       "      <th>1</th>\n",
       "      <td>1462</td>\n",
       "      <td>20</td>\n",
       "      <td>RL</td>\n",
       "      <td>81.0</td>\n",
       "      <td>14267</td>\n",
       "      <td>Pave</td>\n",
       "      <td>NaN</td>\n",
       "      <td>IR1</td>\n",
       "      <td>Lvl</td>\n",
       "      <td>AllPub</td>\n",
       "      <td>...</td>\n",
       "      <td>0</td>\n",
       "      <td>0</td>\n",
       "      <td>NaN</td>\n",
       "      <td>NaN</td>\n",
       "      <td>Gar2</td>\n",
       "      <td>12500</td>\n",
       "      <td>6</td>\n",
       "      <td>2010</td>\n",
       "      <td>WD</td>\n",
       "      <td>Normal</td>\n",
       "    </tr>\n",
       "    <tr>\n",
       "      <th>2</th>\n",
       "      <td>1463</td>\n",
       "      <td>60</td>\n",
       "      <td>RL</td>\n",
       "      <td>74.0</td>\n",
       "      <td>13830</td>\n",
       "      <td>Pave</td>\n",
       "      <td>NaN</td>\n",
       "      <td>IR1</td>\n",
       "      <td>Lvl</td>\n",
       "      <td>AllPub</td>\n",
       "      <td>...</td>\n",
       "      <td>0</td>\n",
       "      <td>0</td>\n",
       "      <td>NaN</td>\n",
       "      <td>MnPrv</td>\n",
       "      <td>NaN</td>\n",
       "      <td>0</td>\n",
       "      <td>3</td>\n",
       "      <td>2010</td>\n",
       "      <td>WD</td>\n",
       "      <td>Normal</td>\n",
       "    </tr>\n",
       "    <tr>\n",
       "      <th>3</th>\n",
       "      <td>1464</td>\n",
       "      <td>60</td>\n",
       "      <td>RL</td>\n",
       "      <td>78.0</td>\n",
       "      <td>9978</td>\n",
       "      <td>Pave</td>\n",
       "      <td>NaN</td>\n",
       "      <td>IR1</td>\n",
       "      <td>Lvl</td>\n",
       "      <td>AllPub</td>\n",
       "      <td>...</td>\n",
       "      <td>0</td>\n",
       "      <td>0</td>\n",
       "      <td>NaN</td>\n",
       "      <td>NaN</td>\n",
       "      <td>NaN</td>\n",
       "      <td>0</td>\n",
       "      <td>6</td>\n",
       "      <td>2010</td>\n",
       "      <td>WD</td>\n",
       "      <td>Normal</td>\n",
       "    </tr>\n",
       "    <tr>\n",
       "      <th>4</th>\n",
       "      <td>1465</td>\n",
       "      <td>120</td>\n",
       "      <td>RL</td>\n",
       "      <td>43.0</td>\n",
       "      <td>5005</td>\n",
       "      <td>Pave</td>\n",
       "      <td>NaN</td>\n",
       "      <td>IR1</td>\n",
       "      <td>HLS</td>\n",
       "      <td>AllPub</td>\n",
       "      <td>...</td>\n",
       "      <td>144</td>\n",
       "      <td>0</td>\n",
       "      <td>NaN</td>\n",
       "      <td>NaN</td>\n",
       "      <td>NaN</td>\n",
       "      <td>0</td>\n",
       "      <td>1</td>\n",
       "      <td>2010</td>\n",
       "      <td>WD</td>\n",
       "      <td>Normal</td>\n",
       "    </tr>\n",
       "  </tbody>\n",
       "</table>\n",
       "<p>5 rows × 80 columns</p>\n",
       "</div>"
      ],
      "text/plain": [
       "     Id  MSSubClass MSZoning  LotFrontage  LotArea Street Alley LotShape  \\\n",
       "0  1461          20       RH         80.0    11622   Pave   NaN      Reg   \n",
       "1  1462          20       RL         81.0    14267   Pave   NaN      IR1   \n",
       "2  1463          60       RL         74.0    13830   Pave   NaN      IR1   \n",
       "3  1464          60       RL         78.0     9978   Pave   NaN      IR1   \n",
       "4  1465         120       RL         43.0     5005   Pave   NaN      IR1   \n",
       "\n",
       "  LandContour Utilities      ...       ScreenPorch PoolArea PoolQC  Fence  \\\n",
       "0         Lvl    AllPub      ...               120        0    NaN  MnPrv   \n",
       "1         Lvl    AllPub      ...                 0        0    NaN    NaN   \n",
       "2         Lvl    AllPub      ...                 0        0    NaN  MnPrv   \n",
       "3         Lvl    AllPub      ...                 0        0    NaN    NaN   \n",
       "4         HLS    AllPub      ...               144        0    NaN    NaN   \n",
       "\n",
       "  MiscFeature MiscVal MoSold  YrSold  SaleType  SaleCondition  \n",
       "0         NaN       0      6    2010        WD         Normal  \n",
       "1        Gar2   12500      6    2010        WD         Normal  \n",
       "2         NaN       0      3    2010        WD         Normal  \n",
       "3         NaN       0      6    2010        WD         Normal  \n",
       "4         NaN       0      1    2010        WD         Normal  \n",
       "\n",
       "[5 rows x 80 columns]"
      ]
     },
     "execution_count": 3,
     "metadata": {},
     "output_type": "execute_result"
    }
   ],
   "source": [
    "test.head()"
   ]
  },
  {
   "cell_type": "markdown",
   "metadata": {
    "slideshow": {
     "slide_type": "subslide"
    }
   },
   "source": [
    "## 什麼是標籤資料（labeled data）？\n",
    "\n",
    "- 機器學習中的 E(Experience) 要素\n",
    "- 可進一步再切割為訓練與驗證樣本"
   ]
  },
  {
   "cell_type": "markdown",
   "metadata": {
    "slideshow": {
     "slide_type": "subslide"
    }
   },
   "source": [
    "## 什麼是訓練（train）樣本？\n",
    "\n",
    "- 由標籤資料切割出來\n",
    "    - 通常分出 70% 作為訓練樣本\n",
    "- 訓練樣本用來建立 $h(x)$"
   ]
  },
  {
   "cell_type": "markdown",
   "metadata": {
    "slideshow": {
     "slide_type": "subslide"
    }
   },
   "source": [
    "## 什麼是驗證（validation）樣本？\n",
    "\n",
    "- 由標籤資料切割出來\n",
    "    - 通常分出 30% 作為驗證樣本\n",
    "- 驗證樣本投入 $h(x)$ 產出預測值 $\\hat{y}$\n",
    "- 比對驗證樣本的 $y$ 與 $\\hat{y}$ 來評估 $h(x)$ 的績效（performance）"
   ]
  },
  {
   "cell_type": "markdown",
   "metadata": {
    "slideshow": {
     "slide_type": "subslide"
    }
   },
   "source": [
    "## 什麼是測試（test）樣本？\n",
    "\n",
    "- 測試樣本是沒有標籤的資料\n",
    "- 將測試樣本投入 $h(x)$ 能夠建立預測值 $\\hat{y}$\n",
    "- 利用 $\\hat{y}$ 做出預測並應用在正式環境中\n",
    "- 僅能以實驗在事後量測績效"
   ]
  },
  {
   "cell_type": "markdown",
   "metadata": {
    "slideshow": {
     "slide_type": "subslide"
    }
   },
   "source": [
    "## 如何切割訓練與驗證樣本？\n",
    "\n",
    "- 隨機排序標籤資料的觀測值（Random shuffle）\n",
    "- 再利用索引值分割（Subset）"
   ]
  },
  {
   "cell_type": "markdown",
   "metadata": {
    "slideshow": {
     "slide_type": "subslide"
    }
   },
   "source": [
    "## 隨堂練習：自己來切割訓練、驗證樣本\n",
    "\n",
    "```python\n",
    "def my_train_test_split(train, test_size=0.3, random_state=123)\n",
    "    # ...\n",
    "```"
   ]
  },
  {
   "cell_type": "markdown",
   "metadata": {
    "slideshow": {
     "slide_type": "subslide"
    }
   },
   "source": [
    "## 往後請 sklearn 來切割"
   ]
  },
  {
   "cell_type": "code",
   "execution_count": 4,
   "metadata": {
    "slideshow": {
     "slide_type": "-"
    }
   },
   "outputs": [
    {
     "name": "stdout",
     "output_type": "stream",
     "text": [
      "(1460, 81)\n",
      "(1022, 81)\n",
      "(438, 81)\n"
     ]
    }
   ],
   "source": [
    "# 切割訓練與驗證樣本\n",
    "from sklearn.model_selection import train_test_split\n",
    "\n",
    "train_df, validation_df = train_test_split(labeled, test_size=0.3, random_state=123)\n",
    "print(labeled.shape)\n",
    "print(train_df.shape)\n",
    "print(validation_df.shape)"
   ]
  },
  {
   "cell_type": "markdown",
   "metadata": {
    "slideshow": {
     "slide_type": "subslide"
    }
   },
   "source": [
    "## 將訓練與驗證樣本描繪出來\n",
    "\n",
    "- 挑一個變數來預測 SalePrice\n",
    "- 利用 Correlation Matrix 來找一個變數"
   ]
  },
  {
   "cell_type": "code",
   "execution_count": 5,
   "metadata": {
    "slideshow": {
     "slide_type": "subslide"
    }
   },
   "outputs": [
    {
     "data": {
      "text/plain": [
       "SalePrice       1.000000\n",
       "OverallQual     0.790982\n",
       "GrLivArea       0.708624\n",
       "GarageCars      0.640409\n",
       "GarageArea      0.623431\n",
       "TotalBsmtSF     0.613581\n",
       "1stFlrSF        0.605852\n",
       "FullBath        0.560664\n",
       "TotRmsAbvGrd    0.533723\n",
       "YearBuilt       0.522897\n",
       "Name: SalePrice, dtype: float64"
      ]
     },
     "execution_count": 5,
     "metadata": {},
     "output_type": "execute_result"
    }
   ],
   "source": [
    "labeled.corr()[\"SalePrice\"].abs().sort_values(ascending=False)[:10]"
   ]
  },
  {
   "cell_type": "code",
   "execution_count": 6,
   "metadata": {
    "slideshow": {
     "slide_type": "subslide"
    }
   },
   "outputs": [
    {
     "data": {
      "text/plain": [
       "<matplotlib.legend.Legend at 0x1a1c8d07f0>"
      ]
     },
     "execution_count": 6,
     "metadata": {},
     "output_type": "execute_result"
    }
   ],
   "source": [
    "import matplotlib.pyplot as plt\n",
    "\n",
    "plt.scatter(train_df[\"GrLivArea\"], train_df[\"SalePrice\"], label='train', s=3)\n",
    "plt.scatter(validation_df[\"GrLivArea\"], validation_df[\"SalePrice\"], label='validation', s=3)\n",
    "plt.legend()"
   ]
  },
  {
   "cell_type": "code",
   "execution_count": 7,
   "metadata": {
    "slideshow": {
     "slide_type": "subslide"
    }
   },
   "outputs": [
    {
     "data": {
      "image/png": "[encoded data removed]",
      "text/plain": [
       "<matplotlib.figure.Figure at 0x1a0ffe7940>"
      ]
     },
     "metadata": {},
     "output_type": "display_data"
    }
   ],
   "source": [
    "plt.show()"
   ]
  },
  {
   "cell_type": "markdown",
   "metadata": {
    "slideshow": {
     "slide_type": "subslide"
    }
   },
   "source": [
    "## 任務\n",
    "\n",
    "- 找到一組 $\\theta$ 讓成本函數最小化"
   ]
  },
  {
   "cell_type": "code",
   "execution_count": 8,
   "metadata": {
    "slideshow": {
     "slide_type": "skip"
    }
   },
   "outputs": [
    {
     "data": {
      "text/plain": [
       "<matplotlib.legend.Legend at 0x1a1cdf1fd0>"
      ]
     },
     "execution_count": 8,
     "metadata": {},
     "output_type": "execute_result"
    }
   ],
   "source": [
    "import numpy as np\n",
    "from sklearn.linear_model import LinearRegression\n",
    "\n",
    "X_train = train_df[\"GrLivArea\"].values.reshape(-1, 1)\n",
    "y_train = train_df[\"SalePrice\"].values.reshape(-1, 1)\n",
    "reg = LinearRegression()\n",
    "reg.fit(X_train, y_train)\n",
    "xfit = np.linspace(X_train.min() - 10, X_train.max() + 10, 100).reshape(-1, 1)\n",
    "yfit = reg.predict(xfit)\n",
    "\n",
    "plt.scatter(train_df[\"GrLivArea\"], train_df[\"SalePrice\"], label='train', s=3, color=\"#4286f4\")\n",
    "plt.scatter(validation_df[\"GrLivArea\"], validation_df[\"SalePrice\"], label='validation', s=3, color=\"#f4a041\")\n",
    "plt.plot(xfit, yfit, color=\"#4286f4\", linewidth=2, label='thetas')\n",
    "plt.legend()"
   ]
  },
  {
   "cell_type": "code",
   "execution_count": 9,
   "metadata": {
    "slideshow": {
     "slide_type": "subslide"
    }
   },
   "outputs": [
    {
     "data": {
      "image/png": "[encoded data removed]",
      "text/plain": [
       "<matplotlib.figure.Figure at 0x10ad71c88>"
      ]
     },
     "metadata": {},
     "output_type": "display_data"
    }
   ],
   "source": [
    "plt.show()"
   ]
  },
  {
   "cell_type": "markdown",
   "metadata": {
    "slideshow": {
     "slide_type": "subslide"
    }
   },
   "source": [
    "## 完成任務的方法\n",
    "\n",
    "- Normal Equation\n",
    "- Gradient Descent"
   ]
  },
  {
   "cell_type": "markdown",
   "metadata": {
    "slideshow": {
     "slide_type": "slide"
    }
   },
   "source": [
    "## Normal Equation"
   ]
  },
  {
   "cell_type": "code",
   "execution_count": 10,
   "metadata": {
    "slideshow": {
     "slide_type": "subslide"
    }
   },
   "outputs": [
    {
     "data": {
      "text/html": [
       "<div>\n",
       "<style scoped>\n",
       "    .dataframe tbody tr th:only-of-type {\n",
       "        vertical-align: middle;\n",
       "    }\n",
       "\n",
       "    .dataframe tbody tr th {\n",
       "        vertical-align: top;\n",
       "    }\n",
       "\n",
       "    .dataframe thead th {\n",
       "        text-align: right;\n",
       "    }\n",
       "</style>\n",
       "<table border=\"1\" class=\"dataframe\">\n",
       "  <thead>\n",
       "    <tr style=\"text-align: right;\">\n",
       "      <th></th>\n",
       "      <th>GrLivArea</th>\n",
       "      <th>SalePrice</th>\n",
       "    </tr>\n",
       "  </thead>\n",
       "  <tbody>\n",
       "    <tr>\n",
       "      <th>376</th>\n",
       "      <td>914</td>\n",
       "      <td>148000</td>\n",
       "    </tr>\n",
       "    <tr>\n",
       "      <th>250</th>\n",
       "      <td>1306</td>\n",
       "      <td>76500</td>\n",
       "    </tr>\n",
       "    <tr>\n",
       "      <th>228</th>\n",
       "      <td>912</td>\n",
       "      <td>125000</td>\n",
       "    </tr>\n",
       "    <tr>\n",
       "      <th>40</th>\n",
       "      <td>1324</td>\n",
       "      <td>160000</td>\n",
       "    </tr>\n",
       "    <tr>\n",
       "      <th>428</th>\n",
       "      <td>1208</td>\n",
       "      <td>195400</td>\n",
       "    </tr>\n",
       "  </tbody>\n",
       "</table>\n",
       "</div>"
      ],
      "text/plain": [
       "     GrLivArea  SalePrice\n",
       "376        914     148000\n",
       "250       1306      76500\n",
       "228        912     125000\n",
       "40        1324     160000\n",
       "428       1208     195400"
      ]
     },
     "execution_count": 10,
     "metadata": {},
     "output_type": "execute_result"
    }
   ],
   "source": [
    "train_df[[\"GrLivArea\", \"SalePrice\"]].head()"
   ]
  },
  {
   "cell_type": "code",
   "execution_count": 11,
   "metadata": {
    "slideshow": {
     "slide_type": "subslide"
    }
   },
   "outputs": [
    {
     "data": {
      "text/html": [
       "<div>\n",
       "<style scoped>\n",
       "    .dataframe tbody tr th:only-of-type {\n",
       "        vertical-align: middle;\n",
       "    }\n",
       "\n",
       "    .dataframe tbody tr th {\n",
       "        vertical-align: top;\n",
       "    }\n",
       "\n",
       "    .dataframe thead th {\n",
       "        text-align: right;\n",
       "    }\n",
       "</style>\n",
       "<table border=\"1\" class=\"dataframe\">\n",
       "  <thead>\n",
       "    <tr style=\"text-align: right;\">\n",
       "      <th></th>\n",
       "      <th>GrLivArea</th>\n",
       "      <th>SalePrice</th>\n",
       "    </tr>\n",
       "  </thead>\n",
       "  <tbody>\n",
       "    <tr>\n",
       "      <th>1041</th>\n",
       "      <td>1632</td>\n",
       "      <td>173000</td>\n",
       "    </tr>\n",
       "    <tr>\n",
       "      <th>1122</th>\n",
       "      <td>960</td>\n",
       "      <td>112000</td>\n",
       "    </tr>\n",
       "    <tr>\n",
       "      <th>1346</th>\n",
       "      <td>2156</td>\n",
       "      <td>262500</td>\n",
       "    </tr>\n",
       "    <tr>\n",
       "      <th>1406</th>\n",
       "      <td>768</td>\n",
       "      <td>133000</td>\n",
       "    </tr>\n",
       "    <tr>\n",
       "      <th>1389</th>\n",
       "      <td>1218</td>\n",
       "      <td>131000</td>\n",
       "    </tr>\n",
       "  </tbody>\n",
       "</table>\n",
       "</div>"
      ],
      "text/plain": [
       "      GrLivArea  SalePrice\n",
       "1041       1632     173000\n",
       "1122        960     112000\n",
       "1346       2156     262500\n",
       "1406        768     133000\n",
       "1389       1218     131000"
      ]
     },
     "execution_count": 11,
     "metadata": {},
     "output_type": "execute_result"
    }
   ],
   "source": [
    "train_df[[\"GrLivArea\", \"SalePrice\"]].tail()"
   ]
  },
  {
   "cell_type": "markdown",
   "metadata": {
    "slideshow": {
     "slide_type": "subslide"
    }
   },
   "source": [
    "## 線性聯立方程組\n",
    "\n",
    "\\begin{eqnarray}\n",
    "\\theta_0 + 914 \\theta_1 &=& 148000 \\nonumber \\\\\n",
    "... \\\\\n",
    "\\theta_0 + 1218 \\theta_1 &=& 131000 \\nonumber \\\\\n",
    "\\end{eqnarray}"
   ]
  },
  {
   "cell_type": "markdown",
   "metadata": {
    "slideshow": {
     "slide_type": "subslide"
    }
   },
   "source": [
    "## 以向量與矩陣表示\n",
    "\n",
    "\\begin{equation}\n",
    "X = \\begin{bmatrix}\n",
    "1 & 914\\\\\n",
    "... & ...\\\\\n",
    "1 & 1218\n",
    "\\end{bmatrix}, \\quad\n",
    "\\theta = \\begin{bmatrix}\n",
    "\\theta_0 \\\\\n",
    "\\theta_1 \n",
    "\\end{bmatrix}, \\quad \\mathrm{and} \n",
    "\\quad y = \\begin{bmatrix}\n",
    "148000 \\\\\n",
    "... \\\\\n",
    "131000 \n",
    "\\end{bmatrix}\n",
    "\\end{equation}"
   ]
  },
  {
   "cell_type": "markdown",
   "metadata": {
    "slideshow": {
     "slide_type": "subslide"
    }
   },
   "source": [
    "## 如果 $X^TX$ 可逆\n",
    "\n",
    "\\begin{eqnarray}\n",
    "X\\theta = y \\\\\n",
    "\\theta = (X^T X)^{-1} X^T y\n",
    "\\end{eqnarray}"
   ]
  },
  {
   "cell_type": "markdown",
   "metadata": {
    "slideshow": {
     "slide_type": "subslide"
    }
   },
   "source": [
    "## 獲得 $\\theta$ 的推導過程源自於成本函數的最小化\n",
    "\n",
    "\\begin{eqnarray}\n",
    "\\text{minimize:} \\frac{1}{2m}\\sum_{i=1}^{m}(\\hat{y_i}-y_i)^2 \\\\\n",
    "\\text{minimize:} J(\\theta) = \\frac{1}{2m}(X\\theta - y)^T(X\\theta - y) \\\\\n",
    "\\text{minimize:} J(\\theta) = \\frac{1}{2m}[(X\\theta)^T - y^T)(X\\theta - y)] \\\\\n",
    "\\text{minimize:} J(\\theta) = \\frac{1}{2m}[(X\\theta)^TX\\theta - (X\\theta)^Ty - y^T(X\\theta) + y^Ty] \\\\\n",
    "\\text{minimize:} J(\\theta) = \\frac{1}{2m}[\\theta^TX^TX\\theta - 2(X\\theta)^Ty + y^Ty] \\\\\n",
    "\\frac{\\partial J}{\\partial \\theta} = \\frac{1}{2m}[2X^TX\\theta - 2X^Ty] = 0 \\\\\n",
    "X^TX\\theta = X^Ty \\\\\n",
    "\\theta = (X^T X)^{-1} X^T y\n",
    "\\end{eqnarray}"
   ]
  },
  {
   "cell_type": "code",
   "execution_count": 12,
   "metadata": {
    "slideshow": {
     "slide_type": "subslide"
    }
   },
   "outputs": [
    {
     "data": {
      "text/plain": [
       "array([[ 914],\n",
       "       [1306],\n",
       "       [ 912],\n",
       "       ..., \n",
       "       [2156],\n",
       "       [ 768],\n",
       "       [1218]])"
      ]
     },
     "execution_count": 12,
     "metadata": {},
     "output_type": "execute_result"
    }
   ],
   "source": [
    "X_train = train_df[\"GrLivArea\"].values.reshape(-1, 1)\n",
    "X_train"
   ]
  },
  {
   "cell_type": "code",
   "execution_count": 13,
   "metadata": {
    "slideshow": {
     "slide_type": "subslide"
    }
   },
   "outputs": [
    {
     "data": {
      "text/plain": [
       "array([[148000],\n",
       "       [ 76500],\n",
       "       [125000],\n",
       "       ..., \n",
       "       [262500],\n",
       "       [133000],\n",
       "       [131000]])"
      ]
     },
     "execution_count": 13,
     "metadata": {},
     "output_type": "execute_result"
    }
   ],
   "source": [
    "y_train = train_df[\"SalePrice\"].values.reshape(-1, 1)\n",
    "y_train"
   ]
  },
  {
   "cell_type": "code",
   "execution_count": 14,
   "metadata": {
    "slideshow": {
     "slide_type": "subslide"
    }
   },
   "outputs": [
    {
     "data": {
      "text/plain": [
       "array([[   1,  914],\n",
       "       [   1, 1306],\n",
       "       [   1,  912],\n",
       "       ..., \n",
       "       [   1, 2156],\n",
       "       [   1,  768],\n",
       "       [   1, 1218]])"
      ]
     },
     "execution_count": 14,
     "metadata": {},
     "output_type": "execute_result"
    }
   ],
   "source": [
    "m = X_train.shape[0]\n",
    "ones_col = np.ones((m, 1), dtype=int)\n",
    "X_train = np.concatenate((ones_col, X_train), axis=1)\n",
    "X_train"
   ]
  },
  {
   "cell_type": "code",
   "execution_count": 15,
   "metadata": {
    "collapsed": true,
    "slideshow": {
     "slide_type": "subslide"
    }
   },
   "outputs": [],
   "source": [
    "LHS = np.dot(np.transpose(X_train), X_train)\n",
    "RHS = np.dot(np.transpose(X_train), y_train)"
   ]
  },
  {
   "cell_type": "code",
   "execution_count": 16,
   "metadata": {
    "slideshow": {
     "slide_type": "subslide"
    }
   },
   "outputs": [
    {
     "name": "stdout",
     "output_type": "stream",
     "text": [
      "讓成本函數最小的 Theta\n",
      "Theta_0:21905.1315, Theta_1:104.0985\n"
     ]
    }
   ],
   "source": [
    "thetas = np.dot(np.linalg.inv(LHS), RHS)\n",
    "theta_0 = thetas[0, 0]\n",
    "theta_1 = thetas[1, 0]\n",
    "print(\"讓成本函數最小的 Theta\")\n",
    "print(\"Theta_0:{:.4f}, Theta_1:{:.4f}\".format(theta_0, theta_1))"
   ]
  },
  {
   "cell_type": "markdown",
   "metadata": {
    "slideshow": {
     "slide_type": "subslide"
    }
   },
   "source": [
    "## 隨堂練習：求得 $\\theta$ 後將 $y = \\theta_0 + \\theta_1x$ 畫出"
   ]
  },
  {
   "cell_type": "code",
   "execution_count": 17,
   "metadata": {
    "slideshow": {
     "slide_type": "skip"
    }
   },
   "outputs": [
    {
     "data": {
      "text/plain": [
       "<matplotlib.legend.Legend at 0x1a1ce45a20>"
      ]
     },
     "execution_count": 17,
     "metadata": {},
     "output_type": "execute_result"
    }
   ],
   "source": [
    "import numpy as np\n",
    "from sklearn.linear_model import LinearRegression\n",
    "\n",
    "X_train = train_df[\"GrLivArea\"].values.reshape(-1, 1)\n",
    "y_train = train_df[\"SalePrice\"].values.reshape(-1, 1)\n",
    "reg = LinearRegression()\n",
    "reg.fit(X_train, y_train)\n",
    "xfit = np.linspace(X_train.min() - 10, X_train.max() + 10, 100).reshape(-1, 1)\n",
    "yfit = reg.predict(xfit)\n",
    "\n",
    "plt.scatter(train_df[\"GrLivArea\"], train_df[\"SalePrice\"], label='train', s=3, color=\"#4286f4\")\n",
    "plt.scatter(validation_df[\"GrLivArea\"], validation_df[\"SalePrice\"], label='validation', s=3, color=\"#f4a041\")\n",
    "plt.plot(xfit, yfit, color=\"#4286f4\", linewidth=2, label='thetas')\n",
    "plt.legend()"
   ]
  },
  {
   "cell_type": "code",
   "execution_count": 18,
   "metadata": {
    "slideshow": {
     "slide_type": "subslide"
    }
   },
   "outputs": [
    {
     "data": {
      "image/png": "[encoded data removed]",
      "text/plain": [
       "<matplotlib.figure.Figure at 0x10cde8940>"
      ]
     },
     "metadata": {},
     "output_type": "display_data"
    }
   ],
   "source": [
    "plt.show()"
   ]
  },
  {
   "cell_type": "markdown",
   "metadata": {
    "slideshow": {
     "slide_type": "slide"
    }
   },
   "source": [
    "## Gradient Descent"
   ]
  },
  {
   "cell_type": "markdown",
   "metadata": {
    "slideshow": {
     "slide_type": "subslide"
    }
   },
   "source": [
    "## $h(x)$：\n",
    "\n",
    "$$h(x) = \\theta_0 + \\theta_1x_1$$"
   ]
  },
  {
   "cell_type": "markdown",
   "metadata": {
    "slideshow": {
     "slide_type": "subslide"
    }
   },
   "source": [
    "## 先簡化成只有 $\\theta_1$：\n",
    "\n",
    "$$h(x) = \\theta_1x_1$$"
   ]
  },
  {
   "cell_type": "markdown",
   "metadata": {
    "slideshow": {
     "slide_type": "subslide"
    }
   },
   "source": [
    "## 在 $100 < \\theta_1 < 110$ 之間打點來計算成本函數 $J(\\theta_1)$"
   ]
  },
  {
   "cell_type": "code",
   "execution_count": 19,
   "metadata": {
    "slideshow": {
     "slide_type": "skip"
    }
   },
   "outputs": [
    {
     "data": {
      "text/plain": [
       "<matplotlib.text.Text at 0x1a1d052358>"
      ]
     },
     "execution_count": 19,
     "metadata": {},
     "output_type": "execute_result"
    }
   ],
   "source": [
    "import numpy as np\n",
    "import matplotlib.pyplot as plt\n",
    "\n",
    "def cost_function(theta_1, x, y):\n",
    "    return np.sum((theta_1 * x - y)**2)/(2*len(x))\n",
    "\n",
    "theta_1_arr = np.linspace(100, 108, 50)\n",
    "x_arr = np.linspace(X_train.min(), X_train.max(), 50)\n",
    "y_arr = 104*x_arr\n",
    "cost_arr = []\n",
    "for i in theta_1_arr:\n",
    "    cost_arr.append(cost_function(i, x_arr, y_arr))\n",
    "plt.scatter(theta_1_arr, cost_arr, marker = 'x')\n",
    "plt.xlabel(\"$\\\\theta_1$\")\n",
    "plt.ylabel(\"$J(\\\\theta_1)$\")\n",
    "plt.title(\"Cost Function Visualized\")"
   ]
  },
  {
   "cell_type": "code",
   "execution_count": 20,
   "metadata": {
    "slideshow": {
     "slide_type": "subslide"
    }
   },
   "outputs": [
    {
     "data": {
      "image/png": "[encoded data removed]",
      "text/plain": [
       "<matplotlib.figure.Figure at 0x1a10dbe898>"
      ]
     },
     "metadata": {},
     "output_type": "display_data"
    }
   ],
   "source": [
    "plt.show()"
   ]
  },
  {
   "cell_type": "markdown",
   "metadata": {
    "slideshow": {
     "slide_type": "subslide"
    }
   },
   "source": [
    "## 假如我們的運氣不好，在一個沒有包含 $\\theta_1$ 的區間尋找怎麼辦？"
   ]
  },
  {
   "cell_type": "markdown",
   "metadata": {
    "slideshow": {
     "slide_type": "subslide"
    }
   },
   "source": [
    "## 透過很聰明的方式：Gradient Descent\n",
    "\n",
    "> 每組 $\\theta$ 所得的成本函數偏微分取得斜率，利用這個斜率逐步取得局部最佳解。\n",
    "\n",
    "$$\n",
    "\\text{minimize:} J(\\theta) = \\frac{1}{2m}[\\theta^TX^TX\\theta - 2(X\\theta)^Ty + y^Ty] \\\\\n",
    "\\frac{\\partial J}{\\partial \\theta} = \\frac{1}{2m}[2X^TX\\theta - 2X^Ty] = 0 \\\\\n",
    "\\theta := \\theta - \\alpha \\frac{\\mathrm \\partial}{\\mathrm \\partial \\theta} J(\\theta) \\\\\n",
    "\\theta := \\theta - \\alpha \\frac{1}{m}(X^TX\\theta - X^Ty) \\\\\n",
    "\\theta := \\theta - \\alpha \\frac{1}{m}[X^T(X\\theta - y)]\n",
    "$$"
   ]
  },
  {
   "cell_type": "code",
   "execution_count": 21,
   "metadata": {
    "slideshow": {
     "slide_type": "skip"
    }
   },
   "outputs": [
    {
     "data": {
      "text/plain": [
       "<matplotlib.text.Text at 0x1a1e093710>"
      ]
     },
     "execution_count": 21,
     "metadata": {},
     "output_type": "execute_result"
    }
   ],
   "source": [
    "import numpy as np\n",
    "import matplotlib.pyplot as plt\n",
    "\n",
    "def cost_function(theta_1, x, y):\n",
    "    return np.sum((theta_1 * x - y)**2)/(2*len(x))\n",
    "\n",
    "x = np.arange(1, 4)\n",
    "y = x\n",
    "theta_1_arr = np.linspace(0, 2, 50)\n",
    "cost_arr = []\n",
    "for i in theta_1_arr:\n",
    "    cost_arr.append(cost_function(i, x, y))\n",
    "plt.scatter(theta_1_arr, cost_arr, marker = 'x')\n",
    "plt.plot(1.75, cost_function(1.75, x, y), marker = 'D', markersize = 12, color = 'y')\n",
    "plt.plot(0.5, cost_function(0.5, x, y), marker = 'o', markersize = 12, color = 'g')\n",
    "plt.plot(1, cost_function(1, x, y), marker = '^', markersize = 12, color = 'r')\n",
    "plt.xlabel(\"$\\\\theta_1$\")\n",
    "plt.ylabel(\"$J(\\\\theta_1)$\")\n",
    "plt.xticks([]), plt.yticks([])\n",
    "plt.title(\"Gradient Descent with $\\\\theta_1$\")"
   ]
  },
  {
   "cell_type": "code",
   "execution_count": 22,
   "metadata": {
    "slideshow": {
     "slide_type": "subslide"
    }
   },
   "outputs": [
    {
     "data": {
      "image/png": "[encoded data removed]",
      "text/plain": [
       "<matplotlib.figure.Figure at 0x1a1cf8b470>"
      ]
     },
     "metadata": {},
     "output_type": "display_data"
    }
   ],
   "source": [
    "plt.show()"
   ]
  },
  {
   "cell_type": "markdown",
   "metadata": {
    "slideshow": {
     "slide_type": "subslide"
    }
   },
   "source": [
    "## 如何做修正\n",
    "\n",
    "- $\\theta_1$ 位於綠圓點，$\\frac{\\mathrm \\partial}{\\mathrm \\partial \\theta_1} J(\\theta_1)$ 為負值，所以 $\\theta_1$ 會向右邊修正\n",
    "- $\\theta_1$ 位於黃方塊，$\\frac{\\mathrm \\partial}{\\mathrm \\partial \\theta_1} J(\\theta_1)$ 為正值，所以 $\\theta_1$ 會向左邊修正\n",
    "- $\\theta_1$ 位於紅三角，$\\frac{\\mathrm \\partial}{\\mathrm \\partial \\theta_1} J(\\theta_1)$ 為零，$\\theta_1$ 收斂"
   ]
  },
  {
   "cell_type": "markdown",
   "metadata": {
    "slideshow": {
     "slide_type": "subslide"
    }
   },
   "source": [
    "## $\\theta_1$ 修正的速度與 $\\alpha$ 相關，$\\alpha$ 稱為學習速率"
   ]
  },
  {
   "cell_type": "code",
   "execution_count": 23,
   "metadata": {
    "slideshow": {
     "slide_type": "skip"
    }
   },
   "outputs": [
    {
     "data": {
      "text/plain": [
       "<matplotlib.text.Text at 0x1a1e22aa90>"
      ]
     },
     "execution_count": 23,
     "metadata": {},
     "output_type": "execute_result"
    }
   ],
   "source": [
    "import numpy as np\n",
    "import matplotlib.pyplot as plt\n",
    "\n",
    "def cost_function(theta_1, x, y):\n",
    "    return np.sum((theta_1 * x - y)**2)/(2*len(x))\n",
    "\n",
    "x = np.arange(1, 4)\n",
    "y = x\n",
    "theta_1_arr = np.linspace(0, 2, 100)\n",
    "cost_arr = []\n",
    "for i in theta_1_arr:\n",
    "    cost_arr.append(cost_function(i, x, y))\n",
    "plt.plot(theta_1_arr, cost_arr, lw = 1)\n",
    "theta_1_arr = np.linspace(0.1, 1, 15)\n",
    "cost_arr = []\n",
    "for i in theta_1_arr:\n",
    "    cost_arr.append(cost_function(i, x, y))\n",
    "plt.plot(theta_1_arr, cost_arr, marker = '>', markersize = 10, color = 'r', lw = 0)\n",
    "plt.xlabel(\"$\\\\theta_1$\")\n",
    "plt.ylabel(\"$J(\\\\theta_1)$\")\n",
    "plt.xticks([]), plt.yticks([])\n",
    "plt.title(\"Optimal Gradient Descent\")"
   ]
  },
  {
   "cell_type": "code",
   "execution_count": 24,
   "metadata": {
    "slideshow": {
     "slide_type": "subslide"
    }
   },
   "outputs": [
    {
     "data": {
      "image/png": "[encoded data removed]",
      "text/plain": [
       "<matplotlib.figure.Figure at 0x1a1e19be48>"
      ]
     },
     "metadata": {},
     "output_type": "display_data"
    }
   ],
   "source": [
    "plt.show()"
   ]
  },
  {
   "cell_type": "code",
   "execution_count": 25,
   "metadata": {
    "slideshow": {
     "slide_type": "skip"
    }
   },
   "outputs": [
    {
     "data": {
      "text/plain": [
       "<matplotlib.text.Text at 0x1a1e384860>"
      ]
     },
     "execution_count": 25,
     "metadata": {},
     "output_type": "execute_result"
    }
   ],
   "source": [
    "import numpy as np\n",
    "import matplotlib.pyplot as plt\n",
    "\n",
    "def cost_function(theta_1, x, y):\n",
    "    return np.sum((theta_1 * x - y)**2)/(2*len(x))\n",
    "\n",
    "x = np.arange(1, 4)\n",
    "y = x\n",
    "theta_1_arr = np.linspace(0, 2, 100)\n",
    "cost_arr = []\n",
    "for i in theta_1_arr:\n",
    "    cost_arr.append(cost_function(i, x, y))\n",
    "plt.plot(theta_1_arr, cost_arr, lw = 1)\n",
    "theta_1_arr = np.linspace(0.05, 1, 50)\n",
    "cost_arr = []\n",
    "for i in theta_1_arr:\n",
    "    cost_arr.append(cost_function(i, x, y))\n",
    "plt.plot(theta_1_arr, cost_arr, marker = '>', markersize = 6, color = 'r')\n",
    "plt.xticks([]), plt.yticks([])\n",
    "plt.xlabel(\"Number of iterations\")\n",
    "plt.ylabel(\"$J(\\\\theta_1)$\")\n",
    "plt.title(\"$\\\\alpha$ is too small\")"
   ]
  },
  {
   "cell_type": "code",
   "execution_count": 26,
   "metadata": {
    "slideshow": {
     "slide_type": "subslide"
    }
   },
   "outputs": [
    {
     "data": {
      "image/png": "[encoded data removed]",
      "text/plain": [
       "<matplotlib.figure.Figure at 0x1a1e27a320>"
      ]
     },
     "metadata": {},
     "output_type": "display_data"
    }
   ],
   "source": [
    "plt.show()"
   ]
  },
  {
   "cell_type": "code",
   "execution_count": 27,
   "metadata": {
    "slideshow": {
     "slide_type": "skip"
    }
   },
   "outputs": [
    {
     "data": {
      "text/plain": [
       "<matplotlib.text.Text at 0x1a1e3e6c88>"
      ]
     },
     "execution_count": 27,
     "metadata": {},
     "output_type": "execute_result"
    }
   ],
   "source": [
    "import numpy as np\n",
    "import matplotlib.pyplot as plt\n",
    "\n",
    "def cost_function(theta_1, x, y):\n",
    "    return np.sum((theta_1 * x - y)**2)/(2*len(x))\n",
    "\n",
    "x = np.arange(1, 4)\n",
    "y = x\n",
    "theta_1_arr = np.linspace(0, 2, 100)\n",
    "cost_arr = []\n",
    "for i in theta_1_arr:\n",
    "    cost_arr.append(cost_function(i, x, y))\n",
    "plt.plot(theta_1_arr, cost_arr, lw = 1)\n",
    "theta_1_arr = np.array((0.75, 1.5, 0.25, 1.8, 0.1))\n",
    "cost_arr = []\n",
    "for i in theta_1_arr:\n",
    "    cost_arr.append(cost_function(i, x, y))\n",
    "plt.plot(theta_1_arr, cost_arr, marker = '>', markersize = 10, color = 'r')\n",
    "plt.xlabel(\"$\\\\theta_1$\")\n",
    "plt.ylabel(\"$J(\\\\theta_1)$\")\n",
    "plt.xticks([]), plt.yticks([])\n",
    "plt.title(\"$\\\\alpha$ is too large\")"
   ]
  },
  {
   "cell_type": "code",
   "execution_count": 28,
   "metadata": {
    "slideshow": {
     "slide_type": "subslide"
    }
   },
   "outputs": [
    {
     "data": {
      "image/png": "[encoded data removed]",
      "text/plain": [
       "<matplotlib.figure.Figure at 0x1a1e268b00>"
      ]
     },
     "metadata": {},
     "output_type": "display_data"
    }
   ],
   "source": [
    "plt.show()"
   ]
  },
  {
   "cell_type": "markdown",
   "metadata": {
    "slideshow": {
     "slide_type": "subslide"
    }
   },
   "source": [
    "## 怎麼挑選學習速率\n",
    "\n",
    "- 如果學習速率夠小，成本函數每一次都會下降\n",
    "- 學習速率太小，收斂的速度太慢\n",
    "- 學習速率太大，可能會無法收斂"
   ]
  },
  {
   "cell_type": "code",
   "execution_count": 29,
   "metadata": {
    "collapsed": true,
    "slideshow": {
     "slide_type": "subslide"
    }
   },
   "outputs": [],
   "source": [
    "import numpy as np\n",
    "\n",
    "def compute_cost(X, y, thetas = np.array([0, 0]).reshape(2, 1)):\n",
    "    m = y.shape[0]\n",
    "    h = X.dot(thetas)\n",
    "    J = 1/(2*m)*np.sum(np.square(h-y))\n",
    "    \n",
    "    return(J)"
   ]
  },
  {
   "cell_type": "code",
   "execution_count": 30,
   "metadata": {
    "collapsed": true,
    "slideshow": {
     "slide_type": "subslide"
    }
   },
   "outputs": [],
   "source": [
    "def gradient_descent(X, y, alpha=0.01, num_iters=1500):\n",
    "    thetas = np.array([0, 0]).reshape(2, 1)\n",
    "    m = y.shape[0]\n",
    "    J_history = np.zeros(num_iters)\n",
    "    \n",
    "    for num_iter in range(num_iters):\n",
    "        h = X.dot(thetas)\n",
    "        loss = h - y\n",
    "        gradient = X.T.dot(loss) / m\n",
    "        thetas = thetas - alpha * gradient\n",
    "        J_history[num_iter] = compute_cost(X, y, thetas=thetas)\n",
    "    return thetas, J_history"
   ]
  },
  {
   "cell_type": "code",
   "execution_count": 31,
   "metadata": {
    "slideshow": {
     "slide_type": "subslide"
    }
   },
   "outputs": [
    {
     "name": "stdout",
     "output_type": "stream",
     "text": [
      "讓成本函數最小的 Thetas\n",
      "Theta_0:0.0806, Theta_1:116.9090\n"
     ]
    },
    {
     "data": {
      "text/plain": [
       "<matplotlib.text.Text at 0x1a10db6240>"
      ]
     },
     "execution_count": 31,
     "metadata": {},
     "output_type": "execute_result"
    }
   ],
   "source": [
    "import numpy as np\n",
    "\n",
    "X_train = train_df[\"GrLivArea\"].values.reshape(-1, 1)\n",
    "m = X_train.shape[0]\n",
    "ones_col = np.ones((m, 1))\n",
    "X_train = np.concatenate((ones_col, X_train), axis=1)\n",
    "y_train = train_df[\"SalePrice\"].values.reshape(-1, 1)\n",
    "\n",
    "thetas, cost_J = gradient_descent(X_train, y_train, alpha=0.000000001, num_iters=5000)\n",
    "theta_0 = thetas[0, 0]\n",
    "theta_1 = thetas[1, 0]\n",
    "print(\"讓成本函數最小的 Thetas\")\n",
    "print(\"Theta_0:{:.4f}, Theta_1:{:.4f}\".format(theta_0, theta_1))\n",
    "plt.plot(cost_J)\n",
    "plt.ylabel(r\"$J(\\theta)$\")\n",
    "plt.xlabel('Iterations')"
   ]
  },
  {
   "cell_type": "code",
   "execution_count": 32,
   "metadata": {
    "slideshow": {
     "slide_type": "subslide"
    }
   },
   "outputs": [
    {
     "data": {
      "image/png": "[encoded data removed]",
      "text/plain": [
       "<matplotlib.figure.Figure at 0x1a1e3c92b0>"
      ]
     },
     "metadata": {},
     "output_type": "display_data"
    }
   ],
   "source": [
    "plt.show()"
   ]
  },
  {
   "cell_type": "markdown",
   "metadata": {
    "slideshow": {
     "slide_type": "subslide"
    }
   },
   "source": [
    "## 如何將梯度遞減利用視覺化呈現觀察\n",
    "\n",
    "- 利用 `mpl_toolkits.mplot3d` 模組的 `Axes3D`"
   ]
  },
  {
   "cell_type": "code",
   "execution_count": 33,
   "metadata": {
    "collapsed": true,
    "slideshow": {
     "slide_type": "subslide"
    }
   },
   "outputs": [],
   "source": [
    "from mpl_toolkits.mplot3d import Axes3D\n",
    "\n",
    "def surface_plot(theta0_range, theta1_range, X, y):\n",
    "    theta0_start, theta0_end = theta0_range\n",
    "    theta1_start, theta1_end = theta1_range\n",
    "    length = 50\n",
    "    theta0_arr = np.linspace(theta0_start, theta0_end, length).reshape(-1, 1)\n",
    "    theta1_arr = np.linspace(theta1_start, theta1_end, length).reshape(-1, 1)\n",
    "    thetas_arr = np.concatenate([theta0_arr, theta1_arr], axis=1)\n",
    "    Z = np.zeros((length, length))\n",
    "    for i in range(length):\n",
    "        for j in range(length):\n",
    "            theta_0 = theta0_arr[i]\n",
    "            theta_1 = theta1_arr[j]\n",
    "            thetas_arr = np.array([theta_0, theta_1]).reshape(-1, 1)\n",
    "            Z[i, j] = compute_cost(X, y, thetas=thetas_arr)\n",
    "    xx, yy = np.meshgrid(theta0_arr, theta1_arr)\n",
    "    fig = plt.figure()\n",
    "    ax = fig.add_subplot(111, projection='3d')\n",
    "    ax.plot_surface(xx, yy, Z, alpha=0.6, cmap=plt.cm.jet)\n",
    "    ax.set_zlabel('Cost')\n",
    "    ax.set_zlim(Z.min(),Z.max())\n",
    "    ax.view_init(elev=15, azim=230)\n",
    "    ax.set_xticks(np.linspace(theta0_start, theta0_end, 5))\n",
    "    ax.set_yticks(np.linspace(theta1_start, theta1_end, 5))\n",
    "    ax.set_xlabel(r'$\\theta_0$')\n",
    "    ax.set_ylabel(r'$\\theta_1$')\n",
    "    ax.set_title(\"Cost function during gradient descent\")\n",
    "    plt.show()"
   ]
  },
  {
   "cell_type": "code",
   "execution_count": 34,
   "metadata": {
    "slideshow": {
     "slide_type": "subslide"
    }
   },
   "outputs": [
    {
     "data": {
      "image/png": "[encoded data removed]",
      "text/plain": [
       "<matplotlib.figure.Figure at 0x1a1c928160>"
      ]
     },
     "metadata": {},
     "output_type": "display_data"
    }
   ],
   "source": [
    "surface_plot((1000, 30000), (110, 120), X_train, y_train)"
   ]
  },
  {
   "cell_type": "markdown",
   "metadata": {
    "slideshow": {
     "slide_type": "subslide"
    }
   },
   "source": [
    "## $\\theta_0$ 與 $\\theta_1$ 的坡度差距太大"
   ]
  },
  {
   "cell_type": "markdown",
   "metadata": {
    "slideshow": {
     "slide_type": "subslide"
    }
   },
   "source": [
    "## 利用標準化（Normalization）來應對\n",
    "\n",
    "- MinMax scaler:\n",
    "\n",
    "$$X_{scaled} = \\frac{X-X_{min}}{X_{max} - X_{min}}$$\n",
    "\n",
    "- Standard scaler:\n",
    "\n",
    "$$X_{scaled} = \\frac{X-\\mu_X}{\\sigma_X}$$"
   ]
  },
  {
   "cell_type": "code",
   "execution_count": 35,
   "metadata": {
    "slideshow": {
     "slide_type": "subslide"
    }
   },
   "outputs": [
    {
     "name": "stdout",
     "output_type": "stream",
     "text": [
      "[[-1.12253923]\n",
      " [-0.3949409 ]\n",
      " [-1.12625147]\n",
      " ..., \n",
      " [ 1.18275955]\n",
      " [-1.39353249]\n",
      " [-0.5582793 ]]\n"
     ]
    }
   ],
   "source": [
    "# 自己做 Standard scaler 標準化\n",
    "X_train_gd = train_df[\"GrLivArea\"].values.reshape(-1, 1)\n",
    "mu_X = X_train_gd.mean()\n",
    "sigma_X = X_train_gd.std()\n",
    "X_train_scaled = (X_train_gd - mu_X)/sigma_X\n",
    "print(X_train_scaled)"
   ]
  },
  {
   "cell_type": "code",
   "execution_count": 36,
   "metadata": {
    "slideshow": {
     "slide_type": "subslide"
    }
   },
   "outputs": [
    {
     "name": "stdout",
     "output_type": "stream",
     "text": [
      "[[-1.12253923]\n",
      " [-0.3949409 ]\n",
      " [-1.12625147]\n",
      " ..., \n",
      " [ 1.18275955]\n",
      " [-1.39353249]\n",
      " [-0.5582793 ]]\n"
     ]
    }
   ],
   "source": [
    "# 請 sklearn 做 Standard scaler 標準化\n",
    "from sklearn.preprocessing import StandardScaler\n",
    "\n",
    "ss = StandardScaler()\n",
    "X_train_scaled = ss.fit_transform(X_train_gd.astype(float))\n",
    "y_train_scaled = ss.fit_transform(y_train.astype(float))\n",
    "print(X_train_scaled)"
   ]
  },
  {
   "cell_type": "code",
   "execution_count": 37,
   "metadata": {
    "slideshow": {
     "slide_type": "subslide"
    }
   },
   "outputs": [
    {
     "data": {
      "text/plain": [
       "array([[ 1.        , -1.12253923],\n",
       "       [ 1.        , -0.3949409 ],\n",
       "       [ 1.        , -1.12625147],\n",
       "       ..., \n",
       "       [ 1.        ,  1.18275955],\n",
       "       [ 1.        , -1.39353249],\n",
       "       [ 1.        , -0.5582793 ]])"
      ]
     },
     "execution_count": 37,
     "metadata": {},
     "output_type": "execute_result"
    }
   ],
   "source": [
    "ones = np.ones(X_train_scaled.shape[0]).reshape(-1, 1)\n",
    "X_train_scaled = np.concatenate([ones, X_train_scaled], axis=1)\n",
    "X_train_scaled"
   ]
  },
  {
   "cell_type": "code",
   "execution_count": 38,
   "metadata": {
    "slideshow": {
     "slide_type": "subslide"
    }
   },
   "outputs": [
    {
     "name": "stdout",
     "output_type": "stream",
     "text": [
      "讓成本函數最小的 Thetas\n",
      "[[ -2.76947415e-17]\n",
      " [  6.93103700e-01]]\n"
     ]
    },
    {
     "data": {
      "text/plain": [
       "<matplotlib.text.Text at 0x1a1eb9f0b8>"
      ]
     },
     "execution_count": 38,
     "metadata": {},
     "output_type": "execute_result"
    }
   ],
   "source": [
    "thetas, cost_J = gradient_descent(X_train_scaled, y_train_scaled)\n",
    "print(\"讓成本函數最小的 Thetas\")\n",
    "print(thetas)\n",
    "plt.plot(cost_J)\n",
    "plt.ylabel(r\"$J(\\theta)$\")\n",
    "plt.xlabel('Iterations')"
   ]
  },
  {
   "cell_type": "code",
   "execution_count": 39,
   "metadata": {
    "slideshow": {
     "slide_type": "subslide"
    }
   },
   "outputs": [
    {
     "data": {
      "image/png": "[encoded data removed]",
      "text/plain": [
       "<matplotlib.figure.Figure at 0x1a1e3c95f8>"
      ]
     },
     "metadata": {},
     "output_type": "display_data"
    }
   ],
   "source": [
    "plt.show()"
   ]
  },
  {
   "cell_type": "code",
   "execution_count": 40,
   "metadata": {
    "slideshow": {
     "slide_type": "subslide"
    }
   },
   "outputs": [
    {
     "data": {
      "image/png": "[encoded data removed]",
      "text/plain": [
       "<matplotlib.figure.Figure at 0x1a1e679438>"
      ]
     },
     "metadata": {},
     "output_type": "display_data"
    }
   ],
   "source": [
    "surface_plot((-1, 1), (0, 1), X_train_scaled, y_train_scaled)"
   ]
  },
  {
   "cell_type": "markdown",
   "metadata": {
    "slideshow": {
     "slide_type": "subslide"
    }
   },
   "source": [
    "## 更適合觀察梯度的圖形\n",
    "\n",
    "<https://plot.ly/python/3d-surface-plots/>"
   ]
  },
  {
   "cell_type": "code",
   "execution_count": 41,
   "metadata": {
    "collapsed": true,
    "slideshow": {
     "slide_type": "subslide"
    }
   },
   "outputs": [],
   "source": [
    "import plotly.plotly as py\n",
    "import plotly.graph_objs as go\n",
    "\n",
    "def get_surface_Z(theta0_range, theta1_range, X, y):\n",
    "    theta0_start, theta0_end = theta0_range\n",
    "    theta1_start, theta1_end = theta1_range\n",
    "    length = 50\n",
    "    theta0_arr = np.linspace(theta0_start, theta0_end, length).reshape(-1, 1)\n",
    "    theta1_arr = np.linspace(theta1_start, theta1_end, length).reshape(-1, 1)\n",
    "    thetas_arr = np.concatenate([theta0_arr, theta1_arr], axis=1)\n",
    "    Z = np.zeros((length, length))\n",
    "    for i in range(length):\n",
    "        for j in range(length):\n",
    "            theta_0 = theta0_arr[i]\n",
    "            theta_1 = theta1_arr[j]\n",
    "            thetas_arr = np.array([theta_0, theta_1]).reshape(-1, 1)\n",
    "            Z[i, j] = compute_cost(X, y, thetas=thetas_arr)\n",
    "    return Z\n",
    "\n",
    "Z = get_surface_Z((-5, 5), (-5, 5), X_train_scaled, y_train_scaled)\n",
    "py.sign_in('tonykuoyj', '6doG9IEHGWlQT7uD9vY8') # Use your own plotly Username / API Key\n",
    "data = [go.Surface(z=Z)]\n",
    "layout = go.Layout(\n",
    "  title='Cost function during gradient descent',\n",
    "  scene=dict(\n",
    "      xaxis = dict(title='theta_0'),\n",
    "      yaxis = dict(title=\"theta_1\"),\n",
    "      zaxis = dict(title=\"J(theta)\")\n",
    "  )\n",
    ")\n",
    "fig = go.Figure(data=data, layout=layout)"
   ]
  },
  {
   "cell_type": "code",
   "execution_count": 42,
   "metadata": {
    "slideshow": {
     "slide_type": "subslide"
    }
   },
   "outputs": [
    {
     "data": {
      "text/html": [
       "<iframe id=\"igraph\" scrolling=\"no\" style=\"border:none;\" seamless=\"seamless\" src=\"https://plot.ly/~tonykuoyj/2.embed\" height=\"525px\" width=\"100%\"></iframe>"
      ],
      "text/plain": [
       "<plotly.tools.PlotlyDisplay object>"
      ]
     },
     "execution_count": 42,
     "metadata": {},
     "output_type": "execute_result"
    }
   ],
   "source": [
    "py.iplot(fig, filename='gd-3d-surface')"
   ]
  },
  {
   "cell_type": "markdown",
   "metadata": {
    "slideshow": {
     "slide_type": "subslide"
    }
   },
   "source": [
    "## 標準化後如何回推 $\\theta$\n",
    "\n",
    "$$\n",
    "y = \\theta_0 + \\theta_1x_1 \\\\\n",
    "\\frac{y - \\mu_y}{\\sigma_y} = \\theta_0' + \\frac{x_1-\\mu_{x_1}}{\\sigma_{x_1}}\\theta_1' \\\\\n",
    "y = \\mu_y+\\sigma_y\\theta_0'+\\frac{\\sigma_y}{\\sigma_{x_1}}(x_1-\\mu_{x_1})\\theta_1' \\\\\n",
    "y = \\mu_y+\\sigma_{y}\\theta_0'-\\frac{\\sigma_y\\mu_{x_1}}{\\sigma_{x_1}}\\theta_1'+\\frac{\\sigma_y}{\\sigma_{x_1}}\\theta_1'x_1\n",
    "$$\n",
    "\n",
    "$$\n",
    "\\theta_0 = \\mu_y + \\sigma_y\\theta_0'-\\frac{\\sigma_y\\mu_{x_1}}{\\sigma_{x_1}}\\theta_1' \\\\\n",
    "\\theta_1 = \\frac{\\sigma_y}{\\sigma_{x_1}}\\theta_1'\n",
    "$$"
   ]
  },
  {
   "cell_type": "markdown",
   "metadata": {
    "slideshow": {
     "slide_type": "subslide"
    }
   },
   "source": [
    "## 隨堂練習：請回推 $\\theta$"
   ]
  },
  {
   "cell_type": "markdown",
   "metadata": {
    "slideshow": {
     "slide_type": "subslide"
    }
   },
   "source": [
    "## Phew...\n",
    "\n",
    "- 總算完成了兩種找到 $\\theta$ 的方式！\n",
    "- 這是不能忽略的學習步驟，但並不是實作上要採用的"
   ]
  },
  {
   "cell_type": "markdown",
   "metadata": {
    "slideshow": {
     "slide_type": "subslide"
    }
   },
   "source": [
    "## 有哪些模組可以幫我們找到 $\\theta$\n",
    "\n",
    "- [statsmodel](https://www.statsmodels.org/stable/index.html)\n",
    "- [scikit-learn](http://scikit-learn.org/stable/)\n",
    "- [TensorFlow](https://www.tensorflow.org/)"
   ]
  },
  {
   "cell_type": "markdown",
   "metadata": {
    "slideshow": {
     "slide_type": "subslide"
    }
   },
   "source": [
    "## 我們建議使用 Scikit-Learn\n",
    "\n",
    "- 比 StatsModel 完整\n",
    "- TensorFlow 是自成一格的框架"
   ]
  },
  {
   "cell_type": "code",
   "execution_count": 43,
   "metadata": {
    "slideshow": {
     "slide_type": "subslide"
    }
   },
   "outputs": [
    {
     "data": {
      "text/plain": [
       "LinearRegression(copy_X=True, fit_intercept=True, n_jobs=1, normalize=False)"
      ]
     },
     "execution_count": 43,
     "metadata": {},
     "output_type": "execute_result"
    }
   ],
   "source": [
    "from sklearn.linear_model import LinearRegression\n",
    "\n",
    "X_train = train_df[\"GrLivArea\"].values.reshape(-1, 1)\n",
    "y_train = train_df[\"SalePrice\"].values.reshape(-1, 1)\n",
    "X_valid = validation_df[\"GrLivArea\"].values.reshape(-1, 1)\n",
    "y_valid = validation_df[\"SalePrice\"].values.reshape(-1, 1)\n",
    "reg = LinearRegression()\n",
    "reg.fit(X_train, y_train)"
   ]
  },
  {
   "cell_type": "markdown",
   "metadata": {
    "slideshow": {
     "slide_type": "subslide"
    }
   },
   "source": [
    "## 評估迴歸模型的指標\n",
    "\n",
    "- MSE（愈低愈好）\n",
    "\n",
    "$$MSE = \\frac{1}{m}\\sum_{i=1}^m(\\hat{y_i} - y_i) ^ 2$$"
   ]
  },
  {
   "cell_type": "code",
   "execution_count": 44,
   "metadata": {},
   "outputs": [
    {
     "name": "stdout",
     "output_type": "stream",
     "text": [
      "Computation:\n",
      "Training MSE: 3402166887.1990\n",
      "Validation MSE: 2541490406.3163\n"
     ]
    }
   ],
   "source": [
    "# 自己算\n",
    "train_MSE= np.mean((y_train - reg.predict(X_train))**2)\n",
    "validation_MSE= np.mean((y_valid - reg.predict(X_valid))**2)\n",
    "print(\"Computation:\")\n",
    "print(\"Training MSE: {:.4f}\".format(train_MSE))\n",
    "print(\"Validation MSE: {:.4f}\".format(validation_MSE))"
   ]
  },
  {
   "cell_type": "markdown",
   "metadata": {
    "slideshow": {
     "slide_type": "subslide"
    }
   },
   "source": [
    "## 請 sklearn 幫我們算"
   ]
  },
  {
   "cell_type": "code",
   "execution_count": 45,
   "metadata": {
    "slideshow": {
     "slide_type": "-"
    }
   },
   "outputs": [
    {
     "name": "stdout",
     "output_type": "stream",
     "text": [
      "\n",
      "From sklearn.metrics:\n",
      "Training MSE: 3402166887.1990\n",
      "Validation MSE: 2541490406.3163\n"
     ]
    }
   ],
   "source": [
    "# sklearn.metrics\n",
    "from sklearn.metrics import mean_squared_error\n",
    "\n",
    "print(\"\\nFrom sklearn.metrics:\")\n",
    "print(\"Training MSE: {:.4f}\".format(mean_squared_error(y_train, reg.predict(X_train))))\n",
    "print(\"Validation MSE: {:.4f}\".format(mean_squared_error(y_valid, reg.predict(X_valid))))"
   ]
  },
  {
   "cell_type": "markdown",
   "metadata": {
    "slideshow": {
     "slide_type": "subslide"
    }
   },
   "source": [
    "## 隨堂練習：挑兩個變數來預測 SalePrice\n",
    "\n",
    "- 試試看 `GrLivArea` 與 `GarageArea`"
   ]
  },
  {
   "cell_type": "code",
   "execution_count": 46,
   "metadata": {
    "slideshow": {
     "slide_type": "skip"
    }
   },
   "outputs": [
    {
     "data": {
      "text/plain": [
       "<matplotlib.axes._subplots.AxesSubplot at 0x1a1e619160>"
      ]
     },
     "execution_count": 46,
     "metadata": {},
     "output_type": "execute_result"
    }
   ],
   "source": [
    "import matplotlib.pyplot as plt\n",
    "\n",
    "train_df.plot.scatter(\"GarageArea\", \"SalePrice\", s=5)"
   ]
  },
  {
   "cell_type": "code",
   "execution_count": 47,
   "metadata": {},
   "outputs": [
    {
     "data": {
      "image/png": "[encoded data removed]",
      "text/plain": [
       "<matplotlib.figure.Figure at 0x1a1ea92e10>"
      ]
     },
     "metadata": {},
     "output_type": "display_data"
    }
   ],
   "source": [
    "plt.show()"
   ]
  },
  {
   "cell_type": "code",
   "execution_count": 48,
   "metadata": {
    "slideshow": {
     "slide_type": "skip"
    }
   },
   "outputs": [
    {
     "name": "stdout",
     "output_type": "stream",
     "text": [
      "(1022, 1)\n",
      "(1022, 3)\n"
     ]
    }
   ],
   "source": [
    "# 訓練樣本\n",
    "y_train = train_df[\"SalePrice\"].values.reshape(train_df.shape[0], 1)\n",
    "X_train = train_df[[\"GrLivArea\", \"GarageArea\"]].values.reshape(train_df.shape[0], 2)\n",
    "m = X_train.shape[0]\n",
    "ones_col = np.ones((m, 1))\n",
    "X_train = np.concatenate((ones_col, X_train), axis=1)\n",
    "print(y_train.shape)\n",
    "print(X_train.shape)"
   ]
  },
  {
   "cell_type": "code",
   "execution_count": 49,
   "metadata": {
    "slideshow": {
     "slide_type": "skip"
    }
   },
   "outputs": [
    {
     "name": "stdout",
     "output_type": "stream",
     "text": [
      "(438, 1)\n",
      "(438, 3)\n"
     ]
    }
   ],
   "source": [
    "# 驗證樣本\n",
    "y_validation = validation_df[\"SalePrice\"].values.reshape(validation_df.shape[0], 1)\n",
    "X_validation = validation_df[[\"GrLivArea\", \"GarageArea\"]].values.reshape(validation_df.shape[0], 2)\n",
    "m = X_validation.shape[0]\n",
    "ones_col = np.ones((m, 1))\n",
    "X_validation = np.concatenate((ones_col, X_validation), axis=1)\n",
    "print(y_validation.shape)\n",
    "print(X_validation.shape)"
   ]
  },
  {
   "cell_type": "code",
   "execution_count": 50,
   "metadata": {
    "collapsed": true,
    "slideshow": {
     "slide_type": "skip"
    }
   },
   "outputs": [],
   "source": [
    "# sklearn\n",
    "from sklearn import linear_model\n",
    "\n",
    "regressor_skl = linear_model.LinearRegression()\n",
    "regressor_skl.fit(X_train, y_train)\n",
    "theta_0_skl = regressor_skl.intercept_[0]\n",
    "theta_1_skl = regressor_skl.coef_[0][1]\n",
    "theta_2_skl = regressor_skl.coef_[0][2]"
   ]
  },
  {
   "cell_type": "code",
   "execution_count": 51,
   "metadata": {
    "slideshow": {
     "slide_type": "subslide"
    }
   },
   "outputs": [
    {
     "name": "stdout",
     "output_type": "stream",
     "text": [
      "Thetas from sklearn:\n",
      "theta_0: -4600.3771\n",
      "theta_1: 77.7825\n",
      "theta_2: 142.7484\n"
     ]
    }
   ],
   "source": [
    "print('Thetas from sklearn:\\ntheta_0: {:.4f}\\ntheta_1: {:.4f}\\ntheta_2: {:.4f}'.format(theta_0_skl, theta_1_skl, theta_2_skl))"
   ]
  },
  {
   "cell_type": "code",
   "execution_count": 52,
   "metadata": {
    "collapsed": true,
    "slideshow": {
     "slide_type": "skip"
    }
   },
   "outputs": [],
   "source": [
    "from sklearn.metrics import mean_squared_error\n",
    "\n",
    "train_MSE= np.mean((y_train - regressor_skl.predict(X_train))**2)\n",
    "validation_MSE= np.mean((y_validation - regressor_skl.predict(X_validation))**2)"
   ]
  },
  {
   "cell_type": "code",
   "execution_count": 53,
   "metadata": {
    "slideshow": {
     "slide_type": "subslide"
    }
   },
   "outputs": [
    {
     "name": "stdout",
     "output_type": "stream",
     "text": [
      "Computation:\n",
      "Training MSE: 2682062423.1890\n",
      "Validation MSE: 1930533819.9319\n",
      "\n",
      "From sklearn.metrics:\n",
      "Training MSE: 2682062423.1890\n",
      "Validation MSE: 1930533819.9319\n"
     ]
    }
   ],
   "source": [
    "print(\"Computation:\")\n",
    "print(\"Training MSE: {:.4f}\".format(train_MSE))\n",
    "print(\"Validation MSE: {:.4f}\".format(validation_MSE))\n",
    "\n",
    "# sklearn.metrics\n",
    "print(\"\\nFrom sklearn.metrics:\")\n",
    "print(\"Training MSE: {:.4f}\".format(mean_squared_error(y_train, regressor_skl.predict(X_train))))\n",
    "print(\"Validation MSE: {:.4f}\".format(mean_squared_error(y_validation, regressor_skl.predict(X_validation))))"
   ]
  },
  {
   "cell_type": "markdown",
   "metadata": {
    "slideshow": {
     "slide_type": "slide"
    }
   },
   "source": [
    "## 使用有 d 次項的 X 來建立 h"
   ]
  },
  {
   "cell_type": "code",
   "execution_count": 54,
   "metadata": {
    "slideshow": {
     "slide_type": "subslide"
    }
   },
   "outputs": [
    {
     "data": {
      "text/plain": [
       "<matplotlib.axes._subplots.AxesSubplot at 0x1a1fed6710>"
      ]
     },
     "execution_count": 54,
     "metadata": {},
     "output_type": "execute_result"
    }
   ],
   "source": [
    "import matplotlib.pyplot as plt\n",
    "\n",
    "train_df.plot.scatter(\"YearBuilt\", \"SalePrice\", s=5)"
   ]
  },
  {
   "cell_type": "code",
   "execution_count": 55,
   "metadata": {},
   "outputs": [
    {
     "data": {
      "image/png": "[encoded data removed]",
      "text/plain": [
       "<matplotlib.figure.Figure at 0x1a1e65f5c0>"
      ]
     },
     "metadata": {},
     "output_type": "display_data"
    }
   ],
   "source": [
    "plt.show()"
   ]
  },
  {
   "cell_type": "markdown",
   "metadata": {
    "slideshow": {
     "slide_type": "subslide"
    }
   },
   "source": [
    "$$ y_i = \\theta_0 + \\theta_1 x_i + \\theta_2 x_i^2 + ... + \\theta_d x_i^d $$"
   ]
  },
  {
   "cell_type": "code",
   "execution_count": 56,
   "metadata": {
    "slideshow": {
     "slide_type": "subslide"
    }
   },
   "outputs": [
    {
     "name": "stdout",
     "output_type": "stream",
     "text": [
      "(1022, 1)\n",
      "(1022, 1)\n"
     ]
    }
   ],
   "source": [
    "# 訓練樣本\n",
    "y_train = train_df[\"SalePrice\"].values.reshape(-1, 1)\n",
    "X_train = train_df[\"YearBuilt\"].values.reshape(-1, 1)\n",
    "print(y_train.shape)\n",
    "print(X_train.shape)"
   ]
  },
  {
   "cell_type": "code",
   "execution_count": 57,
   "metadata": {
    "slideshow": {
     "slide_type": "subslide"
    }
   },
   "outputs": [
    {
     "name": "stdout",
     "output_type": "stream",
     "text": [
      "(438, 1)\n",
      "(438, 1)\n"
     ]
    }
   ],
   "source": [
    "# 驗證樣本\n",
    "y_validation = validation_df[\"SalePrice\"].values.reshape(-1, 1)\n",
    "X_validation = validation_df[\"YearBuilt\"].values.reshape(-1, 1)\n",
    "print(y_validation.shape)\n",
    "print(X_validation.shape)"
   ]
  },
  {
   "cell_type": "markdown",
   "metadata": {
    "slideshow": {
     "slide_type": "subslide"
    }
   },
   "source": [
    "## 使用 `PolynomialFeatures(d)` 與 `fit_transform()` 建立 X"
   ]
  },
  {
   "cell_type": "code",
   "execution_count": 58,
   "metadata": {},
   "outputs": [
    {
     "data": {
      "text/plain": [
       "array([  1.00000000e+00,   1.99600000e+03,   3.98401600e+06,\n",
       "         7.95209594e+09])"
      ]
     },
     "execution_count": 58,
     "metadata": {},
     "output_type": "execute_result"
    }
   ],
   "source": [
    "from sklearn.preprocessing import PolynomialFeatures\n",
    "\n",
    "PolynomialFeatures(3).fit_transform(X_train)[0, :]"
   ]
  },
  {
   "cell_type": "code",
   "execution_count": 59,
   "metadata": {},
   "outputs": [
    {
     "data": {
      "text/plain": [
       "array([1996])"
      ]
     },
     "execution_count": 59,
     "metadata": {},
     "output_type": "execute_result"
    }
   ],
   "source": [
    "X_train[0, :]"
   ]
  },
  {
   "cell_type": "code",
   "execution_count": 60,
   "metadata": {
    "collapsed": true,
    "slideshow": {
     "slide_type": "subslide"
    }
   },
   "outputs": [],
   "source": [
    "def make_features(train_set, validation_set, degrees):\n",
    "    train_dict = {}\n",
    "    validation_dict = {}\n",
    "    for d in degrees:\n",
    "        train_dict[d] = PolynomialFeatures(d).fit_transform(train_set.reshape(-1, 1))\n",
    "        validation_dict[d] = PolynomialFeatures(d).fit_transform(validation_set.reshape(-1, 1))\n",
    "    return train_dict, validation_dict"
   ]
  },
  {
   "cell_type": "code",
   "execution_count": 61,
   "metadata": {
    "collapsed": true,
    "slideshow": {
     "slide_type": "subslide"
    }
   },
   "outputs": [],
   "source": [
    "degrees = range(11)\n",
    "train_dict, validation_dict = make_features(X_train, X_validation, degrees)"
   ]
  },
  {
   "cell_type": "markdown",
   "metadata": {
    "slideshow": {
     "slide_type": "subslide"
    }
   },
   "source": [
    "## 隨堂練習：將不同次方項的 validation error(MSE) 算出來，並找出 error 最小的 degree\n",
    "\n",
    "```python\n",
    "def get_best_degree():\n",
    "    # ...\n",
    "```"
   ]
  },
  {
   "cell_type": "code",
   "execution_count": 62,
   "metadata": {
    "collapsed": true,
    "slideshow": {
     "slide_type": "skip"
    }
   },
   "outputs": [],
   "source": [
    "def get_best_degree():\n",
    "    error_train = np.empty(len(degrees))\n",
    "    error_validation = np.empty(len(degrees))\n",
    "    for d in degrees:\n",
    "        X_train = train_dict[d]\n",
    "        X_validation = validation_dict[d]\n",
    "        #set up model\n",
    "        regressor = linear_model.LinearRegression()\n",
    "        #fit\n",
    "        regressor.fit(X_train, y_train)\n",
    "        #predict\n",
    "        #your code here\n",
    "        prediction_on_training = regressor.predict(X_train)\n",
    "        prediction_on_validation = regressor.predict(X_validation)\n",
    "        #calculate mean squared error\n",
    "        error_train[d] = mean_squared_error(y_train, prediction_on_training)\n",
    "        error_validation[d] = mean_squared_error(y_validation, prediction_on_validation)\n",
    "    return np.argmin(error_validation), error_validation, error_train"
   ]
  },
  {
   "cell_type": "code",
   "execution_count": 63,
   "metadata": {
    "slideshow": {
     "slide_type": "subslide"
    }
   },
   "outputs": [
    {
     "name": "stdout",
     "output_type": "stream",
     "text": [
      "Validation Error:\n",
      "\n",
      "[  5.74773085e+09   4.22306392e+09   3.76996972e+09   3.81499577e+09\n",
      "   3.81482104e+09   3.81463312e+09   3.81443382e+09   3.81422447e+09\n",
      "   3.81400642e+09   3.81378108e+09   3.81354988e+09]\n",
      "\n",
      "Error 最低的次方是 2\n"
     ]
    }
   ],
   "source": [
    "best_degree, error_validation, error_train = get_best_degree()\n",
    "\n",
    "print(\"Validation Error:\\n\")\n",
    "print(error_validation)\n",
    "print(\"\\nError 最低的次方是 {}\".format(best_degree))"
   ]
  },
  {
   "cell_type": "code",
   "execution_count": 64,
   "metadata": {
    "collapsed": true,
    "slideshow": {
     "slide_type": "subslide"
    }
   },
   "outputs": [],
   "source": [
    "plt.plot(degrees, error_train, marker='o', label='train')\n",
    "plt.plot(degrees, error_validation, marker='o', label='validation')\n",
    "plt.axvline(best_degree, 0, 0.5, color='r', label=\"Minimum validation error at d={}\".format(best_degree), alpha=0.3)\n",
    "plt.ylabel('MSE')\n",
    "plt.xlabel('degree')\n",
    "plt.legend(loc='upper right')\n",
    "plt.yscale(\"log\")"
   ]
  },
  {
   "cell_type": "code",
   "execution_count": 65,
   "metadata": {
    "slideshow": {
     "slide_type": "subslide"
    }
   },
   "outputs": [
    {
     "data": {
      "image/png": "[encoded data removed]",
      "text/plain": [
       "<matplotlib.figure.Figure at 0x1a2010aa90>"
      ]
     },
     "metadata": {},
     "output_type": "display_data"
    }
   ],
   "source": [
    "plt.show()"
   ]
  },
  {
   "cell_type": "code",
   "execution_count": 66,
   "metadata": {
    "collapsed": true,
    "slideshow": {
     "slide_type": "subslide"
    }
   },
   "outputs": [],
   "source": [
    "def get_plot():\n",
    "    d = 2\n",
    "    X_train = train_dict[d]\n",
    "    X_validation = validation_dict[d]\n",
    "    regressor = linear_model.LinearRegression()\n",
    "    # fitting\n",
    "    regressor.fit(X_train, y_train)\n",
    "    prediction_on_training = regressor.predict(X_train)\n",
    "    prediction_on_validation = regressor.predict(X_validation)\n",
    "    x_arr = np.linspace(train_df[\"YearBuilt\"].min(), train_df[\"YearBuilt\"].max(), num=1000)\n",
    "    x_arr_poly = PolynomialFeatures(d).fit_transform(x_arr.reshape(-1, 1))\n",
    "    y_arr = regressor.predict(x_arr_poly)\n",
    "    # plotting\n",
    "    plt.scatter(train_df[\"YearBuilt\"], train_df[\"SalePrice\"], s=5)\n",
    "    plt.plot(x_arr, y_arr, 'r-', alpha=0.5, label = \"Fit\", linewidth=4)\n",
    "    plt.xlabel('$YearBuilt$');\n",
    "    plt.ylabel('$SalePrice$')\n",
    "    plt.legend(loc=\"upper left\")\n",
    "    plt.show()"
   ]
  },
  {
   "cell_type": "code",
   "execution_count": 67,
   "metadata": {
    "slideshow": {
     "slide_type": "subslide"
    }
   },
   "outputs": [
    {
     "data": {
      "image/png": "[encoded data removed]",
      "text/plain": [
       "<matplotlib.figure.Figure at 0x1a1e562f60>"
      ]
     },
     "metadata": {},
     "output_type": "display_data"
    }
   ],
   "source": [
    "get_plot()"
   ]
  },
  {
   "cell_type": "markdown",
   "metadata": {
    "slideshow": {
     "slide_type": "subslide"
    }
   },
   "source": [
    "## 隨堂練習：在上圖加入 d=1 與 d=3 的線"
   ]
  },
  {
   "cell_type": "code",
   "execution_count": 68,
   "metadata": {
    "collapsed": true,
    "slideshow": {
     "slide_type": "skip"
    }
   },
   "outputs": [],
   "source": [
    "def get_plot():\n",
    "    y_arrays = []\n",
    "    for d in [1, 2, 3]:\n",
    "        X_train = train_dict[d]\n",
    "        X_validation = validation_dict[d]\n",
    "        regressor = linear_model.LinearRegression()\n",
    "        #fit\n",
    "        regressor.fit(X_train, y_train)\n",
    "        prediction_on_training = regressor.predict(X_train)\n",
    "        prediction_on_validation = regressor.predict(X_validation)\n",
    "        x_arr = np.linspace(train_df[\"YearBuilt\"].min(), train_df[\"YearBuilt\"].max(), num=1000)\n",
    "        x_arr_poly = PolynomialFeatures(d).fit_transform(x_arr.reshape(-1, 1))\n",
    "        y_arr = regressor.predict(x_arr_poly)\n",
    "        y_arrays.append(y_arr)\n",
    "    plt.scatter(train_df[\"YearBuilt\"], train_df[\"SalePrice\"], s=5)\n",
    "    plt.plot(x_arr, y_arrays[0], 'r-', alpha=0.5, label = \"Degree={}\".format(1), linewidth=3)\n",
    "    plt.plot(x_arr, y_arrays[1], 'g-', alpha=0.5, label = \"Degree={}\".format(2), linewidth=3)\n",
    "    plt.plot(x_arr, y_arrays[2], 'm-', alpha=0.5, label = \"Degree={}\".format(3), linewidth=3)\n",
    "    plt.xlabel('$YearBuilt$');\n",
    "    plt.ylabel('$SalePrice$')\n",
    "    plt.legend(loc=\"upper left\")\n",
    "    plt.show()"
   ]
  },
  {
   "cell_type": "code",
   "execution_count": 69,
   "metadata": {},
   "outputs": [
    {
     "data": {
      "image/png": "[encoded data removed]",
      "text/plain": [
       "<matplotlib.figure.Figure at 0x1a20284b00>"
      ]
     },
     "metadata": {},
     "output_type": "display_data"
    }
   ],
   "source": [
    "get_plot()"
   ]
  },
  {
   "cell_type": "markdown",
   "metadata": {
    "slideshow": {
     "slide_type": "subslide"
    }
   },
   "source": [
    "## 在不設定 `random_state` 參數的情況下切割訓練與驗證樣本"
   ]
  },
  {
   "cell_type": "code",
   "execution_count": 70,
   "metadata": {
    "slideshow": {
     "slide_type": "subslide"
    }
   },
   "outputs": [
    {
     "name": "stdout",
     "output_type": "stream",
     "text": [
      "Validation Error:\n",
      "\n",
      "[  5.34610683e+09   4.76651988e+09   4.81763464e+09   4.81810773e+09\n",
      "   4.81855480e+09   4.81897636e+09   4.81937291e+09   4.81974502e+09\n",
      "   4.82009336e+09   4.82041864e+09]\n",
      "\n",
      "Error 最低的次方是 2\n"
     ]
    }
   ],
   "source": [
    "import numpy as np\n",
    "import pandas as pd\n",
    "from sklearn.model_selection import train_test_split\n",
    "from sklearn.preprocessing import PolynomialFeatures\n",
    "from sklearn.linear_model import LinearRegression\n",
    "from sklearn.metrics import mean_squared_error\n",
    "\n",
    "# 切割訓練與驗證樣本\n",
    "train_url = \"https://storage.googleapis.com/kaggle_datasets/House-Prices-Advanced-Regression-Techniques/train.csv\"\n",
    "labeled = pd.read_csv(train_url)\n",
    "train_df, validation_df = train_test_split(labeled, test_size=0.3)\n",
    "y_train = train_df[\"SalePrice\"].values.reshape(-1, 1)\n",
    "X_train = train_df[\"YearBuilt\"].values.reshape(-1, 1)\n",
    "y_validation = validation_df[\"SalePrice\"].values.reshape(-1, 1)\n",
    "X_validation = validation_df[\"YearBuilt\"].values.reshape(-1, 1)\n",
    "\n",
    "degrees = range(1, 11)\n",
    "error_train = np.empty(len(degrees))\n",
    "error_validation = np.empty(len(degrees))\n",
    "for d in degrees:\n",
    "    X_train_poly = PolynomialFeatures(d).fit_transform(X_train)\n",
    "    X_validation_poly = PolynomialFeatures(d).fit_transform(X_validation)\n",
    "    regressor = LinearRegression()\n",
    "    regressor.fit(X_train_poly, y_train)\n",
    "    prediction_on_training = regressor.predict(X_train_poly)\n",
    "    prediction_on_validation = regressor.predict(X_validation_poly)\n",
    "    #calculate mean squared error\n",
    "    error_train[d - 1] = mean_squared_error(y_train, prediction_on_training)\n",
    "    error_validation[d - 1] = mean_squared_error(y_validation, prediction_on_validation)\n",
    "\n",
    "best_degree = np.argmin(error_validation) + 1\n",
    "print(\"Validation Error:\\n\")\n",
    "print(error_validation)\n",
    "print(\"\\nError 最低的次方是 {}\".format(best_degree))"
   ]
  },
  {
   "cell_type": "code",
   "execution_count": 71,
   "metadata": {
    "collapsed": true,
    "slideshow": {
     "slide_type": "subslide"
    }
   },
   "outputs": [],
   "source": [
    "import matplotlib.pyplot as plt\n",
    "\n",
    "plt.plot(degrees, error_train, marker='o', label='train')\n",
    "plt.plot(degrees, error_validation, marker='o', label='validation')\n",
    "plt.axvline(best_degree, 0, 0.5, color='r', label=\"Minimum validation error at d={}\".format(best_degree), alpha=0.3)\n",
    "plt.ylabel('MSE')\n",
    "plt.xlabel('degree')\n",
    "plt.legend(loc='upper right')\n",
    "plt.yscale(\"log\")"
   ]
  },
  {
   "cell_type": "code",
   "execution_count": 72,
   "metadata": {
    "slideshow": {
     "slide_type": "subslide"
    }
   },
   "outputs": [
    {
     "data": {
      "image/png": "[encoded data removed]",
      "text/plain": [
       "<matplotlib.figure.Figure at 0x1a202845f8>"
      ]
     },
     "metadata": {},
     "output_type": "display_data"
    }
   ],
   "source": [
    "plt.show()"
   ]
  },
  {
   "cell_type": "markdown",
   "metadata": {
    "slideshow": {
     "slide_type": "subslide"
    }
   },
   "source": [
    "## 重複執行前面的程式碼\n",
    "\n",
    "- 發現驗證資料的 error_validation 與 best_degree 每次都不一樣，這是什麼緣故？"
   ]
  },
  {
   "cell_type": "markdown",
   "metadata": {
    "slideshow": {
     "slide_type": "slide"
    }
   },
   "source": [
    "## 交叉驗證 Cross-Validation"
   ]
  },
  {
   "cell_type": "markdown",
   "metadata": {
    "slideshow": {
     "slide_type": "subslide"
    }
   },
   "source": [
    "## 隨機的 `train_test_split()`\n",
    "\n",
    "- 憑藉單次隨機給予模型的訓練、驗證樣本就決定 best_degree 與 MSE 有些大意\n",
    "- 我們需要一個機制來因應這樣的隨機性"
   ]
  },
  {
   "cell_type": "markdown",
   "metadata": {
    "slideshow": {
     "slide_type": "subslide"
    }
   },
   "source": [
    "## 交叉驗證示意圖\n",
    "\n",
    "![](images/train-cv2.png)\n",
    "\n",
    "Source: [CS109 Data Science](http://cs109.github.io/2015/index.html)"
   ]
  },
  {
   "cell_type": "markdown",
   "metadata": {
    "slideshow": {
     "slide_type": "subslide"
    }
   },
   "source": [
    "## 交叉驗證的步驟\n",
    "\n",
    "1. 將 labeled data 切分為 `n_folds`\n",
    "2. 將 `n_folds - 1` 作為訓練樣本，剩餘的一個 fold 作為驗證樣本\n",
    "3. 將所有 folds 所求得的 MSE 平均\n",
    "4. 選擇評估最佳的設定再應用至測試樣本"
   ]
  },
  {
   "cell_type": "code",
   "execution_count": 73,
   "metadata": {
    "collapsed": true,
    "slideshow": {
     "slide_type": "subslide"
    }
   },
   "outputs": [],
   "source": [
    "from sklearn.model_selection import KFold\n",
    "\n",
    "n_folds = 4\n",
    "labeled_data_m = labeled.shape[0]\n",
    "kfold = KFold(n_folds)"
   ]
  },
  {
   "cell_type": "code",
   "execution_count": 74,
   "metadata": {
    "slideshow": {
     "slide_type": "subslide"
    }
   },
   "outputs": [
    {
     "data": {
      "text/plain": [
       "(array([ 365,  366,  367, ..., 1457, 1458, 1459]),\n",
       " array([  0,   1,   2,   3,   4,   5,   6,   7,   8,   9,  10,  11,  12,\n",
       "         13,  14,  15,  16,  17,  18,  19,  20,  21,  22,  23,  24,  25,\n",
       "         26,  27,  28,  29,  30,  31,  32,  33,  34,  35,  36,  37,  38,\n",
       "         39,  40,  41,  42,  43,  44,  45,  46,  47,  48,  49,  50,  51,\n",
       "         52,  53,  54,  55,  56,  57,  58,  59,  60,  61,  62,  63,  64,\n",
       "         65,  66,  67,  68,  69,  70,  71,  72,  73,  74,  75,  76,  77,\n",
       "         78,  79,  80,  81,  82,  83,  84,  85,  86,  87,  88,  89,  90,\n",
       "         91,  92,  93,  94,  95,  96,  97,  98,  99, 100, 101, 102, 103,\n",
       "        104, 105, 106, 107, 108, 109, 110, 111, 112, 113, 114, 115, 116,\n",
       "        117, 118, 119, 120, 121, 122, 123, 124, 125, 126, 127, 128, 129,\n",
       "        130, 131, 132, 133, 134, 135, 136, 137, 138, 139, 140, 141, 142,\n",
       "        143, 144, 145, 146, 147, 148, 149, 150, 151, 152, 153, 154, 155,\n",
       "        156, 157, 158, 159, 160, 161, 162, 163, 164, 165, 166, 167, 168,\n",
       "        169, 170, 171, 172, 173, 174, 175, 176, 177, 178, 179, 180, 181,\n",
       "        182, 183, 184, 185, 186, 187, 188, 189, 190, 191, 192, 193, 194,\n",
       "        195, 196, 197, 198, 199, 200, 201, 202, 203, 204, 205, 206, 207,\n",
       "        208, 209, 210, 211, 212, 213, 214, 215, 216, 217, 218, 219, 220,\n",
       "        221, 222, 223, 224, 225, 226, 227, 228, 229, 230, 231, 232, 233,\n",
       "        234, 235, 236, 237, 238, 239, 240, 241, 242, 243, 244, 245, 246,\n",
       "        247, 248, 249, 250, 251, 252, 253, 254, 255, 256, 257, 258, 259,\n",
       "        260, 261, 262, 263, 264, 265, 266, 267, 268, 269, 270, 271, 272,\n",
       "        273, 274, 275, 276, 277, 278, 279, 280, 281, 282, 283, 284, 285,\n",
       "        286, 287, 288, 289, 290, 291, 292, 293, 294, 295, 296, 297, 298,\n",
       "        299, 300, 301, 302, 303, 304, 305, 306, 307, 308, 309, 310, 311,\n",
       "        312, 313, 314, 315, 316, 317, 318, 319, 320, 321, 322, 323, 324,\n",
       "        325, 326, 327, 328, 329, 330, 331, 332, 333, 334, 335, 336, 337,\n",
       "        338, 339, 340, 341, 342, 343, 344, 345, 346, 347, 348, 349, 350,\n",
       "        351, 352, 353, 354, 355, 356, 357, 358, 359, 360, 361, 362, 363, 364]))"
      ]
     },
     "execution_count": 74,
     "metadata": {},
     "output_type": "execute_result"
    }
   ],
   "source": [
    "list(kfold.split(range(labeled_data_m)))[0]"
   ]
  },
  {
   "cell_type": "markdown",
   "metadata": {
    "slideshow": {
     "slide_type": "subslide"
    }
   },
   "source": [
    "## 這樣有什麼問題？"
   ]
  },
  {
   "cell_type": "code",
   "execution_count": 75,
   "metadata": {
    "slideshow": {
     "slide_type": "subslide"
    }
   },
   "outputs": [
    {
     "data": {
      "text/plain": [
       "(array([   0,    3,    4, ..., 1456, 1458, 1459]),\n",
       " array([   1,    2,    5,    8,    9,   11,   15,   23,   24,   25,   26,\n",
       "          27,   28,   29,   36,   43,   56,   57,   59,   60,   61,   62,\n",
       "          70,   77,   78,   79,   80,   83,   87,   88,   94,  100,  104,\n",
       "         111,  117,  121,  126,  138,  143,  148,  149,  153,  158,  159,\n",
       "         165,  166,  167,  173,  175,  179,  184,  187,  189,  190,  195,\n",
       "         197,  198,  203,  204,  214,  215,  216,  218,  223,  225,  226,\n",
       "         228,  231,  239,  244,  249,  250,  264,  265,  273,  274,  276,\n",
       "         290,  297,  300,  301,  303,  307,  315,  323,  325,  331,  333,\n",
       "         336,  339,  351,  353,  354,  358,  361,  364,  367,  368,  377,\n",
       "         380,  388,  389,  393,  403,  404,  407,  408,  411,  415,  416,\n",
       "         423,  427,  429,  430,  432,  437,  440,  445,  447,  449,  452,\n",
       "         453,  456,  459,  460,  461,  464,  465,  467,  468,  471,  478,\n",
       "         492,  496,  506,  507,  510,  512,  513,  514,  517,  522,  526,\n",
       "         528,  536,  538,  542,  544,  552,  554,  566,  573,  579,  581,\n",
       "         585,  587,  588,  594,  597,  598,  609,  610,  613,  616,  620,\n",
       "         621,  622,  627,  643,  652,  657,  663,  664,  671,  687,  697,\n",
       "         700,  701,  703,  711,  713,  717,  719,  738,  748,  755,  767,\n",
       "         774,  779,  783,  786,  789,  790,  795,  796,  800,  801,  803,\n",
       "         804,  806,  813,  817,  829,  831,  833,  836,  844,  846,  850,\n",
       "         854,  855,  861,  864,  868,  874,  878,  879,  883,  890,  896,\n",
       "         902,  903,  904,  908,  910,  920,  927,  928,  933,  935,  941,\n",
       "         943,  947,  948,  950,  951,  956,  959,  968,  972,  974,  975,\n",
       "         977,  981,  986,  989, 1000, 1004, 1005, 1006, 1012, 1014, 1015,\n",
       "        1020, 1022, 1031, 1035, 1036, 1037, 1040, 1045, 1046, 1056, 1057,\n",
       "        1058, 1061, 1062, 1068, 1071, 1083, 1089, 1098, 1106, 1107, 1108,\n",
       "        1109, 1111, 1123, 1127, 1136, 1139, 1142, 1143, 1147, 1149, 1154,\n",
       "        1159, 1162, 1172, 1175, 1179, 1180, 1184, 1187, 1196, 1200, 1205,\n",
       "        1207, 1212, 1216, 1222, 1225, 1229, 1251, 1252, 1255, 1258, 1261,\n",
       "        1263, 1267, 1274, 1280, 1282, 1285, 1286, 1289, 1290, 1294, 1296,\n",
       "        1297, 1298, 1303, 1306, 1307, 1315, 1321, 1323, 1327, 1336, 1337,\n",
       "        1342, 1345, 1348, 1356, 1357, 1359, 1362, 1363, 1365, 1366, 1381,\n",
       "        1388, 1392, 1394, 1395, 1396, 1398, 1402, 1405, 1409, 1418, 1423,\n",
       "        1426, 1427, 1428, 1434, 1435, 1436, 1437, 1442, 1443, 1445, 1446,\n",
       "        1452, 1457]))"
      ]
     },
     "execution_count": 75,
     "metadata": {},
     "output_type": "execute_result"
    }
   ],
   "source": [
    "kfold = KFold(n_folds, shuffle=True)\n",
    "list(kfold.split(range(labeled_data_m)))[0]"
   ]
  },
  {
   "cell_type": "code",
   "execution_count": 76,
   "metadata": {
    "slideshow": {
     "slide_type": "subslide"
    }
   },
   "outputs": [
    {
     "name": "stdout",
     "output_type": "stream",
     "text": [
      "CV Error:\n",
      "\n",
      "[  1.88924474e+09   1.69883010e+09   1.58725356e+09   7.34165929e+10\n",
      "   6.06317865e+12   1.31150214e+15   5.22649401e+17   3.10338252e+18\n",
      "   1.19258851e+22   1.08156495e+25]\n",
      "\n",
      "Error 最低的次方是 3\n"
     ]
    }
   ],
   "source": [
    "import numpy as np\n",
    "import pandas as pd\n",
    "from sklearn.model_selection import train_test_split\n",
    "from sklearn.preprocessing import PolynomialFeatures\n",
    "from sklearn.linear_model import LinearRegression\n",
    "from sklearn.model_selection import cross_val_score\n",
    "\n",
    "# 切割訓練與驗證樣本\n",
    "train_url = \"https://storage.googleapis.com/kaggle_datasets/House-Prices-Advanced-Regression-Techniques/train.csv\"\n",
    "labeled = pd.read_csv(train_url)\n",
    "y = labeled[\"SalePrice\"].values.reshape(-1, 1)\n",
    "X = labeled[[\"GrLivArea\", \"YearBuilt\", \"GarageArea\", \"TotalBsmtSF\"]].values\n",
    "\n",
    "degrees = range(1, 11)\n",
    "cv_error = np.empty(len(degrees))\n",
    "for d in degrees:\n",
    "    X_poly = PolynomialFeatures(d).fit_transform(X)\n",
    "    regressor = LinearRegression()\n",
    "    cv_score = cross_val_score(regressor, X_poly, y, scoring=\"neg_mean_squared_error\")\n",
    "    cv_error[d - 1] = cv_score.mean()\n",
    "\n",
    "best_degree = np.argmin(np.absolute(cv_error)) + 1\n",
    "print(\"CV Error:\\n\")\n",
    "print(np.absolute(cv_error))\n",
    "print(\"\\nError 最低的次方是 {}\".format(best_degree))"
   ]
  },
  {
   "cell_type": "code",
   "execution_count": 77,
   "metadata": {
    "collapsed": true,
    "slideshow": {
     "slide_type": "subslide"
    }
   },
   "outputs": [],
   "source": [
    "plt.plot(degrees, np.absolute(cv_error), marker='o', label='Cross Validated')\n",
    "plt.axvline(best_degree, 0, 0.5, color='r', label=\"Minimum cv error at d={}\".format(best_degree), alpha=0.3)\n",
    "plt.ylabel('MSE')\n",
    "plt.xlabel('degree')\n",
    "plt.legend(loc='upper right')\n",
    "plt.yscale(\"log\")"
   ]
  },
  {
   "cell_type": "code",
   "execution_count": 78,
   "metadata": {
    "slideshow": {
     "slide_type": "subslide"
    }
   },
   "outputs": [
    {
     "data": {
      "image/png": "[encoded data removed]",
      "text/plain": [
       "<matplotlib.figure.Figure at 0x1a20d4d9e8>"
      ]
     },
     "metadata": {},
     "output_type": "display_data"
    }
   ],
   "source": [
    "plt.show()"
   ]
  },
  {
   "cell_type": "markdown",
   "metadata": {
    "slideshow": {
     "slide_type": "slide"
    }
   },
   "source": [
    "## 正規化 regularization"
   ]
  },
  {
   "cell_type": "markdown",
   "metadata": {
    "slideshow": {
     "slide_type": "subslide"
    }
   },
   "source": [
    "## 目前加入變數、納入次方項與交叉驗證已經很不錯\n",
    "\n",
    "- 但有可能碰上什麼麻煩？"
   ]
  },
  {
   "cell_type": "code",
   "execution_count": 79,
   "metadata": {
    "collapsed": true,
    "slideshow": {
     "slide_type": "skip"
    }
   },
   "outputs": [],
   "source": [
    "import numpy as np\n",
    "from sklearn.preprocessing import PolynomialFeatures\n",
    "from sklearn import linear_model\n",
    "\n",
    "X = np.array([258.0, 270.0, 294.0, 320.0, 342.0, 368.0, 396.0, 446.0, 480.0, 586.0]).reshape(-1, 1)\n",
    "y = np.array([236.4, 234.4, 252.8, 298.6, 314.2, 342.2, 360.8, 368.0, 391.2, 390.8]).reshape(-1, 1)\n",
    "\n",
    "# Fitting\n",
    "lr = linear_model.LinearRegression()\n",
    "pr_q = linear_model.LinearRegression()\n",
    "pr_6 = linear_model.LinearRegression()\n",
    "quadratic = PolynomialFeatures(degree = 2)\n",
    "power_of_6 = PolynomialFeatures(degree = 6)\n",
    "X_quad = quadratic.fit_transform(X)\n",
    "X_p6 = power_of_6.fit_transform(X)\n",
    "lr.fit(X, y)\n",
    "X_fit = np.linspace(250, 600, 100).reshape(-1, 1)\n",
    "y_lin_fit = lr.predict(X_fit)\n",
    "pr_q.fit(X_quad, y)\n",
    "y_quad_fit = pr_q.predict(quadratic.fit_transform(X_fit))\n",
    "pr_6.fit(X_p6, y)\n",
    "y_p6_fit = pr_6.predict(power_of_6.fit_transform(X_fit))"
   ]
  },
  {
   "cell_type": "code",
   "execution_count": 80,
   "metadata": {
    "collapsed": true,
    "slideshow": {
     "slide_type": "skip"
    }
   },
   "outputs": [],
   "source": [
    "import matplotlib.pyplot as plt\n",
    "\n",
    "# Plotting\n",
    "plt.figure(figsize = (14, 4))\n",
    "plt.subplot(1, 3, 1)\n",
    "plt.scatter(X, y)\n",
    "plt.plot(X_fit, y_lin_fit, linestyle = \"--\", c = \"r\")\n",
    "plt.title(\"Under-fitting($\\\\theta_0 + \\\\theta_1x_1$)\")\n",
    "plt.subplot(1, 3, 2)\n",
    "plt.scatter(X, y)\n",
    "plt.plot(X_fit, y_quad_fit, linestyle = \"--\", c = \"r\")\n",
    "plt.title(\"Appropriate fitting($\\\\theta_0 + \\\\theta_1x_1 + \\\\theta_2x_1^2$)\")\n",
    "plt.subplot(1, 3, 3)\n",
    "plt.scatter(X, y)\n",
    "plt.plot(X_fit, y_p6_fit, linestyle = \"--\", c = \"r\")\n",
    "plt.title(\"Over-fitting($\\\\theta_0 + \\\\theta_1x_1 + \\\\theta_2x_1^2 + ... \\\\theta_6x_1^6$)\")\n",
    "plt.tight_layout()"
   ]
  },
  {
   "cell_type": "code",
   "execution_count": 81,
   "metadata": {
    "slideshow": {
     "slide_type": "subslide"
    }
   },
   "outputs": [
    {
     "data": {
      "image/png": "[encoded data removed]",
      "text/plain": [
       "<matplotlib.figure.Figure at 0x10be61e80>"
      ]
     },
     "metadata": {},
     "output_type": "display_data"
    }
   ],
   "source": [
    "plt.show()"
   ]
  },
  {
   "cell_type": "markdown",
   "metadata": {
    "slideshow": {
     "slide_type": "subslide"
    }
   },
   "source": [
    "## 過度配適 Overfitting 的麻煩\n",
    "\n",
    "|Bias|Variance|Fitting|\n",
    "|----|--------|-------|\n",
    "|High|Low|Under-fitting|\n",
    "|Medium|Medium|Appropriate fitting|\n",
    "|Low|High|Over-fitting|"
   ]
  },
  {
   "cell_type": "markdown",
   "metadata": {
    "slideshow": {
     "slide_type": "subslide"
    }
   },
   "source": [
    "## 如果我們採用了高的 degrees\n",
    "\n",
    "- 想個辦法去平滑它：Ridge 方法（$C$ 為一個常數）\n",
    "\n",
    "$$\\sum_{i=0}^d \\theta_i^2 < C$$\n",
    "\n",
    "- 在成本函數後面加入 $\\lambda\\sum_{i=0}^d \\theta_i^2$ 來消弭 $\\theta_i$\n",
    "\n",
    "$$J(\\theta)_{Ridge} = \\sum_{i=1}^{m}(\\hat{y_i}-y_i)^2 + \\lambda \\sum_{i=0}^d \\theta_i^2$$"
   ]
  },
  {
   "cell_type": "markdown",
   "metadata": {
    "slideshow": {
     "slide_type": "subslide"
    }
   },
   "source": [
    "## 觀察 $\\lambda$ 上升，$\\theta_i$ 是否顯著地降低"
   ]
  },
  {
   "cell_type": "code",
   "execution_count": 82,
   "metadata": {
    "slideshow": {
     "slide_type": "subslide"
    }
   },
   "outputs": [
    {
     "name": "stdout",
     "output_type": "stream",
     "text": [
      "lambda: 1, thetas:\n",
      "[  0.00000000e+00   5.26714855e+03   3.65037385e+03   6.03334599e+04\n",
      "   1.45543490e+04  -1.15925636e+00  -4.44291406e+00   6.10256364e-01\n",
      "   1.05478943e+00   8.10171932e+00  -6.36450336e+01  -1.49018040e+01\n",
      "   1.01761562e+00   8.73887754e-01  -1.44585494e+00   2.92621412e-05\n",
      "   5.78676225e-04  -4.80268241e-05  -8.17262604e-05   8.88779161e-04\n",
      "  -3.99768024e-04  -3.99962603e-04   7.79663344e-05   2.56021165e-04\n",
      "  -5.27850113e-05  -3.05696854e-03   1.68642923e-02   3.79898958e-03\n",
      "  -5.19821684e-04  -6.75401277e-04   7.24823474e-04   1.66570372e-05\n",
      "  -1.61247566e-04   9.79021084e-05   1.74720413e-05]\n",
      "lambda: 100, thetas:\n",
      "[  0.00000000e+00   1.59441965e+03   6.56288242e+01   1.69785618e+03\n",
      "   8.73434157e+02  -1.14929447e+00  -1.03317167e+00   1.34038382e+00\n",
      "   1.46454471e+00  -1.11389670e+00  -2.69178697e+00  -4.81172721e-01\n",
      "   8.62872201e-03  -1.46956852e+00  -1.77945387e+00   2.61727887e-05\n",
      "   5.78688054e-04  -5.35920640e-05  -7.28802427e-05   1.03973092e-04\n",
      "  -7.73342291e-04  -6.21592141e-04   9.06877332e-05   2.76190745e-04\n",
      "  -5.90640547e-05   4.09705984e-04   1.02439694e-03   3.42169181e-06\n",
      "   6.09881471e-06   5.39236237e-04   9.00502375e-04   2.26954436e-05\n",
      "  -2.08008753e-04   7.93811542e-05   1.95342755e-05]\n",
      "lambda: 10000, thetas:\n",
      "[  0.00000000e+00   1.78678770e+01   6.58816660e-01   1.75459941e+01\n",
      "   9.36589173e+00  -1.12596111e+00   5.56237095e-01   1.31180848e+00\n",
      "   1.44987917e+00  -2.11741913e+00  -9.07186330e-01   4.44993090e-01\n",
      "  -3.94251656e-03  -1.54820735e+00  -1.79669411e+00   2.56630242e-05\n",
      "   5.67432159e-04  -5.31548840e-05  -7.15362166e-05  -2.96679021e-04\n",
      "  -7.59167018e-04  -6.15495462e-04   9.09539275e-05   2.76100904e-04\n",
      "  -6.00718433e-05   7.58868356e-04   5.51052185e-04  -2.44067716e-04\n",
      "   1.29684846e-05   5.80538851e-04   9.09998494e-04   2.25879986e-05\n",
      "  -2.09425217e-04   7.89411423e-05   1.97035279e-05]\n",
      "lambda: 1000000, thetas:\n",
      "[  0.00000000e+00   1.80231677e-01   5.51334495e-03   1.74917118e-01\n",
      "   9.47674300e-02  -1.12484821e+00   5.73624937e-01   1.30941712e+00\n",
      "   1.44886552e+00  -2.12417881e+00  -8.88903794e-01   4.54302256e-01\n",
      "  -4.25876218e-03  -1.54543990e+00  -1.79663677e+00   2.56524545e-05\n",
      "   5.66864907e-04  -5.31130074e-05  -7.15038931e-05  -3.00940688e-04\n",
      "  -7.57947343e-04  -6.14996277e-04   9.09060888e-05   2.76023347e-04\n",
      "  -6.00901822e-05   7.61179590e-04   5.46245863e-04  -2.46400204e-04\n",
      "   1.31338705e-05   5.79124460e-04   9.09976285e-04   2.25581852e-05\n",
      "  -2.09335171e-04   7.89703652e-05   1.97033604e-05]\n",
      "lambda: 100000000, thetas:\n",
      "[  0.00000000e+00   2.96441544e-03  -8.41041905e-04   1.09516958e-03\n",
      "   1.84002750e-03  -1.04871828e+00   5.33430124e-01   1.13183906e+00\n",
      "   1.36873383e+00  -1.77427747e+00  -8.88614035e-01   3.98708192e-01\n",
      "  -2.09314590e-02  -1.26790746e+00  -1.76032337e+00   2.52114383e-05\n",
      "   5.27463407e-04  -4.99159516e-05  -6.99391657e-05  -2.79783547e-04\n",
      "  -6.67020912e-04  -5.74444669e-04   8.65132616e-05   2.69471302e-04\n",
      "  -6.07518890e-05   6.36508150e-04   5.46236696e-04  -2.17801763e-04\n",
      "   2.17238572e-05   4.36449068e-04   8.91411706e-04   2.02333863e-05\n",
      "  -2.00801521e-04   8.18900020e-05   1.95642150e-05]\n"
     ]
    },
    {
     "name": "stderr",
     "output_type": "stream",
     "text": [
      "/Users/kuoyaojen/anaconda3/lib/python3.6/site-packages/sklearn/linear_model/ridge.py:112: LinAlgWarning:\n",
      "\n",
      "scipy.linalg.solve\n",
      "Ill-conditioned matrix detected. Result is not guaranteed to be accurate.\n",
      "Reciprocal condition number2.597081e-24\n",
      "\n",
      "/Users/kuoyaojen/anaconda3/lib/python3.6/site-packages/sklearn/linear_model/ridge.py:112: LinAlgWarning:\n",
      "\n",
      "scipy.linalg.solve\n",
      "Ill-conditioned matrix detected. Result is not guaranteed to be accurate.\n",
      "Reciprocal condition number2.597081e-22\n",
      "\n",
      "/Users/kuoyaojen/anaconda3/lib/python3.6/site-packages/sklearn/linear_model/ridge.py:112: LinAlgWarning:\n",
      "\n",
      "scipy.linalg.solve\n",
      "Ill-conditioned matrix detected. Result is not guaranteed to be accurate.\n",
      "Reciprocal condition number2.593793e-20\n",
      "\n",
      "/Users/kuoyaojen/anaconda3/lib/python3.6/site-packages/sklearn/linear_model/ridge.py:112: LinAlgWarning:\n",
      "\n",
      "scipy.linalg.solve\n",
      "Ill-conditioned matrix detected. Result is not guaranteed to be accurate.\n",
      "Reciprocal condition number2.593056e-18\n",
      "\n"
     ]
    }
   ],
   "source": [
    "import numpy as np\n",
    "import pandas as pd\n",
    "from sklearn.model_selection import train_test_split\n",
    "from sklearn.preprocessing import PolynomialFeatures\n",
    "from sklearn.linear_model import Ridge\n",
    "from sklearn.model_selection import cross_val_score\n",
    "\n",
    "# 切割訓練與驗證樣本\n",
    "train_url = \"https://storage.googleapis.com/kaggle_datasets/House-Prices-Advanced-Regression-Techniques/train.csv\"\n",
    "labeled = pd.read_csv(train_url)\n",
    "train, validation = train_test_split(labeled, test_size=0.3)\n",
    "y_train = train[\"SalePrice\"].values.reshape(-1, 1)\n",
    "X_train = train[[\"GrLivArea\", \"YearBuilt\", \"GarageArea\", \"TotalBsmtSF\"]].values\n",
    "\n",
    "fig, axes = plt.subplots(5, 1, figsize=(12, 16))\n",
    "d = 3\n",
    "lambdas = [1, 10**2, 10**4, 10**6, 10**8]\n",
    "for i in range(len(lambdas)):\n",
    "    X_train_poly = PolynomialFeatures(d).fit_transform(X_train)\n",
    "    ridge = Ridge(alpha=lambdas[i])\n",
    "    ridge.fit(X_train_poly, y_train)\n",
    "    thetas = ridge.coef_.ravel()\n",
    "    print(\"lambda: {}, thetas:\".format(lambdas[i]))\n",
    "    print(thetas)\n",
    "    axes[i].semilogy(np.abs(thetas), marker='o', label=\"alpha = {}\".format((lambdas[i])))\n",
    "    axes[i].axhline(y=1, linestyle=\"dashed\", linewidth=2, color=\"r\")\n",
    "    axes[i].set_ylabel('abs(coefficient)')\n",
    "    axes[i].set_xlabel('coefficients')\n",
    "    axes[i].legend(loc='upper right')"
   ]
  },
  {
   "cell_type": "code",
   "execution_count": 83,
   "metadata": {
    "slideshow": {
     "slide_type": "subslide"
    }
   },
   "outputs": [
    {
     "data": {
      "image/png": "[encoded data removed]",
      "text/plain": [
       "<matplotlib.figure.Figure at 0x1a2000f630>"
      ]
     },
     "metadata": {},
     "output_type": "display_data"
    }
   ],
   "source": [
    "plt.show()"
   ]
  },
  {
   "cell_type": "markdown",
   "metadata": {
    "slideshow": {
     "slide_type": "subslide"
    }
   },
   "source": [
    "## 那我們又該如何找到合適的 $\\lambda$ 呢？"
   ]
  },
  {
   "cell_type": "markdown",
   "metadata": {
    "slideshow": {
     "slide_type": "slide"
    }
   },
   "source": [
    "## 網格搜尋 GridSearch"
   ]
  },
  {
   "cell_type": "markdown",
   "metadata": {
    "slideshow": {
     "slide_type": "subslide"
    }
   },
   "source": [
    "## `GridSearchCV()` 函數\n",
    "\n",
    "- 能夠幫助我們挑選 **Hyper Parameters**\n",
    "- 整合了交叉驗證\n",
    "\n",
    "```python\n",
    "from sklearn.model_selection import GridSearchCV\n",
    "\n",
    "regressor = Ridge()\n",
    "parameters = {\"alpha\": [1, 10, 10**2, 10**3, 10**4, 10**5]}\n",
    "gridclassifier=GridSearchCV(regressor, param_grid=parameters, cv=4, scoring=\"neg_mean_squared_error\")\n",
    "```"
   ]
  },
  {
   "cell_type": "code",
   "execution_count": 84,
   "metadata": {
    "collapsed": true,
    "slideshow": {
     "slide_type": "subslide"
    }
   },
   "outputs": [],
   "source": [
    "from sklearn.model_selection import GridSearchCV\n",
    "\n",
    "def cv_optimize_ridge(X, y, n_folds=4):\n",
    "    regressor = Ridge()\n",
    "    parameters = {\"alpha\": [1, 10, 10**2, 10**3, 10**4, 10**5]}\n",
    "    gs = GridSearchCV(regressor, param_grid=parameters, cv=n_folds, scoring=\"neg_mean_squared_error\")\n",
    "    gs.fit(X, y)\n",
    "    return gs"
   ]
  },
  {
   "cell_type": "code",
   "execution_count": 85,
   "metadata": {
    "collapsed": true,
    "slideshow": {
     "slide_type": "subslide"
    }
   },
   "outputs": [],
   "source": [
    "fit_model = cv_optimize_ridge(X_train, y_train, n_folds=4)"
   ]
  },
  {
   "cell_type": "code",
   "execution_count": 86,
   "metadata": {
    "slideshow": {
     "slide_type": "subslide"
    }
   },
   "outputs": [
    {
     "name": "stdout",
     "output_type": "stream",
     "text": [
      "Ridge(alpha=1, copy_X=True, fit_intercept=True, max_iter=None,\n",
      "   normalize=False, random_state=None, solver='auto', tol=0.001)\n",
      "{'alpha': 1}\n",
      "-2118861006.65\n"
     ]
    }
   ],
   "source": [
    "print(fit_model.best_estimator_)\n",
    "print(fit_model.best_params_)\n",
    "print(fit_model.best_score_)"
   ]
  },
  {
   "cell_type": "code",
   "execution_count": 87,
   "metadata": {
    "collapsed": true,
    "slideshow": {
     "slide_type": "subslide"
    }
   },
   "outputs": [],
   "source": [
    "best_alpha = fit_model.best_params_['alpha']\n",
    "regressor = Ridge(alpha=best_alpha).fit(X_train,y_train)"
   ]
  }
 ],
 "metadata": {
  "celltoolbar": "Slideshow",
  "kernelspec": {
   "display_name": "Python 3",
   "language": "python",
   "name": "python3"
  },
  "language_info": {
   "codemirror_mode": {
    "name": "ipython",
    "version": 3
   },
   "file_extension": ".py",
   "mimetype": "text/x-python",
   "name": "python",
   "nbconvert_exporter": "python",
   "pygments_lexer": "ipython3",
   "version": "3.6.0"
  }
 },
 "nbformat": 4,
 "nbformat_minor": 2
}
