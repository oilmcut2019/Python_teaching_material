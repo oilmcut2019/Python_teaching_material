{
 "cells": [
  {
   "cell_type": "markdown",
   "metadata": {
    "slideshow": {
     "slide_type": "slide"
    }
   },
   "source": [
    "# 資料結構\n",
    "\n",
    "## 郭耀仁"
   ]
  },
  {
   "cell_type": "markdown",
   "metadata": {
    "slideshow": {
     "slide_type": "slide"
    }
   },
   "source": [
    "## 資料結構\n",
    "\n",
    "- From ingredients to collections\n",
    "- 這句話是什麼意思？\n",
    "- 資料結構是不同的變數存放方法"
   ]
  },
  {
   "cell_type": "markdown",
   "metadata": {
    "slideshow": {
     "slide_type": "subslide"
    }
   },
   "source": [
    "## 資料結構（2）\n",
    "\n",
    "- 我們可以用兩種方法儲存星期的資訊\n",
    "\n",
    "```python\n",
    "# 方法一\n",
    "sun = \"Sunday\"\n",
    "mon = \"Monday\"\n",
    "tue = \"Tuesday\"\n",
    "wed = \"Wednesday\"\n",
    "thu = \"Thursday\"\n",
    "fri = \"Friday\"\n",
    "sat = \"Saturday\"\n",
    "\n",
    "# 方法二\n",
    "weekdays = [\"Sunday\", \"Monday\", \"Tuesday\", \"Wednesday\", \"Thursday\", \"Friday\", \"Saturday\"]\n",
    "```"
   ]
  },
  {
   "cell_type": "markdown",
   "metadata": {
    "slideshow": {
     "slide_type": "slide"
    }
   },
   "source": [
    "## 我們會講哪些資料結構\n",
    "\n",
    "- Python 原生資料結構\n",
    "    - list\n",
    "    - tuple\n",
    "    - dict\n",
    "    - set\n",
    "- 套件資料結構\n",
    "    - ndarray\n",
    "    - series\n",
    "    - data frame\n",
    "    - panel"
   ]
  },
  {
   "cell_type": "markdown",
   "metadata": {
    "slideshow": {
     "slide_type": "slide"
    }
   },
   "source": [
    "## list\n",
    "\n",
    "- 建立時使用 `[]` 中括號\n",
    "- 可以容納不同的變數類型（str, int, float, bool, complex）\n",
    "- Python 的索引值從 0 開始算\n",
    "\n",
    "```python\n",
    "team_name = \"Chicago Bulls\"\n",
    "wins = 72\n",
    "losses = 10\n",
    "win_percentage = wins / (wins + losses)\n",
    "is_champion = True\n",
    "\n",
    "chicago_bulls = [team_name, wins, losses, win_percentage, is_champion]\n",
    "```"
   ]
  },
  {
   "cell_type": "markdown",
   "metadata": {
    "slideshow": {
     "slide_type": "subslide"
    }
   },
   "source": [
    "## 隨堂練習\n",
    "\n",
    "- 建立一個 list 叫做 friends_list 儲存這些資訊\n",
    "\n",
    "```python\n",
    "genre = \"SitCom\"\n",
    "seasons = 10\n",
    "episodes = 236\n",
    "stars = [\"Jennifer Aniston\", \"Courteney Cox\", \"Lisa Kudrow\",\n",
    "\"Matt LeBlanc\", \"Matthew Perry\", \"David Schwimmer\"]\n",
    "```"
   ]
  },
  {
   "cell_type": "markdown",
   "metadata": {
    "slideshow": {
     "slide_type": "subslide"
    }
   },
   "source": [
    "## 隨堂練習\n",
    "\n",
    "- 建立好以後，請將季數與 \"Matthew Perry\" 印出"
   ]
  },
  {
   "cell_type": "markdown",
   "metadata": {
    "slideshow": {
     "slide_type": "slide"
    }
   },
   "source": [
    "## tuple\n",
    "\n",
    "- 跟 list 很像，但是我們不能新增，刪除或者更新 tuple 的元素\n",
    "- 建立時使用 `()` 小括號或者使用 `tuple()` 函數轉換既有的 list\n",
    "\n",
    "```python\n",
    "team_name = \"Chicago Bulls\"\n",
    "wins = 72\n",
    "losses = 10\n",
    "win_percentage = wins / (wins + losses)\n",
    "is_champion = True\n",
    "\n",
    "chicago_bulls_list = [team_name, wins, losses, win_percentage, is_champion]\n",
    "chicago_bulls_tuple = (team_name, wins, losses, win_percentage, is_champion)\n",
    "# chicago_bulls_tuple = tuple(chicago_bulls_list)\n",
    "```"
   ]
  },
  {
   "cell_type": "markdown",
   "metadata": {
    "slideshow": {
     "slide_type": "subslide"
    }
   },
   "source": [
    "## 隨堂練習\n",
    "\n",
    "- 請同學使用 `.append()` 的方法為 list 與 tuple 加入元素 `season = \"1995-96\"`\n",
    "\n",
    "```python\n",
    "season = \"1995-96\"\n",
    "chicago_bulls_list.append(season)\n",
    "```"
   ]
  },
  {
   "cell_type": "markdown",
   "metadata": {
    "slideshow": {
     "slide_type": "slide"
    }
   },
   "source": [
    "## dict\n",
    "\n",
    "- 帶有鍵值（key）的 list\n",
    "- 建立時使用大括號 `{}`\n",
    "\n",
    "```python\n",
    "team_name = \"Chicago Bulls\"\n",
    "wins = 72\n",
    "losses = 10\n",
    "win_percentage = wins / (wins + losses)\n",
    "is_champion = True\n",
    "\n",
    "chicago_bulls = {\n",
    "    \"team_name\": team_name,\n",
    "    \"wins\": wins,\n",
    "    \"losses\": losses,\n",
    "    \"win_percentage\": win_percentage,\n",
    "    \"is_champion\": is_champion\n",
    "}\n",
    "```"
   ]
  },
  {
   "cell_type": "markdown",
   "metadata": {
    "slideshow": {
     "slide_type": "subslide"
    }
   },
   "source": [
    "## 隨堂練習\n",
    "\n",
    "- 建立一個 dict 叫做 friends_dict 儲存這些資訊\n",
    "\n",
    "```python\n",
    "genre = \"SitCom\"\n",
    "seasons = 10\n",
    "episodes = 236\n",
    "stars = [\"Jennifer Aniston\", \"Courteney Cox\", \"Lisa Kudrow\",\n",
    "\"Matt LeBlanc\", \"Matthew Perry\", \"David Schwimmer\"]\n",
    "```"
   ]
  },
  {
   "cell_type": "markdown",
   "metadata": {
    "slideshow": {
     "slide_type": "subslide"
    }
   },
   "source": [
    "## 隨堂練習\n",
    "\n",
    "- 建立好以後，請將季數與 \"Lisa Kudrow\" 印出"
   ]
  },
  {
   "cell_type": "markdown",
   "metadata": {
    "slideshow": {
     "slide_type": "slide"
    }
   },
   "source": [
    "## set\n",
    "\n",
    "- 存放唯一值（unique values）的結構\n",
    "- 建立時使用大括號 `{}`"
   ]
  },
  {
   "cell_type": "code",
   "execution_count": 1,
   "metadata": {},
   "outputs": [
    {
     "name": "stdout",
     "output_type": "stream",
     "text": [
      "{'blue', 'green', 'red'}\n",
      "3\n"
     ]
    }
   ],
   "source": [
    "rgb = {\"red\", \"green\", \"blue\", \"blue\", \"green\", \"red\"}\n",
    "print(rgb)\n",
    "print(len(rgb))"
   ]
  },
  {
   "cell_type": "markdown",
   "metadata": {
    "slideshow": {
     "slide_type": "subslide"
    }
   },
   "source": [
    "## set（2）\n",
    "\n",
    "- set 不能夠用中括號選取元素\n",
    "\n",
    "```python\n",
    "rgb = {\"red\", \"green\", \"blue\", \"blue\", \"green\", \"red\"}\n",
    "rgb[0]\n",
    "```"
   ]
  }
 ],
 "metadata": {
  "celltoolbar": "Slideshow",
  "kernelspec": {
   "display_name": "Python 3",
   "language": "python",
   "name": "python3"
  },
  "language_info": {
   "codemirror_mode": {
    "name": "ipython",
    "version": 3
   },
   "file_extension": ".py",
   "mimetype": "text/x-python",
   "name": "python",
   "nbconvert_exporter": "python",
   "pygments_lexer": "ipython3",
   "version": "3.6.0"
  }
 },
 "nbformat": 4,
 "nbformat_minor": 1
}
