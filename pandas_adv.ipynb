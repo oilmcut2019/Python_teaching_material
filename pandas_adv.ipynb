{
 "cells": [
  {
   "cell_type": "markdown",
   "metadata": {
    "slideshow": {
     "slide_type": "slide"
    }
   },
   "source": [
    "# 再探 Pandas\n",
    "\n",
    "## 郭耀仁"
   ]
  },
  {
   "cell_type": "markdown",
   "metadata": {
    "slideshow": {
     "slide_type": "slide"
    }
   },
   "source": [
    "## 解構 Pandas DataFrame\n",
    "\n",
    "- `Pandas` 的 `DataFrame` 是由 `Series` 組成的\n",
    "- 更底層其實是 `NumPy` array\n",
    "\n",
    "```python\n",
    "import pandas as pd\n",
    "\n",
    "url = \"https://storage.googleapis.com/py_ds_basic/iris.csv\" # 在雲端上儲存了一份 csv 檔案\n",
    "iris_df = pd.read_csv(url)\n",
    "print(type(iris_df))\n",
    "print(type(iris_df.Species))\n",
    "print(type(iris_df.values))\n",
    "```"
   ]
  },
  {
   "cell_type": "markdown",
   "metadata": {
    "slideshow": {
     "slide_type": "subslide"
    }
   },
   "source": [
    "## 解構 Pandas DataFrame（2）\n",
    "\n",
    "- `.index` 是看觀測值的索引\n",
    "- `.columns` 是看變數名稱\n",
    "- `.values` 可以將 **ndarray** 顯示出來\n",
    "\n",
    "```python\n",
    "import pandas as pd\n",
    "\n",
    "url = \"https://storage.googleapis.com/py_ds_basic/iris.csv\" # 在雲端上儲存了一份 csv 檔案\n",
    "iris_df = pd.read_csv(url)\n",
    "print(iris_df.index)\n",
    "print(iris_df.columns)\n",
    "print(iris_df.values)\n",
    "```"
   ]
  },
  {
   "cell_type": "markdown",
   "metadata": {
    "slideshow": {
     "slide_type": "subslide"
    }
   },
   "source": [
    "## 解構 Pandas DataFrame（3）\n",
    "\n",
    "- `.sort_index()` 可以依照觀測值或變數名稱排序\n",
    "- `.sort_values()` 可以依照變數排序\n",
    "\n",
    "```python\n",
    "import pandas as pd\n",
    "\n",
    "url = \"https://storage.googleapis.com/py_ds_basic/iris.csv\" # 在雲端上儲存了一份 csv 檔案\n",
    "iris_df = pd.read_csv(url)\n",
    "print(iris_df.sort_index(axis = 0, ascending = False))\n",
    "print(iris_df.sort_index(axis = 1))\n",
    "print(iris_df.sort_values(by = 'Sepal.Length'))\n",
    "```"
   ]
  },
  {
   "cell_type": "markdown",
   "metadata": {
    "slideshow": {
     "slide_type": "subslide"
    }
   },
   "source": [
    "## 解構 Pandas DataFrame（4）\n",
    "\n",
    "- 練習解構 `straw_hat_df`\n",
    "- 用 `age` 遞減排序 `straw_hat_df`\n",
    "\n",
    "```python\n",
    "import pandas as pd # 引用套件並縮寫為 pd\n",
    "\n",
    "name = [\"Monkey D. Luffy\", \"Roronoa Zoro\", \"Nami\", \"Usopp\", \"Vinsmoke Sanji\", \"Tony Tony Chopper\", \"Nico Robin\", \"Franky\", \"Brook\"]\n",
    "age = [19, 21, 20, 19, 21, 17, 30, 36, 90]\n",
    "is_male = [True, True, False, True, True, True, False, True, True]\n",
    "\n",
    "straw_hat_dict = {\"name\": name,\n",
    "                  \"age\": age,\n",
    "                  \"is_male\": is_male\n",
    "}\n",
    "\n",
    "straw_hat_df = pd.DataFrame(straw_hat_dict)\n",
    "```"
   ]
  },
  {
   "cell_type": "markdown",
   "metadata": {
    "slideshow": {
     "slide_type": "slide"
    }
   },
   "source": [
    "## 再探索引值選擇\n",
    "\n",
    "- `.iloc()`：照位置看\n",
    "- `.loc()`：照索引值\n",
    "- `.ix()`：索引值在混合情況下，索引值為整數時如 `.iloc()`，為文字時如 `.loc()`"
   ]
  },
  {
   "cell_type": "markdown",
   "metadata": {
    "slideshow": {
     "slide_type": "subslide"
    }
   },
   "source": [
    "## 再探索引值選擇（2）\n",
    "\n",
    "- 用例子講比較好懂！\n",
    "\n",
    "```python\n",
    "import pandas as pd\n",
    "import numpy as np\n",
    "\n",
    "s = pd.Series(np.zeros(10), index = [49,48,47,46,45, 1, 2, 3, 4, 5])\n",
    "print(s)\n",
    "print(s.iloc[:3])\n",
    "print(s.loc[:3])\n",
    "print(s.ix[:3])\n",
    "```"
   ]
  },
  {
   "cell_type": "markdown",
   "metadata": {
    "slideshow": {
     "slide_type": "subslide"
    }
   },
   "source": [
    "## 再探索引值選擇（3）\n",
    "\n",
    "```python\n",
    "import pandas as pd\n",
    "import numpy as np\n",
    "\n",
    "s = pd.Series(np.zeros(10), index = [49,48,47,46,45, 1, 2, 3, 4, 5])\n",
    "print(s)\n",
    "print(s.iloc[:6])\n",
    "print(s.loc[:6]) # KeyError: 6\n",
    "print(s.ix[:6]) # KeyError: 6\n",
    "```"
   ]
  },
  {
   "cell_type": "markdown",
   "metadata": {
    "slideshow": {
     "slide_type": "subslide"
    }
   },
   "source": [
    "## 再探索引值選擇（4）\n",
    "\n",
    "```python\n",
    "import pandas as pd\n",
    "import numpy as np\n",
    "\n",
    "s = pd.Series(np.zeros(10), index = [\"a\", \"b\", \"c\", \"d\", \"e\", 1, 2, 3, 4, 5])\n",
    "print(s)\n",
    "print(s.ix[:6])\n",
    "print(s.ix[:\"d\"])\n",
    "```"
   ]
  },
  {
   "cell_type": "markdown",
   "metadata": {
    "slideshow": {
     "slide_type": "subslide"
    }
   },
   "source": [
    "## 再探索引值選擇（5）\n",
    "\n",
    "- 體驗一下 `.iloc()`、`.loc()` 與 `.ix()` 的不同"
   ]
  },
  {
   "cell_type": "markdown",
   "metadata": {
    "slideshow": {
     "slide_type": "slide"
    }
   },
   "source": [
    "## 處理遺漏值\n",
    "\n",
    "- 利用 `numpy.NaN` 建立遺漏值\n",
    "\n",
    "```python\n",
    "import pandas as pd # 引用套件並縮寫為 pd\n",
    "import numpy as np\n",
    "\n",
    "name = [\"Monkey D. Luffy\", \"Roronoa Zoro\", \"Nami\", \"Usopp\", \"Vinsmoke Sanji\", \"Tony Tony Chopper\", \"Nico Robin\", \"Franky\", \"Brook\", np.NaN]\n",
    "age = [19, 21, 20, 19, 21, 17, 30, 36, np.NaN, np.NaN]\n",
    "is_male = [True, True, False, True, True, np.NaN, False, True, True, np.NaN]\n",
    "\n",
    "straw_hat_dict = {\"name\": name,\n",
    "                  \"age\": age,\n",
    "                  \"is_male\": is_male\n",
    "}\n",
    "\n",
    "straw_hat_df = pd.DataFrame(straw_hat_dict)\n",
    "straw_hat_df\n",
    "```"
   ]
  },
  {
   "cell_type": "markdown",
   "metadata": {
    "slideshow": {
     "slide_type": "subslide"
    }
   },
   "source": [
    "## 處理遺漏值（2）\n",
    "\n",
    "- 練習利用 `.dropna()` 刪去遺漏值\n",
    "- `how` 參數可以指定 `all` 或 `any` 試試看"
   ]
  },
  {
   "cell_type": "markdown",
   "metadata": {
    "slideshow": {
     "slide_type": "subslide"
    }
   },
   "source": [
    "## 處理遺漏值（3）\n",
    "\n",
    "- 練習利用 `.fillna()` 填補遺漏值\n",
    "\n",
    "```python\n",
    "import pandas as pd # 引用套件並縮寫為 pd\n",
    "import numpy as np\n",
    "\n",
    "name = [\"Monkey D. Luffy\", \"Roronoa Zoro\", \"Nami\", \"Usopp\", \"Vinsmoke Sanji\", \"Tony Tony Chopper\", \"Nico Robin\", \"Franky\", \"Brook\"]\n",
    "age = [19, 21, 20, 19, 21, 17, 30, 36, np.NaN]\n",
    "is_male = [True, True, False, True, True, np.NaN, False, True, True]\n",
    "\n",
    "straw_hat_dict = {\"name\": name,\n",
    "                  \"age\": age,\n",
    "                  \"is_male\": is_male\n",
    "}\n",
    "\n",
    "straw_hat_df = pd.DataFrame(straw_hat_dict)\n",
    "```"
   ]
  },
  {
   "cell_type": "markdown",
   "metadata": {
    "slideshow": {
     "slide_type": "slide"
    }
   },
   "source": [
    "## 檢視相異值個數\n",
    "\n",
    "- `.value_counts()`\n",
    "\n",
    "```python\n",
    "import pandas as pd # 引用套件並縮寫為 pd\n",
    "\n",
    "name = [\"Monkey D. Luffy\", \"Roronoa Zoro\", \"Nami\", \"Usopp\", \"Vinsmoke Sanji\", \"Tony Tony Chopper\", \"Nico Robin\", \"Franky\", \"Brook\"]\n",
    "age = [19, 21, 20, 19, 21, 17, 30, 36, 90]\n",
    "is_male = [True, True, False, True, True, True, False, True, True]\n",
    "\n",
    "straw_hat_dict = {\"name\": name,\n",
    "                  \"age\": age,\n",
    "                  \"is_male\": is_male\n",
    "}\n",
    "\n",
    "straw_hat_df = pd.DataFrame(straw_hat_dict)\n",
    "straw_hat_df.is_male.value_counts()\n",
    "```"
   ]
  },
  {
   "cell_type": "markdown",
   "metadata": {
    "slideshow": {
     "slide_type": "slide"
    }
   },
   "source": [
    "## 合併\n",
    "\n",
    "- `pandas.concat()` 方法\n",
    "- 練習將 `straw_hat_sub_df_1` 與 `straw_hat_sub_df_2` 水平合併起來\n",
    "\n",
    "```python\n",
    "import pandas as pd # 引用套件並縮寫為 pd\n",
    "\n",
    "name = [\"Monkey D. Luffy\", \"Roronoa Zoro\", \"Nami\", \"Usopp\", \"Vinsmoke Sanji\", \"Tony Tony Chopper\", \"Nico Robin\", \"Franky\", \"Brook\"]\n",
    "age = [19, 21, 20, 19, 21, 17, 30, 36, 90]\n",
    "is_male = [True, True, False, True, True, True, False, True, True]\n",
    "\n",
    "straw_hat_dict = {\"name\": name,\n",
    "                  \"age\": age,\n",
    "                  \"is_male\": is_male\n",
    "}\n",
    "\n",
    "straw_hat_df = pd.DataFrame(straw_hat_dict)\n",
    "\n",
    "straw_hat_sub_df_1 = straw_hat_df.ix[:, \"age\":\"is_male\"]\n",
    "straw_hat_sub_df_2 = straw_hat_df.ix[:, \"name\"]\n",
    "pd.concat([___, ___], axis = 1)\n",
    "```"
   ]
  },
  {
   "cell_type": "markdown",
   "metadata": {
    "slideshow": {
     "slide_type": "subslide"
    }
   },
   "source": [
    "## 合併（2）\n",
    "\n",
    "- `pandas.concat()` 方法\n",
    "- 練習將 `straw_hat_sub_df_1` 與 `straw_hat_sub_df_2` 垂直合併起來\n",
    "\n",
    "```python\n",
    "import pandas as pd # 引用套件並縮寫為 pd\n",
    "\n",
    "name = [\"Monkey D. Luffy\", \"Roronoa Zoro\", \"Nami\", \"Usopp\", \"Vinsmoke Sanji\", \"Tony Tony Chopper\", \"Nico Robin\", \"Franky\", \"Brook\"]\n",
    "age = [19, 21, 20, 19, 21, 17, 30, 36, 90]\n",
    "is_male = [True, True, False, True, True, True, False, True, True]\n",
    "\n",
    "straw_hat_dict = {\"name\": name,\n",
    "                  \"age\": age,\n",
    "                  \"is_male\": is_male\n",
    "}\n",
    "\n",
    "straw_hat_df = pd.DataFrame(straw_hat_dict)\n",
    "\n",
    "straw_hat_sub_df_1 = straw_hat_df.ix[:4, :]\n",
    "straw_hat_sub_df_2 = straw_hat_df.ix[5:, :]\n",
    "pd.concat([___, ___])\n",
    "```"
   ]
  },
  {
   "cell_type": "markdown",
   "metadata": {
    "slideshow": {
     "slide_type": "subslide"
    }
   },
   "source": [
    "## 合併（3）\n",
    "\n",
    "- Inner Join\n",
    "\n",
    "```python\n",
    "import pandas as pd # 引用套件並縮寫為 pd\n",
    "\n",
    "name = [\"Monkey D. Luffy\", \"Roronoa Zoro\", \"Nami\", \"Usopp\", \"Vinsmoke Sanji\", \"Tony Tony Chopper\", \"Nico Robin\", \"Franky\", \"Brook\"]\n",
    "age = [19, 21, 20, 19, 21, 17, 30, 36, 90]\n",
    "straw_hat_dict = {\n",
    "    \"name\": name,\n",
    "    \"age\": age\n",
    "}\n",
    "\n",
    "name = [\"Monkey D. Luffy\", \"Tony Tony Chopper\", \"Nico Robin\", \"Brook\", \"Trafalgar D. Water Law\"]\n",
    "devil_fruit = [\"Gum-Gum Fruit\", \"Human-Human Fruit\", \"Hana-Hana Fruit\", \"Revive-Revive Fruit\", \"Op-Op Fruit\"]\n",
    "devil_fruit_dict = {\n",
    "    \"name\": name,\n",
    "    \"devil_fruit\": devil_fruit\n",
    "}\n",
    "\n",
    "straw_hat_df = pd.DataFrame(straw_hat_dict)\n",
    "devil_fruit_df = pd.DataFrame(devil_fruit_dict)\n",
    "inner_joined = pd.merge(straw_hat_df, devil_fruit_df)\n",
    "inner_joined\n",
    "```"
   ]
  },
  {
   "cell_type": "markdown",
   "metadata": {
    "slideshow": {
     "slide_type": "subslide"
    }
   },
   "source": [
    "## 合併（4）\n",
    "\n",
    "- Left Outer Join\n",
    "\n",
    "```python\n",
    "import pandas as pd # 引用套件並縮寫為 pd\n",
    "\n",
    "name = [\"Monkey D. Luffy\", \"Roronoa Zoro\", \"Nami\", \"Usopp\", \"Vinsmoke Sanji\", \"Tony Tony Chopper\", \"Nico Robin\", \"Franky\", \"Brook\"]\n",
    "age = [19, 21, 20, 19, 21, 17, 30, 36, 90]\n",
    "straw_hat_dict = {\n",
    "    \"name\": name,\n",
    "    \"age\": age\n",
    "}\n",
    "\n",
    "name = [\"Monkey D. Luffy\", \"Tony Tony Chopper\", \"Nico Robin\", \"Brook\", \"Trafalgar D. Water Law\"]\n",
    "devil_fruit = [\"Gum-Gum Fruit\", \"Human-Human Fruit\", \"Hana-Hana Fruit\", \"Revive-Revive Fruit\", \"Op-Op Fruit\"]\n",
    "devil_fruit_dict = {\n",
    "    \"name\": name,\n",
    "    \"devil_fruit\": devil_fruit\n",
    "}\n",
    "\n",
    "straw_hat_df = pd.DataFrame(straw_hat_dict)\n",
    "devil_fruit_df = pd.DataFrame(devil_fruit_dict)\n",
    "left_joined = pd.merge(straw_hat_df, devil_fruit_df, how = \"left\")\n",
    "left_joined\n",
    "```"
   ]
  },
  {
   "cell_type": "markdown",
   "metadata": {
    "slideshow": {
     "slide_type": "subslide"
    }
   },
   "source": [
    "## 合併（5）\n",
    "\n",
    "- Right Outer Join\n",
    "\n",
    "```python\n",
    "import pandas as pd # 引用套件並縮寫為 pd\n",
    "\n",
    "name = [\"Monkey D. Luffy\", \"Roronoa Zoro\", \"Nami\", \"Usopp\", \"Vinsmoke Sanji\", \"Tony Tony Chopper\", \"Nico Robin\", \"Franky\", \"Brook\"]\n",
    "age = [19, 21, 20, 19, 21, 17, 30, 36, 90]\n",
    "straw_hat_dict = {\n",
    "    \"name\": name,\n",
    "    \"age\": age\n",
    "}\n",
    "\n",
    "name = [\"Monkey D. Luffy\", \"Tony Tony Chopper\", \"Nico Robin\", \"Brook\", \"Trafalgar D. Water Law\"]\n",
    "devil_fruit = [\"Gum-Gum Fruit\", \"Human-Human Fruit\", \"Hana-Hana Fruit\", \"Revive-Revive Fruit\", \"Op-Op Fruit\"]\n",
    "devil_fruit_dict = {\n",
    "    \"name\": name,\n",
    "    \"devil_fruit\": devil_fruit\n",
    "}\n",
    "\n",
    "straw_hat_df = pd.DataFrame(straw_hat_dict)\n",
    "devil_fruit_df = pd.DataFrame(devil_fruit_dict)\n",
    "right_joined = pd.merge(straw_hat_df, devil_fruit_df, how = \"right\")\n",
    "right_joined\n",
    "```"
   ]
  },
  {
   "cell_type": "markdown",
   "metadata": {
    "slideshow": {
     "slide_type": "subslide"
    }
   },
   "source": [
    "## 合併（6）\n",
    "\n",
    "- Full Outer Join\n",
    "\n",
    "```python\n",
    "import pandas as pd # 引用套件並縮寫為 pd\n",
    "\n",
    "name = [\"Monkey D. Luffy\", \"Roronoa Zoro\", \"Nami\", \"Usopp\", \"Vinsmoke Sanji\", \"Tony Tony Chopper\", \"Nico Robin\", \"Franky\", \"Brook\"]\n",
    "age = [19, 21, 20, 19, 21, 17, 30, 36, 90]\n",
    "straw_hat_dict = {\n",
    "    \"name\": name,\n",
    "    \"age\": age\n",
    "}\n",
    "\n",
    "name = [\"Monkey D. Luffy\", \"Tony Tony Chopper\", \"Nico Robin\", \"Brook\", \"Trafalgar D. Water Law\"]\n",
    "devil_fruit = [\"Gum-Gum Fruit\", \"Human-Human Fruit\", \"Hana-Hana Fruit\", \"Revive-Revive Fruit\", \"Op-Op Fruit\"]\n",
    "devil_fruit_dict = {\n",
    "    \"name\": name,\n",
    "    \"devil_fruit\": devil_fruit\n",
    "}\n",
    "\n",
    "straw_hat_df = pd.DataFrame(straw_hat_dict)\n",
    "devil_fruit_df = pd.DataFrame(devil_fruit_dict)\n",
    "full_joined = pd.merge(straw_hat_df, devil_fruit_df, how = \"outer\")\n",
    "full_joined\n",
    "```"
   ]
  }
 ],
 "metadata": {
  "celltoolbar": "Slideshow",
  "kernelspec": {
   "display_name": "Python 3",
   "language": "python",
   "name": "python3"
  },
  "language_info": {
   "codemirror_mode": {
    "name": "ipython",
    "version": 3
   },
   "file_extension": ".py",
   "mimetype": "text/x-python",
   "name": "python",
   "nbconvert_exporter": "python",
   "pygments_lexer": "ipython3",
   "version": "3.6.0"
  }
 },
 "nbformat": 4,
 "nbformat_minor": 2
}
