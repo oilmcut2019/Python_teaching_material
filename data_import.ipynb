{
 "cells": [
  {
   "cell_type": "markdown",
   "metadata": {
    "slideshow": {
     "slide_type": "slide"
    }
   },
   "source": [
    "# 資料載入\n",
    "\n",
    "## 郭耀仁"
   ]
  },
  {
   "cell_type": "markdown",
   "metadata": {
    "slideshow": {
     "slide_type": "subslide"
    }
   },
   "source": [
    "## 資料載入\n",
    "\n",
    "- 載入 CSV 檔案\n",
    "- 載入 TXT 檔案\n",
    "- 載入 EXCEL 檔案\n",
    "- 載入 JSON 檔案"
   ]
  },
  {
   "cell_type": "markdown",
   "metadata": {
    "slideshow": {
     "slide_type": "subslide"
    }
   },
   "source": [
    "## 載入 CSV 檔案\n",
    "\n",
    "- 使用 `pandas` 套件的 `.read_csv()` 方法載入 csv 檔案"
   ]
  },
  {
   "cell_type": "code",
   "execution_count": 1,
   "metadata": {
    "collapsed": false
   },
   "outputs": [
    {
     "data": {
      "text/html": [
       "<div>\n",
       "<style>\n",
       "    .dataframe thead tr:only-child th {\n",
       "        text-align: right;\n",
       "    }\n",
       "\n",
       "    .dataframe thead th {\n",
       "        text-align: left;\n",
       "    }\n",
       "\n",
       "    .dataframe tbody tr th {\n",
       "        vertical-align: top;\n",
       "    }\n",
       "</style>\n",
       "<table border=\"1\" class=\"dataframe\">\n",
       "  <thead>\n",
       "    <tr style=\"text-align: right;\">\n",
       "      <th></th>\n",
       "      <th>characters</th>\n",
       "      <th>stars</th>\n",
       "    </tr>\n",
       "  </thead>\n",
       "  <tbody>\n",
       "    <tr>\n",
       "      <th>0</th>\n",
       "      <td>Rachel Green</td>\n",
       "      <td>Jennifer Aniston</td>\n",
       "    </tr>\n",
       "    <tr>\n",
       "      <th>1</th>\n",
       "      <td>Monica Geller</td>\n",
       "      <td>Courteney Cox</td>\n",
       "    </tr>\n",
       "    <tr>\n",
       "      <th>2</th>\n",
       "      <td>Phoebe Buffay</td>\n",
       "      <td>Lisa Kudrow</td>\n",
       "    </tr>\n",
       "    <tr>\n",
       "      <th>3</th>\n",
       "      <td>Joey Tribbiani</td>\n",
       "      <td>Matt LeBlanc</td>\n",
       "    </tr>\n",
       "    <tr>\n",
       "      <th>4</th>\n",
       "      <td>Chandler Bing</td>\n",
       "      <td>Matthew Perry</td>\n",
       "    </tr>\n",
       "    <tr>\n",
       "      <th>5</th>\n",
       "      <td>Ross Geller</td>\n",
       "      <td>David Schwimmer</td>\n",
       "    </tr>\n",
       "  </tbody>\n",
       "</table>\n",
       "</div>"
      ],
      "text/plain": [
       "       characters             stars\n",
       "0    Rachel Green  Jennifer Aniston\n",
       "1   Monica Geller     Courteney Cox\n",
       "2   Phoebe Buffay       Lisa Kudrow\n",
       "3  Joey Tribbiani      Matt LeBlanc\n",
       "4   Chandler Bing     Matthew Perry\n",
       "5     Ross Geller   David Schwimmer"
      ]
     },
     "execution_count": 1,
     "metadata": {},
     "output_type": "execute_result"
    }
   ],
   "source": [
    "import pandas as pd\n",
    "\n",
    "url = \"https://storage.googleapis.com/intro-2-py-ds/data/ch9/friends_df.csv\" # 在雲端上儲存了一份 csv 檔案\n",
    "friends_df = pd.read_csv(url)\n",
    "friends_df"
   ]
  },
  {
   "cell_type": "markdown",
   "metadata": {
    "slideshow": {
     "slide_type": "subslide"
    }
   },
   "source": [
    "## 載入 TXT 檔案\n",
    "\n",
    "- 使用 `pandas` 套件的 `.read_table()` 方法載入 txt 檔案\n",
    "- 自行指定 `sep` 參數"
   ]
  },
  {
   "cell_type": "code",
   "execution_count": 2,
   "metadata": {
    "collapsed": false
   },
   "outputs": [
    {
     "data": {
      "text/html": [
       "<div>\n",
       "<style>\n",
       "    .dataframe thead tr:only-child th {\n",
       "        text-align: right;\n",
       "    }\n",
       "\n",
       "    .dataframe thead th {\n",
       "        text-align: left;\n",
       "    }\n",
       "\n",
       "    .dataframe tbody tr th {\n",
       "        vertical-align: top;\n",
       "    }\n",
       "</style>\n",
       "<table border=\"1\" class=\"dataframe\">\n",
       "  <thead>\n",
       "    <tr style=\"text-align: right;\">\n",
       "      <th></th>\n",
       "      <th>characters</th>\n",
       "      <th>stars</th>\n",
       "    </tr>\n",
       "  </thead>\n",
       "  <tbody>\n",
       "    <tr>\n",
       "      <th>0</th>\n",
       "      <td>Rachel Green</td>\n",
       "      <td>Jennifer Aniston</td>\n",
       "    </tr>\n",
       "    <tr>\n",
       "      <th>1</th>\n",
       "      <td>Monica Geller</td>\n",
       "      <td>Courteney Cox</td>\n",
       "    </tr>\n",
       "    <tr>\n",
       "      <th>2</th>\n",
       "      <td>Phoebe Buffay</td>\n",
       "      <td>Lisa Kudrow</td>\n",
       "    </tr>\n",
       "    <tr>\n",
       "      <th>3</th>\n",
       "      <td>Joey Tribbiani</td>\n",
       "      <td>Matt LeBlanc</td>\n",
       "    </tr>\n",
       "    <tr>\n",
       "      <th>4</th>\n",
       "      <td>Chandler Bing</td>\n",
       "      <td>Matthew Perry</td>\n",
       "    </tr>\n",
       "    <tr>\n",
       "      <th>5</th>\n",
       "      <td>Ross Geller</td>\n",
       "      <td>David Schwimmer</td>\n",
       "    </tr>\n",
       "  </tbody>\n",
       "</table>\n",
       "</div>"
      ],
      "text/plain": [
       "       characters             stars\n",
       "0    Rachel Green  Jennifer Aniston\n",
       "1   Monica Geller     Courteney Cox\n",
       "2   Phoebe Buffay       Lisa Kudrow\n",
       "3  Joey Tribbiani      Matt LeBlanc\n",
       "4   Chandler Bing     Matthew Perry\n",
       "5     Ross Geller   David Schwimmer"
      ]
     },
     "execution_count": 2,
     "metadata": {},
     "output_type": "execute_result"
    }
   ],
   "source": [
    "import pandas as pd\n",
    "\n",
    "url = \"https://storage.googleapis.com/intro-2-py-ds/data/ch9/friends_df.txt\" # 在雲端上儲存了一份 txt 檔案\n",
    "friends_df = pd.read_table(url, sep = \";\")\n",
    "friends_df"
   ]
  },
  {
   "cell_type": "markdown",
   "metadata": {
    "slideshow": {
     "slide_type": "subslide"
    }
   },
   "source": [
    "## 載入 EXCEL 檔案\n",
    "\n",
    "- 使用 `pandas` 套件的 `.read_excel()` 方法來載入 excel 檔案"
   ]
  },
  {
   "cell_type": "code",
   "execution_count": 3,
   "metadata": {
    "collapsed": false,
    "slideshow": {
     "slide_type": "-"
    }
   },
   "outputs": [
    {
     "data": {
      "text/html": [
       "<div>\n",
       "<style>\n",
       "    .dataframe thead tr:only-child th {\n",
       "        text-align: right;\n",
       "    }\n",
       "\n",
       "    .dataframe thead th {\n",
       "        text-align: left;\n",
       "    }\n",
       "\n",
       "    .dataframe tbody tr th {\n",
       "        vertical-align: top;\n",
       "    }\n",
       "</style>\n",
       "<table border=\"1\" class=\"dataframe\">\n",
       "  <thead>\n",
       "    <tr style=\"text-align: right;\">\n",
       "      <th></th>\n",
       "      <th>characters</th>\n",
       "      <th>stars</th>\n",
       "    </tr>\n",
       "  </thead>\n",
       "  <tbody>\n",
       "    <tr>\n",
       "      <th>0</th>\n",
       "      <td>Rachel Green</td>\n",
       "      <td>Jennifer Aniston</td>\n",
       "    </tr>\n",
       "    <tr>\n",
       "      <th>1</th>\n",
       "      <td>Monica Geller</td>\n",
       "      <td>Courteney Cox</td>\n",
       "    </tr>\n",
       "    <tr>\n",
       "      <th>2</th>\n",
       "      <td>Phoebe Buffay</td>\n",
       "      <td>Lisa Kudrow</td>\n",
       "    </tr>\n",
       "    <tr>\n",
       "      <th>3</th>\n",
       "      <td>Joey Tribbiani</td>\n",
       "      <td>Matt LeBlanc</td>\n",
       "    </tr>\n",
       "    <tr>\n",
       "      <th>4</th>\n",
       "      <td>Chandler Bing</td>\n",
       "      <td>Matthew Perry</td>\n",
       "    </tr>\n",
       "    <tr>\n",
       "      <th>5</th>\n",
       "      <td>Ross Geller</td>\n",
       "      <td>David Schwimmer</td>\n",
       "    </tr>\n",
       "  </tbody>\n",
       "</table>\n",
       "</div>"
      ],
      "text/plain": [
       "       characters             stars\n",
       "0    Rachel Green  Jennifer Aniston\n",
       "1   Monica Geller     Courteney Cox\n",
       "2   Phoebe Buffay       Lisa Kudrow\n",
       "3  Joey Tribbiani      Matt LeBlanc\n",
       "4   Chandler Bing     Matthew Perry\n",
       "5     Ross Geller   David Schwimmer"
      ]
     },
     "execution_count": 3,
     "metadata": {},
     "output_type": "execute_result"
    }
   ],
   "source": [
    "import pandas as pd\n",
    "\n",
    "url = \"https://storage.googleapis.com/intro-2-py-ds/data/ch9/friends_df.xlsx\" # 在雲端上儲存了一份 Excel 試算表\n",
    "friends_df = pd.read_excel(url)\n",
    "friends_df"
   ]
  },
  {
   "cell_type": "markdown",
   "metadata": {
    "slideshow": {
     "slide_type": "subslide"
    }
   },
   "source": [
    "## 載入 JSON 檔案\n",
    "\n",
    "- 使用 `pandas` 套件的 `.read_json()` 方法來載入 json 檔案\n",
    "    - Array of JSON"
   ]
  },
  {
   "cell_type": "code",
   "execution_count": 4,
   "metadata": {
    "collapsed": false
   },
   "outputs": [
    {
     "data": {
      "text/html": [
       "<div>\n",
       "<style>\n",
       "    .dataframe thead tr:only-child th {\n",
       "        text-align: right;\n",
       "    }\n",
       "\n",
       "    .dataframe thead th {\n",
       "        text-align: left;\n",
       "    }\n",
       "\n",
       "    .dataframe tbody tr th {\n",
       "        vertical-align: top;\n",
       "    }\n",
       "</style>\n",
       "<table border=\"1\" class=\"dataframe\">\n",
       "  <thead>\n",
       "    <tr style=\"text-align: right;\">\n",
       "      <th></th>\n",
       "      <th>characters</th>\n",
       "      <th>stars</th>\n",
       "    </tr>\n",
       "  </thead>\n",
       "  <tbody>\n",
       "    <tr>\n",
       "      <th>0</th>\n",
       "      <td>Rachel Green</td>\n",
       "      <td>Jennifer Aniston</td>\n",
       "    </tr>\n",
       "    <tr>\n",
       "      <th>1</th>\n",
       "      <td>Monica Geller</td>\n",
       "      <td>Courteney Cox</td>\n",
       "    </tr>\n",
       "    <tr>\n",
       "      <th>2</th>\n",
       "      <td>Phoebe Buffay</td>\n",
       "      <td>Lisa Kudrow</td>\n",
       "    </tr>\n",
       "    <tr>\n",
       "      <th>3</th>\n",
       "      <td>Joey Tribbiani</td>\n",
       "      <td>Matt LeBlanc</td>\n",
       "    </tr>\n",
       "    <tr>\n",
       "      <th>4</th>\n",
       "      <td>Chandler Bing</td>\n",
       "      <td>Matthew Perry</td>\n",
       "    </tr>\n",
       "    <tr>\n",
       "      <th>5</th>\n",
       "      <td>Ross Geller</td>\n",
       "      <td>David Schwimmer</td>\n",
       "    </tr>\n",
       "  </tbody>\n",
       "</table>\n",
       "</div>"
      ],
      "text/plain": [
       "       characters             stars\n",
       "0    Rachel Green  Jennifer Aniston\n",
       "1   Monica Geller     Courteney Cox\n",
       "2   Phoebe Buffay       Lisa Kudrow\n",
       "3  Joey Tribbiani      Matt LeBlanc\n",
       "4   Chandler Bing     Matthew Perry\n",
       "5     Ross Geller   David Schwimmer"
      ]
     },
     "execution_count": 4,
     "metadata": {},
     "output_type": "execute_result"
    }
   ],
   "source": [
    "import pandas as pd\n",
    "\n",
    "url = \"https://storage.googleapis.com/intro-2-py-ds/data/ch9/friends_df.json\" # 在雲端上儲存了一份 JSON 檔案\n",
    "friends_df = pd.read_json(url) \n",
    "friends_df"
   ]
  },
  {
   "cell_type": "markdown",
   "metadata": {
    "slideshow": {
     "slide_type": "subslide"
    }
   },
   "source": [
    "## 載入 JSON 檔案（2）\n",
    "\n",
    "- 使用 `pandas` 套件的 `.read_json()` 方法來載入 json 檔案\n",
    "    - JSON"
   ]
  },
  {
   "cell_type": "code",
   "execution_count": 5,
   "metadata": {
    "collapsed": false,
    "slideshow": {
     "slide_type": "subslide"
    }
   },
   "outputs": [
    {
     "data": {
      "text/html": [
       "<div>\n",
       "<style>\n",
       "    .dataframe thead tr:only-child th {\n",
       "        text-align: right;\n",
       "    }\n",
       "\n",
       "    .dataframe thead th {\n",
       "        text-align: left;\n",
       "    }\n",
       "\n",
       "    .dataframe tbody tr th {\n",
       "        vertical-align: top;\n",
       "    }\n",
       "</style>\n",
       "<table border=\"1\" class=\"dataframe\">\n",
       "  <thead>\n",
       "    <tr style=\"text-align: right;\">\n",
       "      <th></th>\n",
       "      <th>characters</th>\n",
       "      <th>episodes</th>\n",
       "      <th>genre</th>\n",
       "      <th>seasons</th>\n",
       "      <th>stars</th>\n",
       "    </tr>\n",
       "  </thead>\n",
       "  <tbody>\n",
       "    <tr>\n",
       "      <th>0</th>\n",
       "      <td>Rachel Green</td>\n",
       "      <td>236</td>\n",
       "      <td>Sitcom</td>\n",
       "      <td>10</td>\n",
       "      <td>Jennifer Aniston</td>\n",
       "    </tr>\n",
       "    <tr>\n",
       "      <th>1</th>\n",
       "      <td>Monica Geller</td>\n",
       "      <td>236</td>\n",
       "      <td>Sitcom</td>\n",
       "      <td>10</td>\n",
       "      <td>Courteney Cox</td>\n",
       "    </tr>\n",
       "    <tr>\n",
       "      <th>2</th>\n",
       "      <td>Phoebe Buffay</td>\n",
       "      <td>236</td>\n",
       "      <td>Sitcom</td>\n",
       "      <td>10</td>\n",
       "      <td>Lisa Kudrow</td>\n",
       "    </tr>\n",
       "    <tr>\n",
       "      <th>3</th>\n",
       "      <td>Joey Tribbiani</td>\n",
       "      <td>236</td>\n",
       "      <td>Sitcom</td>\n",
       "      <td>10</td>\n",
       "      <td>Matt LeBlanc</td>\n",
       "    </tr>\n",
       "    <tr>\n",
       "      <th>4</th>\n",
       "      <td>Chandler Bing</td>\n",
       "      <td>236</td>\n",
       "      <td>Sitcom</td>\n",
       "      <td>10</td>\n",
       "      <td>Matthew Perry</td>\n",
       "    </tr>\n",
       "    <tr>\n",
       "      <th>5</th>\n",
       "      <td>Ross Geller</td>\n",
       "      <td>236</td>\n",
       "      <td>Sitcom</td>\n",
       "      <td>10</td>\n",
       "      <td>David Schwimmer</td>\n",
       "    </tr>\n",
       "  </tbody>\n",
       "</table>\n",
       "</div>"
      ],
      "text/plain": [
       "       characters  episodes   genre  seasons             stars\n",
       "0    Rachel Green       236  Sitcom       10  Jennifer Aniston\n",
       "1   Monica Geller       236  Sitcom       10     Courteney Cox\n",
       "2   Phoebe Buffay       236  Sitcom       10       Lisa Kudrow\n",
       "3  Joey Tribbiani       236  Sitcom       10      Matt LeBlanc\n",
       "4   Chandler Bing       236  Sitcom       10     Matthew Perry\n",
       "5     Ross Geller       236  Sitcom       10   David Schwimmer"
      ]
     },
     "execution_count": 5,
     "metadata": {},
     "output_type": "execute_result"
    }
   ],
   "source": [
    "import pandas as pd\n",
    "\n",
    "url = \"https://storage.googleapis.com/intro-2-py-ds/data/ch9/friends.json\" # 在雲端上儲存了一份 JSON 檔案\n",
    "friends_df = pd.read_json(url)\n",
    "friends_df"
   ]
  },
  {
   "cell_type": "markdown",
   "metadata": {
    "slideshow": {
     "slide_type": "subslide"
    }
   },
   "source": [
    "## 載入 JSON 檔案（3）\n",
    "\n",
    "- 使用 `json` 套件的 `loads()` 方法來載入 json 檔案"
   ]
  },
  {
   "cell_type": "code",
   "execution_count": 6,
   "metadata": {
    "collapsed": false
   },
   "outputs": [
    {
     "name": "stdout",
     "output_type": "stream",
     "text": [
      "六人行有 10 季\n",
      "Rachel Green 由 Jennifer Aniston 飾演\n",
      "Monica Geller 由 Courteney Cox 飾演\n",
      "Phoebe Buffay 由 Lisa Kudrow 飾演\n",
      "Joey Tribbiani 由 Matt LeBlanc 飾演\n",
      "Chandler Bing 由 Matthew Perry 飾演\n",
      "Ross Geller 由 David Schwimmer 飾演\n"
     ]
    }
   ],
   "source": [
    "import urllib.request\n",
    "import json\n",
    "\n",
    "url = \"https://storage.googleapis.com/intro-2-py-ds/data/ch9/friends.json\"\n",
    "with urllib.request.urlopen(url) as json_url:\n",
    "    friends_dict = json.loads(json_url.read().decode())\n",
    "\n",
    "print(\"六人行有 %i 季\" % friends_dict[\"seasons\"])\n",
    "for character, star in zip(friends_dict[\"characters\"], friends_dict[\"stars\"]):\n",
    "    print(\"%s 由 %s 飾演\" % (character, star))"
   ]
  }
 ],
 "metadata": {
  "celltoolbar": "Slideshow",
  "kernelspec": {
   "display_name": "Python 3",
   "language": "python",
   "name": "python3"
  },
  "language_info": {
   "codemirror_mode": {
    "name": "ipython",
    "version": 3
   },
   "file_extension": ".py",
   "mimetype": "text/x-python",
   "name": "python",
   "nbconvert_exporter": "python",
   "pygments_lexer": "ipython3",
   "version": "3.6.0"
  }
 },
 "nbformat": 4,
 "nbformat_minor": 2
}
