{
 "cells": [
  {
   "cell_type": "markdown",
   "metadata": {
    "slideshow": {
     "slide_type": "slide"
    }
   },
   "source": [
    "# 基本變數類型\n",
    "\n",
    "## 郭耀仁"
   ]
  },
  {
   "cell_type": "markdown",
   "metadata": {
    "slideshow": {
     "slide_type": "slide"
    }
   },
   "source": [
    "## 使用 `=` 對物件賦值"
   ]
  },
  {
   "cell_type": "code",
   "execution_count": 1,
   "metadata": {
    "collapsed": true
   },
   "outputs": [],
   "source": [
    "my_name = \"Tony\""
   ]
  },
  {
   "cell_type": "markdown",
   "metadata": {
    "slideshow": {
     "slide_type": "subslide"
    }
   },
   "source": [
    "## 使用 `print()` 把物件輸出"
   ]
  },
  {
   "cell_type": "code",
   "execution_count": 2,
   "metadata": {},
   "outputs": [
    {
     "name": "stdout",
     "output_type": "stream",
     "text": [
      "Hi Tony\n"
     ]
    }
   ],
   "source": [
    "my_name = \"Tony\"\n",
    "print(\"Hi \" + my_name)"
   ]
  },
  {
   "cell_type": "markdown",
   "metadata": {
    "slideshow": {
     "slide_type": "subslide"
    }
   },
   "source": [
    "## 利用 `#` 加入註解"
   ]
  },
  {
   "cell_type": "code",
   "execution_count": 3,
   "metadata": {},
   "outputs": [
    {
     "name": "stdout",
     "output_type": "stream",
     "text": [
      "Hi Tony\n"
     ]
    }
   ],
   "source": [
    "# 印出 Hi Tony\n",
    "my_name = \"Tony\"\n",
    "print(\"Hi \" + my_name)"
   ]
  },
  {
   "cell_type": "markdown",
   "metadata": {
    "slideshow": {
     "slide_type": "slide"
    }
   },
   "source": [
    "## 基本變數類型\n",
    "\n",
    "- 數值\n",
    "    - float\n",
    "    - int\n",
    "    - complex\n",
    "- 布林值（bool）\n",
    "- 文字（str）"
   ]
  },
  {
   "cell_type": "markdown",
   "metadata": {
    "slideshow": {
     "slide_type": "subslide"
    }
   },
   "source": [
    "## 輸入不同的變數類型\n",
    "\n",
    "|變數類型|範例|\n",
    "|-------|---|\n",
    "|float|8.7|\n",
    "|int|87|\n",
    "|complex|8 + 7j|\n",
    "|bool|8 > 7|\n",
    "|str|\"Python\"|"
   ]
  },
  {
   "cell_type": "markdown",
   "metadata": {
    "slideshow": {
     "slide_type": "subslide"
    }
   },
   "source": [
    "## 輸入不同的變數類型（2）\n",
    "\n",
    "- 讓同學練習輸入不同變數類型"
   ]
  },
  {
   "cell_type": "markdown",
   "metadata": {
    "slideshow": {
     "slide_type": "slide"
    }
   },
   "source": [
    "## 把 Python 當作計算機\n",
    "\n",
    "|四則運算符號|意義|\n",
    "|----------|---|\n",
    "|`+`|加法|\n",
    "|`-`|減法|\n",
    "|`*`|乘法|\n",
    "|`/`|除法|\n",
    "|`**`|次方|\n",
    "|`%`|回傳餘數|"
   ]
  },
  {
   "cell_type": "markdown",
   "metadata": {
    "slideshow": {
     "slide_type": "subslide"
    }
   },
   "source": [
    "## 把 Python 當作計算機（2）\n",
    "\n",
    "- 練習在 Jupyter Notebook 計算 BMI\n",
    "\n",
    "$$BMI = \\frac{weight_{kg}}{height_{m}^2}$$"
   ]
  },
  {
   "cell_type": "markdown",
   "metadata": {
    "slideshow": {
     "slide_type": "subslide"
    }
   },
   "source": [
    "## 不同變數類型之間的運算\n",
    "\n",
    "- 讓同學練習對不同的變數類型做四則運算\n",
    "\n",
    "```python\n",
    "print(1.2 + True)\n",
    "print(3 + True * 2)\n",
    "print(\"Jupyter Notebook\" + \" rocks!\")\n",
    "print(\"Jupyter Notebook\" + \" rocks\" + \"!\" * 3)\n",
    "```"
   ]
  },
  {
   "cell_type": "markdown",
   "metadata": {
    "slideshow": {
     "slide_type": "slide"
    }
   },
   "source": [
    "## 建立物件\n",
    "\n",
    "- Python 中將變數指派給物件的運算子是 `=`\n",
    "- Python 還具備很便利的賦值運算子：\n",
    "    - `+=`\n",
    "    - `-=`\n",
    "    - `*=`\n",
    "    - `/=`\n",
    "    - `%=`"
   ]
  },
  {
   "cell_type": "markdown",
   "metadata": {
    "slideshow": {
     "slide_type": "subslide"
    }
   },
   "source": [
    "## 練習使用賦值運算子\n",
    "\n",
    "- 讓同學練習使用賦值運算子"
   ]
  },
  {
   "cell_type": "markdown",
   "metadata": {
    "slideshow": {
     "slide_type": "slide"
    }
   },
   "source": [
    "## 變數類型的轉換\n",
    "\n",
    "- 試著印出下列這句話\n",
    "\n",
    "```python\n",
    "km = 42.195\n",
    "print(\"In order to become a marathon runner, you have to run \" + km + \" kilometers in a race.\") # TypeError\n",
    "```"
   ]
  },
  {
   "cell_type": "code",
   "execution_count": 5,
   "metadata": {},
   "outputs": [
    {
     "name": "stdout",
     "output_type": "stream",
     "text": [
      "In order to become a marathon runner, you have to run  42.195  kilometers in a race.\n"
     ]
    }
   ],
   "source": [
    "km = 42.195\n",
    "print(\"In order to become a marathon runner, you have to run \" , km , \" kilometers in a race.\") "
   ]
  },
  {
   "cell_type": "markdown",
   "metadata": {
    "slideshow": {
     "slide_type": "subslide"
    }
   },
   "source": [
    "## 用 `str()` 函數\n",
    "\n",
    "```python\n",
    "km = 42.195\n",
    "print(\"In order to become a marathon runner, you have to run \" + str(km) + \" kilometers in a race.\")\n",
    "```"
   ]
  },
  {
   "cell_type": "markdown",
   "metadata": {
    "slideshow": {
     "slide_type": "subslide"
    }
   },
   "source": [
    "## 轉換變數類型的函數\n",
    "\n",
    "- `float()`：轉換變數類型為 float\n",
    "- `int()`：轉換變數類型為 int\n",
    "- `complex()`：轉換變數類型為 complex\n",
    "- `bool()`：轉換變數類型為 bool\n",
    "- `str()`：轉換變數類型為 str"
   ]
  },
  {
   "cell_type": "markdown",
   "metadata": {
    "slideshow": {
     "slide_type": "subslide"
    }
   },
   "source": [
    "## 轉換變數類型的函數（2）\n",
    "\n",
    "- 讓同學練習使用轉換變數類型的函數\n",
    "\n",
    "```python\n",
    "my_bool = True\n",
    "print(type(my_bool))\n",
    "print(float(my_bool))\n",
    "print(int(my_bool))\n",
    "print(complex(my_bool))\n",
    "print(type(str(my_bool)))\n",
    "print(type(bool(123)))\n",
    "print(type(bool(2 + 5j)))\n",
    "print(type(bool(0)))\n",
    "```\n",
    "\n",
    "- 有的時候要用兩次\n",
    "\n",
    "```python\n",
    "print(int(bool(\"True\")))\n",
    "```"
   ]
  },
  {
   "cell_type": "code",
   "execution_count": 12,
   "metadata": {},
   "outputs": [
    {
     "name": "stdout",
     "output_type": "stream",
     "text": [
      "<class 'bool'>\n",
      "1.0\n",
      "1\n",
      "complex (1+0j)\n",
      "<class 'str'>\n",
      "bool True\n",
      "<class 'bool'>\n",
      "<class 'bool'>\n",
      "<class 'bool'>\n",
      "True\n"
     ]
    }
   ],
   "source": [
    "my_bool = True\n",
    "print(type(my_bool))\n",
    "print(float(my_bool))\n",
    "print(int(my_bool))\n",
    "print('complex',complex(my_bool))\n",
    "print(type(str(my_bool)))\n",
    "print('bool',bool(123))\n",
    "print(type(bool(123)))\n",
    "print(type(bool(2 + 5j)))\n",
    "print(type(bool(0)))\n",
    "print(bool('True'))"
   ]
  },
  {
   "cell_type": "markdown",
   "metadata": {
    "slideshow": {
     "slide_type": "slide"
    }
   },
   "source": [
    "## 布林判斷\n",
    "\n",
    "- 讓同學練習布林判斷\n",
    "\n",
    "|判斷運算符號|作用|\n",
    "|--------|---|\n",
    "|`==`|是否等於|\n",
    "|`!=`|是否不等於|\n",
    "|`>`|是否大於|\n",
    "|`<`|是否小於|\n",
    "|`>=`|是否大於等於|\n",
    "|`<=`|是否小於等於|\n",
    "|`in`|是否包含於|\n",
    "|`not in`|是否不包含於|\n",
    "|`and`|判斷兩側的條件是否都為 `True`|\n",
    "|`or`|判斷兩側的條件是否至少有一側為 `True`|\n",
    "|`not`|將布林的 `True` 或 `False` 反轉|"
   ]
  },
  {
   "cell_type": "markdown",
   "metadata": {
    "slideshow": {
     "slide_type": "slide"
    }
   },
   "source": [
    "## 關於文字\n",
    "\n",
    "- 何時使用單引號（`'`）何時使用雙引號（`\"`）\n",
    "- 如何善用跳脫符號 `\\`\n",
    "\n",
    "```python\n",
    "McD = \"I'm loving it!\"\n",
    "print(McD)\n",
    "```"
   ]
  },
  {
   "cell_type": "markdown",
   "metadata": {
    "slideshow": {
     "slide_type": "subslide"
    }
   },
   "source": [
    "## 關於文字（2）\n",
    "\n",
    "- 帶有格式的 `print`\n",
    "    - `%s`：文字\n",
    "    - `%f`：浮點數\n",
    "    - `%i`：整數"
   ]
  },
  {
   "cell_type": "code",
   "execution_count": 4,
   "metadata": {},
   "outputs": [
    {
     "name": "stdout",
     "output_type": "stream",
     "text": [
      "圓周率是 3.141591\n",
      "圓周率是 3.14\n",
      "圓周率整數部分是 3\n",
      "圓周率是 3.1416\n"
     ]
    }
   ],
   "source": [
    "pi = 3.141591\n",
    "\n",
    "print(\"圓周率是 %s\" % pi)\n",
    "print(\"圓周率是 %.2f\" % pi)\n",
    "print(\"圓周率整數部分是 %i\" % pi)\n",
    "print(\"%s是 %.4f\" %(\"圓周率\", pi))"
   ]
  }
 ],
 "metadata": {
  "celltoolbar": "Slideshow",
  "kernelspec": {
   "display_name": "Python 3",
   "language": "python",
   "name": "python3"
  },
  "language_info": {
   "codemirror_mode": {
    "name": "ipython",
    "version": 3
   },
   "file_extension": ".py",
   "mimetype": "text/x-python",
   "name": "python",
   "nbconvert_exporter": "python",
   "pygments_lexer": "ipython3",
   "version": "3.7.1"
  }
 },
 "nbformat": 4,
 "nbformat_minor": 1
}
