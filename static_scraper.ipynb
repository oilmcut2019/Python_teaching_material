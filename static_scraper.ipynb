{
 "cells": [
  {
   "cell_type": "markdown",
   "metadata": {
    "slideshow": {
     "slide_type": "slide"
    }
   },
   "source": [
    "# 靜態網頁擷取\n",
    "\n",
    "## 郭耀仁"
   ]
  },
  {
   "cell_type": "markdown",
   "metadata": {
    "slideshow": {
     "slide_type": "subslide"
    }
   },
   "source": [
    "## 網頁資料擷取的核心任務\n",
    "\n",
    "- 如何獲得資料\n",
    "- 如何解析資料\n",
    "- 如何清理整併資料"
   ]
  },
  {
   "cell_type": "markdown",
   "metadata": {
    "slideshow": {
     "slide_type": "slide"
    }
   },
   "source": [
    "## 網頁資料來源\n",
    "\n",
    "- [JSON](https://www.json.org/)\n",
    "- [HTML](https://zh.wikipedia.org/zh-tw/HTML)"
   ]
  },
  {
   "cell_type": "markdown",
   "metadata": {
    "slideshow": {
     "slide_type": "slide"
    }
   },
   "source": [
    "## JSON"
   ]
  },
  {
   "cell_type": "markdown",
   "metadata": {
    "slideshow": {
     "slide_type": "subslide"
    }
   },
   "source": [
    "## 以 `json` 套件解析 JSON 文字為 `dict`"
   ]
  },
  {
   "cell_type": "code",
   "execution_count": 14,
   "metadata": {},
   "outputs": [],
   "source": [
    "import json\n",
    "\n",
    "json_str = \"\"\"\n",
    "{\n",
    "  \"teamName\": \"Chicago Bulls\",\n",
    "  \"season\": \"1995-96\",\n",
    "  \"records\": {\n",
    "    \"wins\": 72,\n",
    "    \"losses\": 10\n",
    "  },\n",
    "  \"startingLineup\": [\"Ron Harper\", \"Michael Jordan\", \"Scottie Pippen\", \"Dennis Rodman\", \"Luc Longley\"],\n",
    "  \"isChampion\": true\n",
    "}\n",
    "\"\"\"\n",
    "json_dict = json.loads(json_str)"
   ]
  },
  {
   "cell_type": "code",
   "execution_count": 13,
   "metadata": {
    "slideshow": {
     "slide_type": "subslide"
    }
   },
   "outputs": [
    {
     "name": "stdout",
     "output_type": "stream",
     "text": [
      "<class 'dict'>\n"
     ]
    },
    {
     "data": {
      "text/plain": [
       "{'isChampion': True,\n",
       " 'records': {'losses': 10, 'wins': 72},\n",
       " 'season': '1995-96',\n",
       " 'startingLineup': ['Ron Harper',\n",
       "  'Michael Jordan',\n",
       "  'Scottie Pippen',\n",
       "  'Dennis Rodman',\n",
       "  'Luc Longley'],\n",
       " 'teamName': 'Chicago Bulls'}"
      ]
     },
     "execution_count": 13,
     "metadata": {},
     "output_type": "execute_result"
    }
   ],
   "source": [
    "print(type(json_dict))\n",
    "json_dict"
   ]
  },
  {
   "cell_type": "markdown",
   "metadata": {
    "slideshow": {
     "slide_type": "subslide"
    }
   },
   "source": [
    "## 如果是本機的 .json 檔案"
   ]
  },
  {
   "cell_type": "code",
   "execution_count": 16,
   "metadata": {},
   "outputs": [],
   "source": [
    "import json\n",
    "\n",
    "with open('chicago_bulls_19951996.json') as json_data:\n",
    "  json_dict = json.load(json_data)"
   ]
  },
  {
   "cell_type": "code",
   "execution_count": 17,
   "metadata": {
    "slideshow": {
     "slide_type": "subslide"
    }
   },
   "outputs": [
    {
     "name": "stdout",
     "output_type": "stream",
     "text": [
      "<class 'dict'>\n"
     ]
    },
    {
     "data": {
      "text/plain": [
       "{'isChampion': True,\n",
       " 'records': {'losses': 10, 'wins': 72},\n",
       " 'season': '1995-96',\n",
       " 'startingLineup': ['Ron Harper',\n",
       "  'Michael Jordan',\n",
       "  'Scottie Pippen',\n",
       "  'Dennis Rodman',\n",
       "  'Luc Longley'],\n",
       " 'teamName': 'Chicago Bulls'}"
      ]
     },
     "execution_count": 17,
     "metadata": {},
     "output_type": "execute_result"
    }
   ],
   "source": [
    "print(type(json_dict))\n",
    "json_dict"
   ]
  },
  {
   "cell_type": "markdown",
   "metadata": {
    "slideshow": {
     "slide_type": "subslide"
    }
   },
   "source": [
    "## 如果是網路上的 .json 檔案"
   ]
  },
  {
   "cell_type": "code",
   "execution_count": 19,
   "metadata": {},
   "outputs": [],
   "source": [
    "from requests import get\n",
    "\n",
    "json_response = get(\"https://storage.googleapis.com/ds_data_import/chicago_bulls_1995_1996.json\")\n",
    "json_dict = json_response.json()"
   ]
  },
  {
   "cell_type": "code",
   "execution_count": 20,
   "metadata": {},
   "outputs": [
    {
     "name": "stdout",
     "output_type": "stream",
     "text": [
      "<class 'dict'>\n"
     ]
    },
    {
     "data": {
      "text/plain": [
       "{'assistant_coach': ['Jim Cleamons',\n",
       "  'John Paxson',\n",
       "  'Jimmy Rodgers',\n",
       "  'Tex Winter'],\n",
       " 'coach': 'Phil Jackson',\n",
       " 'records': {'losses': 10, 'wins': 72},\n",
       " 'starting_lineups': {'C': 'Luc Longley',\n",
       "  'PF': 'Dennis Rodman',\n",
       "  'PG': 'Ron Harper',\n",
       "  'SF': 'Scottie Pippen',\n",
       "  'SG': 'Michael Jordan'},\n",
       " 'team_name': 'Chicago Bulls'}"
      ]
     },
     "execution_count": 20,
     "metadata": {},
     "output_type": "execute_result"
    }
   ],
   "source": [
    "print(type(json_dict))\n",
    "json_dict"
   ]
  },
  {
   "cell_type": "markdown",
   "metadata": {
    "slideshow": {
     "slide_type": "subslide"
    }
   },
   "source": [
    "## 以 pchome 商品頁面為例\n",
    "\n",
    "<https://ecshweb.pchome.com.tw/search/v3.3/?q=mac>"
   ]
  },
  {
   "cell_type": "markdown",
   "metadata": {
    "slideshow": {
     "slide_type": "subslide"
    }
   },
   "source": [
    "## 先下載 Chrome 外掛\n",
    "\n",
    "- [Quick Javascript Switcher](https://chrome.google.com/webstore/detail/quick-javascript-switcher/geddoclleiomckbhadiaipdggiiccfje)：關閉 JavaScript 的作用"
   ]
  },
  {
   "cell_type": "markdown",
   "metadata": {
    "slideshow": {
     "slide_type": "subslide"
    }
   },
   "source": [
    "## 關閉 JavaScript 之後商品資訊都不見了"
   ]
  },
  {
   "cell_type": "markdown",
   "metadata": {
    "slideshow": {
     "slide_type": "subslide"
    }
   },
   "source": [
    "## 打開 Chrome 開發者工具\n",
    "\n",
    "![](ss01.png)"
   ]
  },
  {
   "cell_type": "markdown",
   "metadata": {
    "slideshow": {
     "slide_type": "subslide"
    }
   },
   "source": [
    "## 打開 Network 標籤，點選 XHR"
   ]
  },
  {
   "cell_type": "code",
   "execution_count": 21,
   "metadata": {
    "collapsed": true
   },
   "outputs": [],
   "source": [
    "import json\n",
    "\n",
    "from requests import get\n",
    "\n",
    "json_response = get(\"https://ecshweb.pchome.com.tw/search/v3.3/all/results?q=mac&page=1&sort=rnk/dc\")\n",
    "json_dict = json_response.json()"
   ]
  },
  {
   "cell_type": "code",
   "execution_count": 24,
   "metadata": {
    "slideshow": {
     "slide_type": "subslide"
    }
   },
   "outputs": [
    {
     "name": "stdout",
     "output_type": "stream",
     "text": [
      "{'Id': 'DYAJBD-A90097XCW', 'cateId': 'DYAJBD', 'picS': '/items/DYAJBDA90097XCW/000002_1531729125.png', 'picB': '/items/DYAJBDA90097XCW/000001_1542854872.jpg', 'name': 'MacBook Pro 13-inch : 2.3GHz dual-core i5, 128GB - Space Grey (MPXQ2TA/A)', 'describe': '▼限時88折優惠▼MacBook Pro 13-(太空灰) : 2.3GHz dual-core i5, 128GB - Space Grey太空灰 (MPXQ2TA/A\\\\r\\\\n★此機型無觸控列和touch id \\r\\n\\r\\n★限時88折優惠 11 01 (四) 10:00 至 11 30 (五) 10:00止 \\r\\n數量有限，售完為止\\r\\n網路價$41900．限時價↘$３６８７２\\r\\n\\r\\n商品特色\\r\\n● 2.3 ghz 處理器 \\r\\n● 128 gb 儲存空間\\r\\n● 2.3 ghz 雙核心第七代 intel core i5 處理器\\r\\n● turbo boost 可達 3.6 ghz\\r\\n● 8 gb 2133 mhz lpddr 3 記憶體\\r\\n● 128 gb ssd 儲存裝置\\r\\n● intel iris plus graphics 640\\r\\n● 兩個 thunderbolt 3 埠\\r\\n\\r\\n\\r\\n館長小叮嚀：儲值購買最划算～\\r\\n【11 1~30限定】刷卡買3 000儲值金\\r\\n送150刷卡金→最高回饋5%↑11月儲值優惠活動，請點我\\r\\n\\r\\n11月刷卡限時優惠 限量需登錄\\r\\n\\r\\n↑銀行刷卡活動詳情請點圖片了解\\r\\n\\r\\n\\r\\n注意事項', 'price': 36872, 'originPrice': 36872, 'author': '', 'brand': '', 'publishDate': '', 'sellerId': '', 'isPChome': 1, 'isNC17': 0, 'couponActid': [], 'BU': 'ec'}\n"
     ]
    }
   ],
   "source": [
    "print(json_dict['prods'][0])"
   ]
  },
  {
   "cell_type": "markdown",
   "metadata": {
    "slideshow": {
     "slide_type": "slide"
    }
   },
   "source": [
    "## HTML"
   ]
  },
  {
   "cell_type": "markdown",
   "metadata": {
    "slideshow": {
     "slide_type": "slide"
    }
   },
   "source": [
    "## 先安裝 Chrome 外掛\n",
    "\n",
    "- [SelectorGadget](https://chrome.google.com/webstore/detail/selectorgadget/mhjhnkcfbdhnjickkkdbjoemdmbfginb?hl=zh-TW): 幫助 CSS 選擇"
   ]
  },
  {
   "cell_type": "markdown",
   "metadata": {
    "slideshow": {
     "slide_type": "slide"
    }
   },
   "source": [
    "## CSS 選擇\n",
    "\n",
    "- 利用文件物件模型（Document Object Model, DOM）選擇網頁元素的技巧"
   ]
  },
  {
   "cell_type": "markdown",
   "metadata": {
    "slideshow": {
     "slide_type": "subslide"
    }
   },
   "source": [
    "## CSS 選擇（2）\n",
    "\n",
    "- 以 [IMDB: La La Land](http://www.imdb.com/title/tt3783958/) 為例\n",
    "- 選出評等（Rating）"
   ]
  },
  {
   "cell_type": "markdown",
   "metadata": {
    "slideshow": {
     "slide_type": "subslide"
    }
   },
   "source": [
    "## CSS 選擇（3）\n",
    "\n",
    "- 點選 SelectorGadget 的外掛圖示\n",
    "- 先點選評等（Rating）\n",
    "\n",
    "![](img/ch0701.png)"
   ]
  },
  {
   "cell_type": "markdown",
   "metadata": {
    "slideshow": {
     "slide_type": "subslide"
    }
   },
   "source": [
    "## CSS 選擇（4）\n",
    "\n",
    "- 會有多個元素被選出（標註黃色），因為這頁有很多 `<span></span>`\n",
    "\n",
    "![](img/ch0702.png)"
   ]
  },
  {
   "cell_type": "markdown",
   "metadata": {
    "slideshow": {
     "slide_type": "subslide"
    }
   },
   "source": [
    "## CSS 選擇（5）\n",
    "\n",
    "- 接著點選不要的元素（標註紅色）\n",
    "\n",
    "![](img/ch0703.png)"
   ]
  },
  {
   "cell_type": "markdown",
   "metadata": {
    "slideshow": {
     "slide_type": "subslide"
    }
   },
   "source": [
    "## CSS 選擇（6）\n",
    "\n",
    "- 這時我們就得到正確的 CSS 選擇：`strong span`\n",
    "\n",
    "![](img/ch0704.png)"
   ]
  },
  {
   "cell_type": "markdown",
   "metadata": {
    "slideshow": {
     "slide_type": "subslide"
    }
   },
   "source": [
    "## CSS 選擇（7）\n",
    "\n",
    "- 再練習一次，這次我們要將這頁的演員名單（Cast）擷取出來：\n",
    "\n",
    "![](img/ch0705.png)"
   ]
  },
  {
   "cell_type": "markdown",
   "metadata": {
    "slideshow": {
     "slide_type": "subslide"
    }
   },
   "source": [
    "## CSS 選擇（8）\n",
    "\n",
    "- 先點選男主角 Ryan Gosling\n",
    "- 乍看之下好像 `.itemprop` 這個類別就對了\n",
    "\n",
    "![](img/ch0706.png)"
   ]
  },
  {
   "cell_type": "markdown",
   "metadata": {
    "slideshow": {
     "slide_type": "subslide"
    }
   },
   "source": [
    "## CSS 選擇（9）\n",
    "\n",
    "- 但是其實其他的元素也有使用 `.itemprop` 這個類別\n",
    "\n",
    "![](img/ch0707.png)\n",
    "\n",
    "![](img/ch0708.png)"
   ]
  },
  {
   "cell_type": "markdown",
   "metadata": {
    "slideshow": {
     "slide_type": "subslide"
    }
   },
   "source": [
    "## CSS 選擇（10）\n",
    "\n",
    "- 於是點選不要的元素（標註紅色）\n",
    "\n",
    "![](img/ch0709.png)"
   ]
  },
  {
   "cell_type": "markdown",
   "metadata": {
    "slideshow": {
     "slide_type": "subslide"
    }
   },
   "source": [
    "## CSS 選擇（11）\n",
    "\n",
    "- 這時我們就得到正確的 CSS 選擇：`.itemprop .itemprop`\n",
    "\n",
    "![](img/ch0710.png)"
   ]
  },
  {
   "cell_type": "markdown",
   "metadata": {
    "slideshow": {
     "slide_type": "slide"
    }
   },
   "source": [
    "## Pyquery\n",
    "\n",
    "- 用來解析 HTML 與 XML 檔案的 Python 模組\n",
    "- 先在終端機安裝模組\n",
    "\n",
    "```\n",
    "# Local\n",
    "pip install pyquery # terminal\n",
    "# Google Colab\n",
    "!pip install pyquery # cell\n",
    "```"
   ]
  },
  {
   "cell_type": "code",
   "execution_count": 1,
   "metadata": {
    "slideshow": {
     "slide_type": "subslide"
    }
   },
   "outputs": [
    {
     "data": {
      "text/plain": [
       "['\\n    ', <Element head at 0x109ed3778>, '\\n    ', <Element body at 0x109ed3818>, '\\n']"
      ]
     },
     "execution_count": 1,
     "metadata": {},
     "output_type": "execute_result"
    }
   ],
   "source": [
    "from pyquery import PyQuery as pq\n",
    "\n",
    "lalaland_url = \"http://www.imdb.com/title/tt3783958/\"\n",
    "html_doc = pq(lalaland_url)\n",
    "html_doc.contents()"
   ]
  },
  {
   "cell_type": "code",
   "execution_count": 2,
   "metadata": {
    "slideshow": {
     "slide_type": "subslide"
    }
   },
   "outputs": [
    {
     "name": "stdout",
     "output_type": "stream",
     "text": [
      "<span itemprop=\"ratingValue\">8.1</span>\n",
      "8.1\n"
     ]
    }
   ],
   "source": [
    "rating_css = \"strong span\"\n",
    "print(html_doc(rating_css))\n",
    "print(html_doc(rating_css).text())"
   ]
  },
  {
   "cell_type": "code",
   "execution_count": 3,
   "metadata": {
    "slideshow": {
     "slide_type": "subslide"
    }
   },
   "outputs": [
    {
     "data": {
      "text/plain": [
       "str"
      ]
     },
     "execution_count": 3,
     "metadata": {},
     "output_type": "execute_result"
    }
   ],
   "source": [
    "lalaland_rating = html_doc(rating_css).text()\n",
    "type(lalaland_rating)"
   ]
  },
  {
   "cell_type": "markdown",
   "metadata": {
    "slideshow": {
     "slide_type": "subslide"
    }
   },
   "source": [
    "## 隨堂練習：從網頁中擷取出電影類型\n",
    "\n",
    "http://www.imdb.com/title/tt3783958/"
   ]
  },
  {
   "cell_type": "code",
   "execution_count": 4,
   "metadata": {
    "collapsed": true,
    "slideshow": {
     "slide_type": "skip"
    }
   },
   "outputs": [],
   "source": [
    "def get_genre():\n",
    "    \"\"\"\n",
    "    擷取 La La Land 的劇情類型\n",
    "    \"\"\"\n",
    "    genre_css = \".subtext .itemprop\"\n",
    "    genre = html_doc(genre_css).text()\n",
    "    genre_lst = genre.split()\n",
    "    return genre_lst"
   ]
  },
  {
   "cell_type": "code",
   "execution_count": 5,
   "metadata": {},
   "outputs": [
    {
     "data": {
      "text/plain": [
       "['Comedy', 'Drama', 'Music']"
      ]
     },
     "execution_count": 5,
     "metadata": {},
     "output_type": "execute_result"
    }
   ],
   "source": [
    "get_genre()"
   ]
  },
  {
   "cell_type": "markdown",
   "metadata": {
    "slideshow": {
     "slide_type": "subslide"
    }
   },
   "source": [
    "## 隨堂練習：從網頁中擷取出演員名單\n",
    "\n",
    "http://www.imdb.com/title/tt3783958/"
   ]
  },
  {
   "cell_type": "code",
   "execution_count": 6,
   "metadata": {
    "collapsed": true,
    "slideshow": {
     "slide_type": "skip"
    }
   },
   "outputs": [],
   "source": [
    "def get_cast():\n",
    "    \"\"\"\n",
    "    擷取 La La Land 的演員名單\n",
    "    \"\"\"\n",
    "    cast_lst = []\n",
    "    for i, j in zip(range(2, 17, 2), range(3, 16, 2)):\n",
    "        odd_cast_css = \".odd:nth-child({}) .itemprop .itemprop\".format(i)\n",
    "        even_cast_css = \".even:nth-child({}) .itemprop .itemprop\".format(j)\n",
    "        odd_cast = html_doc(odd_cast_css).text()\n",
    "        even_cast = html_doc(even_cast_css).text()\n",
    "        cast_lst.append(odd_cast)\n",
    "        cast_lst.append(even_cast)\n",
    "    return cast_lst"
   ]
  },
  {
   "cell_type": "code",
   "execution_count": 7,
   "metadata": {
    "slideshow": {
     "slide_type": "-"
    }
   },
   "outputs": [
    {
     "data": {
      "text/plain": [
       "['Ryan Gosling',\n",
       " 'Emma Stone',\n",
       " 'Amiée Conn',\n",
       " 'Terry Walters',\n",
       " 'Thom Shelton',\n",
       " 'Cinda Adams',\n",
       " 'Callie Hernandez',\n",
       " 'Jessica Rothe',\n",
       " 'Sonoya Mizuno',\n",
       " 'Rosemarie DeWitt',\n",
       " 'J.K. Simmons',\n",
       " 'Claudine Claudio',\n",
       " 'Jason Fuchs',\n",
       " 'D.A. Wallach']"
      ]
     },
     "execution_count": 7,
     "metadata": {},
     "output_type": "execute_result"
    }
   ],
   "source": [
    "get_cast()"
   ]
  }
 ],
 "metadata": {
  "celltoolbar": "Slideshow",
  "kernelspec": {
   "display_name": "Python 3",
   "language": "python",
   "name": "python3"
  },
  "language_info": {
   "codemirror_mode": {
    "name": "ipython",
    "version": 3
   },
   "file_extension": ".py",
   "mimetype": "text/x-python",
   "name": "python",
   "nbconvert_exporter": "python",
   "pygments_lexer": "ipython3",
   "version": "3.6.0"
  }
 },
 "nbformat": 4,
 "nbformat_minor": 2
}
