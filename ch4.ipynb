{
 "cells": [
  {
   "cell_type": "markdown",
   "metadata": {
    "slideshow": {
     "slide_type": "slide"
    }
   },
   "source": [
    "# NumPy\n",
    "\n",
    "## 郭耀仁"
   ]
  },
  {
   "cell_type": "markdown",
   "metadata": {
    "slideshow": {
     "slide_type": "slide"
    }
   },
   "source": [
    "## Documentation\n",
    "\n",
    "https://docs.scipy.org/doc/numpy-dev/user/index.html"
   ]
  },
  {
   "cell_type": "markdown",
   "metadata": {
    "slideshow": {
     "slide_type": "slide"
    }
   },
   "source": [
    "## 我們的問題\n",
    "\n",
    "- 我想一次把這幾個距離從公里換算成英里\n",
    "\n",
    "```python\n",
    "km_list = [3, 5, 10, 21, 42.195]\n",
    "km_to_mile = 0.621371192\n",
    "```"
   ]
  },
  {
   "cell_type": "markdown",
   "metadata": {
    "slideshow": {
     "slide_type": "subslide"
    }
   },
   "source": [
    "## 我們的問題（2）\n",
    "\n",
    "- Python 的 list 無法使用 **element-wise** 運算\n",
    "- 在不引用套件的情況下我們可以使用`迴圈`來處理"
   ]
  },
  {
   "cell_type": "code",
   "execution_count": 1,
   "metadata": {
    "collapsed": false
   },
   "outputs": [
    {
     "name": "stdout",
     "output_type": "stream",
     "text": [
      "[1.864113576, 3.10685596, 6.21371192, 13.048795032000001, 26.21875744644]\n"
     ]
    }
   ],
   "source": [
    "km_list = [3, 5, 10, 21, 42.195]\n",
    "km_to_mile = 0.621371192\n",
    "mile_list = []\n",
    "\n",
    "for km in km_list:\n",
    "    mile_list.append(km * km_to_mile)\n",
    "\n",
    "print(mile_list)"
   ]
  },
  {
   "cell_type": "markdown",
   "metadata": {
    "slideshow": {
     "slide_type": "subslide"
    }
   },
   "source": [
    "## 我們的問題（3）\n",
    "\n",
    "- 或者使用 `map()` 和 `lambda 函數` 來處理"
   ]
  },
  {
   "cell_type": "code",
   "execution_count": 2,
   "metadata": {
    "collapsed": false
   },
   "outputs": [
    {
     "name": "stdout",
     "output_type": "stream",
     "text": [
      "[1.864113576, 3.10685596, 6.21371192, 13.048795032000001, 26.21875744644]\n"
     ]
    }
   ],
   "source": [
    "km_list = [3, 5, 10, 21, 42.195]\n",
    "mile_list = list(map(lambda x: x * 0.621371192, km_list))\n",
    "print(mile_list)"
   ]
  },
  {
   "cell_type": "markdown",
   "metadata": {
    "slideshow": {
     "slide_type": "subslide"
    }
   },
   "source": [
    "## 我們的問題（4）\n",
    "\n",
    "- 這樣處理會不會覺得太麻煩呢？\n",
    "- R 語言使用者表示：\n",
    "\n",
    "![](https://storage.googleapis.com/intro-2-py-ds/img/ch8/nick_young_question_mark.jpg)"
   ]
  },
  {
   "cell_type": "markdown",
   "metadata": {
    "slideshow": {
     "slide_type": "slide"
    }
   },
   "source": [
    "## 第一次使用 ndarray"
   ]
  },
  {
   "cell_type": "code",
   "execution_count": 3,
   "metadata": {
    "collapsed": false,
    "slideshow": {
     "slide_type": "-"
    }
   },
   "outputs": [
    {
     "name": "stdout",
     "output_type": "stream",
     "text": [
      "<class 'numpy.ndarray'>\n",
      "[  1.86411358   3.10685596   6.21371192  13.04879503  26.21875745]\n"
     ]
    }
   ],
   "source": [
    "import numpy # 引入 numpy 套件\n",
    "\n",
    "km_list = [3, 5, 10, 21, 42.195]\n",
    "km_array = numpy.array(km_list)\n",
    "print(type(km_array))\n",
    "km_to_mile = 0.621371192\n",
    "mile_array = km_array * km_to_mile\n",
    "print(mile_array)"
   ]
  },
  {
   "cell_type": "markdown",
   "metadata": {
    "slideshow": {
     "slide_type": "subslide"
    }
   },
   "source": [
    "## 第一次使用 ndarray（2）\n",
    "\n",
    "- 把套件名稱變成縮寫"
   ]
  },
  {
   "cell_type": "code",
   "execution_count": 4,
   "metadata": {
    "collapsed": false,
    "slideshow": {
     "slide_type": "-"
    }
   },
   "outputs": [
    {
     "name": "stdout",
     "output_type": "stream",
     "text": [
      "<class 'numpy.ndarray'>\n",
      "[  1.86411358   3.10685596   6.21371192  13.04879503  26.21875745]\n"
     ]
    }
   ],
   "source": [
    "import numpy as np # 引入 numpy 套件\n",
    "\n",
    "km_list = [3, 5, 10, 21, 42.195]\n",
    "km_array = np.array(km_list)\n",
    "print(type(km_array))\n",
    "km_to_mile = 0.621371192\n",
    "mile_array = km_array * km_to_mile\n",
    "print(mile_array)"
   ]
  },
  {
   "cell_type": "markdown",
   "metadata": {
    "slideshow": {
     "slide_type": "subslide"
    }
   },
   "source": [
    "## 練習計算 BMI\n",
    "\n",
    "- 請同學練習計算這五個人的 [BMI](https://zh.wikipedia.org/wiki/身高體重指數)\n",
    "\n",
    "```python\n",
    "heights = [173, 168, 171, 189, 179]\n",
    "weights = [65.4, 59.2, 63.6, 88.4, 68.7]\n",
    "```"
   ]
  },
  {
   "cell_type": "markdown",
   "metadata": {
    "slideshow": {
     "slide_type": "slide"
    }
   },
   "source": [
    "## 建立 ndarray 的方法\n",
    "\n",
    "|方法|描述|\n",
    "|---|----|\n",
    "|`numpy.array()`|基本的建立|\n",
    "|`numpy.arange()`|類似 `range()`|\n",
    "|`numpy.linspace()`|建立等距切分的陣列|\n",
    "|`numpy.ones()`|建立都是 1 的陣列|\n",
    "|`numpy.zeros()`|建立都是 0 的陣列|\n",
    "|`numpy.eye()`|建立單位矩陣|\n",
    "|`numpy.random.rand()`|建立符合均勻分布的陣列|\n",
    "|`numpy.random.randn()`|建立符合常態分布的陣列|\n",
    "|`numpy.random.randint()`|建立隨機整數的陣列|"
   ]
  },
  {
   "cell_type": "markdown",
   "metadata": {
    "slideshow": {
     "slide_type": "subslide"
    }
   },
   "source": [
    "## 建立 ndarray 的方法（2）\n",
    "\n",
    "- `numpy.arange()`\n",
    "- 可以只提供 `stop` 輸入"
   ]
  },
  {
   "cell_type": "code",
   "execution_count": 5,
   "metadata": {
    "collapsed": false
   },
   "outputs": [
    {
     "name": "stdout",
     "output_type": "stream",
     "text": [
      "[0 1 2 3 4 5 6 7 8 9]\n",
      "[1 2 3 4 5 6 7 8 9]\n",
      "[1 3 5 7 9]\n"
     ]
    }
   ],
   "source": [
    "import numpy as np\n",
    "\n",
    "arr = np.arange(10)\n",
    "print(arr)\n",
    "arr = np.arange(1, 10)\n",
    "print(arr)\n",
    "arr = np.arange(1, 10, 2)\n",
    "print(arr)"
   ]
  },
  {
   "cell_type": "markdown",
   "metadata": {
    "slideshow": {
     "slide_type": "subslide"
    }
   },
   "source": [
    "## 建立 ndarray 的方法（3）\n",
    "\n",
    "- `numpy.linspace()`\n",
    "- 輸入起始值、停止值與個數"
   ]
  },
  {
   "cell_type": "code",
   "execution_count": 6,
   "metadata": {
    "collapsed": false
   },
   "outputs": [
    {
     "name": "stdout",
     "output_type": "stream",
     "text": [
      "[  1.   2.   3.   4.   5.   6.   7.   8.   9.  10.]\n"
     ]
    }
   ],
   "source": [
    "import numpy as np\n",
    "\n",
    "arr = np.linspace(1, 10, 10)\n",
    "print(arr)"
   ]
  },
  {
   "cell_type": "markdown",
   "metadata": {
    "slideshow": {
     "slide_type": "subslide"
    }
   },
   "source": [
    "## 建立 ndarray 的方法（4）\n",
    "\n",
    "- `numpy.ones()`\n",
    "- 建立都是 1 的陣列\n",
    "- 輸入一個數字建立一維的陣列\n",
    "- 輸入 tuple 建立多維的陣列"
   ]
  },
  {
   "cell_type": "code",
   "execution_count": 7,
   "metadata": {
    "collapsed": false
   },
   "outputs": [
    {
     "name": "stdout",
     "output_type": "stream",
     "text": [
      "[ 1.  1.  1.  1.  1.]\n",
      "\n",
      "\n",
      "[[ 1.  1.  1.]\n",
      " [ 1.  1.  1.]]\n",
      "\n",
      "\n",
      "[[[ 1.  1.]\n",
      "  [ 1.  1.]\n",
      "  [ 1.  1.]]\n",
      "\n",
      " [[ 1.  1.]\n",
      "  [ 1.  1.]\n",
      "  [ 1.  1.]]]\n"
     ]
    }
   ],
   "source": [
    "import numpy as np\n",
    "\n",
    "arr = np.ones(5)\n",
    "print(arr)\n",
    "print(\"\\n\")\n",
    "arr = np.ones((2, 3))\n",
    "print(arr)\n",
    "print(\"\\n\")\n",
    "arr = np.ones((2, 3, 2))\n",
    "print(arr)"
   ]
  },
  {
   "cell_type": "markdown",
   "metadata": {
    "slideshow": {
     "slide_type": "subslide"
    }
   },
   "source": [
    "## 建立 ndarray 的方法（5）\n",
    "\n",
    "- `numpy.zeros()`\n",
    "- 建立都是 0 的陣列\n",
    "- 輸入一個數字建立一維的陣列\n",
    "- 輸入 tuple 建立多維的陣列\n",
    "- 可以比照 `numpy.ones()` 自行試試"
   ]
  },
  {
   "cell_type": "markdown",
   "metadata": {
    "slideshow": {
     "slide_type": "subslide"
    }
   },
   "source": [
    "## 建立 ndarray 的方法（6）\n",
    "\n",
    "- `numpy.eye()`\n",
    "- 建立單位矩陣\n",
    "- 輸入 `n` 就會得到 `nxn` 的單位矩陣"
   ]
  },
  {
   "cell_type": "code",
   "execution_count": 8,
   "metadata": {
    "collapsed": false
   },
   "outputs": [
    {
     "name": "stdout",
     "output_type": "stream",
     "text": [
      "[[ 1.  0.  0.]\n",
      " [ 0.  1.  0.]\n",
      " [ 0.  0.  1.]]\n",
      "\n",
      "\n",
      "[[ 1.  0.  0.  0.  0.]\n",
      " [ 0.  1.  0.  0.  0.]\n",
      " [ 0.  0.  1.  0.  0.]\n",
      " [ 0.  0.  0.  1.  0.]\n",
      " [ 0.  0.  0.  0.  1.]]\n"
     ]
    }
   ],
   "source": [
    "import numpy as np\n",
    "\n",
    "arr = np.eye(3) # 3x3 的單位矩陣\n",
    "print(arr)\n",
    "print(\"\\n\")\n",
    "arr = np.eye(5) # 5x5 的單位矩陣\n",
    "print(arr)"
   ]
  },
  {
   "cell_type": "markdown",
   "metadata": {
    "slideshow": {
     "slide_type": "subslide"
    }
   },
   "source": [
    "## 建立 ndarray 的方法（7）\n",
    "\n",
    "- `numpy.diag()`\n",
    "- 建立對角矩陣"
   ]
  },
  {
   "cell_type": "code",
   "execution_count": 9,
   "metadata": {
    "collapsed": false
   },
   "outputs": [
    {
     "name": "stdout",
     "output_type": "stream",
     "text": [
      "[[1 0 0]\n",
      " [0 2 0]\n",
      " [0 0 3]]\n"
     ]
    }
   ],
   "source": [
    "import numpy as np\n",
    "\n",
    "arr = np.diag([1, 2, 3])\n",
    "print(arr)"
   ]
  },
  {
   "cell_type": "markdown",
   "metadata": {
    "slideshow": {
     "slide_type": "subslide"
    }
   },
   "source": [
    "## 建立 ndarray 的方法（8）\n",
    "\n",
    "- `numpy.random.rand()`\n",
    "- 建立符合 0~1 均勻分布的陣列"
   ]
  },
  {
   "cell_type": "code",
   "execution_count": 10,
   "metadata": {
    "collapsed": false
   },
   "outputs": [
    {
     "name": "stdout",
     "output_type": "stream",
     "text": [
      "[ 0.05475295  0.50316867  0.50825385  0.39994612  0.6010682   0.63313496]\n"
     ]
    },
    {
     "data": {
      "image/png": "[encoded data removed]",
      "text/plain": [
       "<matplotlib.figure.Figure at 0x103da87f0>"
      ]
     },
     "metadata": {},
     "output_type": "display_data"
    }
   ],
   "source": [
    "import numpy as np\n",
    "import matplotlib.pyplot as plt\n",
    "\n",
    "arr = np.random.rand(1000)\n",
    "print(arr[:6])\n",
    "plt.hist(arr)\n",
    "plt.show()"
   ]
  },
  {
   "cell_type": "markdown",
   "metadata": {
    "slideshow": {
     "slide_type": "subslide"
    }
   },
   "source": [
    "## 建立 ndarray 的方法（9）\n",
    "\n",
    "- `numpy.random.randn()`\n",
    "- 建立符合平均數 0，標準差 1 的常態分佈陣列"
   ]
  },
  {
   "cell_type": "code",
   "execution_count": 11,
   "metadata": {
    "collapsed": false
   },
   "outputs": [
    {
     "name": "stdout",
     "output_type": "stream",
     "text": [
      "[ 0.71550618  0.97164187  0.06570055 -0.22835471 -0.0327245  -0.63464055]\n"
     ]
    },
    {
     "data": {
      "image/png": "[encoded data removed]",
      "text/plain": [
       "<matplotlib.figure.Figure at 0x1094b7ac8>"
      ]
     },
     "metadata": {},
     "output_type": "display_data"
    }
   ],
   "source": [
    "import numpy as np\n",
    "import matplotlib.pyplot as plt\n",
    "\n",
    "arr = np.random.randn(1000)\n",
    "print(arr[:6])\n",
    "plt.hist(arr)\n",
    "plt.show()"
   ]
  },
  {
   "cell_type": "markdown",
   "metadata": {
    "slideshow": {
     "slide_type": "subslide"
    }
   },
   "source": [
    "## 建立 ndarray 的方法（10）\n",
    "\n",
    "- `numpy.random.randint(low, high, size)`\n",
    "- 建立介於 low，high 之間的整數陣列"
   ]
  },
  {
   "cell_type": "code",
   "execution_count": 12,
   "metadata": {
    "collapsed": false
   },
   "outputs": [
    {
     "name": "stdout",
     "output_type": "stream",
     "text": [
      "[89 87 27  7 31 13 79 97 55 47]\n",
      "[[14 67 65 70 17]\n",
      " [73 68  7 43 10]]\n"
     ]
    }
   ],
   "source": [
    "import numpy as np\n",
    "\n",
    "arr = np.random.randint(0, 100, size = 10)\n",
    "print(arr)\n",
    "arr = np.random.randint(0, 100, size = (2, 5))\n",
    "print(arr)"
   ]
  },
  {
   "cell_type": "markdown",
   "metadata": {
    "slideshow": {
     "slide_type": "subslide"
    }
   },
   "source": [
    "## 建立 ndarray 的方法（11）\n",
    "\n",
    "- 練習在 `[-2, 2]` 之間均分出 50 個數字的數列\n",
    "- 練習建立一個 `(5, 5)` 的單位矩陣\n",
    "- 練習在隨機產出 5 個介於 100 與 200 之間整數的數列"
   ]
  },
  {
   "cell_type": "markdown",
   "metadata": {
    "slideshow": {
     "slide_type": "slide"
    }
   },
   "source": [
    "## 資料類型\n",
    "\n",
    "- 使用 `dtype` 屬性來指定或檢視\n",
    "- 整數 `int`\n",
    "    - int8\n",
    "    - int16\n",
    "    - int32\n",
    "    - int64（預設）"
   ]
  },
  {
   "cell_type": "code",
   "execution_count": 13,
   "metadata": {
    "collapsed": false
   },
   "outputs": [
    {
     "name": "stdout",
     "output_type": "stream",
     "text": [
      "[1 1 1 1 1]\n",
      "int64\n",
      "[1 1 1 1 1]\n",
      "int8\n"
     ]
    }
   ],
   "source": [
    "import numpy as np\n",
    "\n",
    "arr = np.ones(5, dtype = 'int')\n",
    "print(arr)\n",
    "print(arr.dtype) # 預設是 64 位元的整數\n",
    "arr = np.ones(5, dtype = 'int8') # 可以改成 8 位元的整數\n",
    "print(arr)\n",
    "print(arr.dtype)"
   ]
  },
  {
   "cell_type": "markdown",
   "metadata": {
    "slideshow": {
     "slide_type": "subslide"
    }
   },
   "source": [
    "## 資料類型（2）\n",
    "\n",
    "- 使用 `dtype` 屬性來指定或檢視\n",
    "- 浮點數 `float`\n",
    "    - float16\n",
    "    - float32\n",
    "    - float64（預設）\n",
    "    - float128"
   ]
  },
  {
   "cell_type": "code",
   "execution_count": 14,
   "metadata": {
    "collapsed": false
   },
   "outputs": [
    {
     "name": "stdout",
     "output_type": "stream",
     "text": [
      "[ 1.  1.  1.  1.  1.]\n",
      "float64\n",
      "[ 1.  1.  1.  1.  1.]\n",
      "float16\n"
     ]
    }
   ],
   "source": [
    "import numpy as np\n",
    "\n",
    "arr = np.ones(5)\n",
    "print(arr)\n",
    "print(arr.dtype) # 預設是 64 位元的浮點數\n",
    "arr = np.ones(5, dtype = 'float16') # 可以改成 16 位元的浮點數\n",
    "print(arr)\n",
    "print(arr.dtype)"
   ]
  },
  {
   "cell_type": "markdown",
   "metadata": {
    "slideshow": {
     "slide_type": "subslide"
    }
   },
   "source": [
    "## 資料類型（3）\n",
    "\n",
    "- 使用 `dtype` 屬性來指定或檢視\n",
    "- 複數\n",
    "    - complex64\n",
    "    - complex128（預設）\n",
    "    - complex256"
   ]
  },
  {
   "cell_type": "code",
   "execution_count": 15,
   "metadata": {
    "collapsed": false
   },
   "outputs": [
    {
     "name": "stdout",
     "output_type": "stream",
     "text": [
      "[ 1.+0.j  1.+0.j  1.+0.j  1.+0.j  1.+0.j]\n",
      "complex128\n",
      "[ 1.+0.j  1.+0.j  1.+0.j  1.+0.j  1.+0.j]\n",
      "complex64\n"
     ]
    }
   ],
   "source": [
    "import numpy as np\n",
    "\n",
    "arr = np.ones(5, dtype = 'complex')\n",
    "print(arr)\n",
    "print(arr.dtype) # 預設是 128 位元的複數\n",
    "arr = np.ones(5, dtype = 'complex64') # 可以改成 64 位元的複數\n",
    "print(arr)\n",
    "print(arr.dtype)"
   ]
  },
  {
   "cell_type": "markdown",
   "metadata": {
    "slideshow": {
     "slide_type": "subslide"
    }
   },
   "source": [
    "## 資料類型（4）\n",
    "\n",
    "- 使用 `dtype` 屬性來指定或檢視\n",
    "- 布林\n",
    "    - bool"
   ]
  },
  {
   "cell_type": "code",
   "execution_count": 16,
   "metadata": {
    "collapsed": false
   },
   "outputs": [
    {
     "name": "stdout",
     "output_type": "stream",
     "text": [
      "[ True False]\n",
      "bool\n"
     ]
    }
   ],
   "source": [
    "import numpy as np\n",
    "\n",
    "arr = np.array((True, False))\n",
    "print(arr)\n",
    "print(arr.dtype)"
   ]
  },
  {
   "cell_type": "markdown",
   "metadata": {
    "slideshow": {
     "slide_type": "subslide"
    }
   },
   "source": [
    "## 資料類型（5）\n",
    "\n",
    "- 使用 `dtype` 屬性來指定或檢視\n",
    "- 文字\n",
    "    - string\\_（一個字元以一個 byte 儲存）\n",
    "    - unicode\\_（預設）"
   ]
  },
  {
   "cell_type": "code",
   "execution_count": 17,
   "metadata": {
    "collapsed": false
   },
   "outputs": [
    {
     "name": "stdout",
     "output_type": "stream",
     "text": [
      "['1' '中文' 'English']\n",
      "<U7\n",
      "[b'1' b'English']\n",
      "|S7\n"
     ]
    }
   ],
   "source": [
    "import numpy as np\n",
    "\n",
    "arr = np.array((\"1\", \"中文\", \"English\")) # 預設為 unicode\n",
    "print(arr)\n",
    "print(arr.dtype)\n",
    "arr = np.array((\"1\", \"English\"), dtype = 'string_') # 中文一個字元要以兩個 byte 儲存，所以不能儲存為 string_\n",
    "print(arr)\n",
    "print(arr.dtype)"
   ]
  },
  {
   "cell_type": "markdown",
   "metadata": {
    "slideshow": {
     "slide_type": "subslide"
    }
   },
   "source": [
    "## 資料類型（6）\n",
    "\n",
    "- 除了在建立的時候使用 `dtype` 指定資料類型\n",
    "- 也可以使用 `astype()` 方法轉換資料類型"
   ]
  },
  {
   "cell_type": "code",
   "execution_count": 18,
   "metadata": {
    "collapsed": false
   },
   "outputs": [
    {
     "name": "stdout",
     "output_type": "stream",
     "text": [
      "float64\n",
      "['1.0' '1.0' '1.0' '1.0' '1.0']\n",
      "<U32\n"
     ]
    }
   ],
   "source": [
    "import numpy as np\n",
    "\n",
    "arr = np.ones(5)\n",
    "print(arr.dtype)\n",
    "arr = arr.astype('str')\n",
    "print(arr)\n",
    "print(arr.dtype)"
   ]
  },
  {
   "cell_type": "markdown",
   "metadata": {
    "slideshow": {
     "slide_type": "slide"
    }
   },
   "source": [
    "## ndarray 只能容許一個變數類型\n",
    "\n",
    "- 同時儲存有數值，布林值，會被自動轉換為數值\n",
    "- 同時儲存有數值，布林值與文字，會被自動轉換為文字"
   ]
  },
  {
   "cell_type": "code",
   "execution_count": 19,
   "metadata": {
    "collapsed": false
   },
   "outputs": [
    {
     "name": "stdout",
     "output_type": "stream",
     "text": [
      "int64\n",
      "<U21\n"
     ]
    }
   ],
   "source": [
    "import numpy as np\n",
    "\n",
    "arr = np.array([1, True])\n",
    "print(arr.dtype)\n",
    "arr = np.array([1, True, \"one\"])\n",
    "print(arr.dtype)"
   ]
  },
  {
   "cell_type": "markdown",
   "metadata": {
    "slideshow": {
     "slide_type": "slide"
    }
   },
   "source": [
    "## 選擇 ndarray 的元素\n",
    "\n",
    "- 用索引值選擇"
   ]
  },
  {
   "cell_type": "code",
   "execution_count": 20,
   "metadata": {
    "collapsed": false,
    "slideshow": {
     "slide_type": "-"
    }
   },
   "outputs": [
    {
     "name": "stdout",
     "output_type": "stream",
     "text": [
      "[0 1 2 3 4]\n",
      "0\n",
      "1\n",
      "4\n",
      "[0 2 4]\n"
     ]
    }
   ],
   "source": [
    "import numpy as np\n",
    "\n",
    "arr = np.arange(5)\n",
    "print(arr)\n",
    "print(arr[0])\n",
    "print(arr[1])\n",
    "print(arr[-1])\n",
    "print(arr[[0, 2, 4]]) # To the rescue!"
   ]
  },
  {
   "cell_type": "markdown",
   "metadata": {
    "slideshow": {
     "slide_type": "subslide"
    }
   },
   "source": [
    "## 選擇 ndarray 的元素（2）\n",
    "\n",
    "- 用索引值選擇\n",
    "- slicing `arr[startIndex: endIndex: stepValue]`"
   ]
  },
  {
   "cell_type": "code",
   "execution_count": 21,
   "metadata": {
    "collapsed": false
   },
   "outputs": [
    {
     "name": "stdout",
     "output_type": "stream",
     "text": [
      "[0 1 2]\n",
      "[3 4]\n",
      "[0 2 4]\n"
     ]
    }
   ],
   "source": [
    "import numpy as np\n",
    "\n",
    "arr = np.arange(5)\n",
    "print(arr[:3])\n",
    "print(arr[3:])\n",
    "print(arr[0:5:2])"
   ]
  },
  {
   "cell_type": "markdown",
   "metadata": {
    "slideshow": {
     "slide_type": "subslide"
    }
   },
   "source": [
    "## 選擇 ndarray 的元素（3）\n",
    "\n",
    "- 多維度的 ndarray 可以用 tuple 方式選擇"
   ]
  },
  {
   "cell_type": "code",
   "execution_count": 22,
   "metadata": {
    "collapsed": false
   },
   "outputs": [
    {
     "name": "stdout",
     "output_type": "stream",
     "text": [
      "[[0 1 2 3 4]\n",
      " [5 6 7 8 9]]\n",
      "5\n",
      "5\n",
      "\n",
      "\n",
      "[[[ 0  1  2  3  4]\n",
      "  [ 5  6  7  8  9]]\n",
      "\n",
      " [[10 11 12 13 14]\n",
      "  [15 16 17 18 19]]]\n",
      "5\n",
      "5\n"
     ]
    }
   ],
   "source": [
    "import numpy as np\n",
    "\n",
    "arr = np.array(range(10)).reshape(2, 5)\n",
    "print(arr)\n",
    "print(arr[1][0])\n",
    "print(arr[1, 0])\n",
    "print(\"\\n\")\n",
    "arr = np.array(range(20)).reshape(2, 2, 5)\n",
    "print(arr)\n",
    "print(arr[0][1][0])\n",
    "print(arr[0, 1, 0])"
   ]
  },
  {
   "cell_type": "markdown",
   "metadata": {
    "slideshow": {
     "slide_type": "subslide"
    }
   },
   "source": [
    "## 選擇 ndarray 的元素（4）\n",
    "\n",
    "- 用布林選擇"
   ]
  },
  {
   "cell_type": "code",
   "execution_count": 23,
   "metadata": {
    "collapsed": false,
    "slideshow": {
     "slide_type": "-"
    }
   },
   "outputs": [
    {
     "name": "stdout",
     "output_type": "stream",
     "text": [
      "[ True  True  True  True  True False False False False False]\n",
      "[0 1 2 3 4]\n"
     ]
    }
   ],
   "source": [
    "import numpy as np\n",
    "\n",
    "arr = np.array(range(10))\n",
    "num_filter = arr < 5\n",
    "print(num_filter)\n",
    "print(arr[num_filter])"
   ]
  },
  {
   "cell_type": "markdown",
   "metadata": {
    "slideshow": {
     "slide_type": "subslide"
    }
   },
   "source": [
    "## 選擇 ndarray 的元素（5）\n",
    "\n",
    "- 練習選出未滿 20 與超過 30 的元素\n",
    "\n",
    "```python\n",
    "age = [19, 21, 20, 19, 21, 17, 30, 36, 90]\n",
    "```"
   ]
  },
  {
   "cell_type": "markdown",
   "metadata": {
    "slideshow": {
     "slide_type": "subslide"
    }
   },
   "source": [
    "## 選擇 ndarray 的元素（6）\n",
    "\n",
    "- 練習從五人中選出 BMI > 21 的元素\n",
    "\n",
    "```python\n",
    "heights = [173, 168, 171, 189, 179]\n",
    "weights = [65.4, 59.2, 63.6, 88.4, 68.7]\n",
    "```"
   ]
  },
  {
   "cell_type": "markdown",
   "metadata": {
    "slideshow": {
     "slide_type": "subslide"
    }
   },
   "source": [
    "## 選擇 ndarray 的元素（7）\n",
    "\n",
    "- 練習使用布林選出 Matthew Perry 與 Lisa Kudrow\n",
    "\n",
    "```python\n",
    "friends_stars = [\"Jennifer Aniston\", \"Courteney Cox\", \"Lisa Kudrow\",\n",
    "\"Matt LeBlanc\", \"Matthew Perry\", \"David Schwimmer\"]\n",
    "```"
   ]
  },
  {
   "cell_type": "markdown",
   "metadata": {
    "slideshow": {
     "slide_type": "subslide"
    }
   },
   "source": [
    "## 選擇 ndarray 的元素（8）\n",
    "\n",
    "- 假如希望判斷兩個 ndarray 是否相同，可以使用 `np.array_equal()`"
   ]
  },
  {
   "cell_type": "code",
   "execution_count": 24,
   "metadata": {
    "collapsed": false
   },
   "outputs": [
    {
     "name": "stdout",
     "output_type": "stream",
     "text": [
      "False\n",
      "True\n"
     ]
    }
   ],
   "source": [
    "import numpy as np\n",
    "\n",
    "friends_stars = [\"Jennifer Aniston\", \"Courteney Cox\", \"Lisa Kudrow\",\n",
    "\"Matt LeBlanc\", \"Matthew Perry\", \"David Schwimmer\"]\n",
    "friends_arr_1 = np.array(friends_stars)\n",
    "friends_arr_2 = np.array(friends_stars[:5])\n",
    "print(np.array_equal(friends_arr_1, friends_arr_2))\n",
    "friends_arr_2 = np.array(friends_stars[:])\n",
    "print(np.array_equal(friends_arr_1, friends_arr_2))"
   ]
  },
  {
   "cell_type": "markdown",
   "metadata": {
    "slideshow": {
     "slide_type": "slide"
    }
   },
   "source": [
    "## ndarray 的運算\n",
    "\n",
    "- 一如我們一開始所說的，是 element-wise 的運算"
   ]
  },
  {
   "cell_type": "code",
   "execution_count": 25,
   "metadata": {
    "collapsed": false
   },
   "outputs": [
    {
     "name": "stdout",
     "output_type": "stream",
     "text": [
      "[ 8  9 10 11 12 13 14 15 16 17]\n",
      "[-7 -6 -5 -4 -3 -2 -1  0  1  2]\n",
      "[ 0  8 16 24 32 40 48 56 64 72]\n",
      "[ 0.          0.14285714  0.28571429  0.42857143  0.57142857  0.71428571\n",
      "  0.85714286  1.          1.14285714  1.28571429]\n",
      "[ 0  1  4  9 16 25 36 49 64 81]\n",
      "[0 1 2 3 4 5 6 0 1 2]\n"
     ]
    }
   ],
   "source": [
    "import numpy as np\n",
    "\n",
    "arr = np.arange(10)\n",
    "print(arr + 8)\n",
    "print(arr - 7)\n",
    "print(arr * 8)\n",
    "print(arr / 7)\n",
    "print(arr**2)\n",
    "print(arr % 7)"
   ]
  },
  {
   "cell_type": "markdown",
   "metadata": {
    "slideshow": {
     "slide_type": "subslide"
    }
   },
   "source": [
    "## ndarray 的運算（2）\n",
    "\n",
    "- 一維的 ndarray 與二維的 ndarray 也都符合 element-wise 運算"
   ]
  },
  {
   "cell_type": "code",
   "execution_count": 26,
   "metadata": {
    "collapsed": false
   },
   "outputs": [
    {
     "name": "stdout",
     "output_type": "stream",
     "text": [
      "[0 1 2 3 4 5 6 7 8 9]\n",
      "[11 12 13 14 15 16 17 18 19 20]\n",
      "\n",
      "\n",
      "[  0  12  26  42  60  80 102 126 152 180]\n"
     ]
    }
   ],
   "source": [
    "import numpy as np\n",
    "\n",
    "arr_1 = np.arange(10)\n",
    "arr_2 = np.arange(11, 21)\n",
    "print(arr_1)\n",
    "print(arr_2)\n",
    "print(\"\\n\")\n",
    "print(arr_1 * arr_2)"
   ]
  },
  {
   "cell_type": "code",
   "execution_count": 27,
   "metadata": {
    "collapsed": false,
    "slideshow": {
     "slide_type": "subslide"
    }
   },
   "outputs": [
    {
     "name": "stdout",
     "output_type": "stream",
     "text": [
      "[[0 1 2 3 4]\n",
      " [5 6 7 8 9]]\n",
      "[[11 12 13 14 15]\n",
      " [16 17 18 19 20]]\n",
      "\n",
      "\n",
      "[[  0  12  26  42  60]\n",
      " [ 80 102 126 152 180]]\n"
     ]
    }
   ],
   "source": [
    "import numpy as np\n",
    "\n",
    "arr_1 = np.arange(10).reshape(2, 5)\n",
    "arr_2 = np.arange(11, 21).reshape(2, 5)\n",
    "print(arr_1)\n",
    "print(arr_2)\n",
    "print(\"\\n\")\n",
    "print(arr_1 * arr_2)"
   ]
  },
  {
   "cell_type": "markdown",
   "metadata": {
    "slideshow": {
     "slide_type": "subslide"
    }
   },
   "source": [
    "## ndarray 的運算（3）\n",
    "\n",
    "- 二維的 ndarray 可以進行矩陣的**內積**運算\n",
    "- 使用 `.dot()` 方法或 `np.dot()`"
   ]
  },
  {
   "cell_type": "code",
   "execution_count": 28,
   "metadata": {
    "collapsed": false
   },
   "outputs": [
    {
     "name": "stdout",
     "output_type": "stream",
     "text": [
      "[[ 60  70]\n",
      " [160 195]]\n",
      "\n",
      "\n",
      "[[ 60  70]\n",
      " [160 195]]\n"
     ]
    }
   ],
   "source": [
    "import numpy as np\n",
    "\n",
    "arr_1 = np.arange(10).reshape(2, 5)\n",
    "arr_2 = np.arange(10).reshape(5, 2)\n",
    "print(arr_1.dot(arr_2))\n",
    "print(\"\\n\")\n",
    "print(np.dot(arr_1, arr_2))"
   ]
  },
  {
   "cell_type": "markdown",
   "metadata": {
    "slideshow": {
     "slide_type": "subslide"
    }
   },
   "source": [
    "## ndarray 的運算（4）\n",
    "\n",
    "- 練習計算 $u^Tv$\n",
    "\n",
    "$$u = \\begin{bmatrix}\n",
    "    4 \\\\\n",
    "    -4 \\\\\n",
    "    -3\n",
    "\\end{bmatrix}$$\n",
    "\n",
    "$$v = \\begin{bmatrix}\n",
    "    4 \\\\\n",
    "    2 \\\\\n",
    "    4\n",
    "\\end{bmatrix}$$"
   ]
  },
  {
   "cell_type": "markdown",
   "metadata": {
    "slideshow": {
     "slide_type": "subslide"
    }
   },
   "source": [
    "## ndarray 的運算（5）\n",
    "\n",
    "- 練習計算 $AI$ 與 $IA$\n",
    "\n",
    "$$A = \\begin{bmatrix}\n",
    "    1 & 2 & 3 \\\\\n",
    "    4 & 5 & 6 \\\\\n",
    "    7 & 8 & 9 \\\\\n",
    "\\end{bmatrix}$$\n",
    "\n",
    "$$I = \\begin{bmatrix}\n",
    "    1 & 0 & 0 \\\\\n",
    "    0 & 1 & 0 \\\\\n",
    "    0 & 0 & 1 \\\\\n",
    "\\end{bmatrix}$$"
   ]
  },
  {
   "cell_type": "markdown",
   "metadata": {
    "slideshow": {
     "slide_type": "subslide"
    }
   },
   "source": [
    "## ndarray 的運算（6）\n",
    "\n",
    "- 練習計算 $AB$ 與 $BA$\n",
    "\n",
    "$$A = \\begin{bmatrix}\n",
    "    1 & 2 \\\\\n",
    "    4 & 5 \\\\\n",
    "\\end{bmatrix}$$\n",
    "\n",
    "$$B = \\begin{bmatrix}\n",
    "    4 & 3 \\\\\n",
    "    2 & 1 \\\\\n",
    "\\end{bmatrix}$$"
   ]
  },
  {
   "cell_type": "markdown",
   "metadata": {
    "slideshow": {
     "slide_type": "slide"
    }
   },
   "source": [
    "## 常用屬性與方法\n",
    "\n",
    "- 元素個數：`.size`\n",
    "- 外觀：`.shape`\n",
    "- 維度：`.ndim`"
   ]
  },
  {
   "cell_type": "code",
   "execution_count": 29,
   "metadata": {
    "collapsed": false,
    "slideshow": {
     "slide_type": "-"
    }
   },
   "outputs": [
    {
     "name": "stdout",
     "output_type": "stream",
     "text": [
      "10\n",
      "(10,)\n",
      "1\n",
      "\n",
      "\n",
      "10\n",
      "(2, 5)\n",
      "2\n"
     ]
    }
   ],
   "source": [
    "import numpy as np\n",
    "\n",
    "arr = np.array(range(10))\n",
    "print(arr.size)\n",
    "print(arr.shape)\n",
    "print(arr.ndim)\n",
    "print(\"\\n\")\n",
    "arr = np.array(range(10)).reshape(2, 5)\n",
    "print(arr.size)\n",
    "print(arr.shape)\n",
    "print(arr.ndim)"
   ]
  },
  {
   "cell_type": "markdown",
   "metadata": {
    "slideshow": {
     "slide_type": "subslide"
    }
   },
   "source": [
    "## 常用屬性與方法（2）\n",
    "\n",
    "- 變形：`.reshape(m, n)`\n",
    "- 轉置：`.T`\n",
    "- 攤平：`.ravel()`\n",
    "- 依條件取代：`.where()`"
   ]
  },
  {
   "cell_type": "code",
   "execution_count": 30,
   "metadata": {
    "collapsed": false,
    "slideshow": {
     "slide_type": "subslide"
    }
   },
   "outputs": [
    {
     "name": "stdout",
     "output_type": "stream",
     "text": [
      "(10,)\n",
      "(2, 5)\n",
      "\n",
      "\n",
      "[[0 1 2 3 4]\n",
      " [5 6 7 8 9]]\n",
      "[[0 5]\n",
      " [1 6]\n",
      " [2 7]\n",
      " [3 8]\n",
      " [4 9]]\n",
      "\n",
      "\n",
      "[0 1 2 3 4 5 6 7 8 9]\n",
      "(10,)\n",
      "\n",
      "\n",
      "[99 99 99 99 99  5  6  7  8  9]\n"
     ]
    }
   ],
   "source": [
    "import numpy as np\n",
    "\n",
    "arr = np.arange(10)\n",
    "print(arr.shape)\n",
    "arr = arr.reshape(2, 5)\n",
    "print(arr.shape)\n",
    "print(\"\\n\")\n",
    "print(arr)\n",
    "print(arr.T)\n",
    "print(\"\\n\")\n",
    "arr = arr.ravel()\n",
    "print(arr)\n",
    "print(arr.shape)\n",
    "print(\"\\n\")\n",
    "print(np.where(arr < 5, 99, arr))"
   ]
  },
  {
   "cell_type": "markdown",
   "metadata": {
    "slideshow": {
     "slide_type": "subslide"
    }
   },
   "source": [
    "## 常用屬性與方法（3）\n",
    "\n",
    "- 相乘：`.prod()`\n",
    "- 加總：`.sum()`\n",
    "- 平均：`.mean()`"
   ]
  },
  {
   "cell_type": "code",
   "execution_count": 31,
   "metadata": {
    "collapsed": false,
    "slideshow": {
     "slide_type": "subslide"
    }
   },
   "outputs": [
    {
     "name": "stdout",
     "output_type": "stream",
     "text": [
      "[[ 1  2  3  4  5]\n",
      " [ 6  7  8  9 10]]\n",
      "3628800\n",
      "[ 6 14 24 36 50]\n",
      "[  120 30240]\n",
      "\n",
      "\n",
      "55\n",
      "[ 7  9 11 13 15]\n",
      "[15 40]\n",
      "\n",
      "\n",
      "5.5\n",
      "[ 3.5  4.5  5.5  6.5  7.5]\n",
      "[ 3.  8.]\n"
     ]
    }
   ],
   "source": [
    "import numpy as np\n",
    "\n",
    "arr = np.arange(1, 11).reshape(2, 5)\n",
    "print(arr)\n",
    "print(arr.prod())\n",
    "print(arr.prod(axis = 0)) # column\n",
    "print(arr.prod(axis = 1)) # row\n",
    "print(\"\\n\")\n",
    "print(arr.sum())\n",
    "print(arr.sum(axis = 0)) # column\n",
    "print(arr.sum(axis = 1)) # row\n",
    "print(\"\\n\")\n",
    "print(arr.mean())\n",
    "print(arr.mean(axis = 0)) # column\n",
    "print(arr.mean(axis = 1)) # row"
   ]
  },
  {
   "cell_type": "markdown",
   "metadata": {
    "slideshow": {
     "slide_type": "subslide"
    }
   },
   "source": [
    "## 常用屬性與方法（4）\n",
    "\n",
    "- 找出 unique values：`np.unique()`\n",
    "- 檢查每個元素是否包含於：`np.in1d()`\n",
    "- 連結 ndarrays：`np.concatenate()`"
   ]
  },
  {
   "cell_type": "code",
   "execution_count": 32,
   "metadata": {
    "collapsed": false
   },
   "outputs": [
    {
     "name": "stdout",
     "output_type": "stream",
     "text": [
      "['female' 'male']\n",
      "[ 0.  1.]\n",
      "[ True  True  True  True  True False False False False False]\n"
     ]
    }
   ],
   "source": [
    "import numpy as np\n",
    "\n",
    "arr = np.array([\"female\", \"female\", \"female\", \"male\", \"male\"])\n",
    "print(np.unique(arr))\n",
    "arr = np.concatenate([np.ones(5), np.zeros(5)])\n",
    "print(np.unique(arr))\n",
    "arr_1 = np.arange(10)\n",
    "arr_2 = np.arange(5)\n",
    "print(np.in1d(arr_1, arr_2))"
   ]
  },
  {
   "cell_type": "markdown",
   "metadata": {
    "slideshow": {
     "slide_type": "subslide"
    }
   },
   "source": [
    "## 常用屬性與方法（5）\n",
    "\n",
    "- `np.all()` 判斷是否所有元素都滿足判斷條件\n",
    "- `np.any()` 判斷是否有任何元素滿足判斷條件\n",
    "- `np.sort()` 排序"
   ]
  },
  {
   "cell_type": "code",
   "execution_count": 33,
   "metadata": {
    "collapsed": false
   },
   "outputs": [
    {
     "name": "stdout",
     "output_type": "stream",
     "text": [
      "True\n",
      "False\n",
      "\n",
      "\n",
      "[[13 93 71  5 12]\n",
      " [33 85  7  4 36]]\n",
      "[[13 85  7  4 12]\n",
      " [33 93 71  5 36]]\n",
      "[[ 5 12 13 71 93]\n",
      " [ 4  7 33 36 85]]\n"
     ]
    }
   ],
   "source": [
    "import numpy as np\n",
    "\n",
    "arr = np.ones(5)\n",
    "print(np.all(arr == 1))\n",
    "print(np.any(arr != 1))\n",
    "print(\"\\n\")\n",
    "arr = np.random.randint(0, 100, size = (2, 5))\n",
    "print(arr)\n",
    "print(np.sort(arr, axis = 0)) # by column\n",
    "print(np.sort(arr, axis = 1)) # by row"
   ]
  },
  {
   "cell_type": "markdown",
   "metadata": {
    "slideshow": {
     "slide_type": "slide"
    }
   },
   "source": [
    "## 隨堂練習\n",
    "\n",
    "- 建立一個外觀為 (9, 9) 的 ndarray\n",
    "- 填入九九乘法表"
   ]
  },
  {
   "cell_type": "markdown",
   "metadata": {
    "slideshow": {
     "slide_type": "slide"
    }
   },
   "source": [
    "## 期中作業\n",
    "\n",
    "- 利用 numpy 提供的方法實作[樣本標準差](https://zh.wikipedia.org/wiki/%E6%A8%99%E6%BA%96%E5%B7%AE)函數\n",
    "\n",
    "$$SD = \\sqrt{\\frac{1}{N-1}\\sum_{i=1}^{N}(x_i - \\bar{x})^2}$$"
   ]
  }
 ],
 "metadata": {
  "celltoolbar": "Slideshow",
  "kernelspec": {
   "display_name": "Python 3",
   "language": "python",
   "name": "python3"
  },
  "language_info": {
   "codemirror_mode": {
    "name": "ipython",
    "version": 3
   },
   "file_extension": ".py",
   "mimetype": "text/x-python",
   "name": "python",
   "nbconvert_exporter": "python",
   "pygments_lexer": "ipython3",
   "version": "3.6.0"
  }
 },
 "nbformat": 4,
 "nbformat_minor": 1
}
