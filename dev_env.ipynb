{
 "cells": [
  {
   "cell_type": "markdown",
   "metadata": {
    "slideshow": {
     "slide_type": "slide"
    }
   },
   "source": [
    "# 建立開發環境\n",
    "\n",
    "## 郭耀仁"
   ]
  },
  {
   "cell_type": "markdown",
   "metadata": {
    "slideshow": {
     "slide_type": "slide"
    }
   },
   "source": [
    "## 開發環境\n",
    "\n",
    "- 瀏覽器\n",
    "    - Google Colaboratory\n",
    "    - Project Jupyter\n",
    "- 本機\n",
    "    - Anaconda"
   ]
  },
  {
   "cell_type": "markdown",
   "metadata": {
    "slideshow": {
     "slide_type": "subslide"
    }
   },
   "source": [
    "## 直接在瀏覽器使用\n",
    "\n",
    "- [Google Colaboratory](https://research.google.com/colaboratory/faq.html)\n",
    "- [Project Jupyter](http://jupyter.org/)"
   ]
  },
  {
   "cell_type": "markdown",
   "metadata": {
    "slideshow": {
     "slide_type": "slide"
    }
   },
   "source": [
    "## 安裝 Anaconda\n",
    "\n",
    "- [Anaconda](https://www.continuum.io/downloads)\n",
    "- 選擇 Python 3.6 Version"
   ]
  },
  {
   "cell_type": "markdown",
   "metadata": {
    "slideshow": {
     "slide_type": "subslide"
    }
   },
   "source": [
    "## 安裝 Anaconda（2）\n",
    "\n",
    "- 我為什麼推薦直接使用 [Anaconda](https://www.continuum.io/downloads)？\n",
    "    - 有主程式 Python\n",
    "    - 有編輯器 Jupyter Notebook\n",
    "    - 有套件與環境管理工具 conda"
   ]
  },
  {
   "cell_type": "markdown",
   "metadata": {
    "slideshow": {
     "slide_type": "subslide"
    }
   },
   "source": [
    "## 安裝 Anaconda（3）\n",
    "\n",
    "- 注意事項\n",
    "    - 將 Python 加入路徑變數"
   ]
  },
  {
   "cell_type": "markdown",
   "metadata": {
    "slideshow": {
     "slide_type": "slide"
    }
   },
   "source": [
    "## 啟動 Jupyter Notebook\n",
    "\n",
    "- 在命令列輸入\n",
    "\n",
    "```\n",
    "$ jupyter notebook\n",
    "```\n",
    "\n",
    "- 新增一個 Notebook\n",
    "\n",
    "![day0102](https://storage.googleapis.com/2017_ithome_ironman/day0102.png)"
   ]
  },
  {
   "cell_type": "markdown",
   "metadata": {
    "slideshow": {
     "slide_type": "slide"
    }
   },
   "source": [
    "## 補充資訊\n",
    "\n",
    "- 命令列\n",
    "- 虛擬環境"
   ]
  },
  {
   "cell_type": "markdown",
   "metadata": {
    "slideshow": {
     "slide_type": "slide"
    }
   },
   "source": [
    "## 命令列"
   ]
  },
  {
   "cell_type": "markdown",
   "metadata": {
    "slideshow": {
     "slide_type": "subslide"
    }
   },
   "source": [
    "## 命令列\n",
    "\n",
    "- Windows 使用者請下載 [cmder](http://cmder.net/)\n",
    "- macOS 使用者請啟動 Terminal 終端機應用程式（Spotlight search -> \"Terminal\"）"
   ]
  },
  {
   "cell_type": "markdown",
   "metadata": {
    "slideshow": {
     "slide_type": "subslide"
    }
   },
   "source": [
    "## 命令列是什麼？\n",
    "\n",
    "- 電腦並不是一開始就有圖形化介面（Graphic User Interface, GUI）\n",
    "- 也不是一開始就有滑鼠\n",
    "- 因此跟電腦的溝通工具是命令列"
   ]
  },
  {
   "cell_type": "markdown",
   "metadata": {
    "slideshow": {
     "slide_type": "subslide"
    }
   },
   "source": [
    "## 基礎命令列指令\n",
    "\n",
    "- `pwd`\n",
    "- `ls`\n",
    "- `cd`\n",
    "- `mkdir`\n",
    "- `touch`\n",
    "- `mv`\n",
    "- `cp`\n",
    "- `exit`"
   ]
  },
  {
   "cell_type": "markdown",
   "metadata": {
    "slideshow": {
     "slide_type": "slide"
    }
   },
   "source": [
    "## 虛擬環境"
   ]
  },
  {
   "cell_type": "markdown",
   "metadata": {
    "slideshow": {
     "slide_type": "subslide"
    }
   },
   "source": [
    "## 建立適當的虛擬環境\n",
    "\n",
    "- 為了避免套件版本衝突，可以建立資源隔絕的虛擬環境\n",
    "\n",
    "```bash\n",
    "conda create -n pyscraper python=3\n",
    "activate pyscraper # macOS 使用者請下 source activate pyscraper\n",
    "pip install ipykernel\n",
    "```"
   ]
  },
  {
   "cell_type": "markdown",
   "metadata": {
    "slideshow": {
     "slide_type": "subslide"
    }
   },
   "source": [
    "## 建立對應虛擬環境的 Kernel\n",
    "\n",
    "- 連結 Jupyter Notebook 與虛擬環境\n",
    "\n",
    "```bash\n",
    "python -m ipykernel install --user --name pyscraper --display-name \"pyscraper\"\n",
    "```"
   ]
  },
  {
   "cell_type": "markdown",
   "metadata": {
    "slideshow": {
     "slide_type": "subslide"
    }
   },
   "source": [
    "## 新增一個 pyscraper 的 Notebook\n",
    "\n",
    "![](https://storage.googleapis.com/py_ml_images/env_kernel.png)"
   ]
  },
  {
   "cell_type": "markdown",
   "metadata": {
    "slideshow": {
     "slide_type": "slide"
    }
   },
   "source": [
    "## 移除 Kernel\n",
    "\n",
    "```bash\n",
    "jupyter kernelspec list\n",
    "jupyter kernelspec remove pyscraper\n",
    "```"
   ]
  },
  {
   "cell_type": "markdown",
   "metadata": {
    "slideshow": {
     "slide_type": "subslide"
    }
   },
   "source": [
    "## 移除虛擬環境\n",
    "\n",
    "```bash\n",
    "deactivate # macOS 使用者請下 source deactivate\n",
    "conda env list\n",
    "conda remove --name pyscraper --all\n",
    "```"
   ]
  },
  {
   "cell_type": "markdown",
   "metadata": {
    "slideshow": {
     "slide_type": "subslide"
    }
   },
   "source": [
    "## 隨堂練習\n",
    "\n",
    "自行操作一次新增虛擬環境與 Kernel"
   ]
  }
 ],
 "metadata": {
  "celltoolbar": "Slideshow",
  "kernelspec": {
   "display_name": "Python 3",
   "language": "python",
   "name": "python3"
  },
  "language_info": {
   "codemirror_mode": {
    "name": "ipython",
    "version": 3
   },
   "file_extension": ".py",
   "mimetype": "text/x-python",
   "name": "python",
   "nbconvert_exporter": "python",
   "pygments_lexer": "ipython3",
   "version": "3.6.0"
  }
 },
 "nbformat": 4,
 "nbformat_minor": 1
}
