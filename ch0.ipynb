{
 "cells": [
  {
   "cell_type": "markdown",
   "metadata": {
    "slideshow": {
     "slide_type": "slide"
    }
   },
   "source": [
    "# 關於這門課\n",
    "\n",
    "## 郭耀仁"
   ]
  },
  {
   "cell_type": "markdown",
   "metadata": {
    "slideshow": {
     "slide_type": "subslide"
    }
   },
   "source": [
    "## 為什麼要開這門課\n",
    "\n",
    "- R 語言與 Python 是資料科學的入門利器\n",
    "- Python 是動態型別，對初學者友善\n",
    "- Python 是 Open Source，它的社群發展蓬勃"
   ]
  },
  {
   "cell_type": "markdown",
   "metadata": {
    "slideshow": {
     "slide_type": "subslide"
    }
   },
   "source": [
    "## 誰適合上這門課\n",
    "\n",
    "- 喜歡自己動手做的人\n",
    "- 研究生、行銷專員、產品經理、金融分析或任何有資料分析、統計學習需求的從業人員"
   ]
  },
  {
   "cell_type": "markdown",
   "metadata": {
    "slideshow": {
     "slide_type": "subslide"
    }
   },
   "source": [
    "## 誰不適合上這門課\n",
    "\n",
    "- 不喜歡自己動手做的人\n",
    "- 已經有一定程度 Python 程式撰寫的人"
   ]
  },
  {
   "cell_type": "markdown",
   "metadata": {
    "slideshow": {
     "slide_type": "subslide"
    }
   },
   "source": [
    "## 這門課的目標\n",
    "\n",
    "- 了解 Python 的變數類型與資料結構\n",
    "- 可以使用 Python 撰寫函數\n",
    "- 可以使用 Python 進行資料的整理、探索、作圖與報告\n",
    "- 對撰寫**程式**有初步認識"
   ]
  },
  {
   "cell_type": "markdown",
   "metadata": {
    "slideshow": {
     "slide_type": "slide"
    }
   },
   "source": [
    "## 課程資源\n",
    "\n",
    "- [課程專頁](http://yaojenkuo.io/python_4_ds/)\n",
    "- [Facebook 社團](https://www.facebook.com/groups/ntucsietrainpyds/)"
   ]
  },
  {
   "cell_type": "markdown",
   "metadata": {
    "slideshow": {
     "slide_type": "subslide"
    }
   },
   "source": [
    "## 關於講師\n",
    "\n",
    "- [郭耀仁](https://www.facebook.com/yaojen.kuo.1)\n",
    "- <http://yaojenkuo.io/>\n",
    "- <tony@kyosei.ai>"
   ]
  }
 ],
 "metadata": {
  "celltoolbar": "Slideshow",
  "kernelspec": {
   "display_name": "Python 3",
   "language": "python",
   "name": "python3"
  },
  "language_info": {
   "codemirror_mode": {
    "name": "ipython",
    "version": 3
   },
   "file_extension": ".py",
   "mimetype": "text/x-python",
   "name": "python",
   "nbconvert_exporter": "python",
   "pygments_lexer": "ipython3",
   "version": "3.6.5"
  }
 },
 "nbformat": 4,
 "nbformat_minor": 2
}
