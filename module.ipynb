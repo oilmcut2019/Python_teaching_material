{
 "cells": [
  {
   "cell_type": "markdown",
   "metadata": {
    "slideshow": {
     "slide_type": "slide"
    }
   },
   "source": [
    "# 模組與套件\n",
    "\n",
    "## 郭耀仁"
   ]
  },
  {
   "cell_type": "markdown",
   "metadata": {
    "slideshow": {
     "slide_type": "slide"
    }
   },
   "source": [
    "## 從命令列執行 Python 程式\n",
    "\n",
    "- 在課程資料夾新增 stand_alone.py\n",
    "\n",
    "```python\n",
    "print(\"I am executed from the terminal!\")\n",
    "```\n",
    "\n",
    "- 回到終端機執行\n",
    "\n",
    "```bash\n",
    "$ python stand_alone.py\n",
    "```"
   ]
  },
  {
   "cell_type": "markdown",
   "metadata": {
    "slideshow": {
     "slide_type": "subslide"
    }
   },
   "source": [
    "## 從命令列執行 Python 程式（2）\n",
    "\n",
    "- 在課程資料夾新增 stand_alone_w_args.py\n",
    "\n",
    "```python\n",
    "import sys\n",
    "print(\"Args from terminal:\", sys.argv)\n",
    "```\n",
    "\n",
    "- 回到終端機執行\n",
    "\n",
    "```bash\n",
    "$ python stand_alone_w_args.py\n",
    "```\n",
    "\n",
    "- 再次執行\n",
    "\n",
    "```bash\n",
    "$ python stand_alone_w_args.py arg1 arg2\n",
    "```"
   ]
  },
  {
   "cell_type": "markdown",
   "metadata": {
    "slideshow": {
     "slide_type": "subslide"
    }
   },
   "source": [
    "## 從命令列執行 Python 程式（3）\n",
    "\n",
    "- 在課程資料夾新增 my_squared.py\n",
    "\n",
    "```python\n",
    "import sys\n",
    "\n",
    "def my_squared(x):\n",
    "    return x**2\n",
    "    \n",
    "input_num = float(sys.argv[1])\n",
    "print \"%.2f's square is %.4f\" % (input_num, my_squared(input_num))\n",
    "```\n",
    "\n",
    "- 回到終端機執行\n",
    "\n",
    "```bash\n",
    "$ python my_squared.py 3\n",
    "```"
   ]
  },
  {
   "cell_type": "markdown",
   "metadata": {
    "slideshow": {
     "slide_type": "subslide"
    }
   },
   "source": [
    "## 從命令列執行 Python 程式（4）\n",
    "\n",
    "- 在課程資料夾新增 circle_calculator.py\n",
    "- 從命令列執行輸入圓的半徑可以得到圓面積與圓周長的答案"
   ]
  },
  {
   "cell_type": "markdown",
   "metadata": {
    "slideshow": {
     "slide_type": "slide"
    }
   },
   "source": [
    "## 載入模組\n",
    "\n",
    "- 運用 `import` 這個指令將儲存好的程式直接拿來運用\n",
    "- 修改 circle_calculator.py\n",
    "\n",
    "```python\n",
    "import math\n",
    "\n",
    "def circle_area(r):\n",
    "    'Calculate circle area'\n",
    "    area = math.pi * r**2\n",
    "    return area\n",
    "\n",
    "def circle_circum(r):\n",
    "    'Calculate circle circum'\n",
    "    circum = 2 * math.pi * r\n",
    "    return circum\n",
    "```"
   ]
  },
  {
   "cell_type": "markdown",
   "metadata": {
    "slideshow": {
     "slide_type": "subslide"
    }
   },
   "source": [
    "## 載入模組（2）\n",
    "\n",
    "- 在課程資料夾新增 calculate_circle.py\n",
    "\n",
    "```python\n",
    "import sys\n",
    "import circle_calculator\n",
    "\n",
    "radius = float(sys.argv[1])\n",
    "print(circle_calculator.circle_area(radius))\n",
    "print(circle_calculator.circle_circum(radius))\n",
    "```"
   ]
  },
  {
   "cell_type": "markdown",
   "metadata": {
    "slideshow": {
     "slide_type": "subslide"
    }
   },
   "source": [
    "## 載入模組（3）\n",
    "\n",
    "- 載入模組之後可以更改名稱\n",
    "\n",
    "```python\n",
    "import sys\n",
    "import circle_calculator as cc\n",
    "\n",
    "radius = float(sys.argv[1])\n",
    "print(cc.circle_area(radius))\n",
    "print(cc.circle_circum(radius))\n",
    "```"
   ]
  },
  {
   "cell_type": "markdown",
   "metadata": {
    "slideshow": {
     "slide_type": "subslide"
    }
   },
   "source": [
    "## 載入模組（4）\n",
    "\n",
    "- 亦可以只載入模組中的部分函數\n",
    "\n",
    "```python\n",
    "import sys\n",
    "from circle_calculator import circle_area\n",
    "\n",
    "radius = float(sys.argv[1])\n",
    "print(circle_area(radius))\n",
    "```"
   ]
  },
  {
   "cell_type": "markdown",
   "metadata": {
    "slideshow": {
     "slide_type": "slide"
    }
   },
   "source": [
    "## 套件\n",
    "\n",
    "- 多個功能相關的模組可以組織成一個套件\n",
    "- 在課程資料夾下建立一個資料夾：casino\n",
    "- 在這個資料夾中新增三個檔案：\n",
    "    - \\_\\_init\\_\\_.py（空白）\n",
    "    - dice.py\n",
    "    - poker.py"
   ]
  },
  {
   "cell_type": "markdown",
   "metadata": {
    "slideshow": {
     "slide_type": "subslide"
    }
   },
   "source": [
    "## 套件（2）\n",
    "\n",
    "- 在 dice.py 中我們定義一個投擲骰子的函數：\n",
    "\n",
    "```python\n",
    "from random import choice\n",
    "\n",
    "def roll_dice():\n",
    "    'To roll a dice'\n",
    "    dice = range(1, 7)\n",
    "    return choice(dice)\n",
    "```"
   ]
  },
  {
   "cell_type": "markdown",
   "metadata": {
    "slideshow": {
     "slide_type": "subslide"
    }
   },
   "source": [
    "## 套件（3）\n",
    "\n",
    "- 在 poker.py 中我們定義一個發撲克牌的函數：\n",
    "\n",
    "```python\n",
    "from random import choice\n",
    "\n",
    "def deal_card():\n",
    "    'To deal a card'\n",
    "    spades = []\n",
    "    hearts = []\n",
    "    diamonds = []\n",
    "    clubs = []\n",
    "    denominations = list(map(str, range(2, 11))) + ['J', 'Q', 'K', 'Ace']\n",
    "\n",
    "    for i in range(len(denominations)):\n",
    "        spades.append(denominations[i] + \" Spade\")\n",
    "        hearts.append(denominations[i] + \" Heart\")\n",
    "        diamonds.append(denominations[i] + \" Diamond\")\n",
    "        clubs.append(denominations[i] + \" Club\")\n",
    "\n",
    "    poker_cards = spades + hearts + diamonds + clubs\n",
    "    return choice(poker_cards)\n",
    "```"
   ]
  },
  {
   "cell_type": "markdown",
   "metadata": {
    "slideshow": {
     "slide_type": "subslide"
    }
   },
   "source": [
    "## 套件（4）\n",
    "\n",
    "- 回到課程資料夾新增 casino_play.py\n",
    "\n",
    "```python\n",
    "from casino import dice, poker\n",
    "\n",
    "print \"Roll a dice：\", dice.roll_dice()\n",
    "print \"Deal a card：\", poker.deal_card()\n",
    "```\n",
    "\n",
    "- 從命令列執行：\n",
    "\n",
    "```bash\n",
    "$ python casino_play.py\n",
    "```"
   ]
  },
  {
   "cell_type": "markdown",
   "metadata": {
    "slideshow": {
     "slide_type": "slide"
    }
   },
   "source": [
    "## 隨堂練習\n",
    "\n",
    "- 建立一個套件叫做 `statspy`\n",
    "- 在套件中建立兩個模組：\n",
    "    - `mean_calculate.py`\n",
    "    - `sd_calculate.py`\n",
    "- 在這兩個模組中分別定義計算平均數與樣本標準差的函數\n",
    "- 在 Jupyter Notebook 中載入套件的兩個模組，計算 1 到 100 的平均數與標準差"
   ]
  }
 ],
 "metadata": {
  "celltoolbar": "Slideshow",
  "kernelspec": {
   "display_name": "Python 3",
   "language": "python",
   "name": "python3"
  },
  "language_info": {
   "codemirror_mode": {
    "name": "ipython",
    "version": 3
   },
   "file_extension": ".py",
   "mimetype": "text/x-python",
   "name": "python",
   "nbconvert_exporter": "python",
   "pygments_lexer": "ipython3",
   "version": "3.6.0"
  }
 },
 "nbformat": 4,
 "nbformat_minor": 2
}
