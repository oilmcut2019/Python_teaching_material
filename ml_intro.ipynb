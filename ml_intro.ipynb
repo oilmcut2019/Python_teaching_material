{
 "cells": [
  {
   "cell_type": "markdown",
   "metadata": {
    "slideshow": {
     "slide_type": "slide"
    }
   },
   "source": [
    "# Python 與機器學習 - 簡介\n",
    "\n",
    "## 郭耀仁"
   ]
  },
  {
   "cell_type": "markdown",
   "metadata": {
    "slideshow": {
     "slide_type": "slide"
    }
   },
   "source": [
    "## 機器學習的定位\n",
    "\n",
    "![](https://ingomierswacom.files.wordpress.com/2017/04/ai_ml_dl.jpg?w=676)\n",
    "\n",
    "Source: [rapidminer](https://rapidminer.com/artificial-intelligence-machine-learning-deep-learning/)"
   ]
  },
  {
   "cell_type": "markdown",
   "metadata": {
    "slideshow": {
     "slide_type": "slide"
    }
   },
   "source": [
    "## 定義機器學習\n",
    "\n",
    "[Arthur Samuel](https://en.wikipedia.org/wiki/Arthur_Samuel)\n",
    "> The field of study that gives computers the ability to learn without being explicitly programmed."
   ]
  },
  {
   "cell_type": "markdown",
   "metadata": {
    "slideshow": {
     "slide_type": "subslide"
    }
   },
   "source": [
    "## 定義機器學習（2）\n",
    "\n",
    "[Tom Mitchell](http://www.cs.cmu.edu/~tom/)\n",
    "> A computer program is said to learn from experience E with respect to some class of tasks T and performance measure P, if its performance at tasks in T, as measured by P, improves with experience E."
   ]
  },
  {
   "cell_type": "markdown",
   "metadata": {
    "slideshow": {
     "slide_type": "subslide"
    }
   },
   "source": [
    "## 定義機器學習（3）\n",
    "\n",
    "[林軒田](http://www.csie.ntu.edu.tw/~htlin/)\n",
    "> 我們從小是怎麼樣辨認一棵樹的，是爸爸媽媽告訴我們一百條規則來定義嗎？其實不是的，很大一部分是透過我們自己的觀察很多的樹與不是樹之後，得到並且內化了辨認一棵樹的技巧，機器學習想要做的就是一樣的事情。"
   ]
  },
  {
   "cell_type": "markdown",
   "metadata": {
    "slideshow": {
     "slide_type": "slide"
    }
   },
   "source": [
    "## 機器學習的種類\n",
    "\n",
    "- 監督式學習（Supervised Learning）：具有目標變數的 Labeled data\n",
    "    - Gmail 會幫你分類郵件\n",
    "    - [Jin Yang's Hot Dog Claasifier](https://youtu.be/ACmydtFDTGs)\n",
    "- 非監督式學習（Unsupervised Learning）：沒有目標變數的 Unlabeled data\n",
    "    - 將客戶分成不同的 Segments\n",
    "    - 降維時所使用的主成份分析"
   ]
  },
  {
   "cell_type": "markdown",
   "metadata": {
    "slideshow": {
     "slide_type": "subslide"
    }
   },
   "source": [
    "## 機器學習的種類（2）\n",
    "\n",
    "- 監督式學習（Supervised Learning）\n",
    "    - 迴歸問題：目標變數是連續型（數值），像是股價、氣溫、匯率、房價...等\n",
    "    - 分類問題：目標變數是離散型（類別），像是垃圾郵件/非垃圾郵件、熱狗/非熱狗...等"
   ]
  },
  {
   "cell_type": "markdown",
   "metadata": {
    "slideshow": {
     "slide_type": "slide"
    }
   },
   "source": [
    "## 認識 Scikit-Learn\n",
    "\n",
    "- 用來實作資料探勘與機器學習的 Python 套件\n",
    "- 建構於 NumPy，SciPy 與 Matplotlib 套件之上\n",
    "- 有[六大功能模組](http://scikit-learn.org/stable/index.html)：\n",
    "    - 預處理\n",
    "    - 降維\n",
    "    - 迴歸\n",
    "    - 分群\n",
    "    - 分類\n",
    "    - 模型評估"
   ]
  },
  {
   "cell_type": "markdown",
   "metadata": {
    "slideshow": {
     "slide_type": "subslide"
    }
   },
   "source": [
    "## 認識 Scikit-Learn（2）\n",
    "\n",
    "- [其他的 Scikits](https://scikits.appspot.com/scikits)\n",
    "- [Scikit-Learn 機器學習地圖](http://scikit-learn.org/stable/tutorial/machine_learning_map/)"
   ]
  },
  {
   "cell_type": "markdown",
   "metadata": {
    "slideshow": {
     "slide_type": "slide"
    }
   },
   "source": [
    "## 認識玩具資料集\n",
    "\n",
    "- [boston 資料集](http://scikit-learn.org/stable/modules/generated/sklearn.datasets.load_boston.html#sklearn.datasets.load_boston)\n",
    "- [iris 資料集](http://scikit-learn.org/stable/modules/generated/sklearn.datasets.load_iris.html#sklearn.datasets.load_iris)\n",
    "- [digits 資料集](http://scikit-learn.org/stable/modules/generated/sklearn.datasets.load_digits.html#sklearn.datasets.load_digits)\n",
    "- [MNIST 資料集](http://yann.lecun.com/exdb/mnist/)"
   ]
  },
  {
   "cell_type": "markdown",
   "metadata": {
    "slideshow": {
     "slide_type": "subslide"
    }
   },
   "source": [
    "## 認識玩具資料集（2）\n",
    "\n",
    "- [boston 資料集](http://scikit-learn.org/stable/modules/generated/sklearn.datasets.load_boston.html#sklearn.datasets.load_boston)\n",
    "\n",
    "```python\n",
    "from sklearn.datasets import load_boston\n",
    "\n",
    "boston = load_boston()\n",
    "print(boston.DESCR)\n",
    "print(boston.target)\n",
    "print(boston.data)\n",
    "```"
   ]
  },
  {
   "cell_type": "markdown",
   "metadata": {
    "slideshow": {
     "slide_type": "subslide"
    }
   },
   "source": [
    "## 認識玩具資料集（3）\n",
    "\n",
    "- [iris 資料集](http://scikit-learn.org/stable/modules/generated/sklearn.datasets.load_iris.html#sklearn.datasets.load_iris)\n",
    "\n",
    "```python\n",
    "from sklearn.datasets import load_iris\n",
    "\n",
    "iris = load_iris()\n",
    "print(iris.DESCR)\n",
    "print(iris.target)\n",
    "print(iris.data)\n",
    "print(iris.target_names)\n",
    "```"
   ]
  },
  {
   "cell_type": "markdown",
   "metadata": {
    "slideshow": {
     "slide_type": "subslide"
    }
   },
   "source": [
    "## 認識玩具資料集（4）\n",
    "\n",
    "- [digits 資料集](http://scikit-learn.org/stable/modules/generated/sklearn.datasets.load_digits.html#sklearn.datasets.load_digits)\n",
    "\n",
    "```python\n",
    "from sklearn.datasets import load_digits\n",
    "\n",
    "digits = load_digits()\n",
    "print(digits.DESCR)\n",
    "print(digits.images.shape)\n",
    "```"
   ]
  },
  {
   "cell_type": "code",
   "execution_count": 1,
   "metadata": {
    "collapsed": false,
    "slideshow": {
     "slide_type": "subslide"
    }
   },
   "outputs": [
    {
     "data": {
      "image/png": "[encoded data removed]",
      "text/plain": [
       "<matplotlib.figure.Figure at 0x10d0715c0>"
      ]
     },
     "metadata": {},
     "output_type": "display_data"
    }
   ],
   "source": [
    "from sklearn.datasets import load_digits\n",
    "import matplotlib.pyplot as plt\n",
    "\n",
    "digits = load_digits()\n",
    "plt.subplots(2, 5)\n",
    "for i, k in enumerate(range(1, 11)):\n",
    "    plt.subplot(2, 5, k)\n",
    "    plt.imshow(digits.images[i], cmap = \"gray\")\n",
    "\n",
    "plt.tight_layout()\n",
    "plt.show()"
   ]
  },
  {
   "cell_type": "markdown",
   "metadata": {
    "slideshow": {
     "slide_type": "subslide"
    }
   },
   "source": [
    "## 認識玩具資料集（5）\n",
    "\n",
    "- [MNIST 資料集](http://yann.lecun.com/exdb/mnist/)\n",
    "- 用 tensorflow 讀入是我覺得最方便的方式"
   ]
  },
  {
   "cell_type": "code",
   "execution_count": 3,
   "metadata": {
    "collapsed": false,
    "slideshow": {
     "slide_type": "subslide"
    }
   },
   "outputs": [
    {
     "name": "stdout",
     "output_type": "stream",
     "text": [
      "Extracting MNIST_data/train-images-idx3-ubyte.gz\n",
      "Extracting MNIST_data/train-labels-idx1-ubyte.gz\n",
      "Extracting MNIST_data/t10k-images-idx3-ubyte.gz\n",
      "Extracting MNIST_data/t10k-labels-idx1-ubyte.gz\n"
     ]
    }
   ],
   "source": [
    "from tensorflow.examples.tutorials.mnist import input_data\n",
    "import matplotlib.pyplot as plt\n",
    "import numpy as np\n",
    "\n",
    "mnist = input_data.read_data_sets(\"MNIST_data/\", one_hot = True)"
   ]
  },
  {
   "cell_type": "code",
   "execution_count": 4,
   "metadata": {
    "collapsed": false,
    "slideshow": {
     "slide_type": "subslide"
    }
   },
   "outputs": [
    {
     "name": "stdout",
     "output_type": "stream",
     "text": [
      "(55000, 784)\n"
     ]
    },
    {
     "data": {
      "image/png": "[encoded data removed]",
      "text/plain": [
       "<matplotlib.figure.Figure at 0x10d055da0>"
      ]
     },
     "metadata": {},
     "output_type": "display_data"
    }
   ],
   "source": [
    "x_train = mnist.train.images\n",
    "print(x_train.shape)\n",
    "x_train_reshaped = np.reshape(x_train, (55000, 28, 28))\n",
    "for i, k in enumerate(range(1, 11)):\n",
    "    plt.subplot(2, 5, k)\n",
    "    plt.imshow(x_train_reshaped[i], cmap = \"gray\")\n",
    "\n",
    "plt.tight_layout()\n",
    "plt.show()"
   ]
  },
  {
   "cell_type": "markdown",
   "metadata": {
    "slideshow": {
     "slide_type": "slide"
    }
   },
   "source": [
    "## 如何安裝 TensorFlow\n",
    "\n",
    "> **TensorFlow** is an open source software library for numerical computation using data flow graphs. The graph nodes represent mathematical operations, while the graph edges represent the multidimensional data arrays (tensors) that flow between them. This flexible architecture lets you deploy computation to one or more CPUs or GPUs in a desktop, server, or mobile device without rewriting code."
   ]
  },
  {
   "cell_type": "markdown",
   "metadata": {
    "slideshow": {
     "slide_type": "subslide"
    }
   },
   "source": [
    "## 如何安裝 TensorFlow（2）\n",
    "\n",
    "- 利用 Anaconda 建立一個虛擬環境（命名為 tensorflow）\n",
    "\n",
    "```bash\n",
    "# bash\n",
    "conda create -n tensorflow python=3.5\n",
    "```"
   ]
  },
  {
   "cell_type": "markdown",
   "metadata": {
    "slideshow": {
     "slide_type": "subslide"
    }
   },
   "source": [
    "## 如何安裝 TensorFlow（3）\n",
    "\n",
    "- 啟動虛擬環境\n",
    "    - windows\n",
    "\n",
    "```bash\n",
    "# bash\n",
    "activate tensorflow\n",
    "```"
   ]
  },
  {
   "cell_type": "markdown",
   "metadata": {
    "slideshow": {
     "slide_type": "subslide"
    }
   },
   "source": [
    "## 如何安裝 TensorFlow（4）\n",
    "\n",
    "- 啟動虛擬環境\n",
    "    - mac\n",
    "\n",
    "```bash\n",
    "# bash\n",
    "source activate tensorflow\n",
    "```"
   ]
  },
  {
   "cell_type": "markdown",
   "metadata": {
    "slideshow": {
     "slide_type": "subslide"
    }
   },
   "source": [
    "## 如何安裝 TensorFlow（5）\n",
    "\n",
    "- 安裝 TensorFlow\n",
    "    - windows：\n",
    "\n",
    "```bash\n",
    "# bash\n",
    "pip install --ignore-installed --upgrade https://storage.googleapis.com/tensorflow/windows/cpu/tensorflow-1.2.1-cp35-cp35m-win_amd64.whl\n",
    "```"
   ]
  },
  {
   "cell_type": "markdown",
   "metadata": {
    "slideshow": {
     "slide_type": "subslide"
    }
   },
   "source": [
    "## 如何安裝 TensorFlow（6）\n",
    "\n",
    "- 安裝 TensorFlow\n",
    "    - mac：\n",
    "\n",
    "```bash\n",
    "# bash\n",
    "pip install --ignore-installed --upgrade https://storage.googleapis.com/tensorflow/mac/cpu/tensorflow-1.2.1-py3-none-any.whl\n",
    "```"
   ]
  },
  {
   "cell_type": "markdown",
   "metadata": {
    "slideshow": {
     "slide_type": "subslide"
    }
   },
   "source": [
    "## 如何安裝 TensorFlow（7）\n",
    "\n",
    "- 跟 TensorFlow 說聲嗨\n",
    "\n",
    "```bash\n",
    "python\n",
    "```\n",
    "\n",
    "```python\n",
    "# python\n",
    "import tensorflow as tf\n",
    "hello = tf.constant('Hello, TensorFlow!')\n",
    "sess = tf.Session()\n",
    "print(sess.run(hello))\n",
    "```"
   ]
  },
  {
   "cell_type": "markdown",
   "metadata": {
    "slideshow": {
     "slide_type": "subslide"
    }
   },
   "source": [
    "## 如何安裝 TensorFlow（8）\n",
    "\n",
    "- 讓我們的 Jupyter Notebook 可以添加虛擬環境的 Kernel\n",
    "\n",
    "```bash\n",
    "# for mac\n",
    "pip install ipykernel\n",
    "python -m ipykernel install --user --name=tensorflow\n",
    "\n",
    "# for windows\n",
    "conda install jupyter\n",
    "pip install ipykernel\n",
    "python -m ipykernel install --user --name=tensorflow\n",
    "```"
   ]
  },
  {
   "cell_type": "markdown",
   "metadata": {
    "slideshow": {
     "slide_type": "subslide"
    }
   },
   "source": [
    "## 如何安裝 TensorFlow（9）\n",
    "\n",
    "- 新增一個 kernel 為 tensorflow 的 Notebook\n",
    "\n",
    "```python\n",
    "import sys\n",
    "print(sys.version)\n",
    "```"
   ]
  },
  {
   "cell_type": "markdown",
   "metadata": {
    "slideshow": {
     "slide_type": "subslide"
    }
   },
   "source": [
    "## 如何安裝 TensorFlow（10）\n",
    "\n",
    "- 卸載虛擬環境\n",
    "    - windows\n",
    "\n",
    "```bash\n",
    "deactivate\n",
    "```"
   ]
  },
  {
   "cell_type": "markdown",
   "metadata": {
    "slideshow": {
     "slide_type": "subslide"
    }
   },
   "source": [
    "## 如何安裝 TensorFlow（11）\n",
    "\n",
    "- 卸載虛擬環境\n",
    "    - mac\n",
    "\n",
    "```bash\n",
    "source deactivate\n",
    "```"
   ]
  },
  {
   "cell_type": "markdown",
   "metadata": {
    "slideshow": {
     "slide_type": "subslide"
    }
   },
   "source": [
    "## 如何安裝 TensorFlow（12）\n",
    "\n",
    "- 刪除虛擬環境\n",
    "\n",
    "```bash\n",
    "conda remove --name tensorflow --all\n",
    "```"
   ]
  }
 ],
 "metadata": {
  "celltoolbar": "Slideshow",
  "kernelspec": {
   "display_name": "Python 3",
   "language": "python",
   "name": "python3"
  },
  "language_info": {
   "codemirror_mode": {
    "name": "ipython",
    "version": 3
   },
   "file_extension": ".py",
   "mimetype": "text/x-python",
   "name": "python",
   "nbconvert_exporter": "python",
   "pygments_lexer": "ipython3",
   "version": "3.6.0"
  }
 },
 "nbformat": 4,
 "nbformat_minor": 2
}
