{
 "cells": [
  {
   "cell_type": "markdown",
   "metadata": {
    "slideshow": {
     "slide_type": "slide"
    }
   },
   "source": [
    "# 流程控制\n",
    "\n",
    "## 郭耀仁"
   ]
  },
  {
   "cell_type": "markdown",
   "metadata": {
    "slideshow": {
     "slide_type": "slide"
    }
   },
   "source": [
    "## 流程控制結構\n",
    "\n",
    "```python\n",
    "if 條件一判斷為 True:\n",
    "    # 做些什麼事\n",
    "elif 條件二判斷為 True:\n",
    "    # 做些什麼事\n",
    "else:\n",
    "    # 在條件一與條件二都判斷為 False 的時候做些什麼事\n",
    "```"
   ]
  },
  {
   "cell_type": "markdown",
   "metadata": {
    "slideshow": {
     "slide_type": "subslide"
    }
   },
   "source": [
    "## if-else\n",
    "\n",
    "- 透過 `if-else` 的結構創造程式的分支\n",
    "- 例如：整數除以 2 的餘數只會有兩種答案"
   ]
  },
  {
   "cell_type": "code",
   "execution_count": 1,
   "metadata": {},
   "outputs": [
    {
     "name": "stdout",
     "output_type": "stream",
     "text": [
      "1 是奇數\n",
      "2 是偶數\n",
      "3 是奇數\n",
      "4 是偶數\n",
      "5 是奇數\n",
      "6 是偶數\n",
      "7 是奇數\n",
      "8 是偶數\n",
      "9 是奇數\n",
      "10 是偶數\n"
     ]
    }
   ],
   "source": [
    "for i in range(1, 11):\n",
    "    if (i % 2 == 0):\n",
    "        print(i, \"是偶數\")\n",
    "    else:\n",
    "        print(i, \"是奇數\")"
   ]
  },
  {
   "cell_type": "markdown",
   "metadata": {
    "slideshow": {
     "slide_type": "subslide"
    }
   },
   "source": [
    "## 隨堂練習\n",
    "\n",
    "- 隨機取出 `weathers` 中的一個元素，取到晴天印\"去戶外跑步\"，否則印\"去健身房\"。\n",
    "\n",
    "```python\n",
    "weathers = [\"晴天\", \"陰天\", \"雨天\"]\n",
    "```"
   ]
  },
  {
   "cell_type": "markdown",
   "metadata": {
    "slideshow": {
     "slide_type": "subslide"
    }
   },
   "source": [
    "## if-elif-else\n",
    "\n",
    "- 例如：整數除以 3 的餘數會有三種答案"
   ]
  },
  {
   "cell_type": "code",
   "execution_count": 2,
   "metadata": {},
   "outputs": [
    {
     "name": "stdout",
     "output_type": "stream",
     "text": [
      "1 除以 3 餘數是 1\n",
      "2 除以 3 餘數是 2\n",
      "3 可以被 3 整除\n",
      "4 除以 3 餘數是 1\n",
      "5 除以 3 餘數是 2\n",
      "6 可以被 3 整除\n",
      "7 除以 3 餘數是 1\n",
      "8 除以 3 餘數是 2\n",
      "9 可以被 3 整除\n",
      "10 除以 3 餘數是 1\n"
     ]
    }
   ],
   "source": [
    "for i in range(1, 11):\n",
    "    if (i % 3 == 0):\n",
    "        print(i, \"可以被 3 整除\")\n",
    "    elif (i % 3 ==1):\n",
    "        print(i, \"除以 3 餘數是 1\")\n",
    "    else:\n",
    "        print(i, \"除以 3 餘數是 2\")"
   ]
  },
  {
   "cell_type": "markdown",
   "metadata": {
    "slideshow": {
     "slide_type": "subslide"
    }
   },
   "source": [
    "## 隨堂練習\n",
    "\n",
    "- 隨機取出 weathers 中的一個元素，取到晴天或多雲印\"去戶外跑步\"，毛毛雨印\"去健身房\"，否則印\"當沙發馬鈴薯\"\n",
    "\n",
    "```python\n",
    "weathers = [\"晴天\", \"多雲\", \"毛毛雨\", \"狂風\", \"暴雨\", \"下雪\", \"打雷閃電\"]\n",
    "```"
   ]
  },
  {
   "cell_type": "markdown",
   "metadata": {
    "slideshow": {
     "slide_type": "slide"
    }
   },
   "source": [
    "## 讓迴圈更有彈性\n",
    "\n",
    "- `break` 描述"
   ]
  },
  {
   "cell_type": "code",
   "execution_count": 3,
   "metadata": {},
   "outputs": [
    {
     "name": "stdout",
     "output_type": "stream",
     "text": [
      "Sunday\n",
      "Monday\n",
      "Tuesday\n",
      "Wednesday\n"
     ]
    }
   ],
   "source": [
    "weekdays = [\"Sunday\", \"Monday\", \"Tuesday\", \"Wednesday\", \"Thursday\", \"Friday\", \"Saturday\"]\n",
    "for weekday in weekdays:\n",
    "    if weekday == \"Thursday\":\n",
    "        break\n",
    "    print(weekday)"
   ]
  },
  {
   "cell_type": "markdown",
   "metadata": {
    "slideshow": {
     "slide_type": "subslide"
    }
   },
   "source": [
    "## 讓迴圈更有彈性（2）\n",
    "\n",
    "- `continue` 描述"
   ]
  },
  {
   "cell_type": "code",
   "execution_count": 4,
   "metadata": {},
   "outputs": [
    {
     "name": "stdout",
     "output_type": "stream",
     "text": [
      "Sunday\n",
      "Monday\n",
      "Tuesday\n",
      "Wednesday\n",
      "Friday\n",
      "Saturday\n"
     ]
    }
   ],
   "source": [
    "weekdays = [\"Sunday\", \"Monday\", \"Tuesday\", \"Wednesday\", \"Thursday\", \"Friday\", \"Saturday\"]\n",
    "for weekday in weekdays:\n",
    "    if weekday == \"Thursday\":\n",
    "        continue\n",
    "    print(weekday)"
   ]
  },
  {
   "cell_type": "markdown",
   "metadata": {
    "slideshow": {
     "slide_type": "slide"
    }
   },
   "source": [
    "## 隨堂練習\n",
    "\n",
    "- 印出工作日（週一至週五）\n",
    "\n",
    "```python\n",
    "weekdays = [\"Sunday\", \"Monday\", \"Tuesday\", \"Wednesday\", \"Thursday\", \"Friday\", \"Saturday\"]\n",
    "```"
   ]
  },
  {
   "cell_type": "markdown",
   "metadata": {
    "slideshow": {
     "slide_type": "subslide"
    }
   },
   "source": [
    "## 隨堂練習\n",
    "\n",
    "- 印出所有可以將 87 整除的因數（正數）"
   ]
  },
  {
   "cell_type": "markdown",
   "metadata": {
    "slideshow": {
     "slide_type": "subslide"
    }
   },
   "source": [
    "## 隨堂練習\n",
    "\n",
    "- 將 1 到 100 印出，但是：\n",
    "    - 碰到 3 的倍數印出 \"Bingo!\"\n",
    "    - 碰到 5 的倍數印出 \"Awesome!\"\n",
    "    - 碰到 15 的倍數印出 \"Fantastic!\""
   ]
  }
 ],
 "metadata": {
  "celltoolbar": "Slideshow",
  "kernelspec": {
   "display_name": "Python 3",
   "language": "python",
   "name": "python3"
  },
  "language_info": {
   "codemirror_mode": {
    "name": "ipython",
    "version": 3
   },
   "file_extension": ".py",
   "mimetype": "text/x-python",
   "name": "python",
   "nbconvert_exporter": "python",
   "pygments_lexer": "ipython3",
   "version": "3.6.0"
  }
 },
 "nbformat": 4,
 "nbformat_minor": 1
}
