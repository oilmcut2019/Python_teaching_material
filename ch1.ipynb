{
 "cells": [
  {
   "cell_type": "markdown",
   "metadata": {
    "slideshow": {
     "slide_type": "slide"
    }
   },
   "source": [
    "# 建立你的 Python 開發環境\n",
    "\n",
    "## 郭耀仁"
   ]
  },
  {
   "cell_type": "markdown",
   "metadata": {
    "slideshow": {
     "slide_type": "slide"
    }
   },
   "source": [
    "## 安裝 Anaconda\n",
    "\n",
    "- [Anaconda](https://www.continuum.io/downloads)\n",
    "- 選擇 Python 3.6 Version"
   ]
  },
  {
   "cell_type": "markdown",
   "metadata": {
    "slideshow": {
     "slide_type": "subslide"
    }
   },
   "source": [
    "## 安裝 Anaconda（2）\n",
    "\n",
    "- 我為什麼推薦直接使用 [Anaconda](https://www.continuum.io/downloads)？\n",
    "    - 有主程式 Python\n",
    "    - 有編輯器 Jupyter Notebook\n",
    "    - 有套件與環境管理工具 conda"
   ]
  },
  {
   "cell_type": "markdown",
   "metadata": {
    "slideshow": {
     "slide_type": "slide"
    }
   },
   "source": [
    "## 啟動 Jupyter Notebook\n",
    "\n",
    "- 在命令列輸入\n",
    "\n",
    "```\n",
    "$ jupyter notebook\n",
    "```\n",
    "\n",
    "- 新增一個 Notebook\n",
    "\n",
    "![day0102](https://storage.googleapis.com/2017_ithome_ironman/day0102.png)"
   ]
  },
  {
   "cell_type": "markdown",
   "metadata": {
    "slideshow": {
     "slide_type": "slide"
    }
   },
   "source": [
    "## 用虛擬機建 Ubuntu 開發\n",
    "\n",
    "- 至 [Download VirtualBox](https://www.virtualbox.org/wiki/Downloads) 下載 VirtualBox\n",
    "- 至 [下載 Ubuntu](https://www.ubuntu-tw.org/modules/tinyd0/) 下載 Ubuntu（LTS）映像檔\n",
    "- 在虛擬機中下載 [Anaconda For Linux](https://www.continuum.io/downloads)\n",
    "- 在終端機執行指令：\n",
    "\n",
    "```\n",
    "$ bash ~/Downloads/Anaconda3-4.2.0-Linux-x86_64.sh\n",
    "```\n",
    "\n",
    "\n",
    "- 在命令列輸入\n",
    "\n",
    "```\n",
    "$ jupyter notebook\n",
    "```\n",
    "\n",
    "- 新增一個 Notebook\n",
    "\n",
    "![day0102](https://storage.googleapis.com/2017_ithome_ironman/day0102.png)"
   ]
  },
  {
   "cell_type": "markdown",
   "metadata": {
    "slideshow": {
     "slide_type": "slide"
    }
   },
   "source": [
    "## 用虛擬機建 Ubuntu 開發（2）\n",
    "\n",
    "- 也可以直接使用這個 VirtualBox 環境：\n",
    "    - <https://drive.google.com/open?id=0B1RAmsOPDTw1VVdJSFRaRGZPQ2c>\n",
    "    - Ubuntu account: student\n",
    "    - Ubuntu password: student"
   ]
  },
  {
   "cell_type": "markdown",
   "metadata": {
    "slideshow": {
     "slide_type": "slide"
    }
   },
   "source": [
    "## 期中作業\n",
    "\n",
    "- 能順利執行以下指令：\n",
    "\n",
    "```python\n",
    "import numpy as np\n",
    "import pandas as pd\n",
    "import matplotlib\n",
    "import sklearn\n",
    "\n",
    "print(np.__version__)\n",
    "print(pd.__version__)\n",
    "print(matplotlib.__version__)\n",
    "print(sklearn.__version__)\n",
    "```"
   ]
  },
  {
   "cell_type": "code",
   "execution_count": 1,
   "metadata": {},
   "outputs": [
    {
     "name": "stdout",
     "output_type": "stream",
     "text": [
      "1.14.3\n",
      "0.23.0\n",
      "2.2.2\n",
      "0.19.1\n"
     ]
    }
   ],
   "source": [
    "import numpy as np\n",
    "import pandas as pd\n",
    "import matplotlib\n",
    "import sklearn\n",
    "\n",
    "print(np.__version__)\n",
    "print(pd.__version__)\n",
    "print(matplotlib.__version__)\n",
    "print(sklearn.__version__)"
   ]
  },
  {
   "cell_type": "markdown",
   "metadata": {
    "slideshow": {
     "slide_type": "subslide"
    }
   },
   "source": [
    "## 期中作業（2）\n",
    "\n",
    "![midterm_01](https://storage.googleapis.com/py_ds_basic/midterm_01.png)"
   ]
  }
 ],
 "metadata": {
  "celltoolbar": "Slideshow",
  "kernelspec": {
   "display_name": "Python 3",
   "language": "python",
   "name": "python3"
  },
  "language_info": {
   "codemirror_mode": {
    "name": "ipython",
    "version": 3
   },
   "file_extension": ".py",
   "mimetype": "text/x-python",
   "name": "python",
   "nbconvert_exporter": "python",
   "pygments_lexer": "ipython3",
   "version": "3.6.5"
  }
 },
 "nbformat": 4,
 "nbformat_minor": 1
}
