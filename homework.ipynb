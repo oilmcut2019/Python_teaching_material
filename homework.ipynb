{
 "cells": [
  {
   "cell_type": "markdown",
   "metadata": {
    "slideshow": {
     "slide_type": "slide"
    }
   },
   "source": [
    "# 作業\n",
    "\n",
    "## 郭耀仁"
   ]
  },
  {
   "cell_type": "markdown",
   "metadata": {
    "slideshow": {
     "slide_type": "subslide"
    }
   },
   "source": [
    "## 作業 0：線上互動課程（70）\n",
    "\n",
    "完成 [Intro to Python for Data Science](https://www.datacamp.com/courses/intro-to-python-for-data-science?tap_a=5644-dce66f&tap_s=194899-1fb421)"
   ]
  },
  {
   "cell_type": "markdown",
   "metadata": {
    "slideshow": {
     "slide_type": "skip"
    }
   },
   "source": [
    "## 作業 0：擷取 NBA 球員的薪資（35）\n",
    "\n",
    "- 寫作 `get_nba_salary()` 函數\n",
    "- 利用網頁爬蟲將 <https://hoopshype.com/salaries/players/> 的球員姓名、薪資擷取至 Python 中"
   ]
  },
  {
   "cell_type": "code",
   "execution_count": 1,
   "metadata": {
    "collapsed": true,
    "slideshow": {
     "slide_type": "skip"
    }
   },
   "outputs": [],
   "source": [
    "from pyquery import PyQuery as pq\n",
    "import pandas as pd\n",
    "\n",
    "def get_nba_salary():\n",
    "    name_css = \"#content-container a\"\n",
    "    salary_css = \"tbody .hh-salaries-sorted\"\n",
    "    \n",
    "    html_doc = pq(\"https://hoopshype.com/salaries/players/\")\n",
    "    names = [n.text for n in html_doc(name_css)]\n",
    "    names = names[2:]\n",
    "    names = [name.replace(\"\\n\", \"\") for name in names]\n",
    "    names = [name.replace(\"\\t\", \"\") for name in names]\n",
    "    salaries = [s.text for s in html_doc(salary_css)]\n",
    "    salaries = [s.replace(\",\", \"\") for s in salaries]\n",
    "    salaries = [s.replace(\"$\", \"\") for s in salaries]\n",
    "    salaries = [s.replace(\"\\n\", \"\") for s in salaries]\n",
    "    salaries = [int(s.replace(\"\\t\", \"\")) for s in salaries]\n",
    "    salary_dict = {\n",
    "        \"player\": names,\n",
    "        \"salary\": salaries\n",
    "    }\n",
    "    df = pd.DataFrame(salary_dict)\n",
    "    return df"
   ]
  },
  {
   "cell_type": "code",
   "execution_count": 2,
   "metadata": {
    "slideshow": {
     "slide_type": "skip"
    }
   },
   "outputs": [
    {
     "data": {
      "text/html": [
       "<div>\n",
       "<style scoped>\n",
       "    .dataframe tbody tr th:only-of-type {\n",
       "        vertical-align: middle;\n",
       "    }\n",
       "\n",
       "    .dataframe tbody tr th {\n",
       "        vertical-align: top;\n",
       "    }\n",
       "\n",
       "    .dataframe thead th {\n",
       "        text-align: right;\n",
       "    }\n",
       "</style>\n",
       "<table border=\"1\" class=\"dataframe\">\n",
       "  <thead>\n",
       "    <tr style=\"text-align: right;\">\n",
       "      <th></th>\n",
       "      <th>player</th>\n",
       "      <th>salary</th>\n",
       "    </tr>\n",
       "  </thead>\n",
       "  <tbody>\n",
       "    <tr>\n",
       "      <th>0</th>\n",
       "      <td>Stephen Curry</td>\n",
       "      <td>37457154</td>\n",
       "    </tr>\n",
       "    <tr>\n",
       "      <th>1</th>\n",
       "      <td>Russell Westbrook</td>\n",
       "      <td>35665000</td>\n",
       "    </tr>\n",
       "    <tr>\n",
       "      <th>2</th>\n",
       "      <td>LeBron James</td>\n",
       "      <td>35654150</td>\n",
       "    </tr>\n",
       "    <tr>\n",
       "      <th>3</th>\n",
       "      <td>Blake Griffin</td>\n",
       "      <td>31873932</td>\n",
       "    </tr>\n",
       "    <tr>\n",
       "      <th>4</th>\n",
       "      <td>Gordon Hayward</td>\n",
       "      <td>31214295</td>\n",
       "    </tr>\n",
       "  </tbody>\n",
       "</table>\n",
       "</div>"
      ],
      "text/plain": [
       "              player    salary\n",
       "0      Stephen Curry  37457154\n",
       "1  Russell Westbrook  35665000\n",
       "2       LeBron James  35654150\n",
       "3      Blake Griffin  31873932\n",
       "4     Gordon Hayward  31214295"
      ]
     },
     "execution_count": 2,
     "metadata": {},
     "output_type": "execute_result"
    }
   ],
   "source": [
    "nba_salary = get_nba_salary()\n",
    "nba_salary.head()"
   ]
  },
  {
   "cell_type": "markdown",
   "metadata": {
    "slideshow": {
     "slide_type": "skip"
    }
   },
   "source": [
    "## 作業 1: 擷取Yahoo! 奇摩股市上市與上櫃公司成交價排行前 100 名（35）\n",
    "\n",
    "- 寫作 `get_top_200()` 函數\n",
    "- 將[上市](https://tw.stock.yahoo.com/d/i/rank.php?t=pri&e=tse&n=100)與[上櫃](https://tw.stock.yahoo.com/d/i/rank.php?t=pri&e=otc&n=100)成交價排行前 100 名的資訊擷取下來\n",
    "- 欄位：股票代號、公司名稱、成交價、上市或上櫃）"
   ]
  },
  {
   "cell_type": "code",
   "execution_count": 3,
   "metadata": {
    "collapsed": true,
    "slideshow": {
     "slide_type": "skip"
    }
   },
   "outputs": [],
   "source": [
    "def get_top_200():\n",
    "    tse = \"https://tw.stock.yahoo.com/d/i/rank.php?t=pri&e=tse&n=100\"\n",
    "    otc = \"https://tw.stock.yahoo.com/d/i/rank.php?t=pri&e=otc&n=100\"\n",
    "    ticker_company_css = \".name a\"\n",
    "    price_css = \".name+ td\"\n",
    "    url_list = [tse, otc]\n",
    "    all_tickers = []\n",
    "    all_companies = []\n",
    "    all_prices = []\n",
    "    all_types = []\n",
    "    for url in url_list:\n",
    "        doc = pq(url)\n",
    "        ticker_company = doc(ticker_company_css)\n",
    "        tickers = [t.text.split()[0] for t in ticker_company]\n",
    "        companies = [c.text.split()[1] for c in ticker_company]\n",
    "        prices = [float(p.text) for p in doc(price_css)]\n",
    "        if url == tse:\n",
    "            types = [\"上市\" for _ in range(100)]\n",
    "        else:\n",
    "            types = [\"上櫃\" for _ in range(100)]\n",
    "        all_tickers += tickers\n",
    "        all_companies += companies\n",
    "        all_prices += prices\n",
    "        all_types += types\n",
    "    df = pd.DataFrame()\n",
    "    df[\"ticker\"] = all_tickers\n",
    "    df[\"company\"] = all_companies\n",
    "    df[\"price\"] = all_prices\n",
    "    df[\"type\"] = all_types\n",
    "    return df"
   ]
  },
  {
   "cell_type": "code",
   "execution_count": 4,
   "metadata": {
    "slideshow": {
     "slide_type": "skip"
    }
   },
   "outputs": [
    {
     "data": {
      "text/html": [
       "<div>\n",
       "<style scoped>\n",
       "    .dataframe tbody tr th:only-of-type {\n",
       "        vertical-align: middle;\n",
       "    }\n",
       "\n",
       "    .dataframe tbody tr th {\n",
       "        vertical-align: top;\n",
       "    }\n",
       "\n",
       "    .dataframe thead th {\n",
       "        text-align: right;\n",
       "    }\n",
       "</style>\n",
       "<table border=\"1\" class=\"dataframe\">\n",
       "  <thead>\n",
       "    <tr style=\"text-align: right;\">\n",
       "      <th></th>\n",
       "      <th>ticker</th>\n",
       "      <th>company</th>\n",
       "      <th>price</th>\n",
       "      <th>type</th>\n",
       "    </tr>\n",
       "  </thead>\n",
       "  <tbody>\n",
       "    <tr>\n",
       "      <th>0</th>\n",
       "      <td>3008</td>\n",
       "      <td>大立光</td>\n",
       "      <td>5040.0</td>\n",
       "      <td>上市</td>\n",
       "    </tr>\n",
       "    <tr>\n",
       "      <th>1</th>\n",
       "      <td>2327</td>\n",
       "      <td>國巨</td>\n",
       "      <td>962.0</td>\n",
       "      <td>上市</td>\n",
       "    </tr>\n",
       "    <tr>\n",
       "      <th>2</th>\n",
       "      <td>6415</td>\n",
       "      <td>矽力-KY</td>\n",
       "      <td>664.0</td>\n",
       "      <td>上市</td>\n",
       "    </tr>\n",
       "    <tr>\n",
       "      <th>3</th>\n",
       "      <td>6409</td>\n",
       "      <td>旭隼</td>\n",
       "      <td>536.0</td>\n",
       "      <td>上市</td>\n",
       "    </tr>\n",
       "    <tr>\n",
       "      <th>4</th>\n",
       "      <td>5269</td>\n",
       "      <td>祥碩</td>\n",
       "      <td>505.0</td>\n",
       "      <td>上市</td>\n",
       "    </tr>\n",
       "  </tbody>\n",
       "</table>\n",
       "</div>"
      ],
      "text/plain": [
       "  ticker company   price type\n",
       "0   3008     大立光  5040.0   上市\n",
       "1   2327      國巨   962.0   上市\n",
       "2   6415   矽力-KY   664.0   上市\n",
       "3   6409      旭隼   536.0   上市\n",
       "4   5269      祥碩   505.0   上市"
      ]
     },
     "execution_count": 4,
     "metadata": {},
     "output_type": "execute_result"
    }
   ],
   "source": [
    "top_200 = get_top_200()\n",
    "top_200.head()"
   ]
  },
  {
   "cell_type": "code",
   "execution_count": 5,
   "metadata": {
    "slideshow": {
     "slide_type": "skip"
    }
   },
   "outputs": [
    {
     "data": {
      "text/html": [
       "<div>\n",
       "<style scoped>\n",
       "    .dataframe tbody tr th:only-of-type {\n",
       "        vertical-align: middle;\n",
       "    }\n",
       "\n",
       "    .dataframe tbody tr th {\n",
       "        vertical-align: top;\n",
       "    }\n",
       "\n",
       "    .dataframe thead th {\n",
       "        text-align: right;\n",
       "    }\n",
       "</style>\n",
       "<table border=\"1\" class=\"dataframe\">\n",
       "  <thead>\n",
       "    <tr style=\"text-align: right;\">\n",
       "      <th></th>\n",
       "      <th>ticker</th>\n",
       "      <th>company</th>\n",
       "      <th>price</th>\n",
       "      <th>type</th>\n",
       "    </tr>\n",
       "  </thead>\n",
       "  <tbody>\n",
       "    <tr>\n",
       "      <th>195</th>\n",
       "      <td>5425</td>\n",
       "      <td>台半</td>\n",
       "      <td>87.1</td>\n",
       "      <td>上櫃</td>\n",
       "    </tr>\n",
       "    <tr>\n",
       "      <th>196</th>\n",
       "      <td>8432</td>\n",
       "      <td>東生華</td>\n",
       "      <td>86.0</td>\n",
       "      <td>上櫃</td>\n",
       "    </tr>\n",
       "    <tr>\n",
       "      <th>197</th>\n",
       "      <td>8942</td>\n",
       "      <td>森鉅</td>\n",
       "      <td>85.9</td>\n",
       "      <td>上櫃</td>\n",
       "    </tr>\n",
       "    <tr>\n",
       "      <th>198</th>\n",
       "      <td>4103</td>\n",
       "      <td>百略</td>\n",
       "      <td>85.7</td>\n",
       "      <td>上櫃</td>\n",
       "    </tr>\n",
       "    <tr>\n",
       "      <th>199</th>\n",
       "      <td>5317</td>\n",
       "      <td>凱美</td>\n",
       "      <td>84.9</td>\n",
       "      <td>上櫃</td>\n",
       "    </tr>\n",
       "  </tbody>\n",
       "</table>\n",
       "</div>"
      ],
      "text/plain": [
       "    ticker company  price type\n",
       "195   5425      台半   87.1   上櫃\n",
       "196   8432     東生華   86.0   上櫃\n",
       "197   8942      森鉅   85.9   上櫃\n",
       "198   4103      百略   85.7   上櫃\n",
       "199   5317      凱美   84.9   上櫃"
      ]
     },
     "execution_count": 5,
     "metadata": {},
     "output_type": "execute_result"
    }
   ],
   "source": [
    "top_200.tail()"
   ]
  },
  {
   "cell_type": "markdown",
   "metadata": {
    "slideshow": {
     "slide_type": "subslide"
    }
   },
   "source": [
    "## 作業 1: NumPy 入門（35）\n",
    "\n",
    "- 寫作一個函數 `std_fun()`\n",
    "- 利用 numpy ndarray 實作\n",
    "\n",
    "$$SD = \\sqrt{\\frac{1}{N-1}\\sum_{i=1}^{N}(x_i - \\bar{x})^2}$$"
   ]
  },
  {
   "cell_type": "code",
   "execution_count": 6,
   "metadata": {
    "collapsed": true,
    "slideshow": {
     "slide_type": "skip"
    }
   },
   "outputs": [],
   "source": [
    "import numpy as np\n",
    "\n",
    "def std_fun(x):\n",
    "    return np.std(x, ddof=1)"
   ]
  },
  {
   "cell_type": "code",
   "execution_count": 7,
   "metadata": {
    "slideshow": {
     "slide_type": "subslide"
    }
   },
   "outputs": [
    {
     "data": {
      "text/plain": [
       "29.011491975882016"
      ]
     },
     "execution_count": 7,
     "metadata": {},
     "output_type": "execute_result"
    }
   ],
   "source": [
    "arr = np.arange(1, 101)\n",
    "std_fun(arr)"
   ]
  },
  {
   "cell_type": "markdown",
   "metadata": {
    "slideshow": {
     "slide_type": "skip"
    }
   },
   "source": [
    "## 作業 3: NBA 球員的年薪（35）\n",
    "\n",
    "延續作業 0，回答下列問題：\n",
    "\n",
    "- 有幾位 NBA 球員的年薪超過一千萬？ \n",
    "- NBA 球員的年薪平均？\n",
    "- NBA 球員的年薪中位數？\n",
    "- 繪製 NBA 球員的年薪直方圖"
   ]
  },
  {
   "cell_type": "markdown",
   "metadata": {
    "slideshow": {
     "slide_type": "skip"
    }
   },
   "source": [
    "![](images/nba_salary_hist.png)"
   ]
  },
  {
   "cell_type": "markdown",
   "metadata": {
    "slideshow": {
     "slide_type": "skip"
    }
   },
   "source": [
    "## 作業 4：上市上櫃公司（35）\n",
    "\n",
    "延續作業 1，回答下列問題\n",
    "\n",
    "- 有幾間境外公司？（公司名稱有 KY）\n",
    "- 請篩選出非境外公司的觀測值並依照股價排序"
   ]
  },
  {
   "cell_type": "markdown",
   "metadata": {
    "slideshow": {
     "slide_type": "subslide"
    }
   },
   "source": [
    "## 作業 2：完成 pandas 專題：能源指標的問題一（35）\n",
    "\n",
    "[問題一](https://yaojenkuo.io/python_4_ds/pandas_energy_indicator.slides.html#/2)"
   ]
  },
  {
   "cell_type": "markdown",
   "metadata": {
    "slideshow": {
     "slide_type": "subslide"
    }
   },
   "source": [
    "## 作業 3：完成 pandas 專題：能源指標的問題二（35）\n",
    "\n",
    "[問題二](https://yaojenkuo.io/python_4_ds/pandas_energy_indicator.slides.html#/2/4)"
   ]
  },
  {
   "cell_type": "markdown",
   "metadata": {
    "slideshow": {
     "slide_type": "subslide"
    }
   },
   "source": [
    "## 作業 4：完成 House Prices: Advanced Regression Techniques 並上傳（70）\n",
    "\n",
    "[House Prices: Advanced Regression Techniques](https://www.kaggle.com/c/house-prices-advanced-regression-techniques)"
   ]
  },
  {
   "cell_type": "markdown",
   "metadata": {
    "slideshow": {
     "slide_type": "subslide"
    }
   },
   "source": [
    "## 作業 5：完成 Titanic: Machine Learning from Disaster 並上傳（70）\n",
    "\n",
    "[Titanic: Machine Learning from Disaster](https://www.kaggle.com/c/titanic)"
   ]
  },
  {
   "cell_type": "markdown",
   "metadata": {
    "slideshow": {
     "slide_type": "subslide"
    }
   },
   "source": [
    "## 作業 6：完成 Digit Recognizer 並上傳（70）\n",
    "\n",
    "[Digit Recognizer](https://www.kaggle.com/c/digit-recognizer)"
   ]
  }
 ],
 "metadata": {
  "celltoolbar": "Slideshow",
  "kernelspec": {
   "display_name": "Python 3",
   "language": "python",
   "name": "python3"
  },
  "language_info": {
   "codemirror_mode": {
    "name": "ipython",
    "version": 3
   },
   "file_extension": ".py",
   "mimetype": "text/x-python",
   "name": "python",
   "nbconvert_exporter": "python",
   "pygments_lexer": "ipython3",
   "version": "3.6.7"
  }
 },
 "nbformat": 4,
 "nbformat_minor": 2
}
