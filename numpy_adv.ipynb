{
 "cells": [
  {
   "cell_type": "markdown",
   "metadata": {
    "slideshow": {
     "slide_type": "slide"
    }
   },
   "source": [
    "# 再探 NumPy\n",
    "\n",
    "## 郭耀仁"
   ]
  },
  {
   "cell_type": "markdown",
   "metadata": {
    "slideshow": {
     "slide_type": "slide"
    }
   },
   "source": [
    "## 建立 ndarray\n",
    "\n",
    "- `np.arange()` 搭配 `.reshape(m, n)` 可以建立等差數列\n",
    "- `np.zeros((m, n))` 可以建立都是零的 ndarray\n",
    "- `np.ones((m, n))` 可以建立都是 1 的 ndarray\n",
    "- `np.random.random((m, n))` 可以建立亂數的 ndarray\n",
    "    - 搭配 `np.floor()` 與 `np.ceil()` 服用"
   ]
  },
  {
   "cell_type": "markdown",
   "metadata": {
    "slideshow": {
     "slide_type": "subslide"
    }
   },
   "source": [
    "## 建立 ndarray（2）\n",
    "\n",
    "- 練習使用 `np.arange()` 、`np.zeros()` 、 `np.ones()` 與 `np.random.random()` 建立 ndarrays"
   ]
  },
  {
   "cell_type": "markdown",
   "metadata": {
    "slideshow": {
     "slide_type": "slide"
    }
   },
   "source": [
    "## 矩陣運算\n",
    "\n",
    "- 單純使用 `*` 是 **element-wise** 運算\n",
    "- 使用 `np.dot()` 是內積"
   ]
  },
  {
   "cell_type": "markdown",
   "metadata": {
    "slideshow": {
     "slide_type": "subslide"
    }
   },
   "source": [
    "## 矩陣運算（2）\n",
    "\n",
    "- 計算 A\\*A\n",
    "- 計算 A 矩陣與 A 矩陣的內積\n",
    "\n",
    "```python\n",
    "import numpy as np\n",
    "\n",
    "A = np.arange(1, 5).reshape(2, 2)\n",
    "```"
   ]
  },
  {
   "cell_type": "markdown",
   "metadata": {
    "slideshow": {
     "slide_type": "slide"
    }
   },
   "source": [
    "## 改變外觀\n",
    "\n",
    "- 變形：`.reshape(m, n)`\n",
    "- 轉置：`.T`\n",
    "- 攤平：`.ravel()`"
   ]
  },
  {
   "cell_type": "markdown",
   "metadata": {
    "slideshow": {
     "slide_type": "subslide"
    }
   },
   "source": [
    "## 改變外觀（2）\n",
    "\n",
    "- 練習將這個一維的 numpy array 轉換成 (2, 6)\n",
    "- 轉置成 (6, 2)\n",
    "- 攤平\n",
    "\n",
    "```python\n",
    "import numpy as np\n",
    "\n",
    "my_arr = np.arange(12)\n",
    "```"
   ]
  },
  {
   "cell_type": "markdown",
   "metadata": {
    "slideshow": {
     "slide_type": "slide"
    }
   },
   "source": [
    "## 常用方法\n",
    "\n",
    "- `.sum()`\n",
    "- `.min()`\n",
    "- `.max()`\n",
    "- `.mean()`\n",
    "- `np.sqrt()`"
   ]
  },
  {
   "cell_type": "markdown",
   "metadata": {
    "slideshow": {
     "slide_type": "slide"
    }
   },
   "source": [
    "## 期中作業\n",
    "\n",
    "- 計算一組數字的標準差\n",
    "- 要跟 numpy.std() 的答案一樣\n",
    "- 標準差公式：\n",
    "\n",
    "$$SD = \\sqrt{\\frac{1}{N}\\sum_{i=1}^{N}(x_i - \\mu)^2}$$"
   ]
  }
 ],
 "metadata": {
  "celltoolbar": "Slideshow",
  "kernelspec": {
   "display_name": "Python 3",
   "language": "python",
   "name": "python3"
  },
  "language_info": {
   "codemirror_mode": {
    "name": "ipython",
    "version": 3
   },
   "file_extension": ".py",
   "mimetype": "text/x-python",
   "name": "python",
   "nbconvert_exporter": "python",
   "pygments_lexer": "ipython3",
   "version": "3.6.0"
  }
 },
 "nbformat": 4,
 "nbformat_minor": 2
}
