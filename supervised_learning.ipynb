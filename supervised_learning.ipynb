{
 "cells": [
  {
   "cell_type": "markdown",
   "metadata": {
    "slideshow": {
     "slide_type": "slide"
    }
   },
   "source": [
    "# 監督式學習與 scikit-learn\n",
    "\n",
    "## 郭耀仁"
   ]
  },
  {
   "cell_type": "markdown",
   "metadata": {
    "slideshow": {
     "slide_type": "slide"
    }
   },
   "source": [
    "## 機器學習的定位\n",
    "\n",
    "![](https://ingomierswacom.files.wordpress.com/2017/04/ai_ml_dl.jpg?w=676)\n",
    "\n",
    "Source: [rapidminer](https://rapidminer.com/artificial-intelligence-machine-learning-deep-learning/)"
   ]
  },
  {
   "cell_type": "markdown",
   "metadata": {
    "slideshow": {
     "slide_type": "slide"
    }
   },
   "source": [
    "## 定義機器學習\n",
    "\n",
    "[Arthur Samuel](https://en.wikipedia.org/wiki/Arthur_Samuel)\n",
    "> The field of study that gives computers the ability to learn without being explicitly programmed."
   ]
  },
  {
   "cell_type": "markdown",
   "metadata": {
    "slideshow": {
     "slide_type": "subslide"
    }
   },
   "source": [
    "## 定義機器學習（2）\n",
    "\n",
    "[Tom Mitchell](http://www.cs.cmu.edu/~tom/)\n",
    "> A computer program is said to learn from experience E with respect to some class of tasks T and performance measure P, if its performance at tasks in T, as measured by P, improves with experience E."
   ]
  },
  {
   "cell_type": "markdown",
   "metadata": {
    "slideshow": {
     "slide_type": "subslide"
    }
   },
   "source": [
    "## 定義機器學習（3）\n",
    "\n",
    "[林軒田](http://www.csie.ntu.edu.tw/~htlin/)\n",
    "> 我們從小是怎麼樣辨認一棵樹的，是爸爸媽媽告訴我們一百條規則來定義嗎？其實不是的，很大一部分是透過我們自己的觀察很多的樹與不是樹之後，得到並且內化了辨認一棵樹的技巧，機器學習想要做的就是一樣的事情。"
   ]
  },
  {
   "cell_type": "markdown",
   "metadata": {
    "slideshow": {
     "slide_type": "slide"
    }
   },
   "source": [
    "## 機器學習的種類\n",
    "\n",
    "- 監督式學習（Supervised Learning）：具有目標變數的 Labeled data\n",
    "    - Gmail 會幫你分類郵件\n",
    "    - [Jin Yang's Hot Dog Claasifier](https://youtu.be/ACmydtFDTGs)\n",
    "- 非監督式學習（Unsupervised Learning）：沒有目標變數的 Unlabeled data\n",
    "    - 將客戶分成不同的 Segments\n",
    "    - 降維時所使用的主成份分析"
   ]
  },
  {
   "cell_type": "markdown",
   "metadata": {
    "slideshow": {
     "slide_type": "subslide"
    }
   },
   "source": [
    "## 機器學習的種類（2）\n",
    "\n",
    "- 監督式學習（Supervised Learning）\n",
    "    - 迴歸問題：目標變數是連續型（數值），像是股價、氣溫、匯率、房價...等\n",
    "    - 分類問題：目標變數是離散型（類別），像是垃圾郵件/非垃圾郵件、熱狗/非熱狗...等"
   ]
  },
  {
   "cell_type": "markdown",
   "metadata": {
    "slideshow": {
     "slide_type": "slide"
    }
   },
   "source": [
    "## 認識 Scikit-Learn\n",
    "\n",
    "- 用來實作資料探勘與機器學習的 Python 套件\n",
    "- 建構於 NumPy，SciPy 與 Matplotlib 套件之上\n",
    "- 有[六大功能模組](http://scikit-learn.org/stable/index.html)：\n",
    "    - 預處理\n",
    "    - 降維\n",
    "    - 迴歸\n",
    "    - 分群\n",
    "    - 分類\n",
    "    - 模型評估"
   ]
  },
  {
   "cell_type": "markdown",
   "metadata": {
    "slideshow": {
     "slide_type": "subslide"
    }
   },
   "source": [
    "## 認識 Scikit-Learn（2）\n",
    "\n",
    "- [其他的 Scikits](https://scikits.appspot.com/scikits)\n",
    "- [Scikit-Learn 機器學習地圖](http://scikit-learn.org/stable/tutorial/machine_learning_map/)"
   ]
  },
  {
   "cell_type": "markdown",
   "metadata": {
    "slideshow": {
     "slide_type": "slide"
    }
   },
   "source": [
    "## 迴歸問題"
   ]
  },
  {
   "cell_type": "markdown",
   "metadata": {
    "slideshow": {
     "slide_type": "subslide"
    }
   },
   "source": [
    "## 迴歸問題有哪些？\n",
    "\n",
    "- 利用月收入來核定信用卡額度\n",
    "- 利用坪數、房間數來預測房價\n",
    "- 利用每日最高氣溫來預測飲料店的冰紅茶銷量\n",
    "- ...etc."
   ]
  },
  {
   "cell_type": "markdown",
   "metadata": {
    "slideshow": {
     "slide_type": "subslide"
    }
   },
   "source": [
    "## 大家都在尋找 $f$\n",
    "\n",
    "$$y = f(x)$$\n",
    "\n",
    "- 但沒有人知道 $f$ 到底為何、是否存在？我們只能假設：\n",
    "\n",
    "$$\\hat{y} = h(x)$$"
   ]
  },
  {
   "cell_type": "markdown",
   "metadata": {
    "slideshow": {
     "slide_type": "subslide"
    }
   },
   "source": [
    "## 當 $\\hat{y}$ 與 $y$ 之間的差異愈小，我們更有自信地說 $h$ 跟 $f$ 愈相似\n",
    "\n",
    "- 成本函數\n",
    "\n",
    "$$ \\text{minimize:} \\frac{1}{2m}\\sum_{i=1}^{m}(\\hat{y_i}-y_i)^2$$"
   ]
  },
  {
   "cell_type": "markdown",
   "metadata": {
    "slideshow": {
     "slide_type": "subslide"
    }
   },
   "source": [
    "## 將 $h$ 表示得更完整\n",
    "\n",
    "$$h(x) = \\theta_0 + \\theta_1 x_1 + \\theta_2 x_2 + ... + \\theta_n x_n$$\n",
    "\n",
    "- 假如我們令 $x_0 = 1$，就可以將式子廣義地表示為：\n",
    "\n",
    "$$h(x) = \\begin{bmatrix} \\theta_0 & \\theta_1 & ... & \\theta_n \\end{bmatrix} \\begin{bmatrix} x_0 \\\\ x_1 \\\\.\\\\.\\\\.\\\\ x_n \\end{bmatrix} = \\theta^{T}x$$"
   ]
  },
  {
   "cell_type": "markdown",
   "metadata": {
    "slideshow": {
     "slide_type": "subslide"
    }
   },
   "source": [
    "## Scikit-Learn 的任務\n",
    "\n",
    "- 找到一組 $\\theta$ 讓成本函數最小化"
   ]
  },
  {
   "cell_type": "markdown",
   "metadata": {
    "slideshow": {
     "slide_type": "subslide"
    }
   },
   "source": [
    "## 訓練（train）與測試樣本（test）\n",
    "\n",
    "- 訓練樣本用來建立 $h(x)$\n",
    "- 將測試樣本投入 $h(x)$ 建立預測 $\\hat{y}$\n",
    "- 比對測試樣本的 $y$ 與 $\\hat{y}$ 來評估 $h(x)$"
   ]
  },
  {
   "cell_type": "markdown",
   "metadata": {
    "slideshow": {
     "slide_type": "subslide"
    }
   },
   "source": [
    "## 評估迴歸模型的指標\n",
    "\n",
    "- RMSE（愈低愈好）\n",
    "\n",
    "$$RMSE = \\sqrt{\\frac{1}{N}\\sum_{i=1}^N(\\hat{y_i} - y_i) ^ 2}$$\n",
    "\n",
    "- R-squared（愈接近 1 愈好）\n",
    "\n",
    "$$R^2 = 1 - \\frac{SSE}{SST} = 1 - \\frac{\\frac{1}{n}\\sum_{i=1}^N(\\hat{y_i} - y_i)^2}{\\frac{1}{n}\\sum_{i=1}^N(y_i - \\mu)^2} = 1 - \\frac{MSE}{Var(y)}$$"
   ]
  },
  {
   "cell_type": "markdown",
   "metadata": {
    "slideshow": {
     "slide_type": "subslide"
    }
   },
   "source": [
    "## 迴歸問題範例\n",
    "\n",
    "- 載入 boston 範例資料，切分為訓練和測試資料"
   ]
  },
  {
   "cell_type": "code",
   "execution_count": 1,
   "metadata": {},
   "outputs": [
    {
     "name": "stdout",
     "output_type": "stream",
     "text": [
      "(354, 13)\n",
      "(152, 13)\n"
     ]
    }
   ],
   "source": [
    "from sklearn.datasets import load_boston\n",
    "from sklearn.model_selection import train_test_split\n",
    "\n",
    "boston = load_boston()\n",
    "X = boston.data\n",
    "y = boston.target\n",
    "X_train, X_test, y_train, y_test = train_test_split(X, y, test_size=0.3, random_state=42)\n",
    "print(X_train.shape)\n",
    "print(X_test.shape)"
   ]
  },
  {
   "cell_type": "markdown",
   "metadata": {
    "slideshow": {
     "slide_type": "subslide"
    }
   },
   "source": [
    "## 利用 LSTAT 來預測 MEDV，使用 sklearn 建立線性迴歸模型"
   ]
  },
  {
   "cell_type": "code",
   "execution_count": 2,
   "metadata": {},
   "outputs": [
    {
     "data": {
      "text/plain": [
       "LinearRegression(copy_X=True, fit_intercept=True, n_jobs=1, normalize=False)"
      ]
     },
     "execution_count": 2,
     "metadata": {},
     "output_type": "execute_result"
    }
   ],
   "source": [
    "from sklearn.linear_model import LinearRegression\n",
    "\n",
    "LSTAT = X_train[:, -1].reshape(-1, 1)\n",
    "MEDV = y_train.reshape(-1, 1)\n",
    "regr = LinearRegression()\n",
    "regr.fit(LSTAT, MEDV)"
   ]
  },
  {
   "cell_type": "markdown",
   "metadata": {
    "slideshow": {
     "slide_type": "subslide"
    }
   },
   "source": [
    "## 畫出訓練資料散佈點與迴歸線"
   ]
  },
  {
   "cell_type": "code",
   "execution_count": 3,
   "metadata": {},
   "outputs": [
    {
     "data": {
      "image/png": "[encoded data removed]",
      "text/plain": [
       "<matplotlib.figure.Figure at 0x10f96f9b0>"
      ]
     },
     "metadata": {},
     "output_type": "display_data"
    }
   ],
   "source": [
    "import numpy as np\n",
    "import matplotlib.pyplot as plt\n",
    "\n",
    "X_fit = np.linspace(LSTAT.min() - 3, LSTAT.max()*1.1, 50).reshape(-1, 1)\n",
    "y_lin_fit = regr.predict(X_fit)\n",
    "\n",
    "# plotting\n",
    "plt.scatter(LSTAT, MEDV, label = \"Training Points\", s = 3)\n",
    "plt.plot(X_fit, y_lin_fit, label = \"Linear\", linestyle = \"--\", c = \"r\", linewidth = 2)\n",
    "plt.legend(loc = \"upper right\", frameon = False)\n",
    "plt.show()"
   ]
  },
  {
   "cell_type": "markdown",
   "metadata": {
    "slideshow": {
     "slide_type": "subslide"
    }
   },
   "source": [
    "## 加入二次項與三次項建立迴歸模型，並將迴歸線加入圖中"
   ]
  },
  {
   "cell_type": "code",
   "execution_count": 4,
   "metadata": {},
   "outputs": [
    {
     "data": {
      "text/plain": [
       "<matplotlib.legend.Legend at 0x10fb30a90>"
      ]
     },
     "execution_count": 4,
     "metadata": {},
     "output_type": "execute_result"
    }
   ],
   "source": [
    "from sklearn.preprocessing import PolynomialFeatures\n",
    "\n",
    "# create polynomial features\n",
    "quadratic = PolynomialFeatures(degree=2)\n",
    "cubic = PolynomialFeatures(degree=3)\n",
    "LSTAT_quad = quadratic.fit_transform(LSTAT)\n",
    "LSTAT_cubic = cubic.fit_transform(LSTAT)\n",
    "\n",
    "# quadratic fit\n",
    "regr_q = LinearRegression()\n",
    "regr_q = regr_q.fit(LSTAT_quad, MEDV)\n",
    "y_quad_fit = regr_q.predict(quadratic.fit_transform(X_fit))\n",
    "\n",
    "# cubic fit\n",
    "regr_c = LinearRegression()\n",
    "regr_c = regr_c.fit(LSTAT_cubic, MEDV)\n",
    "y_cubic_fit = regr_c.predict(cubic.fit_transform(X_fit))\n",
    "\n",
    "# plotting\n",
    "plt.scatter(LSTAT, MEDV, label = \"Training Points\", s = 3, c = \"k\")\n",
    "plt.plot(X_fit, y_lin_fit, label = \"Linear\", linestyle = \"--\", c = \"r\", linewidth = 2)\n",
    "plt.plot(X_fit, y_quad_fit, label = \"Quadratic\", linestyle = \"--\", c = \"g\", linewidth = 2)\n",
    "plt.plot(X_fit, y_cubic_fit, label = \"Cubic\", linestyle = \"--\", c = \"b\", linewidth = 2)\n",
    "plt.legend(loc = \"upper right\", frameon = False)"
   ]
  },
  {
   "cell_type": "code",
   "execution_count": 5,
   "metadata": {
    "slideshow": {
     "slide_type": "subslide"
    }
   },
   "outputs": [
    {
     "data": {
      "image/png": "[encoded data removed]",
      "text/plain": [
       "<matplotlib.figure.Figure at 0x10fa4fc50>"
      ]
     },
     "metadata": {},
     "output_type": "display_data"
    }
   ],
   "source": [
    "plt.show()"
   ]
  },
  {
   "cell_type": "markdown",
   "metadata": {
    "slideshow": {
     "slide_type": "subslide"
    }
   },
   "source": [
    "## 利用測試資料計算三個模型的 $R^2$ 與 RMSE"
   ]
  },
  {
   "cell_type": "code",
   "execution_count": 6,
   "metadata": {},
   "outputs": [
    {
     "name": "stdout",
     "output_type": "stream",
     "text": [
      "[Linear] R Squared: 0.4887; RMSE: 6.1724\n",
      "[Quadratic] R Squared: 0.5762; RMSE: 5.6196\n",
      "[Cubic] R Squared: 0.6058; RMSE: 5.4194\n"
     ]
    }
   ],
   "source": [
    "from sklearn.metrics import mean_squared_error\n",
    "from sklearn.metrics import r2_score\n",
    "\n",
    "# X_test\n",
    "LSTAT_test = X_test[:, -1]\n",
    "LSTAT_test = LSTAT_test.reshape(-1, 1)\n",
    "\n",
    "# y_hats\n",
    "y_lin_hat = regr.predict(LSTAT_test)\n",
    "y_quad_hat = regr_q.predict(quadratic.fit_transform(LSTAT_test))\n",
    "y_cubic_hat = regr_c.predict(cubic.fit_transform(LSTAT_test))\n",
    "\n",
    "# rmse\n",
    "rmse_lin = np.sqrt(mean_squared_error(y_test, y_lin_hat))\n",
    "rmse_quad = np.sqrt(mean_squared_error(y_test, y_quad_hat))\n",
    "rmse_cubic = np.sqrt(mean_squared_error(y_test, y_cubic_hat))\n",
    "\n",
    "# r^2\n",
    "r2_lin = r2_score(y_test, y_lin_hat)\n",
    "r2_quad = r2_score(y_test, y_quad_hat)\n",
    "r2_cubic = r2_score(y_test, y_cubic_hat)\n",
    "\n",
    "labels = [\"Linear\", \"Quadratic\", \"Cubic\"]\n",
    "r2s = [r2_lin, r2_quad, r2_cubic]\n",
    "rmses = [rmse_lin, rmse_quad, rmse_cubic]\n",
    "\n",
    "# Print out\n",
    "for (label, r2, rmse) in zip(labels, r2s, rmses):\n",
    "    print(\"[%s] R Squared: %.4f; RMSE: %.4f\"%(label, r2, rmse))"
   ]
  },
  {
   "cell_type": "markdown",
   "metadata": {
    "slideshow": {
     "slide_type": "slide"
    }
   },
   "source": [
    "## 分類問題"
   ]
  },
  {
   "cell_type": "markdown",
   "metadata": {
    "slideshow": {
     "slide_type": "subslide"
    }
   },
   "source": [
    "## 分類問題有哪些？\n",
    "\n",
    "- 貸款顧客是否會倒帳\n",
    "- 圖片辨識\n",
    "- 垃圾郵件辨識\n",
    "- ...etc."
   ]
  },
  {
   "cell_type": "markdown",
   "metadata": {
    "slideshow": {
     "slide_type": "subslide"
    }
   },
   "source": [
    "## 迴歸問題的延伸\n",
    "\n",
    "- 將 $h(x) = \\theta^Tx$ 的結果利用**特定函數**轉換為簡單分類器\n",
    "    - 感知器利用 *sign* 函數\n",
    "    - 羅吉斯迴歸利用 *sigmoid* 函數\n",
    "    - ...etc."
   ]
  },
  {
   "cell_type": "markdown",
   "metadata": {
    "slideshow": {
     "slide_type": "subslide"
    }
   },
   "source": [
    "## 感知器利用 *sign* 函數\n",
    "\n",
    "$$\\hat{y} = H(\\theta^{T}x)$$\n",
    "其中，\n",
    "$$  H(z)=\n",
    "  \\begin{cases}\n",
    "    1       & \\quad \\text{if } z\\geq 0.5\\\\\n",
    "    0  & \\quad \\text{otherwise}\\\\\n",
    "  \\end{cases}\n",
    "$$"
   ]
  },
  {
   "cell_type": "markdown",
   "metadata": {
    "slideshow": {
     "slide_type": "subslide"
    }
   },
   "source": [
    "## 羅吉斯迴歸利用 *sigmoid* 函數\n",
    "\n",
    "$$\\hat{y} = H(g(\\theta^{T}x))$$\n",
    "其中，\n",
    "$$g(z) = \\frac{1}{1+e^{-z}}$$\n",
    "$$  H(z)=\n",
    "  \\begin{cases}\n",
    "    1       & \\quad \\text{if } z\\geq 0.5\\\\\n",
    "    0  & \\quad \\text{otherwise}\\\\\n",
    "  \\end{cases}\n",
    "$$"
   ]
  },
  {
   "cell_type": "markdown",
   "metadata": {
    "slideshow": {
     "slide_type": "subslide"
    }
   },
   "source": [
    "## $\\theta^Tx$ 為決策邊界\n",
    "\n",
    "- 同樣請 scikit-learn 幫我們找到讓成本函數最低（誤分類率最低）的 $\\theta$\n",
    "    - 羅吉斯回歸\n",
    "    - 隨機森林\n",
    "    - 支援向量機"
   ]
  },
  {
   "cell_type": "code",
   "execution_count": 1,
   "metadata": {},
   "outputs": [
    {
     "data": {
      "text/plain": [
       "<matplotlib.text.Text at 0x1144c54e0>"
      ]
     },
     "execution_count": 1,
     "metadata": {},
     "output_type": "execute_result"
    }
   ],
   "source": [
    "from mlxtend.plotting import plot_decision_regions\n",
    "import matplotlib.pyplot as plt\n",
    "from sklearn import datasets\n",
    "from sklearn.linear_model import LogisticRegression\n",
    "\n",
    "iris = datasets.load_iris()\n",
    "X = iris.data[:, [0, 2]]\n",
    "y = iris.target\n",
    "\n",
    "lg = LogisticRegression()\n",
    "lg.fit(X, y)\n",
    "\n",
    "\n",
    "plot_decision_regions(X, y, clf = lg,\n",
    "                      res = 0.02, legend = 2)\n",
    "\n",
    "plt.xlabel('sepal length [cm]')\n",
    "plt.ylabel('petal length [cm]')\n",
    "plt.title('Logistic Regression on Iris')"
   ]
  },
  {
   "cell_type": "code",
   "execution_count": 2,
   "metadata": {
    "slideshow": {
     "slide_type": "subslide"
    }
   },
   "outputs": [
    {
     "data": {
      "image/png": "[encoded data removed]",
      "text/plain": [
       "<matplotlib.figure.Figure at 0x110c2ee10>"
      ]
     },
     "metadata": {},
     "output_type": "display_data"
    }
   ],
   "source": [
    "plt.show()"
   ]
  },
  {
   "cell_type": "code",
   "execution_count": 3,
   "metadata": {
    "slideshow": {
     "slide_type": "subslide"
    }
   },
   "outputs": [
    {
     "data": {
      "text/plain": [
       "<matplotlib.text.Text at 0x115504048>"
      ]
     },
     "execution_count": 3,
     "metadata": {},
     "output_type": "execute_result"
    }
   ],
   "source": [
    "from sklearn.ensemble import RandomForestClassifier\n",
    "\n",
    "iris = datasets.load_iris()\n",
    "X = iris.data[:, [0, 2]]\n",
    "y = iris.target\n",
    "\n",
    "rf = RandomForestClassifier()\n",
    "rf.fit(X, y)\n",
    "\n",
    "\n",
    "plot_decision_regions(X, y, clf = rf,\n",
    "                      res = 0.02, legend = 2)\n",
    "\n",
    "plt.xlabel('sepal length [cm]')\n",
    "plt.ylabel('petal length [cm]')\n",
    "plt.title('Random forest on Iris')"
   ]
  },
  {
   "cell_type": "code",
   "execution_count": 4,
   "metadata": {
    "slideshow": {
     "slide_type": "subslide"
    }
   },
   "outputs": [
    {
     "data": {
      "image/png": "[encoded data removed]",
      "text/plain": [
       "<matplotlib.figure.Figure at 0x114ef85c0>"
      ]
     },
     "metadata": {},
     "output_type": "display_data"
    }
   ],
   "source": [
    "plt.show()"
   ]
  },
  {
   "cell_type": "code",
   "execution_count": 5,
   "metadata": {
    "slideshow": {
     "slide_type": "subslide"
    }
   },
   "outputs": [
    {
     "data": {
      "text/plain": [
       "<matplotlib.text.Text at 0x10626dc50>"
      ]
     },
     "execution_count": 5,
     "metadata": {},
     "output_type": "execute_result"
    }
   ],
   "source": [
    "from sklearn.svm import SVC\n",
    "\n",
    "iris = datasets.load_iris()\n",
    "X = iris.data[:, [0, 2]]\n",
    "y = iris.target\n",
    "\n",
    "svm = SVC()\n",
    "svm.fit(X, y)\n",
    "\n",
    "\n",
    "plot_decision_regions(X, y, clf = svm,\n",
    "                      res = 0.02, legend = 2)\n",
    "\n",
    "plt.xlabel('sepal length [cm]')\n",
    "plt.ylabel('petal length [cm]')\n",
    "plt.title('Support vector machine on Iris')"
   ]
  },
  {
   "cell_type": "code",
   "execution_count": 6,
   "metadata": {
    "slideshow": {
     "slide_type": "subslide"
    }
   },
   "outputs": [
    {
     "data": {
      "image/png": "[encoded data removed]",
      "text/plain": [
       "<matplotlib.figure.Figure at 0x114e053c8>"
      ]
     },
     "metadata": {},
     "output_type": "display_data"
    }
   ],
   "source": [
    "plt.show()"
   ]
  }
 ],
 "metadata": {
  "celltoolbar": "Slideshow",
  "kernelspec": {
   "display_name": "Python 3",
   "language": "python",
   "name": "python3"
  },
  "language_info": {
   "codemirror_mode": {
    "name": "ipython",
    "version": 3
   },
   "file_extension": ".py",
   "mimetype": "text/x-python",
   "name": "python",
   "nbconvert_exporter": "python",
   "pygments_lexer": "ipython3",
   "version": "3.6.0"
  }
 },
 "nbformat": 4,
 "nbformat_minor": 2
}
