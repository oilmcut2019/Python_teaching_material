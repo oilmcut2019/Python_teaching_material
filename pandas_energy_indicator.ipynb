{
 "cells": [
  {
   "cell_type": "markdown",
   "metadata": {
    "slideshow": {
     "slide_type": "slide"
    }
   },
   "source": [
    "# pandas 專題：能源指標\n",
    "\n",
    "## 郭耀仁"
   ]
  },
  {
   "cell_type": "markdown",
   "metadata": {
    "slideshow": {
     "slide_type": "slide"
    }
   },
   "source": [
    "## 來源\n",
    "\n",
    "[Coursera](https://www.coursera.org/) 的 [Introduction to Data Science in Python](https://www.coursera.org/learn/python-data-analysis/home/welcome) 課程第三週作業"
   ]
  },
  {
   "cell_type": "markdown",
   "metadata": {
    "slideshow": {
     "slide_type": "slide"
    }
   },
   "source": [
    "## 問題一\n",
    "\n",
    "- 讀入 excel 試算表：https://storage.googleapis.com/py_ml_datasets/Energy%20Indicators.xls 並儲存成 DataFrame，命名為 `energy`\n",
    "    - 擷取這四個變數並重新命名：`['Country', 'Energy Supply', 'Energy Supply per Capita', '% Renewable']`\n",
    "    - 將 `Energy Supply` 單位改為 gigajoules(1 petajoule = 1,000,000 gigajoules)\n",
    "    - 將 `...` 的資料記錄為遺漏值 `np.NaN`\n",
    "    - 重新命名國家名稱：\n",
    "        - \"Republic of Korea\": \"South Korea\"\n",
    "        - \"United States of America\": \"United States\"\n",
    "        - \"United Kingdom of Great Britain and Northern Ireland\": \"United Kingdom\"\n",
    "        - \"China, Hong Kong Special Administrative Region\": \"Hong Kong\"\n",
    "        - 移除小括號或數字，像是 'Bolivia (Plurinational State of)': 'Bolivia'、'Switzerland17': 'Switzerland'"
   ]
  },
  {
   "cell_type": "markdown",
   "metadata": {
    "slideshow": {
     "slide_type": "subslide"
    }
   },
   "source": [
    "## 問題一（cont'd）\n",
    "\n",
    "- 讀入 csv 檔：https://storage.googleapis.com/py_ml_datasets/world_bank.csv 並儲存成 DataFrame，命名為 `GDP`\n",
    "- 重新命名國家名稱：\n",
    "    - \"Korea, Rep.\": \"South Korea\"\n",
    "    - \"Iran, Islamic Rep.\": \"Iran\"\n",
    "    - \"Hong Kong SAR, China\": \"Hong Kong\""
   ]
  },
  {
   "cell_type": "markdown",
   "metadata": {
    "slideshow": {
     "slide_type": "subslide"
    }
   },
   "source": [
    "## 問題一（cont'd）\n",
    "\n",
    "- 讀入 excel 試算表：https://storage.googleapis.com/py_ml_datasets/scimagojr-3.xlsx 並儲存成 DataFrame，命名為 `ScimEn`"
   ]
  },
  {
   "cell_type": "markdown",
   "metadata": {
    "slideshow": {
     "slide_type": "subslide"
    }
   },
   "source": [
    "## 問題一（cont'd）\n",
    "\n",
    "- 利用國家名稱將上述三個 DataFrame （`GDP`、`Energy`、`ScimEn`）聯結\n",
    "- 只需要 2006-2015 年的 GDP 資料以及 `ScimEn` 中排名前 15 的國家\n",
    "- 資料框的索引值為國家名稱\n",
    "- 資料框的變數名稱為：`['Rank', 'Documents', 'Citable documents', 'Citations', 'Self-citations', 'Citations per document', 'H index', 'Energy Supply', 'Energy Supply per Capita', '% Renewable', '2006', '2007', '2008', '2009', '2010', '2011', '2012', '2013', '2014', '2015']`\n",
    "\n",
    "```python\n",
    "def answer_one():\n",
    "    '''\n",
    "    這個函數應該回傳一個外觀為 15x20 的資料框\n",
    "    '''\n",
    "    return \"答案\"\n",
    "```"
   ]
  },
  {
   "cell_type": "markdown",
   "metadata": {
    "slideshow": {
     "slide_type": "subslide"
    }
   },
   "source": [
    "## 問題二\n",
    "\n",
    "在聯結三個資料框的過程中總共失去多少個觀測值？\n",
    "\n",
    "```python\n",
    "def answer_two():\n",
    "    '''\n",
    "    這個函數應該回傳一個數字\n",
    "    '''\n",
    "    return \"答案\"\n",
    "```"
   ]
  },
  {
   "cell_type": "code",
   "execution_count": 1,
   "metadata": {
    "slideshow": {
     "slide_type": "subslide"
    }
   },
   "outputs": [
    {
     "data": {
      "text/html": [
       "<svg width=\"800\" height=\"300\">\n",
       "  <circle cx=\"150\" cy=\"180\" r=\"80\" fill-opacity=\"0.2\" stroke=\"black\" stroke-width=\"2\" fill=\"blue\" />\n",
       "  <circle cx=\"200\" cy=\"100\" r=\"80\" fill-opacity=\"0.2\" stroke=\"black\" stroke-width=\"2\" fill=\"red\" />\n",
       "  <circle cx=\"100\" cy=\"100\" r=\"80\" fill-opacity=\"0.2\" stroke=\"black\" stroke-width=\"2\" fill=\"green\" />\n",
       "  <line x1=\"150\" y1=\"125\" x2=\"300\" y2=\"150\" stroke=\"black\" stroke-width=\"2\" fill=\"black\" stroke-dasharray=\"5,3\"/>\n",
       "  <text  x=\"300\" y=\"165\" font-family=\"Verdana\" font-size=\"35\">除了這裡以外的所有觀測值！</text>\n",
       "</svg>"
      ],
      "text/plain": [
       "<IPython.core.display.HTML object>"
      ]
     },
     "metadata": {},
     "output_type": "display_data"
    }
   ],
   "source": [
    "%%HTML\n",
    "<svg width=\"800\" height=\"300\">\n",
    "  <circle cx=\"150\" cy=\"180\" r=\"80\" fill-opacity=\"0.2\" stroke=\"black\" stroke-width=\"2\" fill=\"blue\" />\n",
    "  <circle cx=\"200\" cy=\"100\" r=\"80\" fill-opacity=\"0.2\" stroke=\"black\" stroke-width=\"2\" fill=\"red\" />\n",
    "  <circle cx=\"100\" cy=\"100\" r=\"80\" fill-opacity=\"0.2\" stroke=\"black\" stroke-width=\"2\" fill=\"green\" />\n",
    "  <line x1=\"150\" y1=\"125\" x2=\"300\" y2=\"150\" stroke=\"black\" stroke-width=\"2\" fill=\"black\" stroke-dasharray=\"5,3\"/>\n",
    "  <text  x=\"300\" y=\"165\" font-family=\"Verdana\" font-size=\"35\">除了這裡以外的所有觀測值！</text>\n",
    "</svg>"
   ]
  },
  {
   "cell_type": "markdown",
   "metadata": {
    "slideshow": {
     "slide_type": "slide"
    }
   },
   "source": [
    "## 以下問題都以 `answer_one()` 回傳的 15 個國家資料回答"
   ]
  },
  {
   "cell_type": "code",
   "execution_count": 2,
   "metadata": {
    "collapsed": true,
    "slideshow": {
     "slide_type": "-"
    }
   },
   "outputs": [],
   "source": [
    "# 現成的 answer_one()\n",
    "\n",
    "def answer_one():\n",
    "    import pandas as pd\n",
    "\n",
    "    Top15 = pd.read_csv('https://storage.googleapis.com/py_ml_datasets/energy_indicator.csv', index_col = 0)\n",
    "    return Top15"
   ]
  },
  {
   "cell_type": "code",
   "execution_count": 3,
   "metadata": {
    "slideshow": {
     "slide_type": "subslide"
    }
   },
   "outputs": [
    {
     "data": {
      "text/html": [
       "<div>\n",
       "<style scoped>\n",
       "    .dataframe tbody tr th:only-of-type {\n",
       "        vertical-align: middle;\n",
       "    }\n",
       "\n",
       "    .dataframe tbody tr th {\n",
       "        vertical-align: top;\n",
       "    }\n",
       "\n",
       "    .dataframe thead th {\n",
       "        text-align: right;\n",
       "    }\n",
       "</style>\n",
       "<table border=\"1\" class=\"dataframe\">\n",
       "  <thead>\n",
       "    <tr style=\"text-align: right;\">\n",
       "      <th></th>\n",
       "      <th>Rank</th>\n",
       "      <th>Documents</th>\n",
       "      <th>Citable documents</th>\n",
       "      <th>Citations</th>\n",
       "      <th>Self-citations</th>\n",
       "      <th>Citations per document</th>\n",
       "      <th>H index</th>\n",
       "      <th>Energy Supply</th>\n",
       "      <th>Energy Supply per Capita</th>\n",
       "      <th>% Renewable</th>\n",
       "      <th>2006</th>\n",
       "      <th>2007</th>\n",
       "      <th>2008</th>\n",
       "      <th>2009</th>\n",
       "      <th>2010</th>\n",
       "      <th>2011</th>\n",
       "      <th>2012</th>\n",
       "      <th>2013</th>\n",
       "      <th>2014</th>\n",
       "      <th>2015</th>\n",
       "    </tr>\n",
       "    <tr>\n",
       "      <th>Country</th>\n",
       "      <th></th>\n",
       "      <th></th>\n",
       "      <th></th>\n",
       "      <th></th>\n",
       "      <th></th>\n",
       "      <th></th>\n",
       "      <th></th>\n",
       "      <th></th>\n",
       "      <th></th>\n",
       "      <th></th>\n",
       "      <th></th>\n",
       "      <th></th>\n",
       "      <th></th>\n",
       "      <th></th>\n",
       "      <th></th>\n",
       "      <th></th>\n",
       "      <th></th>\n",
       "      <th></th>\n",
       "      <th></th>\n",
       "      <th></th>\n",
       "    </tr>\n",
       "  </thead>\n",
       "  <tbody>\n",
       "    <tr>\n",
       "      <th>China</th>\n",
       "      <td>1</td>\n",
       "      <td>127050</td>\n",
       "      <td>126767</td>\n",
       "      <td>597237</td>\n",
       "      <td>411683</td>\n",
       "      <td>4.70</td>\n",
       "      <td>138</td>\n",
       "      <td>1.271910e+11</td>\n",
       "      <td>93.0</td>\n",
       "      <td>19.75491</td>\n",
       "      <td>3.992331e+12</td>\n",
       "      <td>4.559041e+12</td>\n",
       "      <td>4.997775e+12</td>\n",
       "      <td>5.459247e+12</td>\n",
       "      <td>6.039659e+12</td>\n",
       "      <td>6.612490e+12</td>\n",
       "      <td>7.124978e+12</td>\n",
       "      <td>7.672448e+12</td>\n",
       "      <td>8.230121e+12</td>\n",
       "      <td>8.797999e+12</td>\n",
       "    </tr>\n",
       "    <tr>\n",
       "      <th>United States</th>\n",
       "      <td>2</td>\n",
       "      <td>96661</td>\n",
       "      <td>94747</td>\n",
       "      <td>792274</td>\n",
       "      <td>265436</td>\n",
       "      <td>8.20</td>\n",
       "      <td>230</td>\n",
       "      <td>9.083800e+10</td>\n",
       "      <td>286.0</td>\n",
       "      <td>11.57098</td>\n",
       "      <td>1.479230e+13</td>\n",
       "      <td>1.505540e+13</td>\n",
       "      <td>1.501149e+13</td>\n",
       "      <td>1.459484e+13</td>\n",
       "      <td>1.496437e+13</td>\n",
       "      <td>1.520402e+13</td>\n",
       "      <td>1.554216e+13</td>\n",
       "      <td>1.577367e+13</td>\n",
       "      <td>1.615662e+13</td>\n",
       "      <td>1.654857e+13</td>\n",
       "    </tr>\n",
       "    <tr>\n",
       "      <th>Japan</th>\n",
       "      <td>3</td>\n",
       "      <td>30504</td>\n",
       "      <td>30287</td>\n",
       "      <td>223024</td>\n",
       "      <td>61554</td>\n",
       "      <td>7.31</td>\n",
       "      <td>134</td>\n",
       "      <td>1.898400e+10</td>\n",
       "      <td>149.0</td>\n",
       "      <td>10.23282</td>\n",
       "      <td>5.496542e+12</td>\n",
       "      <td>5.617036e+12</td>\n",
       "      <td>5.558527e+12</td>\n",
       "      <td>5.251308e+12</td>\n",
       "      <td>5.498718e+12</td>\n",
       "      <td>5.473738e+12</td>\n",
       "      <td>5.569102e+12</td>\n",
       "      <td>5.644659e+12</td>\n",
       "      <td>5.642884e+12</td>\n",
       "      <td>5.669563e+12</td>\n",
       "    </tr>\n",
       "    <tr>\n",
       "      <th>United Kingdom</th>\n",
       "      <td>4</td>\n",
       "      <td>20944</td>\n",
       "      <td>20357</td>\n",
       "      <td>206091</td>\n",
       "      <td>37874</td>\n",
       "      <td>9.84</td>\n",
       "      <td>139</td>\n",
       "      <td>7.920000e+09</td>\n",
       "      <td>124.0</td>\n",
       "      <td>10.60047</td>\n",
       "      <td>2.419631e+12</td>\n",
       "      <td>2.482203e+12</td>\n",
       "      <td>2.470614e+12</td>\n",
       "      <td>2.367048e+12</td>\n",
       "      <td>2.403504e+12</td>\n",
       "      <td>2.450911e+12</td>\n",
       "      <td>2.479809e+12</td>\n",
       "      <td>2.533370e+12</td>\n",
       "      <td>2.605643e+12</td>\n",
       "      <td>2.666333e+12</td>\n",
       "    </tr>\n",
       "    <tr>\n",
       "      <th>Russian Federation</th>\n",
       "      <td>5</td>\n",
       "      <td>18534</td>\n",
       "      <td>18301</td>\n",
       "      <td>34266</td>\n",
       "      <td>12422</td>\n",
       "      <td>1.85</td>\n",
       "      <td>57</td>\n",
       "      <td>3.070900e+10</td>\n",
       "      <td>214.0</td>\n",
       "      <td>17.28868</td>\n",
       "      <td>1.385793e+12</td>\n",
       "      <td>1.504071e+12</td>\n",
       "      <td>1.583004e+12</td>\n",
       "      <td>1.459199e+12</td>\n",
       "      <td>1.524917e+12</td>\n",
       "      <td>1.589943e+12</td>\n",
       "      <td>1.645876e+12</td>\n",
       "      <td>1.666934e+12</td>\n",
       "      <td>1.678709e+12</td>\n",
       "      <td>1.616149e+12</td>\n",
       "    </tr>\n",
       "  </tbody>\n",
       "</table>\n",
       "</div>"
      ],
      "text/plain": [
       "                    Rank  Documents  Citable documents  Citations  \\\n",
       "Country                                                             \n",
       "China                  1     127050             126767     597237   \n",
       "United States          2      96661              94747     792274   \n",
       "Japan                  3      30504              30287     223024   \n",
       "United Kingdom         4      20944              20357     206091   \n",
       "Russian Federation     5      18534              18301      34266   \n",
       "\n",
       "                    Self-citations  Citations per document  H index  \\\n",
       "Country                                                               \n",
       "China                       411683                    4.70      138   \n",
       "United States               265436                    8.20      230   \n",
       "Japan                        61554                    7.31      134   \n",
       "United Kingdom               37874                    9.84      139   \n",
       "Russian Federation           12422                    1.85       57   \n",
       "\n",
       "                    Energy Supply  Energy Supply per Capita  % Renewable  \\\n",
       "Country                                                                    \n",
       "China                1.271910e+11                      93.0     19.75491   \n",
       "United States        9.083800e+10                     286.0     11.57098   \n",
       "Japan                1.898400e+10                     149.0     10.23282   \n",
       "United Kingdom       7.920000e+09                     124.0     10.60047   \n",
       "Russian Federation   3.070900e+10                     214.0     17.28868   \n",
       "\n",
       "                            2006          2007          2008          2009  \\\n",
       "Country                                                                      \n",
       "China               3.992331e+12  4.559041e+12  4.997775e+12  5.459247e+12   \n",
       "United States       1.479230e+13  1.505540e+13  1.501149e+13  1.459484e+13   \n",
       "Japan               5.496542e+12  5.617036e+12  5.558527e+12  5.251308e+12   \n",
       "United Kingdom      2.419631e+12  2.482203e+12  2.470614e+12  2.367048e+12   \n",
       "Russian Federation  1.385793e+12  1.504071e+12  1.583004e+12  1.459199e+12   \n",
       "\n",
       "                            2010          2011          2012          2013  \\\n",
       "Country                                                                      \n",
       "China               6.039659e+12  6.612490e+12  7.124978e+12  7.672448e+12   \n",
       "United States       1.496437e+13  1.520402e+13  1.554216e+13  1.577367e+13   \n",
       "Japan               5.498718e+12  5.473738e+12  5.569102e+12  5.644659e+12   \n",
       "United Kingdom      2.403504e+12  2.450911e+12  2.479809e+12  2.533370e+12   \n",
       "Russian Federation  1.524917e+12  1.589943e+12  1.645876e+12  1.666934e+12   \n",
       "\n",
       "                            2014          2015  \n",
       "Country                                         \n",
       "China               8.230121e+12  8.797999e+12  \n",
       "United States       1.615662e+13  1.654857e+13  \n",
       "Japan               5.642884e+12  5.669563e+12  \n",
       "United Kingdom      2.605643e+12  2.666333e+12  \n",
       "Russian Federation  1.678709e+12  1.616149e+12  "
      ]
     },
     "execution_count": 3,
     "metadata": {},
     "output_type": "execute_result"
    }
   ],
   "source": [
    "answer_one().head()"
   ]
  },
  {
   "cell_type": "markdown",
   "metadata": {
    "slideshow": {
     "slide_type": "subslide"
    }
   },
   "source": [
    "## 問題三\n",
    "\n",
    "2006 至 2015 年各國的平均 GDP 為何？\n",
    "\n",
    "```python\n",
    "def answer_three():\n",
    "    '''\n",
    "    這個函數應該回傳一個有 15 個國家的 Series 取名為 avgGDP\n",
    "    並以平均 GDP 遞減排序\n",
    "    '''\n",
    "    Top15 = answer_one()\n",
    "    return \"答案\"\n",
    "```"
   ]
  },
  {
   "cell_type": "markdown",
   "metadata": {
    "slideshow": {
     "slide_type": "subslide"
    }
   },
   "source": [
    "## 問題四\n",
    "\n",
    "接續問題三，平均 GDP 排名第六的國家在 2015 年的 GDP 與 2006 年的 GDP 相差多少？\n",
    "\n",
    "```python\n",
    "def answer_four():\n",
    "    '''\n",
    "    這個函數應該回傳一個數字\n",
    "    '''\n",
    "    Top15 = answer_one()\n",
    "    avgGDP = answer_three()\n",
    "    return \"答案\"\n",
    "```"
   ]
  },
  {
   "cell_type": "markdown",
   "metadata": {
    "slideshow": {
     "slide_type": "subslide"
    }
   },
   "source": [
    "## 問題五\n",
    "\n",
    "平均 `Energy Supply per Capita` 為何？\n",
    "\n",
    "```python\n",
    "def answer_five():\n",
    "    '''\n",
    "    這個函數應該回傳一個數字\n",
    "    '''\n",
    "    Top15 = answer_one()\n",
    "    return \"答案\"\n",
    "```"
   ]
  },
  {
   "cell_type": "markdown",
   "metadata": {
    "slideshow": {
     "slide_type": "subslide"
    }
   },
   "source": [
    "## 問題六\n",
    "\n",
    "哪個國家的 `% Renewable` 最高？比例為何？\n",
    "\n",
    "```python\n",
    "def answer_six():\n",
    "    '''\n",
    "    這個函數應該回傳一個 tuple 其中包含國家名稱與比例\n",
    "    '''\n",
    "    Top15 = answer_one()\n",
    "    return \"答案\"\n",
    "```"
   ]
  },
  {
   "cell_type": "markdown",
   "metadata": {
    "slideshow": {
     "slide_type": "subslide"
    }
   },
   "source": [
    "## 問題七\n",
    "\n",
    "建立一個新變數計算 `Self-Citations` 除以 `Total Citations` 的比例，哪個國家最高？該比例為何？\n",
    "\n",
    "```python\n",
    "def answer_seven():\n",
    "    '''\n",
    "    這個函數應該回傳一個 tuple 其中包含國家名稱與比率\n",
    "    '''\n",
    "    Top15 = answer_one()\n",
    "    return \"答案\"\n",
    "```"
   ]
  },
  {
   "cell_type": "markdown",
   "metadata": {
    "slideshow": {
     "slide_type": "subslide"
    }
   },
   "source": [
    "## 問題八\n",
    "\n",
    "建立一個新變數利用 `Energy Supply` 與 `Energy Supply per capita` 來估算國家人口數，並回傳人口數第三多的國家。\n",
    "\n",
    "```python\n",
    "def answer_eight():\n",
    "    '''\n",
    "    這個函數應該回傳一個文字：國家名稱\n",
    "    '''\n",
    "    Top15 = answer_one()\n",
    "    return \"答案\"\n",
    "```"
   ]
  },
  {
   "cell_type": "markdown",
   "metadata": {
    "slideshow": {
     "slide_type": "subslide"
    }
   },
   "source": [
    "## 問題九\n",
    "\n",
    "建立一個新變數估算每人引用期刊文章數 `citable documents per capita`，並計算該變數與 `energy supply per capita` 的相關係數（使用 `.corr()` 方法。）\n",
    "\n",
    "```python\n",
    "def answer_nine():\n",
    "    '''\n",
    "    這個函數應該回傳一個數值\n",
    "    '''\n",
    "    Top15 = answer_one()\n",
    "    return \"答案\"\n",
    "```"
   ]
  },
  {
   "cell_type": "markdown",
   "metadata": {
    "slideshow": {
     "slide_type": "subslide"
    }
   },
   "source": [
    "## 問題十\n",
    "\n",
    "建立一個新變數，假如國家的 `% Renewable` 大於等於中位數則為 1，未滿中位數則為 0，將數值為 1 的觀測值選出。\n",
    "\n",
    "```python\n",
    "def answer_ten():\n",
    "    '''\n",
    "    這個函數應該回傳一個 Series 稱為 HighRenew，索引值為國家名稱，並依照 `% Renewable` 排序\n",
    "    '''\n",
    "    Top15 = answer_one()\n",
    "    return \"答案\"\n",
    "```"
   ]
  },
  {
   "cell_type": "markdown",
   "metadata": {
    "slideshow": {
     "slide_type": "subslide"
    }
   },
   "source": [
    "## 問題十一\n",
    "\n",
    "運用以下的 dict 將國家依照洲別分組，接著建立新的 DataFrame 計算各洲的國家數、人口總數、人口平均數與人口標準差。\n",
    "\n",
    "```python\n",
    "def answer_eleven():\n",
    "    '''\n",
    "    這個函數應該回傳一個 DataFrame\n",
    "    索引值為 ['Asia', 'Australia', 'Europe', 'North America', 'South America']\n",
    "    變數名稱為 ['size', 'sum', 'mean', 'std']\n",
    "    '''\n",
    "    Top15 = answer_one()\n",
    "    return \"答案\"\n",
    "```"
   ]
  },
  {
   "cell_type": "code",
   "execution_count": 4,
   "metadata": {
    "collapsed": true
   },
   "outputs": [],
   "source": [
    "ContinentDict  = {'China':'Asia', \n",
    "                  'United States':'North America', \n",
    "                  'Japan':'Asia', \n",
    "                  'United Kingdom':'Europe', \n",
    "                  'Russian Federation':'Europe', \n",
    "                  'Canada':'North America', \n",
    "                  'Germany':'Europe', \n",
    "                  'India':'Asia',\n",
    "                  'France':'Europe', \n",
    "                  'South Korea':'Asia', \n",
    "                  'Italy':'Europe', \n",
    "                  'Spain':'Europe', \n",
    "                  'Iran':'Asia',\n",
    "                  'Australia':'Australia', \n",
    "                  'Brazil':'South America'}"
   ]
  },
  {
   "cell_type": "markdown",
   "metadata": {
    "slideshow": {
     "slide_type": "subslide"
    }
   },
   "source": [
    "## 問題十二\n",
    "\n",
    "將 `% Renewable` 均勻分為五組（`.cut()` 方法），同時利用這個組別與洲別建立一個 multi-index 的資料框，計算各組中有多少個國家，不需列出無國家的組別。\n",
    "\n",
    "```python\n",
    "def answer_twelve():\n",
    "    '''\n",
    "    這個函數應該回傳一個 Series 包含兩組索引值：洲別與再生能源比率\n",
    "    '''\n",
    "    Top15 = answer_one()\n",
    "    return \"答案\"\n",
    "```"
   ]
  },
  {
   "cell_type": "markdown",
   "metadata": {
    "slideshow": {
     "slide_type": "subslide"
    }
   },
   "source": [
    "## 問題十三\n",
    "\n",
    "將人口估算變數改為字串，並且利用逗號分隔千分位數。\n",
    "\n",
    "e.g. 317615384.61538464 -> 317,615,384.61538464\n",
    "\n",
    "```python\n",
    "def get_comma_format(x):\n",
    "    '''\n",
    "    將數字轉換為千分位格式的文字\n",
    "    '''\n",
    "    return '{:,}'.format(x)\n",
    "\n",
    "def answer_thirteen():\n",
    "    '''\n",
    "    這個函數應該回傳一個 Series PopEst，索引值為國家名稱\n",
    "    '''\n",
    "    Top15 = answer_one()\n",
    "    return \"答案\"\n",
    "```"
   ]
  },
  {
   "cell_type": "markdown",
   "metadata": {
    "slideshow": {
     "slide_type": "slide"
    }
   },
   "source": [
    "## 參考解答"
   ]
  },
  {
   "cell_type": "code",
   "execution_count": 3,
   "metadata": {
    "collapsed": true,
    "slideshow": {
     "slide_type": "subslide"
    }
   },
   "outputs": [],
   "source": [
    "def answer_one():\n",
    "    import pandas as pd\n",
    "    \n",
    "    # get energy\n",
    "    energy = pd.read_excel('https://storage.googleapis.com/py_ml_datasets/Energy%20Indicators.xls', header = None, skip_footer = 38, skiprows = 18, na_values = '...')\n",
    "    energy = energy.iloc[:, range(2, 6)]\n",
    "    energy.columns = ['Country', 'Energy Supply', 'Energy Supply per Capita', '% Renewable']\n",
    "    energy['Energy Supply'] = energy['Energy Supply'] * 1000000\n",
    "    sk_idx = energy[energy['Country'] == 'Republic of Korea'].index\n",
    "    us_idx = energy[energy['Country'] == 'United States of America20'].index\n",
    "    uk_idx = energy[energy['Country'] == 'United Kingdom of Great Britain and Northern Ireland19'].index\n",
    "    hk_idx = energy[energy['Country'] == 'China, Hong Kong Special Administrative Region3'].index\n",
    "    energy.at[sk_idx, 'Country'] = 'South Korea'\n",
    "    energy.at[us_idx, 'Country'] = 'United States'\n",
    "    energy.at[uk_idx, 'Country'] = 'United Kingdom'\n",
    "    energy.at[hk_idx, 'Country'] = 'Hong Kong'\n",
    "    energy['Country'] = energy['Country'].str.replace('[0-9]+$', '')\n",
    "    energy['Country'] = energy['Country'].str.replace('\\s\\(.+\\)$', '')\n",
    "    energy = energy.set_index('Country') # energy done!\n",
    "    \n",
    "    # get GDP\n",
    "    GDP = pd.read_csv('https://storage.googleapis.com/py_ml_datasets/world_bank.csv', skiprows = 4)\n",
    "    sk_idx = GDP[GDP['Country Name'] == 'Korea, Rep.'].index\n",
    "    ir_idx = GDP[GDP['Country Name'] == 'Iran, Islamic Rep.'].index\n",
    "    hk_idx = GDP[GDP['Country Name'] == 'Hong Kong SAR, China'].index\n",
    "    GDP.at[sk_idx, 'Country Name'] = 'South Korea'\n",
    "    GDP.at[ir_idx, 'Country Name'] = 'Iran'\n",
    "    GDP.at[hk_idx, 'Country Name'] = 'Hong Kong'\n",
    "    GDP = GDP.set_index('Country Name') # GDP done!\n",
    "    \n",
    "    # get ScimEn\n",
    "    ScimEn = pd.read_excel('https://storage.googleapis.com/py_ml_datasets/scimagojr-3.xlsx') # ScimEn done!\n",
    "    \n",
    "    # get merged_df\n",
    "    ScimEn_top_15 = ScimEn.iloc[:15, :]\n",
    "    ScimEn_top_15 = ScimEn_top_15.set_index('Country')\n",
    "    GDP_2006_2015 = GDP.loc[:, '2006':'2015']\n",
    "    merged_df = ScimEn_top_15.join(energy)\n",
    "    merged_df = merged_df.join(GDP_2006_2015)\n",
    "    return merged_df"
   ]
  },
  {
   "cell_type": "code",
   "execution_count": 6,
   "metadata": {
    "slideshow": {
     "slide_type": "subslide"
    }
   },
   "outputs": [
    {
     "data": {
      "text/html": [
       "<div>\n",
       "<style scoped>\n",
       "    .dataframe tbody tr th:only-of-type {\n",
       "        vertical-align: middle;\n",
       "    }\n",
       "\n",
       "    .dataframe tbody tr th {\n",
       "        vertical-align: top;\n",
       "    }\n",
       "\n",
       "    .dataframe thead th {\n",
       "        text-align: right;\n",
       "    }\n",
       "</style>\n",
       "<table border=\"1\" class=\"dataframe\">\n",
       "  <thead>\n",
       "    <tr style=\"text-align: right;\">\n",
       "      <th></th>\n",
       "      <th>Rank</th>\n",
       "      <th>Documents</th>\n",
       "      <th>Citable documents</th>\n",
       "      <th>Citations</th>\n",
       "      <th>Self-citations</th>\n",
       "      <th>Citations per document</th>\n",
       "      <th>H index</th>\n",
       "      <th>Energy Supply</th>\n",
       "      <th>Energy Supply per Capita</th>\n",
       "      <th>% Renewable</th>\n",
       "      <th>2006</th>\n",
       "      <th>2007</th>\n",
       "      <th>2008</th>\n",
       "      <th>2009</th>\n",
       "      <th>2010</th>\n",
       "      <th>2011</th>\n",
       "      <th>2012</th>\n",
       "      <th>2013</th>\n",
       "      <th>2014</th>\n",
       "      <th>2015</th>\n",
       "    </tr>\n",
       "    <tr>\n",
       "      <th>Country</th>\n",
       "      <th></th>\n",
       "      <th></th>\n",
       "      <th></th>\n",
       "      <th></th>\n",
       "      <th></th>\n",
       "      <th></th>\n",
       "      <th></th>\n",
       "      <th></th>\n",
       "      <th></th>\n",
       "      <th></th>\n",
       "      <th></th>\n",
       "      <th></th>\n",
       "      <th></th>\n",
       "      <th></th>\n",
       "      <th></th>\n",
       "      <th></th>\n",
       "      <th></th>\n",
       "      <th></th>\n",
       "      <th></th>\n",
       "      <th></th>\n",
       "    </tr>\n",
       "  </thead>\n",
       "  <tbody>\n",
       "    <tr>\n",
       "      <th>China</th>\n",
       "      <td>1</td>\n",
       "      <td>127050</td>\n",
       "      <td>126767</td>\n",
       "      <td>597237</td>\n",
       "      <td>411683</td>\n",
       "      <td>4.70</td>\n",
       "      <td>138</td>\n",
       "      <td>1.271910e+11</td>\n",
       "      <td>93.0</td>\n",
       "      <td>19.754910</td>\n",
       "      <td>3.992331e+12</td>\n",
       "      <td>4.559041e+12</td>\n",
       "      <td>4.997775e+12</td>\n",
       "      <td>5.459247e+12</td>\n",
       "      <td>6.039659e+12</td>\n",
       "      <td>6.612490e+12</td>\n",
       "      <td>7.124978e+12</td>\n",
       "      <td>7.672448e+12</td>\n",
       "      <td>8.230121e+12</td>\n",
       "      <td>8.797999e+12</td>\n",
       "    </tr>\n",
       "    <tr>\n",
       "      <th>United States</th>\n",
       "      <td>2</td>\n",
       "      <td>96661</td>\n",
       "      <td>94747</td>\n",
       "      <td>792274</td>\n",
       "      <td>265436</td>\n",
       "      <td>8.20</td>\n",
       "      <td>230</td>\n",
       "      <td>9.083800e+10</td>\n",
       "      <td>286.0</td>\n",
       "      <td>11.570980</td>\n",
       "      <td>1.479230e+13</td>\n",
       "      <td>1.505540e+13</td>\n",
       "      <td>1.501149e+13</td>\n",
       "      <td>1.459484e+13</td>\n",
       "      <td>1.496437e+13</td>\n",
       "      <td>1.520402e+13</td>\n",
       "      <td>1.554216e+13</td>\n",
       "      <td>1.577367e+13</td>\n",
       "      <td>1.615662e+13</td>\n",
       "      <td>1.654857e+13</td>\n",
       "    </tr>\n",
       "    <tr>\n",
       "      <th>Japan</th>\n",
       "      <td>3</td>\n",
       "      <td>30504</td>\n",
       "      <td>30287</td>\n",
       "      <td>223024</td>\n",
       "      <td>61554</td>\n",
       "      <td>7.31</td>\n",
       "      <td>134</td>\n",
       "      <td>1.898400e+10</td>\n",
       "      <td>149.0</td>\n",
       "      <td>10.232820</td>\n",
       "      <td>5.496542e+12</td>\n",
       "      <td>5.617036e+12</td>\n",
       "      <td>5.558527e+12</td>\n",
       "      <td>5.251308e+12</td>\n",
       "      <td>5.498718e+12</td>\n",
       "      <td>5.473738e+12</td>\n",
       "      <td>5.569102e+12</td>\n",
       "      <td>5.644659e+12</td>\n",
       "      <td>5.642884e+12</td>\n",
       "      <td>5.669563e+12</td>\n",
       "    </tr>\n",
       "    <tr>\n",
       "      <th>United Kingdom</th>\n",
       "      <td>4</td>\n",
       "      <td>20944</td>\n",
       "      <td>20357</td>\n",
       "      <td>206091</td>\n",
       "      <td>37874</td>\n",
       "      <td>9.84</td>\n",
       "      <td>139</td>\n",
       "      <td>7.920000e+09</td>\n",
       "      <td>124.0</td>\n",
       "      <td>10.600470</td>\n",
       "      <td>2.419631e+12</td>\n",
       "      <td>2.482203e+12</td>\n",
       "      <td>2.470614e+12</td>\n",
       "      <td>2.367048e+12</td>\n",
       "      <td>2.403504e+12</td>\n",
       "      <td>2.450911e+12</td>\n",
       "      <td>2.479809e+12</td>\n",
       "      <td>2.533370e+12</td>\n",
       "      <td>2.605643e+12</td>\n",
       "      <td>2.666333e+12</td>\n",
       "    </tr>\n",
       "    <tr>\n",
       "      <th>Russian Federation</th>\n",
       "      <td>5</td>\n",
       "      <td>18534</td>\n",
       "      <td>18301</td>\n",
       "      <td>34266</td>\n",
       "      <td>12422</td>\n",
       "      <td>1.85</td>\n",
       "      <td>57</td>\n",
       "      <td>3.070900e+10</td>\n",
       "      <td>214.0</td>\n",
       "      <td>17.288680</td>\n",
       "      <td>1.385793e+12</td>\n",
       "      <td>1.504071e+12</td>\n",
       "      <td>1.583004e+12</td>\n",
       "      <td>1.459199e+12</td>\n",
       "      <td>1.524917e+12</td>\n",
       "      <td>1.589943e+12</td>\n",
       "      <td>1.645876e+12</td>\n",
       "      <td>1.666934e+12</td>\n",
       "      <td>1.678709e+12</td>\n",
       "      <td>1.616149e+12</td>\n",
       "    </tr>\n",
       "    <tr>\n",
       "      <th>Canada</th>\n",
       "      <td>6</td>\n",
       "      <td>17899</td>\n",
       "      <td>17620</td>\n",
       "      <td>215003</td>\n",
       "      <td>40930</td>\n",
       "      <td>12.01</td>\n",
       "      <td>149</td>\n",
       "      <td>1.043100e+10</td>\n",
       "      <td>296.0</td>\n",
       "      <td>61.945430</td>\n",
       "      <td>1.564469e+12</td>\n",
       "      <td>1.596740e+12</td>\n",
       "      <td>1.612713e+12</td>\n",
       "      <td>1.565145e+12</td>\n",
       "      <td>1.613406e+12</td>\n",
       "      <td>1.664087e+12</td>\n",
       "      <td>1.693133e+12</td>\n",
       "      <td>1.730688e+12</td>\n",
       "      <td>1.773486e+12</td>\n",
       "      <td>1.792609e+12</td>\n",
       "    </tr>\n",
       "    <tr>\n",
       "      <th>Germany</th>\n",
       "      <td>7</td>\n",
       "      <td>17027</td>\n",
       "      <td>16831</td>\n",
       "      <td>140566</td>\n",
       "      <td>27426</td>\n",
       "      <td>8.26</td>\n",
       "      <td>126</td>\n",
       "      <td>1.326100e+10</td>\n",
       "      <td>165.0</td>\n",
       "      <td>17.901530</td>\n",
       "      <td>3.332891e+12</td>\n",
       "      <td>3.441561e+12</td>\n",
       "      <td>3.478809e+12</td>\n",
       "      <td>3.283340e+12</td>\n",
       "      <td>3.417298e+12</td>\n",
       "      <td>3.542371e+12</td>\n",
       "      <td>3.556724e+12</td>\n",
       "      <td>3.567317e+12</td>\n",
       "      <td>3.624386e+12</td>\n",
       "      <td>3.685556e+12</td>\n",
       "    </tr>\n",
       "    <tr>\n",
       "      <th>India</th>\n",
       "      <td>8</td>\n",
       "      <td>15005</td>\n",
       "      <td>14841</td>\n",
       "      <td>128763</td>\n",
       "      <td>37209</td>\n",
       "      <td>8.58</td>\n",
       "      <td>115</td>\n",
       "      <td>3.319500e+10</td>\n",
       "      <td>26.0</td>\n",
       "      <td>14.969080</td>\n",
       "      <td>1.265894e+12</td>\n",
       "      <td>1.374865e+12</td>\n",
       "      <td>1.428361e+12</td>\n",
       "      <td>1.549483e+12</td>\n",
       "      <td>1.708459e+12</td>\n",
       "      <td>1.821872e+12</td>\n",
       "      <td>1.924235e+12</td>\n",
       "      <td>2.051982e+12</td>\n",
       "      <td>2.200617e+12</td>\n",
       "      <td>2.367206e+12</td>\n",
       "    </tr>\n",
       "    <tr>\n",
       "      <th>France</th>\n",
       "      <td>9</td>\n",
       "      <td>13153</td>\n",
       "      <td>12973</td>\n",
       "      <td>130632</td>\n",
       "      <td>28601</td>\n",
       "      <td>9.93</td>\n",
       "      <td>114</td>\n",
       "      <td>1.059700e+10</td>\n",
       "      <td>166.0</td>\n",
       "      <td>17.020280</td>\n",
       "      <td>2.607840e+12</td>\n",
       "      <td>2.669424e+12</td>\n",
       "      <td>2.674637e+12</td>\n",
       "      <td>2.595967e+12</td>\n",
       "      <td>2.646995e+12</td>\n",
       "      <td>2.702032e+12</td>\n",
       "      <td>2.706968e+12</td>\n",
       "      <td>2.722567e+12</td>\n",
       "      <td>2.729632e+12</td>\n",
       "      <td>2.761185e+12</td>\n",
       "    </tr>\n",
       "    <tr>\n",
       "      <th>South Korea</th>\n",
       "      <td>10</td>\n",
       "      <td>11983</td>\n",
       "      <td>11923</td>\n",
       "      <td>114675</td>\n",
       "      <td>22595</td>\n",
       "      <td>9.57</td>\n",
       "      <td>104</td>\n",
       "      <td>1.100700e+10</td>\n",
       "      <td>221.0</td>\n",
       "      <td>2.279353</td>\n",
       "      <td>9.410199e+11</td>\n",
       "      <td>9.924316e+11</td>\n",
       "      <td>1.020510e+12</td>\n",
       "      <td>1.027730e+12</td>\n",
       "      <td>1.094499e+12</td>\n",
       "      <td>1.134796e+12</td>\n",
       "      <td>1.160809e+12</td>\n",
       "      <td>1.194429e+12</td>\n",
       "      <td>1.234340e+12</td>\n",
       "      <td>1.266580e+12</td>\n",
       "    </tr>\n",
       "    <tr>\n",
       "      <th>Italy</th>\n",
       "      <td>11</td>\n",
       "      <td>10964</td>\n",
       "      <td>10794</td>\n",
       "      <td>111850</td>\n",
       "      <td>26661</td>\n",
       "      <td>10.20</td>\n",
       "      <td>106</td>\n",
       "      <td>6.530000e+09</td>\n",
       "      <td>109.0</td>\n",
       "      <td>33.667230</td>\n",
       "      <td>2.202170e+12</td>\n",
       "      <td>2.234627e+12</td>\n",
       "      <td>2.211154e+12</td>\n",
       "      <td>2.089938e+12</td>\n",
       "      <td>2.125185e+12</td>\n",
       "      <td>2.137439e+12</td>\n",
       "      <td>2.077184e+12</td>\n",
       "      <td>2.040871e+12</td>\n",
       "      <td>2.033868e+12</td>\n",
       "      <td>2.049316e+12</td>\n",
       "    </tr>\n",
       "    <tr>\n",
       "      <th>Spain</th>\n",
       "      <td>12</td>\n",
       "      <td>9428</td>\n",
       "      <td>9330</td>\n",
       "      <td>123336</td>\n",
       "      <td>23964</td>\n",
       "      <td>13.08</td>\n",
       "      <td>115</td>\n",
       "      <td>4.923000e+09</td>\n",
       "      <td>106.0</td>\n",
       "      <td>37.968590</td>\n",
       "      <td>1.414823e+12</td>\n",
       "      <td>1.468146e+12</td>\n",
       "      <td>1.484530e+12</td>\n",
       "      <td>1.431475e+12</td>\n",
       "      <td>1.431673e+12</td>\n",
       "      <td>1.417355e+12</td>\n",
       "      <td>1.380216e+12</td>\n",
       "      <td>1.357139e+12</td>\n",
       "      <td>1.375605e+12</td>\n",
       "      <td>1.419821e+12</td>\n",
       "    </tr>\n",
       "    <tr>\n",
       "      <th>Iran</th>\n",
       "      <td>13</td>\n",
       "      <td>8896</td>\n",
       "      <td>8819</td>\n",
       "      <td>57470</td>\n",
       "      <td>19125</td>\n",
       "      <td>6.46</td>\n",
       "      <td>72</td>\n",
       "      <td>9.172000e+09</td>\n",
       "      <td>119.0</td>\n",
       "      <td>5.707721</td>\n",
       "      <td>3.895523e+11</td>\n",
       "      <td>4.250646e+11</td>\n",
       "      <td>4.289909e+11</td>\n",
       "      <td>4.389208e+11</td>\n",
       "      <td>4.677902e+11</td>\n",
       "      <td>4.853309e+11</td>\n",
       "      <td>4.532569e+11</td>\n",
       "      <td>4.445926e+11</td>\n",
       "      <td>4.639027e+11</td>\n",
       "      <td>NaN</td>\n",
       "    </tr>\n",
       "    <tr>\n",
       "      <th>Australia</th>\n",
       "      <td>14</td>\n",
       "      <td>8831</td>\n",
       "      <td>8725</td>\n",
       "      <td>90765</td>\n",
       "      <td>15606</td>\n",
       "      <td>10.28</td>\n",
       "      <td>107</td>\n",
       "      <td>5.386000e+09</td>\n",
       "      <td>231.0</td>\n",
       "      <td>11.810810</td>\n",
       "      <td>1.021939e+12</td>\n",
       "      <td>1.060340e+12</td>\n",
       "      <td>1.099644e+12</td>\n",
       "      <td>1.119654e+12</td>\n",
       "      <td>1.142251e+12</td>\n",
       "      <td>1.169431e+12</td>\n",
       "      <td>1.211913e+12</td>\n",
       "      <td>1.241484e+12</td>\n",
       "      <td>1.272520e+12</td>\n",
       "      <td>1.301251e+12</td>\n",
       "    </tr>\n",
       "    <tr>\n",
       "      <th>Brazil</th>\n",
       "      <td>15</td>\n",
       "      <td>8668</td>\n",
       "      <td>8596</td>\n",
       "      <td>60702</td>\n",
       "      <td>14396</td>\n",
       "      <td>7.00</td>\n",
       "      <td>86</td>\n",
       "      <td>1.214900e+10</td>\n",
       "      <td>59.0</td>\n",
       "      <td>69.648030</td>\n",
       "      <td>1.845080e+12</td>\n",
       "      <td>1.957118e+12</td>\n",
       "      <td>2.056809e+12</td>\n",
       "      <td>2.054215e+12</td>\n",
       "      <td>2.208872e+12</td>\n",
       "      <td>2.295245e+12</td>\n",
       "      <td>2.339209e+12</td>\n",
       "      <td>2.409740e+12</td>\n",
       "      <td>2.412231e+12</td>\n",
       "      <td>2.319423e+12</td>\n",
       "    </tr>\n",
       "  </tbody>\n",
       "</table>\n",
       "</div>"
      ],
      "text/plain": [
       "                    Rank  Documents  Citable documents  Citations  \\\n",
       "Country                                                             \n",
       "China                  1     127050             126767     597237   \n",
       "United States          2      96661              94747     792274   \n",
       "Japan                  3      30504              30287     223024   \n",
       "United Kingdom         4      20944              20357     206091   \n",
       "Russian Federation     5      18534              18301      34266   \n",
       "Canada                 6      17899              17620     215003   \n",
       "Germany                7      17027              16831     140566   \n",
       "India                  8      15005              14841     128763   \n",
       "France                 9      13153              12973     130632   \n",
       "South Korea           10      11983              11923     114675   \n",
       "Italy                 11      10964              10794     111850   \n",
       "Spain                 12       9428               9330     123336   \n",
       "Iran                  13       8896               8819      57470   \n",
       "Australia             14       8831               8725      90765   \n",
       "Brazil                15       8668               8596      60702   \n",
       "\n",
       "                    Self-citations  Citations per document  H index  \\\n",
       "Country                                                               \n",
       "China                       411683                    4.70      138   \n",
       "United States               265436                    8.20      230   \n",
       "Japan                        61554                    7.31      134   \n",
       "United Kingdom               37874                    9.84      139   \n",
       "Russian Federation           12422                    1.85       57   \n",
       "Canada                       40930                   12.01      149   \n",
       "Germany                      27426                    8.26      126   \n",
       "India                        37209                    8.58      115   \n",
       "France                       28601                    9.93      114   \n",
       "South Korea                  22595                    9.57      104   \n",
       "Italy                        26661                   10.20      106   \n",
       "Spain                        23964                   13.08      115   \n",
       "Iran                         19125                    6.46       72   \n",
       "Australia                    15606                   10.28      107   \n",
       "Brazil                       14396                    7.00       86   \n",
       "\n",
       "                    Energy Supply  Energy Supply per Capita  % Renewable  \\\n",
       "Country                                                                    \n",
       "China                1.271910e+11                      93.0    19.754910   \n",
       "United States        9.083800e+10                     286.0    11.570980   \n",
       "Japan                1.898400e+10                     149.0    10.232820   \n",
       "United Kingdom       7.920000e+09                     124.0    10.600470   \n",
       "Russian Federation   3.070900e+10                     214.0    17.288680   \n",
       "Canada               1.043100e+10                     296.0    61.945430   \n",
       "Germany              1.326100e+10                     165.0    17.901530   \n",
       "India                3.319500e+10                      26.0    14.969080   \n",
       "France               1.059700e+10                     166.0    17.020280   \n",
       "South Korea          1.100700e+10                     221.0     2.279353   \n",
       "Italy                6.530000e+09                     109.0    33.667230   \n",
       "Spain                4.923000e+09                     106.0    37.968590   \n",
       "Iran                 9.172000e+09                     119.0     5.707721   \n",
       "Australia            5.386000e+09                     231.0    11.810810   \n",
       "Brazil               1.214900e+10                      59.0    69.648030   \n",
       "\n",
       "                            2006          2007          2008          2009  \\\n",
       "Country                                                                      \n",
       "China               3.992331e+12  4.559041e+12  4.997775e+12  5.459247e+12   \n",
       "United States       1.479230e+13  1.505540e+13  1.501149e+13  1.459484e+13   \n",
       "Japan               5.496542e+12  5.617036e+12  5.558527e+12  5.251308e+12   \n",
       "United Kingdom      2.419631e+12  2.482203e+12  2.470614e+12  2.367048e+12   \n",
       "Russian Federation  1.385793e+12  1.504071e+12  1.583004e+12  1.459199e+12   \n",
       "Canada              1.564469e+12  1.596740e+12  1.612713e+12  1.565145e+12   \n",
       "Germany             3.332891e+12  3.441561e+12  3.478809e+12  3.283340e+12   \n",
       "India               1.265894e+12  1.374865e+12  1.428361e+12  1.549483e+12   \n",
       "France              2.607840e+12  2.669424e+12  2.674637e+12  2.595967e+12   \n",
       "South Korea         9.410199e+11  9.924316e+11  1.020510e+12  1.027730e+12   \n",
       "Italy               2.202170e+12  2.234627e+12  2.211154e+12  2.089938e+12   \n",
       "Spain               1.414823e+12  1.468146e+12  1.484530e+12  1.431475e+12   \n",
       "Iran                3.895523e+11  4.250646e+11  4.289909e+11  4.389208e+11   \n",
       "Australia           1.021939e+12  1.060340e+12  1.099644e+12  1.119654e+12   \n",
       "Brazil              1.845080e+12  1.957118e+12  2.056809e+12  2.054215e+12   \n",
       "\n",
       "                            2010          2011          2012          2013  \\\n",
       "Country                                                                      \n",
       "China               6.039659e+12  6.612490e+12  7.124978e+12  7.672448e+12   \n",
       "United States       1.496437e+13  1.520402e+13  1.554216e+13  1.577367e+13   \n",
       "Japan               5.498718e+12  5.473738e+12  5.569102e+12  5.644659e+12   \n",
       "United Kingdom      2.403504e+12  2.450911e+12  2.479809e+12  2.533370e+12   \n",
       "Russian Federation  1.524917e+12  1.589943e+12  1.645876e+12  1.666934e+12   \n",
       "Canada              1.613406e+12  1.664087e+12  1.693133e+12  1.730688e+12   \n",
       "Germany             3.417298e+12  3.542371e+12  3.556724e+12  3.567317e+12   \n",
       "India               1.708459e+12  1.821872e+12  1.924235e+12  2.051982e+12   \n",
       "France              2.646995e+12  2.702032e+12  2.706968e+12  2.722567e+12   \n",
       "South Korea         1.094499e+12  1.134796e+12  1.160809e+12  1.194429e+12   \n",
       "Italy               2.125185e+12  2.137439e+12  2.077184e+12  2.040871e+12   \n",
       "Spain               1.431673e+12  1.417355e+12  1.380216e+12  1.357139e+12   \n",
       "Iran                4.677902e+11  4.853309e+11  4.532569e+11  4.445926e+11   \n",
       "Australia           1.142251e+12  1.169431e+12  1.211913e+12  1.241484e+12   \n",
       "Brazil              2.208872e+12  2.295245e+12  2.339209e+12  2.409740e+12   \n",
       "\n",
       "                            2014          2015  \n",
       "Country                                         \n",
       "China               8.230121e+12  8.797999e+12  \n",
       "United States       1.615662e+13  1.654857e+13  \n",
       "Japan               5.642884e+12  5.669563e+12  \n",
       "United Kingdom      2.605643e+12  2.666333e+12  \n",
       "Russian Federation  1.678709e+12  1.616149e+12  \n",
       "Canada              1.773486e+12  1.792609e+12  \n",
       "Germany             3.624386e+12  3.685556e+12  \n",
       "India               2.200617e+12  2.367206e+12  \n",
       "France              2.729632e+12  2.761185e+12  \n",
       "South Korea         1.234340e+12  1.266580e+12  \n",
       "Italy               2.033868e+12  2.049316e+12  \n",
       "Spain               1.375605e+12  1.419821e+12  \n",
       "Iran                4.639027e+11           NaN  \n",
       "Australia           1.272520e+12  1.301251e+12  \n",
       "Brazil              2.412231e+12  2.319423e+12  "
      ]
     },
     "execution_count": 6,
     "metadata": {},
     "output_type": "execute_result"
    }
   ],
   "source": [
    "answer_one()"
   ]
  },
  {
   "cell_type": "code",
   "execution_count": 1,
   "metadata": {
    "collapsed": true,
    "slideshow": {
     "slide_type": "subslide"
    }
   },
   "outputs": [],
   "source": [
    "def answer_two():\n",
    "    import pandas as pd\n",
    "    \n",
    "    # get energy\n",
    "    energy = pd.read_excel('https://storage.googleapis.com/py_ml_datasets/Energy%20Indicators.xls', header = None, skip_footer = 38, skiprows = 18, na_values = '...')\n",
    "    energy = energy.iloc[:, range(2, 6)]\n",
    "    energy.columns = ['Country', 'Energy Supply', 'Energy Supply per Capita', '% Renewable']\n",
    "    energy['Energy Supply'] = energy['Energy Supply'] * 1000000\n",
    "    sk_idx = energy[energy['Country'] == 'Republic of Korea'].index\n",
    "    us_idx = energy[energy['Country'] == 'United States of America20'].index\n",
    "    uk_idx = energy[energy['Country'] == 'United Kingdom of Great Britain and Northern Ireland19'].index\n",
    "    hk_idx = energy[energy['Country'] == 'China, Hong Kong Special Administrative Region3'].index\n",
    "    energy.at[sk_idx, 'Country'] = 'South Korea'\n",
    "    energy.at[us_idx, 'Country'] = 'United States'\n",
    "    energy.at[uk_idx, 'Country'] = 'United Kingdom'\n",
    "    energy.at[hk_idx, 'Country'] = 'Hong Kong'\n",
    "    energy['Country'] = energy['Country'].str.replace(r'[0-9]+', '')\n",
    "    energy['Country'] = energy['Country'].str.replace(r'\\s\\(.*\\)', '')\n",
    "    energy = energy.set_index('Country') # energy done!\n",
    "    \n",
    "    # get GDP\n",
    "    GDP = pd.read_csv('https://storage.googleapis.com/py_ml_datasets/world_bank.csv', skiprows = 4)\n",
    "    sk_idx = GDP[GDP['Country Name'] == 'Korea, Rep.'].index\n",
    "    ir_idx = GDP[GDP['Country Name'] == 'Iran, Islamic Rep.'].index\n",
    "    hk_idx = GDP[GDP['Country Name'] == 'Hong Kong SAR, China'].index\n",
    "    GDP.at[sk_idx, 'Country Name'] = 'South Korea'\n",
    "    GDP.at[ir_idx, 'Country Name'] = 'Iran'\n",
    "    GDP.at[hk_idx, 'Country Name'] = 'Hong Kong'\n",
    "    GDP = GDP.set_index('Country Name') # GDP done!\n",
    "    \n",
    "    # get ScimEn\n",
    "    ScimEn = pd.read_excel('https://storage.googleapis.com/py_ml_datasets/scimagojr-3.xlsx') # ScimEn done!\n",
    "    ScimEn = ScimEn.set_index('Country')\n",
    "    \n",
    "    # get outer joined DataFrames\n",
    "    GDP_2006_2015 = GDP.loc[:, '2006':'2015']\n",
    "    outer_joined_df = ScimEn.join(energy, how = 'outer')\n",
    "    outer_joined_df = outer_joined_df.join(GDP_2006_2015, how = 'outer')\n",
    "    nrow_outer = outer_joined_df.shape[0]\n",
    "    \n",
    "    # get inner joined DataFrames\n",
    "    inner_joined_df = answer_one()\n",
    "    nrow_inner = inner_joined_df.shape[0]\n",
    "    return nrow_outer - nrow_inner"
   ]
  },
  {
   "cell_type": "code",
   "execution_count": 4,
   "metadata": {
    "slideshow": {
     "slide_type": "subslide"
    }
   },
   "outputs": [
    {
     "data": {
      "text/plain": [
       "303"
      ]
     },
     "execution_count": 4,
     "metadata": {},
     "output_type": "execute_result"
    }
   ],
   "source": [
    "answer_two()"
   ]
  },
  {
   "cell_type": "code",
   "execution_count": 9,
   "metadata": {
    "collapsed": true,
    "slideshow": {
     "slide_type": "subslide"
    }
   },
   "outputs": [],
   "source": [
    "def answer_three():\n",
    "    import pandas as pd\n",
    "    \n",
    "    Top15 = answer_one()\n",
    "    gdp_cols = list(Top15.columns)[10:]\n",
    "    Top15_gdp = Top15.loc[:, gdp_cols]\n",
    "    Top15_gdp = Top15_gdp.reset_index()\n",
    "    melted_df = pd.melt(Top15_gdp, id_vars = ['Country'], var_name = ['Year'], value_name = 'GDP')\n",
    "    grouped = melted_df.groupby(['Country'])\n",
    "    avgGDP = grouped.mean().GDP\n",
    "    avgGDP = avgGDP.sort_values(ascending = False)\n",
    "    return avgGDP"
   ]
  },
  {
   "cell_type": "code",
   "execution_count": 10,
   "metadata": {
    "slideshow": {
     "slide_type": "subslide"
    }
   },
   "outputs": [
    {
     "data": {
      "text/plain": [
       "Country\n",
       "United States         1.536434e+13\n",
       "China                 6.348609e+12\n",
       "Japan                 5.542208e+12\n",
       "Germany               3.493025e+12\n",
       "France                2.681725e+12\n",
       "United Kingdom        2.487907e+12\n",
       "Brazil                2.189794e+12\n",
       "Italy                 2.120175e+12\n",
       "India                 1.769297e+12\n",
       "Canada                1.660647e+12\n",
       "Russian Federation    1.565459e+12\n",
       "Spain                 1.418078e+12\n",
       "Australia             1.164043e+12\n",
       "South Korea           1.106715e+12\n",
       "Iran                  4.441558e+11\n",
       "Name: GDP, dtype: float64"
      ]
     },
     "execution_count": 10,
     "metadata": {},
     "output_type": "execute_result"
    }
   ],
   "source": [
    "answer_three()"
   ]
  },
  {
   "cell_type": "code",
   "execution_count": 11,
   "metadata": {
    "collapsed": true,
    "slideshow": {
     "slide_type": "subslide"
    }
   },
   "outputs": [],
   "source": [
    "def answer_four():\n",
    "    import pandas as pd\n",
    "    \n",
    "    Top15 = answer_one()\n",
    "    avgGDP = answer_three()\n",
    "    rank_6th_country = avgGDP.index[5]\n",
    "    rank_6th = Top15.loc[rank_6th_country, :]\n",
    "    rank_6th_2006 = rank_6th['2006']\n",
    "    rank_6th_2015 = rank_6th['2015']\n",
    "    change = rank_6th_2015 - rank_6th_2006\n",
    "    return change"
   ]
  },
  {
   "cell_type": "code",
   "execution_count": 12,
   "metadata": {
    "slideshow": {
     "slide_type": "subslide"
    }
   },
   "outputs": [
    {
     "data": {
      "text/plain": [
       "246702696075.3999"
      ]
     },
     "execution_count": 12,
     "metadata": {},
     "output_type": "execute_result"
    }
   ],
   "source": [
    "answer_four()"
   ]
  },
  {
   "cell_type": "code",
   "execution_count": 13,
   "metadata": {
    "collapsed": true,
    "slideshow": {
     "slide_type": "subslide"
    }
   },
   "outputs": [],
   "source": [
    "def answer_five():\n",
    "    import pandas as pd\n",
    "    \n",
    "    Top15 = answer_one()\n",
    "    ans = Top15['Energy Supply per Capita'].mean()\n",
    "    return ans"
   ]
  },
  {
   "cell_type": "code",
   "execution_count": 14,
   "metadata": {
    "slideshow": {
     "slide_type": "subslide"
    }
   },
   "outputs": [
    {
     "data": {
      "text/plain": [
       "157.59999999999999"
      ]
     },
     "execution_count": 14,
     "metadata": {},
     "output_type": "execute_result"
    }
   ],
   "source": [
    "answer_five()"
   ]
  },
  {
   "cell_type": "code",
   "execution_count": 15,
   "metadata": {
    "collapsed": true,
    "slideshow": {
     "slide_type": "subslide"
    }
   },
   "outputs": [],
   "source": [
    "def answer_six():\n",
    "    import pandas as pd\n",
    "    \n",
    "    Top15 = answer_one()\n",
    "    max_country = Top15['% Renewable'].idxmax()\n",
    "    max_percentage = Top15['% Renewable'].max()\n",
    "    return max_country, max_percentage"
   ]
  },
  {
   "cell_type": "code",
   "execution_count": 16,
   "metadata": {
    "slideshow": {
     "slide_type": "subslide"
    }
   },
   "outputs": [
    {
     "data": {
      "text/plain": [
       "('Brazil', 69.648030000000006)"
      ]
     },
     "execution_count": 16,
     "metadata": {},
     "output_type": "execute_result"
    }
   ],
   "source": [
    "answer_six()"
   ]
  },
  {
   "cell_type": "code",
   "execution_count": 17,
   "metadata": {
    "collapsed": true,
    "slideshow": {
     "slide_type": "subslide"
    }
   },
   "outputs": [],
   "source": [
    "def answer_seven():\n",
    "    import pandas as pd\n",
    "    \n",
    "    Top15 = answer_one()\n",
    "    Top15['Self-citation-ratio'] = Top15['Self-citations'] / Top15['Citations']\n",
    "    max_self_citation_country = Top15['Self-citation-ratio'].idxmax()\n",
    "    max_self_citation_ratio = Top15['Self-citation-ratio'].max()\n",
    "    return max_self_citation_country, max_self_citation_ratio"
   ]
  },
  {
   "cell_type": "code",
   "execution_count": 18,
   "metadata": {
    "slideshow": {
     "slide_type": "subslide"
    }
   },
   "outputs": [
    {
     "data": {
      "text/plain": [
       "('China', 0.68931261793894216)"
      ]
     },
     "execution_count": 18,
     "metadata": {},
     "output_type": "execute_result"
    }
   ],
   "source": [
    "answer_seven()"
   ]
  },
  {
   "cell_type": "code",
   "execution_count": 19,
   "metadata": {
    "collapsed": true,
    "slideshow": {
     "slide_type": "subslide"
    }
   },
   "outputs": [],
   "source": [
    "def answer_eight():\n",
    "    import pandas as pd\n",
    "    \n",
    "    Top15 = answer_one()\n",
    "    Top15['Pop'] = Top15['Energy Supply'] / Top15['Energy Supply per Capita']\n",
    "    pop_series = Top15['Pop'].sort_values(ascending = False)\n",
    "    rank_3rd = pop_series.index[2]\n",
    "    return rank_3rd"
   ]
  },
  {
   "cell_type": "code",
   "execution_count": 20,
   "metadata": {
    "slideshow": {
     "slide_type": "subslide"
    }
   },
   "outputs": [
    {
     "data": {
      "text/plain": [
       "'United States'"
      ]
     },
     "execution_count": 20,
     "metadata": {},
     "output_type": "execute_result"
    }
   ],
   "source": [
    "answer_eight()"
   ]
  },
  {
   "cell_type": "code",
   "execution_count": 21,
   "metadata": {
    "collapsed": true,
    "slideshow": {
     "slide_type": "subslide"
    }
   },
   "outputs": [],
   "source": [
    "def answer_nine():\n",
    "    import pandas as pd\n",
    "    \n",
    "    Top15 = answer_one()\n",
    "    Top15['Pop'] = Top15['Energy Supply'] / Top15['Energy Supply per Capita']\n",
    "    Top15['Citable docs per Capita'] = Top15['Citable documents'] / Top15['Pop']\n",
    "    ans = Top15['Citable docs per Capita'].corr(Top15['Energy Supply per Capita'])\n",
    "    return ans"
   ]
  },
  {
   "cell_type": "code",
   "execution_count": 22,
   "metadata": {
    "slideshow": {
     "slide_type": "subslide"
    }
   },
   "outputs": [
    {
     "data": {
      "text/plain": [
       "0.79400104354429424"
      ]
     },
     "execution_count": 22,
     "metadata": {},
     "output_type": "execute_result"
    }
   ],
   "source": [
    "answer_nine()"
   ]
  },
  {
   "cell_type": "code",
   "execution_count": 23,
   "metadata": {
    "collapsed": true,
    "slideshow": {
     "slide_type": "subslide"
    }
   },
   "outputs": [],
   "source": [
    "def plot9():\n",
    "    import matplotlib as plt\n",
    "    %matplotlib inline\n",
    "    \n",
    "    Top15 = answer_one()\n",
    "    Top15['PopEst'] = Top15['Energy Supply'] / Top15['Energy Supply per Capita']\n",
    "    Top15['Citable docs per Capita'] = Top15['Citable documents'] / Top15['PopEst']\n",
    "    Top15.plot(x='Citable docs per Capita', y='Energy Supply per Capita', kind='scatter', xlim=[0, 0.0006])"
   ]
  },
  {
   "cell_type": "code",
   "execution_count": 24,
   "metadata": {
    "slideshow": {
     "slide_type": "subslide"
    }
   },
   "outputs": [
    {
     "data": {
      "image/png": "[encoded data removed]",
      "text/plain": [
       "<matplotlib.figure.Figure at 0x10beb1048>"
      ]
     },
     "metadata": {},
     "output_type": "display_data"
    }
   ],
   "source": [
    "plot9()"
   ]
  },
  {
   "cell_type": "code",
   "execution_count": 25,
   "metadata": {
    "collapsed": true,
    "slideshow": {
     "slide_type": "subslide"
    }
   },
   "outputs": [],
   "source": [
    "def answer_ten():\n",
    "    import numpy as np\n",
    "    import pandas as pd\n",
    "    \n",
    "    Top15 = answer_one()\n",
    "    renew_median = Top15['% Renewable'].median()\n",
    "    Top15['HighRenewFlag'] = np.where(Top15['% Renewable'] >= renew_median, 1, 0)\n",
    "    HighRenew = Top15[['HighRenewFlag', '% Renewable']][Top15['HighRenewFlag'] == 1]\n",
    "    HighRenew = HighRenew.sort_values('% Renewable', ascending = False)['% Renewable']\n",
    "    return HighRenew"
   ]
  },
  {
   "cell_type": "code",
   "execution_count": 26,
   "metadata": {
    "slideshow": {
     "slide_type": "subslide"
    }
   },
   "outputs": [
    {
     "data": {
      "text/plain": [
       "Country\n",
       "Brazil                69.64803\n",
       "Canada                61.94543\n",
       "Spain                 37.96859\n",
       "Italy                 33.66723\n",
       "China                 19.75491\n",
       "Germany               17.90153\n",
       "Russian Federation    17.28868\n",
       "France                17.02028\n",
       "Name: % Renewable, dtype: float64"
      ]
     },
     "execution_count": 26,
     "metadata": {},
     "output_type": "execute_result"
    }
   ],
   "source": [
    "answer_ten()"
   ]
  },
  {
   "cell_type": "code",
   "execution_count": 27,
   "metadata": {
    "collapsed": true,
    "slideshow": {
     "slide_type": "subslide"
    }
   },
   "outputs": [],
   "source": [
    "def answer_eleven():\n",
    "    import pandas as pd\n",
    "    \n",
    "    ContinentDict = {'China':'Asia', \n",
    "                     'United States':'North America', \n",
    "                     'Japan':'Asia', \n",
    "                     'United Kingdom':'Europe', \n",
    "                     'Russian Federation':'Europe', \n",
    "                     'Canada':'North America', \n",
    "                     'Germany':'Europe', \n",
    "                     'India':'Asia',\n",
    "                     'France':'Europe', \n",
    "                     'South Korea':'Asia', \n",
    "                     'Italy':'Europe', \n",
    "                     'Spain':'Europe', \n",
    "                     'Iran':'Asia',\n",
    "                     'Australia':'Australia', \n",
    "                     'Brazil':'South America'}\n",
    "    Top15 = answer_one()\n",
    "    Continent = pd.Series(Top15.index).map(ContinentDict).values\n",
    "    Top15['Continent'] = Continent\n",
    "    Top15['Pop'] = Top15['Energy Supply'] / Top15['Energy Supply per Capita']\n",
    "    continent_df = Top15[['Continent', 'Pop']].reset_index()\n",
    "    grouped = continent_df.groupby('Continent')\n",
    "    size = grouped.count()['Country'].reset_index(name = \"size\")\n",
    "    summ = grouped.sum()['Pop'].reset_index(name = \"sum\")\n",
    "    mean = grouped.mean()['Pop'].reset_index(name = \"mean\")\n",
    "    std = grouped.std()['Pop'].reset_index(name = \"std\")\n",
    "    ans_df = pd.merge(size, summ)\n",
    "    ans_df = pd.merge(ans_df, mean)\n",
    "    ans_df = pd.merge(ans_df, std)\n",
    "    ans_df = ans_df.set_index('Continent')\n",
    "    return ans_df"
   ]
  },
  {
   "cell_type": "code",
   "execution_count": 28,
   "metadata": {
    "slideshow": {
     "slide_type": "subslide"
    }
   },
   "outputs": [
    {
     "data": {
      "text/html": [
       "<div>\n",
       "<style scoped>\n",
       "    .dataframe tbody tr th:only-of-type {\n",
       "        vertical-align: middle;\n",
       "    }\n",
       "\n",
       "    .dataframe tbody tr th {\n",
       "        vertical-align: top;\n",
       "    }\n",
       "\n",
       "    .dataframe thead th {\n",
       "        text-align: right;\n",
       "    }\n",
       "</style>\n",
       "<table border=\"1\" class=\"dataframe\">\n",
       "  <thead>\n",
       "    <tr style=\"text-align: right;\">\n",
       "      <th></th>\n",
       "      <th>size</th>\n",
       "      <th>sum</th>\n",
       "      <th>mean</th>\n",
       "      <th>std</th>\n",
       "    </tr>\n",
       "    <tr>\n",
       "      <th>Continent</th>\n",
       "      <th></th>\n",
       "      <th></th>\n",
       "      <th></th>\n",
       "      <th></th>\n",
       "    </tr>\n",
       "  </thead>\n",
       "  <tbody>\n",
       "    <tr>\n",
       "      <th>Asia</th>\n",
       "      <td>5</td>\n",
       "      <td>2.898666e+09</td>\n",
       "      <td>5.797333e+08</td>\n",
       "      <td>6.790979e+08</td>\n",
       "    </tr>\n",
       "    <tr>\n",
       "      <th>Australia</th>\n",
       "      <td>1</td>\n",
       "      <td>2.331602e+07</td>\n",
       "      <td>2.331602e+07</td>\n",
       "      <td>NaN</td>\n",
       "    </tr>\n",
       "    <tr>\n",
       "      <th>Europe</th>\n",
       "      <td>6</td>\n",
       "      <td>4.579297e+08</td>\n",
       "      <td>7.632161e+07</td>\n",
       "      <td>3.464767e+07</td>\n",
       "    </tr>\n",
       "    <tr>\n",
       "      <th>North America</th>\n",
       "      <td>2</td>\n",
       "      <td>3.528552e+08</td>\n",
       "      <td>1.764276e+08</td>\n",
       "      <td>1.996696e+08</td>\n",
       "    </tr>\n",
       "    <tr>\n",
       "      <th>South America</th>\n",
       "      <td>1</td>\n",
       "      <td>2.059153e+08</td>\n",
       "      <td>2.059153e+08</td>\n",
       "      <td>NaN</td>\n",
       "    </tr>\n",
       "  </tbody>\n",
       "</table>\n",
       "</div>"
      ],
      "text/plain": [
       "               size           sum          mean           std\n",
       "Continent                                                    \n",
       "Asia              5  2.898666e+09  5.797333e+08  6.790979e+08\n",
       "Australia         1  2.331602e+07  2.331602e+07           NaN\n",
       "Europe            6  4.579297e+08  7.632161e+07  3.464767e+07\n",
       "North America     2  3.528552e+08  1.764276e+08  1.996696e+08\n",
       "South America     1  2.059153e+08  2.059153e+08           NaN"
      ]
     },
     "execution_count": 28,
     "metadata": {},
     "output_type": "execute_result"
    }
   ],
   "source": [
    "answer_eleven()"
   ]
  },
  {
   "cell_type": "code",
   "execution_count": 29,
   "metadata": {
    "collapsed": true,
    "slideshow": {
     "slide_type": "subslide"
    }
   },
   "outputs": [],
   "source": [
    "def answer_twelve():\n",
    "    import pandas as pd\n",
    "    \n",
    "    ContinentDict = {'China':'Asia', \n",
    "                     'United States':'North America', \n",
    "                     'Japan':'Asia', \n",
    "                     'United Kingdom':'Europe', \n",
    "                     'Russian Federation':'Europe', \n",
    "                     'Canada':'North America', \n",
    "                     'Germany':'Europe', \n",
    "                     'India':'Asia',\n",
    "                     'France':'Europe', \n",
    "                     'South Korea':'Asia', \n",
    "                     'Italy':'Europe', \n",
    "                     'Spain':'Europe', \n",
    "                     'Iran':'Asia',\n",
    "                     'Australia':'Australia', \n",
    "                     'Brazil':'South America'}\n",
    "    Top15 = answer_one()\n",
    "    Continent = pd.Series(Top15.index).map(ContinentDict).values\n",
    "    Top15['Continent'] = Continent\n",
    "    bins = pd.cut(Top15['% Renewable'], bins = 5, labels = ['Lowest', 'Lower', 'Medium', 'Higher', 'Highest'])\n",
    "    Top15['Renewable Level'] = bins\n",
    "    renewable_df = Top15[['Continent', 'Renewable Level']].reset_index()\n",
    "    grouped = renewable_df.groupby(['Continent', 'Renewable Level'])\n",
    "    ans_ser = grouped['Country'].count()\n",
    "    return ans_ser"
   ]
  },
  {
   "cell_type": "code",
   "execution_count": 30,
   "metadata": {
    "slideshow": {
     "slide_type": "subslide"
    }
   },
   "outputs": [
    {
     "data": {
      "text/plain": [
       "Continent      Renewable Level\n",
       "Asia           Lowest             4\n",
       "               Lower              1\n",
       "Australia      Lowest             1\n",
       "Europe         Lowest             1\n",
       "               Lower              3\n",
       "               Medium             2\n",
       "North America  Lowest             1\n",
       "               Highest            1\n",
       "South America  Highest            1\n",
       "Name: Country, dtype: int64"
      ]
     },
     "execution_count": 30,
     "metadata": {},
     "output_type": "execute_result"
    }
   ],
   "source": [
    "answer_twelve()"
   ]
  },
  {
   "cell_type": "code",
   "execution_count": 31,
   "metadata": {
    "collapsed": true,
    "slideshow": {
     "slide_type": "subslide"
    }
   },
   "outputs": [],
   "source": [
    "def get_comma_format(x):\n",
    "    '''\n",
    "    將數字轉換為千分位格式的文字\n",
    "    '''\n",
    "    return '{:,}'.format(x)\n",
    "\n",
    "def answer_thirteen():\n",
    "    import pandas as pd\n",
    "    \n",
    "    Top15 = answer_one()\n",
    "    Top15['PopEst'] = Top15['Energy Supply'] / Top15['Energy Supply per Capita']\n",
    "    PopEst = Top15['PopEst'].apply(get_comma_format)\n",
    "    return PopEst"
   ]
  },
  {
   "cell_type": "code",
   "execution_count": 32,
   "metadata": {
    "slideshow": {
     "slide_type": "subslide"
    }
   },
   "outputs": [
    {
     "data": {
      "text/plain": [
       "Country\n",
       "China                 1,367,645,161.2903225\n",
       "United States          317,615,384.61538464\n",
       "Japan                  127,409,395.97315437\n",
       "United Kingdom         63,870,967.741935484\n",
       "Russian Federation            143,500,000.0\n",
       "Canada                  35,239,864.86486486\n",
       "Germany                 80,369,696.96969697\n",
       "India                 1,276,730,769.2307692\n",
       "France                  63,837,349.39759036\n",
       "South Korea            49,805,429.864253394\n",
       "Italy                  59,908,256.880733944\n",
       "Spain                    46,443,396.2264151\n",
       "Iran                    77,075,630.25210084\n",
       "Australia              23,316,017.316017315\n",
       "Brazil                 205,915,254.23728815\n",
       "Name: PopEst, dtype: object"
      ]
     },
     "execution_count": 32,
     "metadata": {},
     "output_type": "execute_result"
    }
   ],
   "source": [
    "answer_thirteen()"
   ]
  },
  {
   "cell_type": "code",
   "execution_count": 33,
   "metadata": {
    "collapsed": true,
    "slideshow": {
     "slide_type": "subslide"
    }
   },
   "outputs": [],
   "source": [
    "def plot_optional():\n",
    "    import matplotlib as plt\n",
    "    %matplotlib inline\n",
    "    Top15 = answer_one()\n",
    "    ax = Top15.plot(x='Rank', y='% Renewable', kind='scatter', \n",
    "                    c=['#e41a1c','#377eb8','#e41a1c','#4daf4a','#4daf4a','#377eb8','#4daf4a','#e41a1c',\n",
    "                       '#4daf4a','#e41a1c','#4daf4a','#4daf4a','#e41a1c','#dede00','#ff7f00'], \n",
    "                    xticks=range(1,16), s=6*Top15['2014']/10**10, alpha=.75, figsize=[16,6]);\n",
    "\n",
    "    for i, txt in enumerate(Top15.index):\n",
    "        ax.annotate(txt, [Top15['Rank'][i], Top15['% Renewable'][i]], ha='center')\n",
    "\n",
    "    print(\"This is an example of a visualization that can be created to help understand the data. \\\n",
    "This is a bubble chart showing % Renewable vs. Rank. The size of the bubble corresponds to the countries' \\\n",
    "2014 GDP, and the color corresponds to the continent.\")"
   ]
  },
  {
   "cell_type": "code",
   "execution_count": 34,
   "metadata": {
    "slideshow": {
     "slide_type": "subslide"
    }
   },
   "outputs": [
    {
     "name": "stdout",
     "output_type": "stream",
     "text": [
      "This is an example of a visualization that can be created to help understand the data. This is a bubble chart showing % Renewable vs. Rank. The size of the bubble corresponds to the countries' 2014 GDP, and the color corresponds to the continent.\n"
     ]
    },
    {
     "data": {
      "image/png": "[encoded data removed]",
      "text/plain": [
       "<matplotlib.figure.Figure at 0x10a741550>"
      ]
     },
     "metadata": {},
     "output_type": "display_data"
    }
   ],
   "source": [
    "plot_optional()"
   ]
  }
 ],
 "metadata": {
  "celltoolbar": "Slideshow",
  "kernelspec": {
   "display_name": "pyscraper",
   "language": "python",
   "name": "pyscraper"
  }
 },
 "nbformat": 4,
 "nbformat_minor": 2
}
